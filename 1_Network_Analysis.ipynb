{
 "nbformat": 4,
 "nbformat_minor": 0,
 "metadata": {
  "colab": {
   "name": "1_Network_Analysis.ipynb",
   "provenance": []
  },
  "kernelspec": {
   "name": "python3",
   "display_name": "Python 3"
  },
  "language_info": {
   "name": "python"
  },
  "widgets": {
   "application/vnd.jupyter.widget-state+json": {
    "95f8f2c5f73c41db9d90442ca70ac63d": {
     "model_module": "@jupyter-widgets/controls",
     "model_name": "HBoxModel",
     "model_module_version": "1.5.0",
     "state": {
      "_dom_classes": [],
      "_model_module": "@jupyter-widgets/controls",
      "_model_module_version": "1.5.0",
      "_model_name": "HBoxModel",
      "_view_count": null,
      "_view_module": "@jupyter-widgets/controls",
      "_view_module_version": "1.5.0",
      "_view_name": "HBoxView",
      "box_style": "",
      "children": [
       "IPY_MODEL_cd0c2b19b7aa46139050357f134cc4a3",
       "IPY_MODEL_17220c72eca54cf8b1a1bd8425e0e1da",
       "IPY_MODEL_6310e48588fc45eb98e9bd1e9b37e526"
      ],
      "layout": "IPY_MODEL_e417db68bca94612b3d16a4d85a25b13"
     }
    },
    "cd0c2b19b7aa46139050357f134cc4a3": {
     "model_module": "@jupyter-widgets/controls",
     "model_name": "HTMLModel",
     "model_module_version": "1.5.0",
     "state": {
      "_dom_classes": [],
      "_model_module": "@jupyter-widgets/controls",
      "_model_module_version": "1.5.0",
      "_model_name": "HTMLModel",
      "_view_count": null,
      "_view_module": "@jupyter-widgets/controls",
      "_view_module_version": "1.5.0",
      "_view_name": "HTMLView",
      "description": "",
      "description_tooltip": null,
      "layout": "IPY_MODEL_00181b1ef0e740ebbffba4cfaf9e5285",
      "placeholder": "​",
      "style": "IPY_MODEL_a56efadd04e448eeb5c565f8284fde81",
      "value": "100%"
     }
    },
    "17220c72eca54cf8b1a1bd8425e0e1da": {
     "model_module": "@jupyter-widgets/controls",
     "model_name": "FloatProgressModel",
     "model_module_version": "1.5.0",
     "state": {
      "_dom_classes": [],
      "_model_module": "@jupyter-widgets/controls",
      "_model_module_version": "1.5.0",
      "_model_name": "FloatProgressModel",
      "_view_count": null,
      "_view_module": "@jupyter-widgets/controls",
      "_view_module_version": "1.5.0",
      "_view_name": "ProgressView",
      "bar_style": "success",
      "description": "",
      "description_tooltip": null,
      "layout": "IPY_MODEL_fb5e4f252bea4c77a5120393ed884497",
      "max": 589,
      "min": 0,
      "orientation": "horizontal",
      "style": "IPY_MODEL_8432b948429349f6ba214c368f853239",
      "value": 589
     }
    },
    "6310e48588fc45eb98e9bd1e9b37e526": {
     "model_module": "@jupyter-widgets/controls",
     "model_name": "HTMLModel",
     "model_module_version": "1.5.0",
     "state": {
      "_dom_classes": [],
      "_model_module": "@jupyter-widgets/controls",
      "_model_module_version": "1.5.0",
      "_model_name": "HTMLModel",
      "_view_count": null,
      "_view_module": "@jupyter-widgets/controls",
      "_view_module_version": "1.5.0",
      "_view_name": "HTMLView",
      "description": "",
      "description_tooltip": null,
      "layout": "IPY_MODEL_e5d15734011c48e5bbaae4939024b5e2",
      "placeholder": "​",
      "style": "IPY_MODEL_19a9cb403d0d49c7bd3c60a771335a54",
      "value": " 589/589 [00:03&lt;00:00, 349.02it/s]"
     }
    },
    "e417db68bca94612b3d16a4d85a25b13": {
     "model_module": "@jupyter-widgets/base",
     "model_name": "LayoutModel",
     "model_module_version": "1.2.0",
     "state": {
      "_model_module": "@jupyter-widgets/base",
      "_model_module_version": "1.2.0",
      "_model_name": "LayoutModel",
      "_view_count": null,
      "_view_module": "@jupyter-widgets/base",
      "_view_module_version": "1.2.0",
      "_view_name": "LayoutView",
      "align_content": null,
      "align_items": null,
      "align_self": null,
      "border": null,
      "bottom": null,
      "display": null,
      "flex": null,
      "flex_flow": null,
      "grid_area": null,
      "grid_auto_columns": null,
      "grid_auto_flow": null,
      "grid_auto_rows": null,
      "grid_column": null,
      "grid_gap": null,
      "grid_row": null,
      "grid_template_areas": null,
      "grid_template_columns": null,
      "grid_template_rows": null,
      "height": null,
      "justify_content": null,
      "justify_items": null,
      "left": null,
      "margin": null,
      "max_height": null,
      "max_width": null,
      "min_height": null,
      "min_width": null,
      "object_fit": null,
      "object_position": null,
      "order": null,
      "overflow": null,
      "overflow_x": null,
      "overflow_y": null,
      "padding": null,
      "right": null,
      "top": null,
      "visibility": null,
      "width": null
     }
    },
    "00181b1ef0e740ebbffba4cfaf9e5285": {
     "model_module": "@jupyter-widgets/base",
     "model_name": "LayoutModel",
     "model_module_version": "1.2.0",
     "state": {
      "_model_module": "@jupyter-widgets/base",
      "_model_module_version": "1.2.0",
      "_model_name": "LayoutModel",
      "_view_count": null,
      "_view_module": "@jupyter-widgets/base",
      "_view_module_version": "1.2.0",
      "_view_name": "LayoutView",
      "align_content": null,
      "align_items": null,
      "align_self": null,
      "border": null,
      "bottom": null,
      "display": null,
      "flex": null,
      "flex_flow": null,
      "grid_area": null,
      "grid_auto_columns": null,
      "grid_auto_flow": null,
      "grid_auto_rows": null,
      "grid_column": null,
      "grid_gap": null,
      "grid_row": null,
      "grid_template_areas": null,
      "grid_template_columns": null,
      "grid_template_rows": null,
      "height": null,
      "justify_content": null,
      "justify_items": null,
      "left": null,
      "margin": null,
      "max_height": null,
      "max_width": null,
      "min_height": null,
      "min_width": null,
      "object_fit": null,
      "object_position": null,
      "order": null,
      "overflow": null,
      "overflow_x": null,
      "overflow_y": null,
      "padding": null,
      "right": null,
      "top": null,
      "visibility": null,
      "width": null
     }
    },
    "a56efadd04e448eeb5c565f8284fde81": {
     "model_module": "@jupyter-widgets/controls",
     "model_name": "DescriptionStyleModel",
     "model_module_version": "1.5.0",
     "state": {
      "_model_module": "@jupyter-widgets/controls",
      "_model_module_version": "1.5.0",
      "_model_name": "DescriptionStyleModel",
      "_view_count": null,
      "_view_module": "@jupyter-widgets/base",
      "_view_module_version": "1.2.0",
      "_view_name": "StyleView",
      "description_width": ""
     }
    },
    "fb5e4f252bea4c77a5120393ed884497": {
     "model_module": "@jupyter-widgets/base",
     "model_name": "LayoutModel",
     "model_module_version": "1.2.0",
     "state": {
      "_model_module": "@jupyter-widgets/base",
      "_model_module_version": "1.2.0",
      "_model_name": "LayoutModel",
      "_view_count": null,
      "_view_module": "@jupyter-widgets/base",
      "_view_module_version": "1.2.0",
      "_view_name": "LayoutView",
      "align_content": null,
      "align_items": null,
      "align_self": null,
      "border": null,
      "bottom": null,
      "display": null,
      "flex": null,
      "flex_flow": null,
      "grid_area": null,
      "grid_auto_columns": null,
      "grid_auto_flow": null,
      "grid_auto_rows": null,
      "grid_column": null,
      "grid_gap": null,
      "grid_row": null,
      "grid_template_areas": null,
      "grid_template_columns": null,
      "grid_template_rows": null,
      "height": null,
      "justify_content": null,
      "justify_items": null,
      "left": null,
      "margin": null,
      "max_height": null,
      "max_width": null,
      "min_height": null,
      "min_width": null,
      "object_fit": null,
      "object_position": null,
      "order": null,
      "overflow": null,
      "overflow_x": null,
      "overflow_y": null,
      "padding": null,
      "right": null,
      "top": null,
      "visibility": null,
      "width": null
     }
    },
    "8432b948429349f6ba214c368f853239": {
     "model_module": "@jupyter-widgets/controls",
     "model_name": "ProgressStyleModel",
     "model_module_version": "1.5.0",
     "state": {
      "_model_module": "@jupyter-widgets/controls",
      "_model_module_version": "1.5.0",
      "_model_name": "ProgressStyleModel",
      "_view_count": null,
      "_view_module": "@jupyter-widgets/base",
      "_view_module_version": "1.2.0",
      "_view_name": "StyleView",
      "bar_color": null,
      "description_width": ""
     }
    },
    "e5d15734011c48e5bbaae4939024b5e2": {
     "model_module": "@jupyter-widgets/base",
     "model_name": "LayoutModel",
     "model_module_version": "1.2.0",
     "state": {
      "_model_module": "@jupyter-widgets/base",
      "_model_module_version": "1.2.0",
      "_model_name": "LayoutModel",
      "_view_count": null,
      "_view_module": "@jupyter-widgets/base",
      "_view_module_version": "1.2.0",
      "_view_name": "LayoutView",
      "align_content": null,
      "align_items": null,
      "align_self": null,
      "border": null,
      "bottom": null,
      "display": null,
      "flex": null,
      "flex_flow": null,
      "grid_area": null,
      "grid_auto_columns": null,
      "grid_auto_flow": null,
      "grid_auto_rows": null,
      "grid_column": null,
      "grid_gap": null,
      "grid_row": null,
      "grid_template_areas": null,
      "grid_template_columns": null,
      "grid_template_rows": null,
      "height": null,
      "justify_content": null,
      "justify_items": null,
      "left": null,
      "margin": null,
      "max_height": null,
      "max_width": null,
      "min_height": null,
      "min_width": null,
      "object_fit": null,
      "object_position": null,
      "order": null,
      "overflow": null,
      "overflow_x": null,
      "overflow_y": null,
      "padding": null,
      "right": null,
      "top": null,
      "visibility": null,
      "width": null
     }
    },
    "19a9cb403d0d49c7bd3c60a771335a54": {
     "model_module": "@jupyter-widgets/controls",
     "model_name": "DescriptionStyleModel",
     "model_module_version": "1.5.0",
     "state": {
      "_model_module": "@jupyter-widgets/controls",
      "_model_module_version": "1.5.0",
      "_model_name": "DescriptionStyleModel",
      "_view_count": null,
      "_view_module": "@jupyter-widgets/base",
      "_view_module_version": "1.2.0",
      "_view_name": "StyleView",
      "description_width": ""
     }
    }
   }
  }
 },
 "cells": [
  {
   "cell_type": "markdown",
   "metadata": {
    "id": "65DGJJ3oJojk",
    "pycharm": {
     "name": "#%% md\n"
    }
   },
   "source": [
    "**Computational Health Laboratory Project, A.Y. 2021/2022**\n",
    "\n",
    "**Authors:** Niko Dalla Noce, Alessandro Ristori, Andrea Zuppolini\n",
    "\n",
    "**Project:** Starting fron one or more genes, extract from interaction databases the genes they interact with. Using the expanded gene set, perform pathway analysis and obtain all disease pathways in which the genes appear. Merge the pathways to obtain a larger graph. Perform further network analysis to extract central biomarkers and communities beyond pathways. Compute a distance between the initial gene set and the various pathways (diseases)."
   ]
  },
  {
   "cell_type": "markdown",
   "metadata": {
    "id": "EnunYcRW8FBh",
    "pycharm": {
     "name": "#%% md\n"
    }
   },
   "source": [
    "# **CHL Project, Network Analysis**"
   ]
  },
  {
   "cell_type": "markdown",
   "metadata": {
    "id": "VBEF2viCEfdx",
    "pycharm": {
     "name": "#%% md\n"
    }
   },
   "source": [
    "## **Colab setup**\n",
    "Takes care of the project setup on Colab."
   ]
  },
  {
   "cell_type": "code",
   "execution_count": 1,
   "metadata": {
    "id": "a5orYga8hr_f",
    "colab": {
     "base_uri": "https://localhost:8080/"
    },
    "outputId": "7071d80c-bea3-461a-fa1b-38f39d1de29e",
    "pycharm": {
     "name": "#%%\n"
    }
   },
   "outputs": [],
   "source": [
    "if 'google.colab' in str(get_ipython()):\n",
    "    import subprocess\n",
    "    out_clone = subprocess.run([\"git\", \"clone\", \"https://github.com/nikodallanoce/ComputationalHealthLaboratory\"], text=True, capture_output=True)\n",
    "    print(\"{0}{1}\".format(out_clone.stdout, out_clone.stderr))\n",
    "    %cd ComputationalHealthLaboratory"
   ]
  },
  {
   "cell_type": "markdown",
   "source": [
    "## **Protein-Protein network**\n",
    "Build the protein-to-protein network and link each node to its diseases.\n"
   ],
   "metadata": {
    "id": "ar-g0_YIwgUx",
    "pycharm": {
     "name": "#%% md\n"
    }
   }
  },
  {
   "cell_type": "code",
   "source": [
    "import os\n",
    "import pandas as pd\n",
    "from tqdm.notebook import tqdm\n",
    "import networkx as nx"
   ],
   "metadata": {
    "id": "VMjbxA0HwuWx",
    "pycharm": {
     "name": "#%%\n"
    }
   },
   "execution_count": 2,
   "outputs": []
  },
  {
   "cell_type": "markdown",
   "source": [
    "We assume that you have already done pathway enrichment on notebook **0_Pathway_Enrichment** and, therefore, all the datasets needed here are available. If so, then load everything."
   ],
   "metadata": {
    "id": "hLRpPq_8NwrK",
    "pycharm": {
     "name": "#%% md\n"
    }
   }
  },
  {
   "cell_type": "code",
   "source": [
    "nodes = pd.read_csv(\"datasets/genes.csv\", sep=\",\", index_col=0)[\"0\"]\n",
    "df_diseases = pd.read_csv(\"datasets/diseases_pathways.csv\", sep=\",\", index_col=0)\n",
    "interactions = pd.read_csv(\"datasets/interactions.csv\", sep=\",\", index_col=0)\n",
    "diseases = dict()\n",
    "for i, disease in df_diseases.iterrows():\n",
    "    disease_genes = disease['Genes'].split(\";\")\n",
    "    term = disease['Term']\n",
    "    diseases[i] = {\"name\": term, \"genes\": disease_genes}"
   ],
   "metadata": {
    "id": "vtuWiDz3KnDY",
    "pycharm": {
     "name": "#%%\n"
    }
   },
   "execution_count": 3,
   "outputs": []
  },
  {
   "cell_type": "markdown",
   "source": [
    "Build the graph and fill it with its nodes (the proteins coming from the dataset)."
   ],
   "metadata": {
    "id": "khA5k7eWWspx",
    "pycharm": {
     "name": "#%% md\n"
    }
   }
  },
  {
   "cell_type": "code",
   "source": [
    "# Build the graph\n",
    "protein_graph = nx.Graph(name='Protein Interactions Graph')\n",
    "\n",
    "# Build the edges\n",
    "for node in nodes:\n",
    "    protein_graph.add_node(node, diseases=[])  # Each node will have a list with the disease pathways it belongs to"
   ],
   "metadata": {
    "id": "ttwl2VnoLYJY",
    "pycharm": {
     "name": "#%%\n"
    }
   },
   "execution_count": 4,
   "outputs": []
  },
  {
   "cell_type": "markdown",
   "source": [
    "Insert into the nodes their respective diseases."
   ],
   "metadata": {
    "id": "RjwtaDCLXDMM",
    "pycharm": {
     "name": "#%% md\n"
    }
   }
  },
  {
   "cell_type": "code",
   "source": [
    "for i, disease in diseases.items():\n",
    "    disease_genes = disease['genes']\n",
    "    for gene in disease_genes:\n",
    "        protein_graph.nodes[gene][\"diseases\"].append(i)"
   ],
   "metadata": {
    "id": "f3YCjIDsM1Hm",
    "pycharm": {
     "name": "#%%\n"
    }
   },
   "execution_count": 5,
   "outputs": []
  },
  {
   "cell_type": "markdown",
   "source": [
    "There could be nodes without any diseases, they still need to be kept into the network."
   ],
   "metadata": {
    "id": "wBvLpv7JXHrT",
    "pycharm": {
     "name": "#%% md\n"
    }
   }
  },
  {
   "cell_type": "code",
   "source": [
    "nodes_no_disease = list()\n",
    "for node in protein_graph.nodes:\n",
    "    if len(protein_graph.nodes[node][\"diseases\"])==0:\n",
    "        nodes_no_disease.append(str(node))"
   ],
   "metadata": {
    "id": "oD4kxhJiUnpu",
    "pycharm": {
     "name": "#%%\n"
    }
   },
   "execution_count": 6,
   "outputs": []
  },
  {
   "cell_type": "code",
   "source": [
    "print(\"Nodes without diseases: {0}\".format(len(nodes_no_disease)))"
   ],
   "metadata": {
    "id": "JgQEn2iNVTGt",
    "colab": {
     "base_uri": "https://localhost:8080/"
    },
    "outputId": "32c9eedf-692d-458b-df71-920ae8abb1ba",
    "pycharm": {
     "name": "#%%\n"
    }
   },
   "execution_count": 7,
   "outputs": [
    {
     "name": "stdout",
     "output_type": "stream",
     "text": [
      "Nodes without diseases: 5101\n"
     ]
    }
   ]
  },
  {
   "cell_type": "markdown",
   "source": [
    "Then, build the edges, it’s straightforward as the nodes are known, the edges’ weights will be the number of diseases in common between the nodes at each end."
   ],
   "metadata": {
    "id": "x7RtjTzKXTtX",
    "pycharm": {
     "name": "#%% md\n"
    }
   }
  },
  {
   "cell_type": "code",
   "execution_count": 8,
   "outputs": [],
   "source": [
    "def intersection(lst1, lst2):\n",
    "    inters = list()\n",
    "    if not (len(lst1) == 0 or len(lst2) == 0):\n",
    "        set1 = set(lst1)\n",
    "        inters = [elem for elem in lst2 if elem in set1]\n",
    "    return inters"
   ],
   "metadata": {
    "collapsed": false,
    "pycharm": {
     "name": "#%%\n"
    }
   }
  },
  {
   "cell_type": "code",
   "source": [
    "for _, interaction in interactions.iterrows():\n",
    "    first_protein, second_protein = interaction[0], interaction[1]  # Proteins involved in the interaction\n",
    "\n",
    "    # Retrieve the proteins' diseases\n",
    "    prot1_dis = protein_graph.nodes()[interaction[0]]['diseases']\n",
    "    prot2_dis = protein_graph.nodes()[interaction[1]]['diseases']\n",
    "\n",
    "    # Build the edge\n",
    "    protein_graph.add_edge(first_protein, second_protein, weight=len(intersection(prot1_dis, prot2_dis)))"
   ],
   "metadata": {
    "id": "YufAJDU0R8uq",
    "pycharm": {
     "name": "#%%\n"
    }
   },
   "execution_count": 9,
   "outputs": []
  },
  {
   "cell_type": "markdown",
   "source": [],
   "metadata": {
    "collapsed": false,
    "pycharm": {
     "name": "#%% md\n"
    }
   }
  },
  {
   "cell_type": "markdown",
   "source": [
    "There could be edges without any disease, as we did for the nodes, they still need to be kept."
   ],
   "metadata": {
    "collapsed": false,
    "pycharm": {
     "name": "#%% md\n"
    }
   }
  },
  {
   "cell_type": "code",
   "execution_count": 10,
   "outputs": [],
   "source": [
    "edges_no_disease = list()\n",
    "for edge in protein_graph.edges:\n",
    "    if protein_graph.edges[edge][\"weight\"]==0:\n",
    "        edges_no_disease.append(str(edge))"
   ],
   "metadata": {
    "collapsed": false,
    "pycharm": {
     "name": "#%%\n"
    }
   }
  },
  {
   "cell_type": "code",
   "execution_count": 11,
   "outputs": [
    {
     "name": "stdout",
     "output_type": "stream",
     "text": [
      "Edges without diseases: 45404\n"
     ]
    }
   ],
   "source": [
    "print(\"Edges without diseases: {0}\".format(len(edges_no_disease)))"
   ],
   "metadata": {
    "collapsed": false,
    "pycharm": {
     "name": "#%%\n"
    }
   }
  },
  {
   "cell_type": "markdown",
   "source": [
    "At last, save the graph."
   ],
   "metadata": {
    "id": "-yAbHRqkJ93L",
    "pycharm": {
     "name": "#%% md\n"
    }
   }
  },
  {
   "cell_type": "code",
   "source": [
    "nx.write_gpickle(protein_graph,'protein_graph.gpickle')"
   ],
   "metadata": {
    "id": "dCpxDF_4IFLO",
    "pycharm": {
     "name": "#%%\n"
    }
   },
   "execution_count": 12,
   "outputs": []
  },
  {
   "cell_type": "markdown",
   "source": [
    "## **Disease Metrics**\n",
    "Metrics needed to compare the various diseases."
   ],
   "metadata": {
    "id": "1-2pGY6W10IG",
    "pycharm": {
     "name": "#%% md\n"
    }
   }
  },
  {
   "cell_type": "markdown",
   "source": [
    "Load the graph if already built previously and is not available currently."
   ],
   "metadata": {
    "id": "lh768Fx-IPZO",
    "pycharm": {
     "name": "#%% md\n"
    }
   }
  },
  {
   "cell_type": "code",
   "source": [
    "if os.path.exists(\"datasets/protein_graph.gpickle\") and not \"protein_graph\" in locals():\n",
    "    protein_graph = nx.read_gpickle(\"datasets/protein_graph.gpickle\")\n",
    "elif not \"protein_graph\" in locals():\n",
    "    raise ValueError(\"It was not possible to find the graph, build it from the previous step\")"
   ],
   "metadata": {
    "id": "ogIDIBdLITLB",
    "pycharm": {
     "name": "#%%\n"
    }
   },
   "execution_count": 13,
   "outputs": []
  },
  {
   "cell_type": "markdown",
   "source": [
    "### **Size of largest pathway component**\n",
    "Fraction of disease proteins that lie in the disease's largest pathway component (i.e., the relative size of the largest connected component (LCC) of the disease)."
   ],
   "metadata": {
    "id": "MeckhnTw46Xg",
    "pycharm": {
     "name": "#%% md\n"
    }
   }
  },
  {
   "cell_type": "code",
   "source": [
    "def largest_conn_comp(diseases_dict: dict) -> list:\n",
    "    lcc_score = list()\n",
    "    for _, disease in tqdm(diseases_dict.items()):\n",
    "        sub_graph = protein_graph.subgraph(disease['genes'])  # Subgraph of the current disease\n",
    "        largest_cc = max(nx.connected_components(sub_graph), key=len)\n",
    "        lcc_score.append(len(largest_cc) / len(sub_graph.nodes()))\n",
    "    \n",
    "    return lcc_score"
   ],
   "metadata": {
    "id": "PjLNNXA3RG8B",
    "pycharm": {
     "name": "#%%\n"
    }
   },
   "execution_count": 14,
   "outputs": []
  },
  {
   "cell_type": "code",
   "source": [
    "df_diseases.insert(len(df_diseases.columns), \"LCC Score\", largest_conn_comp(diseases), True)"
   ],
   "metadata": {
    "id": "8tSbQl1nRtIj",
    "colab": {
     "base_uri": "https://localhost:8080/",
     "height": 49,
     "referenced_widgets": [
      "95f8f2c5f73c41db9d90442ca70ac63d",
      "cd0c2b19b7aa46139050357f134cc4a3",
      "17220c72eca54cf8b1a1bd8425e0e1da",
      "6310e48588fc45eb98e9bd1e9b37e526",
      "e417db68bca94612b3d16a4d85a25b13",
      "00181b1ef0e740ebbffba4cfaf9e5285",
      "a56efadd04e448eeb5c565f8284fde81",
      "fb5e4f252bea4c77a5120393ed884497",
      "8432b948429349f6ba214c368f853239",
      "e5d15734011c48e5bbaae4939024b5e2",
      "19a9cb403d0d49c7bd3c60a771335a54"
     ]
    },
    "outputId": "b56ab709-89ee-4ead-c174-092e2e04e318",
    "pycharm": {
     "name": "#%%\n"
    }
   },
   "execution_count": 15,
   "outputs": [
    {
     "data": {
      "text/plain": "  0%|          | 0/589 [00:00<?, ?it/s]",
      "application/vnd.jupyter.widget-view+json": {
       "version_major": 2,
       "version_minor": 0,
       "model_id": "4806c849e51949f78823325d1403c7a3"
      }
     },
     "metadata": {},
     "output_type": "display_data"
    }
   ]
  },
  {
   "cell_type": "code",
   "source": [
    "df_diseases.tail()"
   ],
   "metadata": {
    "id": "uulqgEER69fh",
    "colab": {
     "base_uri": "https://localhost:8080/",
     "height": 206
    },
    "outputId": "c4854bc0-8efe-4b8b-d721-20e35afa9e40",
    "pycharm": {
     "name": "#%%\n"
    }
   },
   "execution_count": 16,
   "outputs": [
    {
     "data": {
      "text/plain": "                                      Term Overlap   P-value  \\\n584                   Chronic otitis media   55/69  0.005896   \n585  Inadequate arch length for tooth size   47/58  0.005953   \n586                         Tooth Crowding   47/58  0.005953   \n587       Tooth mass arch size discrepancy   47/58  0.005953   \n588                 Tooth size discrepancy   47/58  0.005953   \n\n     Adjusted P-value                                              Genes  \\\n584          0.098950  IGHM;CD81;WIPF1;FMR1;DOCK8;CHD7;JMJD1C;COMT;GT...   \n585          0.099228  AMER1;SETD5;NOTCH3;TRIO;RPL10;SATB2;GNAI3;PLOD...   \n586          0.099228  AMER1;SETD5;NOTCH3;TRIO;RPL10;SATB2;GNAI3;PLOD...   \n587          0.099228  AMER1;SETD5;NOTCH3;TRIO;RPL10;SATB2;GNAI3;PLOD...   \n588          0.099228  AMER1;SETD5;NOTCH3;TRIO;RPL10;SATB2;GNAI3;PLOD...   \n\n     LCC Score  \n584   0.018182  \n585   0.234043  \n586   0.234043  \n587   0.234043  \n588   0.234043  ",
      "text/html": "<div>\n<style scoped>\n    .dataframe tbody tr th:only-of-type {\n        vertical-align: middle;\n    }\n\n    .dataframe tbody tr th {\n        vertical-align: top;\n    }\n\n    .dataframe thead th {\n        text-align: right;\n    }\n</style>\n<table border=\"1\" class=\"dataframe\">\n  <thead>\n    <tr style=\"text-align: right;\">\n      <th></th>\n      <th>Term</th>\n      <th>Overlap</th>\n      <th>P-value</th>\n      <th>Adjusted P-value</th>\n      <th>Genes</th>\n      <th>LCC Score</th>\n    </tr>\n  </thead>\n  <tbody>\n    <tr>\n      <th>584</th>\n      <td>Chronic otitis media</td>\n      <td>55/69</td>\n      <td>0.005896</td>\n      <td>0.098950</td>\n      <td>IGHM;CD81;WIPF1;FMR1;DOCK8;CHD7;JMJD1C;COMT;GT...</td>\n      <td>0.018182</td>\n    </tr>\n    <tr>\n      <th>585</th>\n      <td>Inadequate arch length for tooth size</td>\n      <td>47/58</td>\n      <td>0.005953</td>\n      <td>0.099228</td>\n      <td>AMER1;SETD5;NOTCH3;TRIO;RPL10;SATB2;GNAI3;PLOD...</td>\n      <td>0.234043</td>\n    </tr>\n    <tr>\n      <th>586</th>\n      <td>Tooth Crowding</td>\n      <td>47/58</td>\n      <td>0.005953</td>\n      <td>0.099228</td>\n      <td>AMER1;SETD5;NOTCH3;TRIO;RPL10;SATB2;GNAI3;PLOD...</td>\n      <td>0.234043</td>\n    </tr>\n    <tr>\n      <th>587</th>\n      <td>Tooth mass arch size discrepancy</td>\n      <td>47/58</td>\n      <td>0.005953</td>\n      <td>0.099228</td>\n      <td>AMER1;SETD5;NOTCH3;TRIO;RPL10;SATB2;GNAI3;PLOD...</td>\n      <td>0.234043</td>\n    </tr>\n    <tr>\n      <th>588</th>\n      <td>Tooth size discrepancy</td>\n      <td>47/58</td>\n      <td>0.005953</td>\n      <td>0.099228</td>\n      <td>AMER1;SETD5;NOTCH3;TRIO;RPL10;SATB2;GNAI3;PLOD...</td>\n      <td>0.234043</td>\n    </tr>\n  </tbody>\n</table>\n</div>"
     },
     "execution_count": 16,
     "metadata": {},
     "output_type": "execute_result"
    }
   ]
  },
  {
   "cell_type": "markdown",
   "source": [
    "### **Distance of pathway components**\n",
    "For each pair of pathway components, we calculate the average shortest path length between each set of proteins, and then, the average of this is taken over all pairs of the components."
   ],
   "metadata": {
    "id": "6-3ZpAL_5SrO",
    "pycharm": {
     "name": "#%% md\n"
    }
   }
  },
  {
   "cell_type": "code",
   "source": [
    "from numpy.ma.core import mean\n",
    "\n",
    "def distance_pathway_comps(diseases_dict: dict) -> list:\n",
    "    dpc_score = list()\n",
    "    for _, disease in tqdm(diseases_dict.items()):\n",
    "        sub_graph = protein_graph.subgraph(disease['genes'])\n",
    "        conn_comps = list(nx.connected_components(sub_graph))\n",
    "        distances = list()\n",
    "        for i, comp in enumerate(conn_comps):\n",
    "            for j in range(i+1, len(conn_comps)):\n",
    "                dist = 0\n",
    "                for first_comp_protein in comp:\n",
    "                    for second_comp_protein in conn_comps[j]:\n",
    "                        dist += nx.shortest_path_length(protein_graph, source=first_comp_protein, target=second_comp_protein)\n",
    "                \n",
    "                distances.append(dist / (len(comp) * len(conn_comps[j])))\n",
    "        dpc_score.append(mean(distances))\n",
    "    \n",
    "    return dpc_score"
   ],
   "metadata": {
    "id": "-EFPJbmtWqnG",
    "pycharm": {
     "name": "#%%\n"
    }
   },
   "execution_count": 17,
   "outputs": []
  },
  {
   "cell_type": "code",
   "source": [
    "if os.path.exists(\"datasets/mean_distances.csv\") and not \"df_mean_distances\" in locals():\n",
    "    df_mean_distances = pd.read_csv(\"datasets/mean_distances.csv\", sep=\",\", index_col=0)\n",
    "elif not \"df_mean_distances\" in locals():\n",
    "    df_mean_distances = pd.DataFrame(distance_pathway_comps(diseases))\n",
    "    df_mean_distances.to_csv('datasets/mean_distances.csv')"
   ],
   "metadata": {
    "id": "uVgsbG7iB8pw",
    "pycharm": {
     "name": "#%%\n"
    }
   },
   "execution_count": 18,
   "outputs": []
  },
  {
   "cell_type": "code",
   "source": [
    "df_diseases[\"DPC Score\"] = df_mean_distances\n",
    "df_diseases.tail()"
   ],
   "metadata": {
    "id": "U238LNHMEbz5",
    "colab": {
     "base_uri": "https://localhost:8080/",
     "height": 206
    },
    "outputId": "1e234f43-8090-44ec-ffbe-562a229c3cef",
    "pycharm": {
     "name": "#%%\n"
    }
   },
   "execution_count": 19,
   "outputs": [
    {
     "data": {
      "text/plain": "                                      Term Overlap   P-value  \\\n584                   Chronic otitis media   55/69  0.005896   \n585  Inadequate arch length for tooth size   47/58  0.005953   \n586                         Tooth Crowding   47/58  0.005953   \n587       Tooth mass arch size discrepancy   47/58  0.005953   \n588                 Tooth size discrepancy   47/58  0.005953   \n\n     Adjusted P-value                                              Genes  \\\n584          0.098950  IGHM;CD81;WIPF1;FMR1;DOCK8;CHD7;JMJD1C;COMT;GT...   \n585          0.099228  AMER1;SETD5;NOTCH3;TRIO;RPL10;SATB2;GNAI3;PLOD...   \n586          0.099228  AMER1;SETD5;NOTCH3;TRIO;RPL10;SATB2;GNAI3;PLOD...   \n587          0.099228  AMER1;SETD5;NOTCH3;TRIO;RPL10;SATB2;GNAI3;PLOD...   \n588          0.099228  AMER1;SETD5;NOTCH3;TRIO;RPL10;SATB2;GNAI3;PLOD...   \n\n     LCC Score  DPC Score  \n584   0.018182   2.678114  \n585   0.234043   2.693694  \n586   0.234043   2.693694  \n587   0.234043   2.693694  \n588   0.234043   2.693694  ",
      "text/html": "<div>\n<style scoped>\n    .dataframe tbody tr th:only-of-type {\n        vertical-align: middle;\n    }\n\n    .dataframe tbody tr th {\n        vertical-align: top;\n    }\n\n    .dataframe thead th {\n        text-align: right;\n    }\n</style>\n<table border=\"1\" class=\"dataframe\">\n  <thead>\n    <tr style=\"text-align: right;\">\n      <th></th>\n      <th>Term</th>\n      <th>Overlap</th>\n      <th>P-value</th>\n      <th>Adjusted P-value</th>\n      <th>Genes</th>\n      <th>LCC Score</th>\n      <th>DPC Score</th>\n    </tr>\n  </thead>\n  <tbody>\n    <tr>\n      <th>584</th>\n      <td>Chronic otitis media</td>\n      <td>55/69</td>\n      <td>0.005896</td>\n      <td>0.098950</td>\n      <td>IGHM;CD81;WIPF1;FMR1;DOCK8;CHD7;JMJD1C;COMT;GT...</td>\n      <td>0.018182</td>\n      <td>2.678114</td>\n    </tr>\n    <tr>\n      <th>585</th>\n      <td>Inadequate arch length for tooth size</td>\n      <td>47/58</td>\n      <td>0.005953</td>\n      <td>0.099228</td>\n      <td>AMER1;SETD5;NOTCH3;TRIO;RPL10;SATB2;GNAI3;PLOD...</td>\n      <td>0.234043</td>\n      <td>2.693694</td>\n    </tr>\n    <tr>\n      <th>586</th>\n      <td>Tooth Crowding</td>\n      <td>47/58</td>\n      <td>0.005953</td>\n      <td>0.099228</td>\n      <td>AMER1;SETD5;NOTCH3;TRIO;RPL10;SATB2;GNAI3;PLOD...</td>\n      <td>0.234043</td>\n      <td>2.693694</td>\n    </tr>\n    <tr>\n      <th>587</th>\n      <td>Tooth mass arch size discrepancy</td>\n      <td>47/58</td>\n      <td>0.005953</td>\n      <td>0.099228</td>\n      <td>AMER1;SETD5;NOTCH3;TRIO;RPL10;SATB2;GNAI3;PLOD...</td>\n      <td>0.234043</td>\n      <td>2.693694</td>\n    </tr>\n    <tr>\n      <th>588</th>\n      <td>Tooth size discrepancy</td>\n      <td>47/58</td>\n      <td>0.005953</td>\n      <td>0.099228</td>\n      <td>AMER1;SETD5;NOTCH3;TRIO;RPL10;SATB2;GNAI3;PLOD...</td>\n      <td>0.234043</td>\n      <td>2.693694</td>\n    </tr>\n  </tbody>\n</table>\n</div>"
     },
     "execution_count": 19,
     "metadata": {},
     "output_type": "execute_result"
    }
   ]
  },
  {
   "cell_type": "markdown",
   "source": [
    "### **Network modularity**\n",
    "Fraction of edges that fall within/outside the pathway minus the expected fraction if edges were randomly distributed:\n",
    "\\begin{equation}\n",
    "Q_d = 1/(2m) \\sum_{ij} (I((i, j) ∈ E) − \\frac{k_ik_j}{\n",
    "2m})δ(p_i, p_j)\n",
    "\\end{equation}\n",
    "where $k_i$ is the degree of $i$, and $δ(p_i, p_j)$ is 1 if $p_i$ and $p_j$ are equal and 0 otherwise.\n"
   ],
   "metadata": {
    "id": "57Y3LXwnGaX-",
    "pycharm": {
     "name": "#%% md\n"
    }
   }
  },
  {
   "cell_type": "code",
   "source": [
    "def network_modularity(protein_graph: nx.Graph, diseases: dict) -> list:\n",
    "    m = protein_graph.number_of_edges()\n",
    "    one_m = 1/(2*m)\n",
    "    Q = list()\n",
    "    for _, disease in tqdm(diseases.items()):\n",
    "        sub_graph = protein_graph.subgraph(disease['genes'])\n",
    "        disease_nodes = list(sub_graph.nodes())\n",
    "        Q_dis = 0\n",
    "        for i, node_i in enumerate(disease_nodes):\n",
    "            for j in range(i+1, len(disease_nodes)):\n",
    "                node_j = disease_nodes[j]\n",
    "                a = protein_graph.number_of_edges(node_i, node_j)\n",
    "                k_i=protein_graph.degree[node_i]\n",
    "                k_j=protein_graph.degree[node_j]\n",
    "                Q_dis += a - (k_i*k_j)/(2*m)\n",
    "        \n",
    "        Q.append(one_m * Q_dis)\n",
    "    \n",
    "    return Q "
   ],
   "metadata": {
    "id": "mBDoS2DwzctO",
    "pycharm": {
     "name": "#%%\n"
    }
   },
   "execution_count": 20,
   "outputs": []
  },
  {
   "cell_type": "code",
   "source": [
    "if os.path.exists(\"datasets/modularities.csv\") and not \"df_modularities\" in locals():\n",
    "    df_modularities = pd.read_csv(\"datasets/modularities.csv\", sep=\",\", index_col=0)\n",
    "elif not \"df_modularities\" in locals():\n",
    "    df_modularities = pd.DataFrame(network_modularity(protein_graph, diseases))\n",
    "    df_modularities.to_csv('datasets/modularities.csv')"
   ],
   "metadata": {
    "id": "eYY6b5JHCHPZ",
    "pycharm": {
     "name": "#%%\n"
    }
   },
   "execution_count": 21,
   "outputs": []
  },
  {
   "cell_type": "code",
   "source": [
    "df_diseases[\"Modularity\"] = df_modularities\n",
    "df_diseases.tail()"
   ],
   "metadata": {
    "id": "DJASY0DuC97N",
    "colab": {
     "base_uri": "https://localhost:8080/",
     "height": 206
    },
    "outputId": "af7277b2-f40e-4d81-9208-17aa676aa209",
    "pycharm": {
     "name": "#%%\n"
    }
   },
   "execution_count": 22,
   "outputs": [
    {
     "data": {
      "text/plain": "                                      Term Overlap   P-value  \\\n584                   Chronic otitis media   55/69  0.005896   \n585  Inadequate arch length for tooth size   47/58  0.005953   \n586                         Tooth Crowding   47/58  0.005953   \n587       Tooth mass arch size discrepancy   47/58  0.005953   \n588                 Tooth size discrepancy   47/58  0.005953   \n\n     Adjusted P-value                                              Genes  \\\n584          0.098950  IGHM;CD81;WIPF1;FMR1;DOCK8;CHD7;JMJD1C;COMT;GT...   \n585          0.099228  AMER1;SETD5;NOTCH3;TRIO;RPL10;SATB2;GNAI3;PLOD...   \n586          0.099228  AMER1;SETD5;NOTCH3;TRIO;RPL10;SATB2;GNAI3;PLOD...   \n587          0.099228  AMER1;SETD5;NOTCH3;TRIO;RPL10;SATB2;GNAI3;PLOD...   \n588          0.099228  AMER1;SETD5;NOTCH3;TRIO;RPL10;SATB2;GNAI3;PLOD...   \n\n     LCC Score  DPC Score  Modularity  \n584   0.018182   2.678114   -0.000008  \n585   0.234043   2.693694    0.000004  \n586   0.234043   2.693694    0.000004  \n587   0.234043   2.693694    0.000004  \n588   0.234043   2.693694    0.000004  ",
      "text/html": "<div>\n<style scoped>\n    .dataframe tbody tr th:only-of-type {\n        vertical-align: middle;\n    }\n\n    .dataframe tbody tr th {\n        vertical-align: top;\n    }\n\n    .dataframe thead th {\n        text-align: right;\n    }\n</style>\n<table border=\"1\" class=\"dataframe\">\n  <thead>\n    <tr style=\"text-align: right;\">\n      <th></th>\n      <th>Term</th>\n      <th>Overlap</th>\n      <th>P-value</th>\n      <th>Adjusted P-value</th>\n      <th>Genes</th>\n      <th>LCC Score</th>\n      <th>DPC Score</th>\n      <th>Modularity</th>\n    </tr>\n  </thead>\n  <tbody>\n    <tr>\n      <th>584</th>\n      <td>Chronic otitis media</td>\n      <td>55/69</td>\n      <td>0.005896</td>\n      <td>0.098950</td>\n      <td>IGHM;CD81;WIPF1;FMR1;DOCK8;CHD7;JMJD1C;COMT;GT...</td>\n      <td>0.018182</td>\n      <td>2.678114</td>\n      <td>-0.000008</td>\n    </tr>\n    <tr>\n      <th>585</th>\n      <td>Inadequate arch length for tooth size</td>\n      <td>47/58</td>\n      <td>0.005953</td>\n      <td>0.099228</td>\n      <td>AMER1;SETD5;NOTCH3;TRIO;RPL10;SATB2;GNAI3;PLOD...</td>\n      <td>0.234043</td>\n      <td>2.693694</td>\n      <td>0.000004</td>\n    </tr>\n    <tr>\n      <th>586</th>\n      <td>Tooth Crowding</td>\n      <td>47/58</td>\n      <td>0.005953</td>\n      <td>0.099228</td>\n      <td>AMER1;SETD5;NOTCH3;TRIO;RPL10;SATB2;GNAI3;PLOD...</td>\n      <td>0.234043</td>\n      <td>2.693694</td>\n      <td>0.000004</td>\n    </tr>\n    <tr>\n      <th>587</th>\n      <td>Tooth mass arch size discrepancy</td>\n      <td>47/58</td>\n      <td>0.005953</td>\n      <td>0.099228</td>\n      <td>AMER1;SETD5;NOTCH3;TRIO;RPL10;SATB2;GNAI3;PLOD...</td>\n      <td>0.234043</td>\n      <td>2.693694</td>\n      <td>0.000004</td>\n    </tr>\n    <tr>\n      <th>588</th>\n      <td>Tooth size discrepancy</td>\n      <td>47/58</td>\n      <td>0.005953</td>\n      <td>0.099228</td>\n      <td>AMER1;SETD5;NOTCH3;TRIO;RPL10;SATB2;GNAI3;PLOD...</td>\n      <td>0.234043</td>\n      <td>2.693694</td>\n      <td>0.000004</td>\n    </tr>\n  </tbody>\n</table>\n</div>"
     },
     "execution_count": 22,
     "metadata": {},
     "output_type": "execute_result"
    }
   ]
  },
  {
   "cell_type": "markdown",
   "source": [
    "### **Save the updated pathways with their scores.**"
   ],
   "metadata": {
    "id": "V4vn3jtYO2R2",
    "pycharm": {
     "name": "#%% md\n"
    }
   }
  },
  {
   "cell_type": "code",
   "source": [
    "df_diseases.to_csv(\"datasets/diseases_scores.csv\")"
   ],
   "metadata": {
    "id": "lFwtPH6lEkYH",
    "pycharm": {
     "name": "#%%\n"
    }
   },
   "execution_count": 23,
   "outputs": []
  },
  {
   "cell_type": "markdown",
   "source": [
    "## **Network biomarkers**\n",
    "Compute the central nodes in the graph by taking into account their normalized degree."
   ],
   "metadata": {
    "id": "l68pU1_hQupF",
    "pycharm": {
     "name": "#%% md\n"
    }
   }
  },
  {
   "cell_type": "code",
   "source": [
    "import networkx.algorithms.centrality as nx_c"
   ],
   "metadata": {
    "id": "e0AzeL28Qsrh",
    "pycharm": {
     "name": "#%%\n"
    }
   },
   "execution_count": 24,
   "outputs": []
  },
  {
   "cell_type": "markdown",
   "source": [
    "Compute the degree of each node and choose those that satisfy a treshold, the starting gene must be considered too."
   ],
   "metadata": {
    "collapsed": false,
    "pycharm": {
     "name": "#%% md\n"
    }
   }
  },
  {
   "cell_type": "code",
   "source": [
    "def identify_biomarkers(protein_graph: nx.Graph, n: int = 10, protein: str = None) -> pd.DataFrame:\n",
    "    nodes_degree = pd.DataFrame.from_dict(nx_c.degree_centrality(protein_graph), orient=\"index\", columns=[\"centrality\"])\n",
    "    nodes_degree = nodes_degree.sort_values(by='centrality', ascending=False)\n",
    "    biomarkers = nodes_degree.iloc[:n]\n",
    "\n",
    "    # Insert the starting gene\n",
    "    if protein is not None:\n",
    "        biomarkers = pd.concat([biomarkers, nodes_degree[nodes_degree.index == protein]])\n",
    "\n",
    "    return biomarkers"
   ],
   "metadata": {
    "id": "4tvhxi-yQ-rY",
    "pycharm": {
     "name": "#%%\n"
    }
   },
   "execution_count": 25,
   "outputs": []
  },
  {
   "cell_type": "code",
   "execution_count": 26,
   "outputs": [
    {
     "data": {
      "text/plain": "          centrality\nKIAA1429    0.223922\nESR2        0.175801\nESR1        0.174879\nFANCD2      0.162733\nMYC         0.156815\nKIF14       0.138596\nHIST1H4A    0.127220\nBRD4        0.117534\nEED         0.112537\nCIT         0.111308\nEFTUD2      0.107233\nNR2C2       0.106772\nEP300       0.103928\nNXF1        0.102237\nHSPA8       0.100930\nTRIM28      0.097778\nVCP         0.085018\nPHB         0.084172\nKIF20A      0.080483\nPRC1        0.079176\nKIF23       0.076255\nNAA40       0.075025\nRBM39       0.071489\nSNRNP70     0.070874\nORF8        0.069644\nECT2        0.069644\nOBSL1       0.068875\nZC3H18      0.065032\nRNF2        0.064955\nSON         0.011223",
      "text/html": "<div>\n<style scoped>\n    .dataframe tbody tr th:only-of-type {\n        vertical-align: middle;\n    }\n\n    .dataframe tbody tr th {\n        vertical-align: top;\n    }\n\n    .dataframe thead th {\n        text-align: right;\n    }\n</style>\n<table border=\"1\" class=\"dataframe\">\n  <thead>\n    <tr style=\"text-align: right;\">\n      <th></th>\n      <th>centrality</th>\n    </tr>\n  </thead>\n  <tbody>\n    <tr>\n      <th>KIAA1429</th>\n      <td>0.223922</td>\n    </tr>\n    <tr>\n      <th>ESR2</th>\n      <td>0.175801</td>\n    </tr>\n    <tr>\n      <th>ESR1</th>\n      <td>0.174879</td>\n    </tr>\n    <tr>\n      <th>FANCD2</th>\n      <td>0.162733</td>\n    </tr>\n    <tr>\n      <th>MYC</th>\n      <td>0.156815</td>\n    </tr>\n    <tr>\n      <th>KIF14</th>\n      <td>0.138596</td>\n    </tr>\n    <tr>\n      <th>HIST1H4A</th>\n      <td>0.127220</td>\n    </tr>\n    <tr>\n      <th>BRD4</th>\n      <td>0.117534</td>\n    </tr>\n    <tr>\n      <th>EED</th>\n      <td>0.112537</td>\n    </tr>\n    <tr>\n      <th>CIT</th>\n      <td>0.111308</td>\n    </tr>\n    <tr>\n      <th>EFTUD2</th>\n      <td>0.107233</td>\n    </tr>\n    <tr>\n      <th>NR2C2</th>\n      <td>0.106772</td>\n    </tr>\n    <tr>\n      <th>EP300</th>\n      <td>0.103928</td>\n    </tr>\n    <tr>\n      <th>NXF1</th>\n      <td>0.102237</td>\n    </tr>\n    <tr>\n      <th>HSPA8</th>\n      <td>0.100930</td>\n    </tr>\n    <tr>\n      <th>TRIM28</th>\n      <td>0.097778</td>\n    </tr>\n    <tr>\n      <th>VCP</th>\n      <td>0.085018</td>\n    </tr>\n    <tr>\n      <th>PHB</th>\n      <td>0.084172</td>\n    </tr>\n    <tr>\n      <th>KIF20A</th>\n      <td>0.080483</td>\n    </tr>\n    <tr>\n      <th>PRC1</th>\n      <td>0.079176</td>\n    </tr>\n    <tr>\n      <th>KIF23</th>\n      <td>0.076255</td>\n    </tr>\n    <tr>\n      <th>NAA40</th>\n      <td>0.075025</td>\n    </tr>\n    <tr>\n      <th>RBM39</th>\n      <td>0.071489</td>\n    </tr>\n    <tr>\n      <th>SNRNP70</th>\n      <td>0.070874</td>\n    </tr>\n    <tr>\n      <th>ORF8</th>\n      <td>0.069644</td>\n    </tr>\n    <tr>\n      <th>ECT2</th>\n      <td>0.069644</td>\n    </tr>\n    <tr>\n      <th>OBSL1</th>\n      <td>0.068875</td>\n    </tr>\n    <tr>\n      <th>ZC3H18</th>\n      <td>0.065032</td>\n    </tr>\n    <tr>\n      <th>RNF2</th>\n      <td>0.064955</td>\n    </tr>\n    <tr>\n      <th>SON</th>\n      <td>0.011223</td>\n    </tr>\n  </tbody>\n</table>\n</div>"
     },
     "execution_count": 26,
     "metadata": {},
     "output_type": "execute_result"
    }
   ],
   "source": [
    "biomarkers = identify_biomarkers(protein_graph, 29, \"SON\")\n",
    "biomarkers"
   ],
   "metadata": {
    "collapsed": false,
    "pycharm": {
     "name": "#%%\n"
    }
   }
  },
  {
   "cell_type": "markdown",
   "source": [
    "Save the biomarkers into a csv file."
   ],
   "metadata": {
    "collapsed": false,
    "pycharm": {
     "name": "#%% md\n"
    }
   }
  },
  {
   "cell_type": "code",
   "execution_count": 27,
   "outputs": [],
   "source": [
    "biomarkers.to_csv(\"datasets/biomarkers.csv\")"
   ],
   "metadata": {
    "collapsed": false,
    "pycharm": {
     "name": "#%%\n"
    }
   }
  }
 ]
}