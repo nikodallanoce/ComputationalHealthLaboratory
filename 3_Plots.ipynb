{
 "cells": [
  {
   "cell_type": "markdown",
   "source": [
    "**Computational Health Laboratory Project, A.Y. 2021/2022**\n",
    "\n",
    "**Authors:** Niko Dalla Noce, Alessandro Ristori, Andrea Zuppolini\n",
    "\n",
    "**Project:** Starting fron one or more genes, extract from interaction databases the genes they interact with. Using the expanded gene set, perform pathway analysis and obtain all disease pathways in which the genes appear. Merge the pathways to obtain a larger graph. Perform further network analysis to extract central biomarkers and communities beyond pathways. Compute a distance between the initial gene set and the various pathways (diseases)."
   ],
   "metadata": {
    "collapsed": false,
    "pycharm": {
     "name": "#%% md\n"
    }
   }
  },
  {
   "cell_type": "markdown",
   "source": [
    "# **CHL Project, Plots**"
   ],
   "metadata": {
    "collapsed": false,
    "pycharm": {
     "name": "#%% md\n"
    }
   }
  },
  {
   "cell_type": "markdown",
   "source": [
    "## **Colab setup**\n",
    "Takes care of the project setup on Colab."
   ],
   "metadata": {
    "collapsed": false,
    "pycharm": {
     "name": "#%% md\n"
    }
   }
  },
  {
   "cell_type": "code",
   "execution_count": 1,
   "outputs": [],
   "source": [
    "if 'google.colab' in str(get_ipython()):\n",
    "    import subprocess\n",
    "    out_clone = subprocess.run([\"git\", \"clone\", \"https://github.com/nikodallanoce/ComputationalHealthLaboratory\"], text=True, capture_output=True)\n",
    "    print(\"{0}{1}\".format(out_clone.stdout, out_clone.stderr))\n",
    "    %cd ComputationalHealthLaboratory"
   ],
   "metadata": {
    "collapsed": false,
    "pycharm": {
     "name": "#%%\n"
    }
   }
  },
  {
   "cell_type": "markdown",
   "source": [
    "## **Draw the protein, disease and community graphs**\n",
    "Plot the graphs to show the results of our work."
   ],
   "metadata": {
    "collapsed": false,
    "pycharm": {
     "name": "#%% md\n"
    }
   }
  },
  {
   "cell_type": "code",
   "execution_count": 2,
   "outputs": [],
   "source": [
    "import pandas as pd\n",
    "import seaborn as sn\n",
    "import numpy as np\n",
    "import networkx as nx\n",
    "from pyvis.network import Network"
   ],
   "metadata": {
    "collapsed": false,
    "pycharm": {
     "name": "#%%\n"
    }
   }
  },
  {
   "cell_type": "markdown",
   "source": [
    "We assume that you have already run **0_Pathway_Enrichment**, **1_Network_Analysis** and **2_Communinity_Analysis** and, therefore, all the datasets needed here are available. If so, then load everything."
   ],
   "metadata": {
    "collapsed": false,
    "pycharm": {
     "name": "#%% md\n"
    }
   }
  },
  {
   "cell_type": "code",
   "execution_count": 16,
   "outputs": [],
   "source": [
    "df_diseases = pd.read_csv(\"datasets/diseases_pathways.csv\", sep=\",\", index_col=0)\n",
    "protein_graph = nx.read_gpickle(\"datasets/protein_graph.gpickle\")\n",
    "df_communities = pd.read_csv(\"datasets/communities.csv\")\n",
    "biomarkers = pd.read_csv(\"datasets/biomarkers.csv\", index_col=0)\n",
    "communities = [set(community) for i, community in df_communities.iterrows()]\n",
    "diseases = dict()\n",
    "for i, disease in df_diseases.iterrows():\n",
    "    disease_genes = disease['Genes'].split(\";\")\n",
    "    term = disease['Term']\n",
    "    diseases[i] = {\"name\": term, \"genes\": disease_genes}"
   ],
   "metadata": {
    "collapsed": false,
    "pycharm": {
     "name": "#%%\n"
    }
   }
  },
  {
   "cell_type": "code",
   "execution_count": 17,
   "outputs": [
    {
     "data": {
      "text/plain": "          centrality\nKIAA1429    0.223922\nESR2        0.175801\nESR1        0.174879\nFANCD2      0.162733\nMYC         0.156815\nKIF14       0.138596\nHIST1H4A    0.127220\nBRD4        0.117534\nEED         0.112537\nCIT         0.111308\nEFTUD2      0.107233\nNR2C2       0.106772\nEP300       0.103928\nNXF1        0.102237\nHSPA8       0.100930\nTRIM28      0.097778\nVCP         0.085018\nPHB         0.084172\nKIF20A      0.080483\nPRC1        0.079176\nKIF23       0.076255\nNAA40       0.075025\nRBM39       0.071489\nSNRNP70     0.070874\nORF8        0.069644\nECT2        0.069644\nOBSL1       0.068875\nZC3H18      0.065032\nRNF2        0.064955\nSON         0.011223",
      "text/html": "<div>\n<style scoped>\n    .dataframe tbody tr th:only-of-type {\n        vertical-align: middle;\n    }\n\n    .dataframe tbody tr th {\n        vertical-align: top;\n    }\n\n    .dataframe thead th {\n        text-align: right;\n    }\n</style>\n<table border=\"1\" class=\"dataframe\">\n  <thead>\n    <tr style=\"text-align: right;\">\n      <th></th>\n      <th>centrality</th>\n    </tr>\n  </thead>\n  <tbody>\n    <tr>\n      <th>KIAA1429</th>\n      <td>0.223922</td>\n    </tr>\n    <tr>\n      <th>ESR2</th>\n      <td>0.175801</td>\n    </tr>\n    <tr>\n      <th>ESR1</th>\n      <td>0.174879</td>\n    </tr>\n    <tr>\n      <th>FANCD2</th>\n      <td>0.162733</td>\n    </tr>\n    <tr>\n      <th>MYC</th>\n      <td>0.156815</td>\n    </tr>\n    <tr>\n      <th>KIF14</th>\n      <td>0.138596</td>\n    </tr>\n    <tr>\n      <th>HIST1H4A</th>\n      <td>0.127220</td>\n    </tr>\n    <tr>\n      <th>BRD4</th>\n      <td>0.117534</td>\n    </tr>\n    <tr>\n      <th>EED</th>\n      <td>0.112537</td>\n    </tr>\n    <tr>\n      <th>CIT</th>\n      <td>0.111308</td>\n    </tr>\n    <tr>\n      <th>EFTUD2</th>\n      <td>0.107233</td>\n    </tr>\n    <tr>\n      <th>NR2C2</th>\n      <td>0.106772</td>\n    </tr>\n    <tr>\n      <th>EP300</th>\n      <td>0.103928</td>\n    </tr>\n    <tr>\n      <th>NXF1</th>\n      <td>0.102237</td>\n    </tr>\n    <tr>\n      <th>HSPA8</th>\n      <td>0.100930</td>\n    </tr>\n    <tr>\n      <th>TRIM28</th>\n      <td>0.097778</td>\n    </tr>\n    <tr>\n      <th>VCP</th>\n      <td>0.085018</td>\n    </tr>\n    <tr>\n      <th>PHB</th>\n      <td>0.084172</td>\n    </tr>\n    <tr>\n      <th>KIF20A</th>\n      <td>0.080483</td>\n    </tr>\n    <tr>\n      <th>PRC1</th>\n      <td>0.079176</td>\n    </tr>\n    <tr>\n      <th>KIF23</th>\n      <td>0.076255</td>\n    </tr>\n    <tr>\n      <th>NAA40</th>\n      <td>0.075025</td>\n    </tr>\n    <tr>\n      <th>RBM39</th>\n      <td>0.071489</td>\n    </tr>\n    <tr>\n      <th>SNRNP70</th>\n      <td>0.070874</td>\n    </tr>\n    <tr>\n      <th>ORF8</th>\n      <td>0.069644</td>\n    </tr>\n    <tr>\n      <th>ECT2</th>\n      <td>0.069644</td>\n    </tr>\n    <tr>\n      <th>OBSL1</th>\n      <td>0.068875</td>\n    </tr>\n    <tr>\n      <th>ZC3H18</th>\n      <td>0.065032</td>\n    </tr>\n    <tr>\n      <th>RNF2</th>\n      <td>0.064955</td>\n    </tr>\n    <tr>\n      <th>SON</th>\n      <td>0.011223</td>\n    </tr>\n  </tbody>\n</table>\n</div>"
     },
     "execution_count": 17,
     "metadata": {},
     "output_type": "execute_result"
    }
   ],
   "source": [
    "biomarkers"
   ],
   "metadata": {
    "collapsed": false,
    "pycharm": {
     "name": "#%%\n"
    }
   }
  },
  {
   "cell_type": "markdown",
   "source": [
    "Methods used to build the pyvis network."
   ],
   "metadata": {
    "collapsed": false,
    "pycharm": {
     "name": "#%% md\n"
    }
   }
  },
  {
   "cell_type": "code",
   "execution_count": 4,
   "outputs": [],
   "source": [
    "def __build_network_disease__(protein_graph: nx.Graph, disease_genes: list = None) -> Network:\n",
    "    net = Network(width=1080, height=720)\n",
    "    node_index = dict()\n",
    "    for i, node in enumerate(protein_graph.nodes()):\n",
    "        node_index[node] = i\n",
    "        if node not in disease_genes:\n",
    "            net.add_node(i, label=node, size=8)\n",
    "        else:\n",
    "            net.add_node(i, label=node, size=16, color=\"blue\")\n",
    "\n",
    "    for edge_from, edge_to in protein_graph.edges():\n",
    "        if edge_from in disease_genes or edge_to in disease_genes:\n",
    "            net.add_edge(node_index[edge_from], node_index[edge_to], color=\"red\", value=1)\n",
    "        else:\n",
    "            net.add_edge(node_index[edge_from], node_index[edge_to])\n",
    "\n",
    "    return net\n",
    "\n",
    "\n",
    "def __build_network_protein__(protein_graph: nx.Graph, protein: str = None) -> Network:\n",
    "    net = Network(width=1080, height=720)\n",
    "    node_index = dict()\n",
    "    for i, node in enumerate(protein_graph.nodes()):\n",
    "        node_index[node] = i\n",
    "        if node != protein:\n",
    "            net.add_node(i, label=node, size=8)\n",
    "        else:\n",
    "            net.add_node(i, label=node, size=16, color=\"blue\")\n",
    "\n",
    "    for edge_from, edge_to in protein_graph.edges():\n",
    "        if edge_from == protein or edge_to == protein:\n",
    "            net.add_edge(node_index[edge_from], node_index[edge_to], color=\"red\", value=1)\n",
    "        else:\n",
    "            net.add_edge(node_index[edge_from], node_index[edge_to])\n",
    "\n",
    "    return net"
   ],
   "metadata": {
    "collapsed": false,
    "pycharm": {
     "name": "#%%\n"
    }
   }
  },
  {
   "cell_type": "markdown",
   "source": [
    "Plot the protein graph, you can also plot a disease’s genes in the same graph. If a node is red, then it belongs to the disease."
   ],
   "metadata": {
    "collapsed": false,
    "pycharm": {
     "name": "#%% md\n"
    }
   }
  },
  {
   "cell_type": "code",
   "execution_count": 5,
   "outputs": [],
   "source": [
    "def plot_protein_network(protein_graph: nx.Graph, disease_genes: list = None, biomarkers: list = None) -> None:\n",
    "    if biomarkers is not None:\n",
    "        plot_graph = protein_graph.subgraph(biomarkers)\n",
    "    else:\n",
    "        plot_graph = protein_graph.copy()\n",
    "\n",
    "    net = __build_network_disease__(plot_graph, disease_genes)\n",
    "    net.toggle_drag_nodes(False)\n",
    "    net.show_buttons(['physics'])\n",
    "    net.force_atlas_2based(spring_strength=0.02)\n",
    "    net.show(\"protein_graph.html\")"
   ],
   "metadata": {
    "collapsed": false,
    "pycharm": {
     "name": "#%%\n"
    }
   }
  },
  {
   "cell_type": "code",
   "execution_count": 18,
   "outputs": [],
   "source": [
    "plot_protein_network(protein_graph, diseases[588][\"genes\"], biomarkers.index)"
   ],
   "metadata": {
    "collapsed": false,
    "pycharm": {
     "name": "#%%\n"
    }
   }
  },
  {
   "cell_type": "markdown",
   "source": [
    "Plot the disease graph, you can also plot a disease’s genes on the same plot, the latters will be colored in red."
   ],
   "metadata": {
    "collapsed": false,
    "pycharm": {
     "name": "#%% md\n"
    }
   }
  },
  {
   "cell_type": "code",
   "execution_count": 7,
   "outputs": [],
   "source": [
    "def plot_disease_network(protein_graph: nx.Graph, disease_genes: list, protein: str = None) -> None:\n",
    "    sub_graph = protein_graph.subgraph(disease_genes)\n",
    "    net = __build_network_protein__(sub_graph, protein)\n",
    "    net.toggle_drag_nodes(False)\n",
    "    net.show_buttons(['physics'])\n",
    "    net.force_atlas_2based(spring_strength=0.02)\n",
    "    net.show(\"disease_graph.html\")"
   ],
   "metadata": {
    "collapsed": false,
    "pycharm": {
     "name": "#%%\n"
    }
   }
  },
  {
   "cell_type": "code",
   "execution_count": 8,
   "outputs": [],
   "source": [
    "plot_disease_network(protein_graph, diseases[588][\"genes\"], \"SON\")"
   ],
   "metadata": {
    "collapsed": false,
    "pycharm": {
     "name": "#%%\n"
    }
   }
  },
  {
   "cell_type": "markdown",
   "source": [
    "Plot a community graph and color the chosen protein, if any is passed, and the edges linked to it."
   ],
   "metadata": {
    "collapsed": false,
    "pycharm": {
     "name": "#%% md\n"
    }
   }
  },
  {
   "cell_type": "code",
   "execution_count": 9,
   "outputs": [],
   "source": [
    "def look_for_gene_community(protein: str, communities: list) -> int:\n",
    "    for i, community in enumerate(communities):\n",
    "        if protein in community:\n",
    "            return i\n",
    "\n",
    "    return -1\n",
    "\n",
    "\n",
    "def plot_community_protein(protein_graph: nx.Graph, communities: list, protein: str = None) -> None:\n",
    "    if protein is not None:\n",
    "        community = communities[look_for_gene_community(protein, communities)]\n",
    "    else:\n",
    "        community = np.random.randint(0, len(communities))\n",
    "\n",
    "    sub_graph = protein_graph.subgraph(community)\n",
    "    net = __build_network_protein__(sub_graph, protein)\n",
    "    net.toggle_drag_nodes(False)\n",
    "    net.show_buttons(['physics'])\n",
    "    net.force_atlas_2based(spring_strength=0.02)\n",
    "    net.show(\"community_protein_graph.html\")"
   ],
   "metadata": {
    "collapsed": false,
    "pycharm": {
     "name": "#%%\n"
    }
   }
  },
  {
   "cell_type": "code",
   "execution_count": 10,
   "outputs": [],
   "source": [
    "plot_community_protein(protein_graph, communities, \"SON\")"
   ],
   "metadata": {
    "collapsed": false,
    "pycharm": {
     "name": "#%%\n"
    }
   }
  },
  {
   "cell_type": "markdown",
   "source": [
    "Plot a community and color the disease’s genes passed to the method."
   ],
   "metadata": {
    "collapsed": false,
    "pycharm": {
     "name": "#%% md\n"
    }
   }
  },
  {
   "cell_type": "code",
   "execution_count": 11,
   "outputs": [],
   "source": [
    "def plot_community_disease(protein_graph: nx.Graph, disease_genes: list, community: set) -> None:\n",
    "    sub_graph = protein_graph.subgraph(community)\n",
    "    net = __build_network_disease__(sub_graph, disease_genes)\n",
    "    net.toggle_drag_nodes(False)\n",
    "    net.show_buttons(['physics'])\n",
    "    net.force_atlas_2based(spring_strength=0.02)\n",
    "    net.show(\"community_disease_graph.html\")"
   ],
   "metadata": {
    "collapsed": false,
    "pycharm": {
     "name": "#%%\n"
    }
   }
  },
  {
   "cell_type": "code",
   "execution_count": 12,
   "outputs": [],
   "source": [
    "plot_community_disease(protein_graph, diseases[588][\"genes\"], communities[3])"
   ],
   "metadata": {
    "collapsed": false,
    "pycharm": {
     "name": "#%%\n"
    }
   }
  },
  {
   "cell_type": "markdown",
   "source": [
    "Plot all the communities."
   ],
   "metadata": {
    "collapsed": false,
    "pycharm": {
     "name": "#%% md\n"
    }
   }
  },
  {
   "cell_type": "code",
   "execution_count": 13,
   "outputs": [],
   "source": [
    "def plot_communities(protein_graph: nx.Graph, communities: list, protein: str = None) -> None:\n",
    "    palette = sn.color_palette(\"Accent\", len(communities)).as_hex()\n",
    "    net = Network(width=1080, height=720)\n",
    "    node_index = dict()\n",
    "    index = 0\n",
    "    gene_community = look_for_gene_community(protein, communities)\n",
    "    if gene_community == -1:\n",
    "        raise Warning(\"Protein {0} not found, no community will be highlighted with gold\".format(protein))\n",
    "\n",
    "    for i in range(len(communities)):\n",
    "        community = communities[i]\n",
    "        color = palette[i]\n",
    "        sub_graph = protein_graph.subgraph(community)\n",
    "        for _, node in enumerate(sub_graph.nodes()):\n",
    "            node_index[node] = index\n",
    "            if node == protein:\n",
    "                net.add_node(index, label=node, size=32)\n",
    "            else:\n",
    "                net.add_node(index, label=node, size=8)\n",
    "\n",
    "            index += 1\n",
    "\n",
    "        for edge_from, edge_to in sub_graph.edges():\n",
    "            net.add_edge(node_index[edge_from], node_index[edge_to], color=color)\n",
    "\n",
    "    net.show_buttons(['physics'])\n",
    "    net.force_atlas_2based(spring_strength=0.02)\n",
    "    net.show(\"communities.html\")"
   ],
   "metadata": {
    "collapsed": false,
    "pycharm": {
     "name": "#%%\n"
    }
   }
  },
  {
   "cell_type": "code",
   "execution_count": 14,
   "outputs": [],
   "source": [
    "plot_communities(protein_graph, communities, \"SON\")"
   ],
   "metadata": {
    "collapsed": false,
    "pycharm": {
     "name": "#%%\n"
    }
   }
  }
 ],
 "metadata": {
  "kernelspec": {
   "display_name": "Python 3",
   "language": "python",
   "name": "python3"
  },
  "language_info": {
   "codemirror_mode": {
    "name": "ipython",
    "version": 2
   },
   "file_extension": ".py",
   "mimetype": "text/x-python",
   "name": "python",
   "nbconvert_exporter": "python",
   "pygments_lexer": "ipython2",
   "version": "2.7.6"
  }
 },
 "nbformat": 4,
 "nbformat_minor": 0
}