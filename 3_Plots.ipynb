{
 "cells": [
  {
   "cell_type": "markdown",
   "source": [
    "**Computational Health Laboratory Project, A.Y. 2021/2022**\n",
    "\n",
    "**Authors:** Niko Dalla Noce, Alessandro Ristori, Andrea Zuppolini\n",
    "\n",
    "**Project:** Starting fron one or more genes, extract from interaction databases the genes they interact with. Using the expanded gene set, perform pathway analysis and obtain all disease pathways in which the genes appear. Merge the pathways to obtain a larger graph. Perform further network analysis to extract central biomarkers and communities beyond pathways. Compute a distance between the initial gene set and the various pathways (diseases)."
   ],
   "metadata": {
    "collapsed": false,
    "pycharm": {
     "name": "#%% md\n"
    }
   }
  },
  {
   "cell_type": "markdown",
   "source": [
    "# **CHL Project, Plots**"
   ],
   "metadata": {
    "collapsed": false,
    "pycharm": {
     "name": "#%% md\n"
    }
   }
  },
  {
   "cell_type": "markdown",
   "source": [
    "## **Colab setup**\n",
    "Takes care of the project setup on Colab."
   ],
   "metadata": {
    "collapsed": false,
    "pycharm": {
     "name": "#%% md\n"
    }
   }
  },
  {
   "cell_type": "code",
   "execution_count": 1,
   "outputs": [],
   "source": [
    "if 'google.colab' in str(get_ipython()):\n",
    "    import subprocess\n",
    "    out_clone = subprocess.run([\"git\", \"clone\", \"https://github.com/nikodallanoce/ComputationalHealthLaboratory\"], text=True, capture_output=True)\n",
    "    print(\"{0}{1}\".format(out_clone.stdout, out_clone.stderr))\n",
    "    %cd ComputationalHealthLaboratory"
   ],
   "metadata": {
    "collapsed": false,
    "pycharm": {
     "name": "#%%\n"
    }
   }
  },
  {
   "cell_type": "markdown",
   "source": [
    "## **Draw the protein, disease and community graphs**\n",
    "Plot the graphs to show the results of our work."
   ],
   "metadata": {
    "collapsed": false,
    "pycharm": {
     "name": "#%% md\n"
    }
   }
  },
  {
   "cell_type": "code",
   "execution_count": 2,
   "outputs": [],
   "source": [
    "import pandas as pd\n",
    "import seaborn as sn\n",
    "import numpy as np\n",
    "import networkx as nx\n",
    "from pyvis.network import Network"
   ],
   "metadata": {
    "collapsed": false,
    "pycharm": {
     "name": "#%%\n"
    }
   }
  },
  {
   "cell_type": "markdown",
   "source": [
    "We assume that you have already run **0_Pathway_Enrichment**, **1_Network_Analysis** and **2_Community_Analysis** and, therefore, all the datasets needed here are available. If so, then load everything."
   ],
   "metadata": {
    "collapsed": false,
    "pycharm": {
     "name": "#%% md\n"
    }
   }
  },
  {
   "cell_type": "code",
   "execution_count": 3,
   "outputs": [],
   "source": [
    "df_diseases = pd.read_csv(\"datasets/diseases_pathways.csv\", sep=\",\", index_col=0)\n",
    "protein_graph = nx.read_gpickle(\"datasets/protein_graph.gpickle\")\n",
    "df_communities = pd.read_csv(\"datasets/communities.csv\")\n",
    "df_biomarkers = pd.read_csv(\"datasets/biomarkers.csv\", index_col=0)\n",
    "communities = [set(community) for i, community in df_communities.iterrows()]\n",
    "diseases = dict()\n",
    "for i, disease in df_diseases.iterrows():\n",
    "    disease_genes = disease['Genes'].split(\";\")\n",
    "    term = disease['Term']\n",
    "    diseases[i] = {\"name\": term, \"genes\": disease_genes}"
   ],
   "metadata": {
    "collapsed": false,
    "pycharm": {
     "name": "#%%\n"
    }
   }
  },
  {
   "cell_type": "markdown",
   "source": [
    "Methods used to build the pyvis network."
   ],
   "metadata": {
    "collapsed": false,
    "pycharm": {
     "name": "#%% md\n"
    }
   }
  },
  {
   "cell_type": "code",
   "execution_count": 4,
   "outputs": [],
   "source": [
    "def __build_network_disease__(protein_graph: nx.Graph, genes_disease: list = None, protein: str = None, plot_other_edges: bool = True) -> Network:\n",
    "    net = Network(width=1080, height=720)\n",
    "    node_index = dict()\n",
    "    for i, node in enumerate(protein_graph.nodes()):\n",
    "        shape = \"dot\"\n",
    "        size = 8\n",
    "        color = \"grey\"\n",
    "        node_index[node] = i\n",
    "        if not genes_disease is None and node in genes_disease:\n",
    "            color = \"orange\"\n",
    "            size = 16\n",
    "            shape = \"diamond\"\n",
    "\n",
    "        if node == protein:\n",
    "            color = \"slateblue\"\n",
    "            size = 32\n",
    "\n",
    "        net.add_node(i, label=node, size=size, color=color, shape=shape)\n",
    "\n",
    "    for edge_from, edge_to in protein_graph.edges():\n",
    "        if not genes_disease is None and ((edge_from == protein and edge_to in genes_disease) or (edge_from in genes_disease and edge_to == protein)) and protein not in genes_disease:\n",
    "            net.add_edge(node_index[edge_from], node_index[edge_to], color=\"blue\", value=1)\n",
    "        elif not genes_disease is None and edge_from in genes_disease and edge_to in genes_disease:\n",
    "            net.add_edge(node_index[edge_from], node_index[edge_to], color=\"orangered\", value=1)\n",
    "        elif plot_other_edges:\n",
    "            net.add_edge(node_index[edge_from], node_index[edge_to], color=\"grey\")\n",
    "\n",
    "    return net\n",
    "\n",
    "\n",
    "def __build_network_protein__(protein_graph: nx.Graph, protein: str = None, plot_other_edges: bool = True) -> Network:\n",
    "    net = Network(width=1080, height=720)\n",
    "    node_index = dict()\n",
    "    for i, node in enumerate(protein_graph.nodes()):\n",
    "        node_index[node] = i\n",
    "        if node != protein:\n",
    "            net.add_node(i, label=node, size=8)\n",
    "        else:\n",
    "            net.add_node(i, label=node, size=16, color=\"slateblue\")\n",
    "\n",
    "    for edge_from, edge_to in protein_graph.edges():\n",
    "        if edge_from == protein or edge_to == protein:\n",
    "            net.add_edge(node_index[edge_from], node_index[edge_to], color=\"blue\", value=1)\n",
    "        elif plot_other_edges:\n",
    "            net.add_edge(node_index[edge_from], node_index[edge_to], color=\"grey\")\n",
    "\n",
    "    return net"
   ],
   "metadata": {
    "collapsed": false,
    "pycharm": {
     "name": "#%%\n"
    }
   }
  },
  {
   "cell_type": "markdown",
   "source": [
    "Plot the protein graph, you can also plot a disease’s genes in the same graph. If a node is red, then it belongs to the disease."
   ],
   "metadata": {
    "collapsed": false,
    "pycharm": {
     "name": "#%% md\n"
    }
   }
  },
  {
   "cell_type": "code",
   "execution_count": 5,
   "outputs": [],
   "source": [
    "def plot_protein_network(protein_graph: nx.Graph, genes_disease: list = None, biomarkers: list = None, protein: str = None, plot_other_edges: bool = True) -> None:\n",
    "    if biomarkers is not None:\n",
    "        plot_graph = protein_graph.subgraph(biomarkers)\n",
    "    else:\n",
    "        plot_graph = protein_graph.copy()\n",
    "\n",
    "    net = __build_network_disease__(plot_graph, genes_disease, protein, plot_other_edges)\n",
    "    net.toggle_drag_nodes(False)\n",
    "    net.show_buttons(['physics'])\n",
    "    net.force_atlas_2based(spring_strength=0.02)\n",
    "    net.show(\"protein_graph.html\")"
   ],
   "metadata": {
    "collapsed": false,
    "pycharm": {
     "name": "#%%\n"
    }
   }
  },
  {
   "cell_type": "code",
   "execution_count": 6,
   "outputs": [],
   "source": [
    "plot_protein_network(protein_graph, biomarkers=df_biomarkers.index, protein=\"SON\")"
   ],
   "metadata": {
    "collapsed": false,
    "pycharm": {
     "name": "#%%\n"
    }
   }
  },
  {
   "cell_type": "markdown",
   "source": [
    "Plot the disease graph, you can also plot a disease’s genes on the same plot, the latters will be colored in red."
   ],
   "metadata": {
    "collapsed": false,
    "pycharm": {
     "name": "#%% md\n"
    }
   }
  },
  {
   "cell_type": "code",
   "execution_count": 7,
   "outputs": [],
   "source": [
    "def plot_disease_network(protein_graph: nx.Graph, genes_disease: list, protein: str = None) -> None:\n",
    "    sub_graph = protein_graph.subgraph(genes_disease)\n",
    "    net = __build_network_protein__(sub_graph, protein)\n",
    "    net.toggle_drag_nodes(False)\n",
    "    net.show_buttons(['physics'])\n",
    "    net.force_atlas_2based(spring_strength=0.02)\n",
    "    net.show(\"disease_graph.html\")"
   ],
   "metadata": {
    "collapsed": false,
    "pycharm": {
     "name": "#%%\n"
    }
   }
  },
  {
   "cell_type": "code",
   "execution_count": 8,
   "outputs": [],
   "source": [
    "plot_disease_network(protein_graph, diseases[5][\"genes\"], \"SON\")"
   ],
   "metadata": {
    "collapsed": false,
    "pycharm": {
     "name": "#%%\n"
    }
   }
  },
  {
   "cell_type": "markdown",
   "source": [
    "Plot a community graph and color the chosen protein, if any is passed, and the edges linked to it."
   ],
   "metadata": {
    "collapsed": false,
    "pycharm": {
     "name": "#%% md\n"
    }
   }
  },
  {
   "cell_type": "code",
   "execution_count": 9,
   "outputs": [],
   "source": [
    "def look_for_gene_community(protein: str, communities: list) -> int:\n",
    "    for i, community in enumerate(communities):\n",
    "        if protein in community:\n",
    "            return i\n",
    "\n",
    "    return -1\n",
    "\n",
    "\n",
    "def plot_community_protein(protein_graph: nx.Graph, communities: list, protein: str = None, plot_other_edges: bool = True) -> None:\n",
    "    if protein is not None:\n",
    "        community = communities[look_for_gene_community(protein, communities)]\n",
    "    else:\n",
    "        community = np.random.randint(0, len(communities))\n",
    "\n",
    "    sub_graph = protein_graph.subgraph(community)\n",
    "    net = __build_network_protein__(sub_graph, protein, plot_other_edges)\n",
    "    net.toggle_drag_nodes(False)\n",
    "    net.show_buttons(['physics'])\n",
    "    net.force_atlas_2based(spring_strength=0.02)\n",
    "    net.show(\"community_protein_graph.html\")"
   ],
   "metadata": {
    "collapsed": false,
    "pycharm": {
     "name": "#%%\n"
    }
   }
  },
  {
   "cell_type": "code",
   "execution_count": 10,
   "outputs": [],
   "source": [
    "plot_community_protein(protein_graph, communities, \"SON\")"
   ],
   "metadata": {
    "collapsed": false,
    "pycharm": {
     "name": "#%%\n"
    }
   }
  },
  {
   "cell_type": "markdown",
   "source": [
    "Plot a community and color the disease’s genes passed to the method."
   ],
   "metadata": {
    "collapsed": false,
    "pycharm": {
     "name": "#%% md\n"
    }
   }
  },
  {
   "cell_type": "code",
   "execution_count": 11,
   "outputs": [],
   "source": [
    "def plot_community_disease(protein_graph: nx.Graph, genes_disease: list, community: set, protein: str = None, plot_other_edges: bool = True) -> None:\n",
    "    sub_graph = protein_graph.subgraph(community)\n",
    "    net = __build_network_disease__(sub_graph, genes_disease, protein, plot_other_edges)\n",
    "    net.toggle_drag_nodes(False)\n",
    "    net.show_buttons(['physics'])\n",
    "    net.force_atlas_2based(spring_strength=0.02)\n",
    "    net.show(\"community_disease_graph.html\")"
   ],
   "metadata": {
    "collapsed": false,
    "pycharm": {
     "name": "#%%\n"
    }
   }
  },
  {
   "cell_type": "code",
   "execution_count": null,
   "outputs": [],
   "source": [
    "plot_community_disease(protein_graph, diseases[228][\"genes\"], communities[look_for_gene_community(\"SON\", communities)], \"SON\", True)\n",
    "\n",
    "# Chosen disease pathway to plot\n",
    "# SON -> Intellectual disability: 5, Undergrowth: 102, Strabismus: 16\n",
    "# No SON -> Small head: 1, Epilepsy: 228, Hyperreflexia: 118\""
   ],
   "metadata": {
    "collapsed": false,
    "pycharm": {
     "name": "#%%\n"
    }
   }
  },
  {
   "cell_type": "markdown",
   "source": [
    "Plot all the communities."
   ],
   "metadata": {
    "collapsed": false,
    "pycharm": {
     "name": "#%% md\n"
    }
   }
  },
  {
   "cell_type": "code",
   "execution_count": null,
   "outputs": [],
   "source": [
    "def plot_communities(protein_graph: nx.Graph, communities: list, protein: str = None) -> None:\n",
    "    palette = sn.color_palette(\"tab10\", len(communities)).as_hex()\n",
    "    net = Network(width=1080, height=720)\n",
    "    node_index = dict()\n",
    "    index = 0\n",
    "    gene_community = look_for_gene_community(protein, communities)\n",
    "    if gene_community == -1:\n",
    "        raise Warning(\"Protein {0} not found, no community will be highlighted with gold\".format(protein))\n",
    "\n",
    "    for i in range(len(communities)):\n",
    "        community = communities[i]\n",
    "        color = palette[i]\n",
    "        sub_graph = protein_graph.subgraph(community)\n",
    "        for _, node in enumerate(sub_graph.nodes()):\n",
    "            node_index[node] = index\n",
    "            if node == protein:\n",
    "                net.add_node(index, label=node, size=32)\n",
    "            else:\n",
    "                net.add_node(index, label=node, size=8)\n",
    "\n",
    "            index += 1\n",
    "\n",
    "        for edge_from, edge_to in sub_graph.edges():\n",
    "            net.add_edge(node_index[edge_from], node_index[edge_to], color=color)\n",
    "\n",
    "    net.show_buttons(['physics'])\n",
    "    net.force_atlas_2based(spring_strength=0.02)\n",
    "    net.show(\"communities.html\")"
   ],
   "metadata": {
    "collapsed": false,
    "pycharm": {
     "name": "#%%\n"
    }
   }
  },
  {
   "cell_type": "code",
   "execution_count": null,
   "outputs": [],
   "source": [
    "plot_communities(protein_graph, communities, \"SON\")"
   ],
   "metadata": {
    "collapsed": false,
    "pycharm": {
     "name": "#%%\n"
    }
   }
  },
  {
   "cell_type": "markdown",
   "source": [
    "Retrieve all the genes, inside a community and belonging to a disease pathway, that interact with the starting gene."
   ],
   "metadata": {
    "collapsed": false,
    "pycharm": {
     "name": "#%% md\n"
    }
   }
  },
  {
   "cell_type": "code",
   "execution_count": null,
   "outputs": [],
   "source": [
    "def disease_genes_community_interacting_with(community_graph: nx.Graph, genes_disease: list = None, protein: str = None) -> list:\n",
    "    \"\"\"\n",
    "    Retrieve all the genes that belongs to a disease pathway that interact with the passed protein\n",
    "    :param community_graph: subgraph of the protein-to-protein network, represents the community in which the protein was found, we advise to use the look_for_gene_community() method to find such community\n",
    "    :param genes_disease: genes that belong to a disease pathway\n",
    "    :param protein: name of the protein\n",
    "    :return: list of genes, which lie inside the community, that interact with the protein and belong to the disease pathway\n",
    "    \"\"\"\n",
    "    genes_interacting = list()\n",
    "    for edge_from, edge_to in community_graph.edges():\n",
    "        if (edge_from in genes_disease or edge_to in genes_disease) and (edge_from == protein or edge_to == protein):\n",
    "            if not edge_from == protein:\n",
    "                genes_interacting.append(edge_from)\n",
    "            else:\n",
    "                genes_interacting.append(edge_to)\n",
    "\n",
    "    return genes_interacting"
   ],
   "metadata": {
    "collapsed": false,
    "pycharm": {
     "name": "#%%\n"
    }
   }
  },
  {
   "cell_type": "code",
   "execution_count": null,
   "outputs": [],
   "source": [
    "community = communities[look_for_gene_community(\"SON\", communities)]\n",
    "gene_interactions_disease = disease_genes_community_interacting_with(protein_graph.subgraph(community), diseases[228][\"genes\"], \"SON\")\n",
    "gene_interactions_disease"
   ],
   "metadata": {
    "collapsed": false,
    "pycharm": {
     "name": "#%%\n"
    }
   }
  }
 ],
 "metadata": {
  "kernelspec": {
   "display_name": "Python 3",
   "language": "python",
   "name": "python3"
  },
  "language_info": {
   "codemirror_mode": {
    "name": "ipython",
    "version": 2
   },
   "file_extension": ".py",
   "mimetype": "text/x-python",
   "name": "python",
   "nbconvert_exporter": "python",
   "pygments_lexer": "ipython2",
   "version": "2.7.6"
  }
 },
 "nbformat": 4,
 "nbformat_minor": 0
}