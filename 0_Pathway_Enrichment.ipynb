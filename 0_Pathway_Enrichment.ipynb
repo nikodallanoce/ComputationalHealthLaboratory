{
 "nbformat": 4,
 "nbformat_minor": 0,
 "metadata": {
  "colab": {
   "name": "0_Pathway_Enrichment.ipynb",
   "provenance": []
  },
  "kernelspec": {
   "name": "python3",
   "display_name": "Python 3"
  },
  "language_info": {
   "name": "python"
  }
 },
 "cells": [
  {
   "cell_type": "markdown",
   "metadata": {
    "id": "kLse5cbrtAn0",
    "pycharm": {
     "name": "#%% md\n"
    }
   },
   "source": [
    "**Computational Health Laboratory Project, A.Y. 2021/2022**\n",
    "\n",
    "**Authors:** Niko Dalla Noce, Alessandro Ristori, Andrea Zuppolini\n",
    "\n",
    "**Project:** Starting fron one or more genes, extract from interaction databases the genes they interact with. Using the expanded gene set, perform pathway analysis and obtain all disease pathways in which the genes appear. Merge the pathways to obtain a larger graph. Perform further network analysis to extract central biomarkers and communities beyond pathways. Compute a distance between the initial gene set and the various pathways (diseases)."
   ]
  },
  {
   "cell_type": "markdown",
   "metadata": {
    "id": "EnunYcRW8FBh",
    "pycharm": {
     "name": "#%% md\n"
    }
   },
   "source": [
    "# **CHL Project, Pathway Enrichment**"
   ]
  },
  {
   "cell_type": "markdown",
   "metadata": {
    "id": "VBEF2viCEfdx",
    "pycharm": {
     "name": "#%% md\n"
    }
   },
   "source": [
    "## **Colab setup**\n",
    "Takes care of the project setup on Colab."
   ]
  },
  {
   "cell_type": "code",
   "execution_count": 1,
   "metadata": {
    "id": "a5orYga8hr_f",
    "colab": {
     "base_uri": "https://localhost:8080/"
    },
    "outputId": "af8b10d2-1f8b-4ed7-c3df-db1356806b15",
    "pycharm": {
     "name": "#%%\n"
    }
   },
   "outputs": [],
   "source": [
    "if 'google.colab' in str(get_ipython()):\n",
    "    import subprocess\n",
    "    from google.colab import drive\n",
    "    out_clone = subprocess.run([\"git\", \"clone\", \"https://github.com/nikodallanoce/ComputationalHealthLaboratory\"], text=True, capture_output=True)\n",
    "    print(\"{0}{1}\".format(out_clone.stdout, out_clone.stderr))\n",
    "    %pip install -U PyYAML\n",
    "    %pip install gseapy\n",
    "    drive.mount(\"/content/drive/\")\n",
    "    %cp \"/content/drive/Shareddrives/CHL/config.yml\" \"/content/ComputationalHealthLaboratory\"\n",
    "    %cd ComputationalHealthLaboratory"
   ]
  },
  {
   "cell_type": "markdown",
   "metadata": {
    "id": "zExTy0EvuEaV",
    "pycharm": {
     "name": "#%% md\n"
    }
   },
   "source": [
    "## **Obtain all the genes that interacts with the starting one**\n",
    "Starting from a gene, retrieve its neighbours and the interactions between them.\n"
   ]
  },
  {
   "cell_type": "code",
   "execution_count": 2,
   "metadata": {
    "id": "75Qa06UWh1fE",
    "pycharm": {
     "name": "#%%\n"
    }
   },
   "outputs": [],
   "source": [
    "import requests\n",
    "import pandas as pd\n",
    "import numpy as np\n",
    "from config import ACCESS_KEY, BASE_URL"
   ]
  },
  {
   "cell_type": "code",
   "execution_count": 3,
   "metadata": {
    "id": "Nfi87h6cCgnM",
    "pycharm": {
     "name": "#%%\n"
    }
   },
   "outputs": [],
   "source": [
    "gene_interactions = pd.read_csv(\"datasets/geneset.csv\", sep=\";\")\n",
    "gene_interactions[\"InteractorA\"] = gene_interactions[\"InteractorA\"].str.upper()\n",
    "gene_interactions.drop_duplicates(inplace=True)\n",
    "proteins_list = list(gene_interactions[\"InteractorA\"])  # All the proteins that interact with our starting gene"
   ]
  },
  {
   "cell_type": "code",
   "execution_count": 4,
   "metadata": {
    "id": "ag2NAKTf5eoZ",
    "colab": {
     "base_uri": "https://localhost:8080/",
     "height": 423
    },
    "outputId": "c67d92b3-1cf5-41be-fe07-366063023c6d",
    "pycharm": {
     "name": "#%%\n"
    }
   },
   "outputs": [
    {
     "data": {
      "text/plain": "    InteractorA InteractorB\n149        NSP8         SON\n150        NSP9         SON\n151        ORF6         SON\n152        ORF8         SON\n153        CCNF         SON",
      "text/html": "<div>\n<style scoped>\n    .dataframe tbody tr th:only-of-type {\n        vertical-align: middle;\n    }\n\n    .dataframe tbody tr th {\n        vertical-align: top;\n    }\n\n    .dataframe thead th {\n        text-align: right;\n    }\n</style>\n<table border=\"1\" class=\"dataframe\">\n  <thead>\n    <tr style=\"text-align: right;\">\n      <th></th>\n      <th>InteractorA</th>\n      <th>InteractorB</th>\n    </tr>\n  </thead>\n  <tbody>\n    <tr>\n      <th>149</th>\n      <td>NSP8</td>\n      <td>SON</td>\n    </tr>\n    <tr>\n      <th>150</th>\n      <td>NSP9</td>\n      <td>SON</td>\n    </tr>\n    <tr>\n      <th>151</th>\n      <td>ORF6</td>\n      <td>SON</td>\n    </tr>\n    <tr>\n      <th>152</th>\n      <td>ORF8</td>\n      <td>SON</td>\n    </tr>\n    <tr>\n      <th>153</th>\n      <td>CCNF</td>\n      <td>SON</td>\n    </tr>\n  </tbody>\n</table>\n</div>"
     },
     "execution_count": 4,
     "metadata": {},
     "output_type": "execute_result"
    }
   ],
   "source": [
    "gene_interactions.tail()"
   ]
  },
  {
   "cell_type": "markdown",
   "metadata": {
    "id": "WSImzBkZEuWs",
    "pycharm": {
     "name": "#%% md\n"
    }
   },
   "source": [
    "## **Expand the interactions dataset**\n",
    "Expand the dataset using the proteins obtained from the previous step."
   ]
  },
  {
   "cell_type": "code",
   "execution_count": 5,
   "metadata": {
    "id": "eR1eHsQDlLrC",
    "pycharm": {
     "name": "#%%\n"
    }
   },
   "outputs": [],
   "source": [
    "request_url = BASE_URL + \"/interactions\"\n",
    "data = {}\n",
    "\n",
    "step = 5\n",
    "for i in range(0, len(proteins_list), step):\n",
    "    end = i+step\n",
    "    if end >= len(proteins_list):\n",
    "        end = len(proteins_list)\n",
    "    \n",
    "    # List of genes to search for\n",
    "    gene_list = proteins_list[i:end] # [\"SRPK2\"]\n",
    "\n",
    "    params = {\n",
    "        \"accesskey\": ACCESS_KEY,\n",
    "        \"format\": \"json\",  # Return results in TAB2 format\n",
    "        \"geneList\": \"|\".join(gene_list),  # Must be | separated\n",
    "        \"searchNames\": \"true\",  # Search against official names\n",
    "        \"includeInteractors\": \"true\",  # Set to true to get any interaction involving EITHER gene, set to false to get interactions between genes\n",
    "        \"includeInteractorInteractions\": \"false\",  # Set to true to get interactions between the geneList’s first order interactors\n",
    "        \"includeEvidence\": \"false\",  # If false \"evidenceList\" is evidence to exclude, if true \"evidenceList\" is evidence to show\n",
    "        \"selfInteractionsExcluded\": \"true\", # If true no self-interactions will be included\n",
    "    }\n",
    "\n",
    "    r = requests.get(request_url, params=params)\n",
    "    interactions = r.json()\n",
    "    \n",
    "    # Check if the interactions are more than the allowed number\n",
    "    if len(interactions)==10000:\n",
    "      assert False\n",
    "\n",
    "    # Create a hash of results by interaction identifier\n",
    "    for interaction_id, interaction in interactions.items():\n",
    "        data[interaction_id] = interaction"
   ]
  },
  {
   "cell_type": "code",
   "execution_count": 6,
   "metadata": {
    "id": "-h7TATRhnHf6",
    "colab": {
     "base_uri": "https://localhost:8080/",
     "height": 423
    },
    "outputId": "496999f9-a553-4fc4-da3c-4adedcb3c7aa",
    "pycharm": {
     "name": "#%%\n"
    }
   },
   "outputs": [
    {
     "data": {
      "text/plain": "        InteractorA InteractorB\n3305885        CCNF       ZBTB1\n3305886        CCNF       ZGPAT\n3305887        CCNF      ZNF638\n3305888        CCNF      ZNF687\n3305889        CCNF       ZWINT",
      "text/html": "<div>\n<style scoped>\n    .dataframe tbody tr th:only-of-type {\n        vertical-align: middle;\n    }\n\n    .dataframe tbody tr th {\n        vertical-align: top;\n    }\n\n    .dataframe thead th {\n        text-align: right;\n    }\n</style>\n<table border=\"1\" class=\"dataframe\">\n  <thead>\n    <tr style=\"text-align: right;\">\n      <th></th>\n      <th>InteractorA</th>\n      <th>InteractorB</th>\n    </tr>\n  </thead>\n  <tbody>\n    <tr>\n      <th>3305885</th>\n      <td>CCNF</td>\n      <td>ZBTB1</td>\n    </tr>\n    <tr>\n      <th>3305886</th>\n      <td>CCNF</td>\n      <td>ZGPAT</td>\n    </tr>\n    <tr>\n      <th>3305887</th>\n      <td>CCNF</td>\n      <td>ZNF638</td>\n    </tr>\n    <tr>\n      <th>3305888</th>\n      <td>CCNF</td>\n      <td>ZNF687</td>\n    </tr>\n    <tr>\n      <th>3305889</th>\n      <td>CCNF</td>\n      <td>ZWINT</td>\n    </tr>\n  </tbody>\n</table>\n</div>"
     },
     "execution_count": 6,
     "metadata": {},
     "output_type": "execute_result"
    }
   ],
   "source": [
    "# Load the data into a pandas dataframe\n",
    "dataset = pd.DataFrame.from_dict(data, orient=\"index\")\n",
    "\n",
    "# Re-order the columns and select only the columns we want to see\n",
    "columns = [\"OFFICIAL_SYMBOL_A\", \"OFFICIAL_SYMBOL_B\"]\n",
    "dataset = dataset[columns]\n",
    "\n",
    "# Rename the columns and make all the values uppercase\n",
    "dataset = dataset.rename(columns={\"OFFICIAL_SYMBOL_A\": \"InteractorA\", \"OFFICIAL_SYMBOL_B\": \"InteractorB\"})\n",
    "dataset[\"InteractorA\"] = dataset[\"InteractorA\"].str.upper()\n",
    "dataset[\"InteractorB\"] = dataset[\"InteractorB\"].str.upper()\n",
    "\n",
    "# Print the dataframe\n",
    "dataset.tail()"
   ]
  },
  {
   "cell_type": "markdown",
   "metadata": {
    "id": "mLu6ftTO6PFD",
    "pycharm": {
     "name": "#%% md\n"
    }
   },
   "source": [
    "Drop duplicated interactions, they're not interesting from out point of view."
   ]
  },
  {
   "cell_type": "code",
   "execution_count": 7,
   "metadata": {
    "id": "6Aso-GCJoWpq",
    "colab": {
     "base_uri": "https://localhost:8080/"
    },
    "outputId": "ce8cd4e0-4612-4558-c40a-196b88a67eb8",
    "pycharm": {
     "name": "#%%\n"
    }
   },
   "outputs": [
    {
     "name": "stdout",
     "output_type": "stream",
     "text": [
      "Duplicated interactions:\n",
      "False    79296\n",
      "True     25281\n",
      "dtype: int64\n"
     ]
    }
   ],
   "source": [
    "# Look for duplicated interactions\n",
    "duplicated_interactions = pd.DataFrame(np.sort(dataset[[\"InteractorA\", \"InteractorB\"]].values, 1)).duplicated()\n",
    "print(\"Duplicated interactions:\\n{0}\".format(duplicated_interactions.value_counts()))\n",
    "\n",
    "# Delete such interactions from the dataset\n",
    "dataset = dataset[~duplicated_interactions.values]"
   ]
  },
  {
   "cell_type": "markdown",
   "metadata": {
    "id": "p3JD2OfP6Ypd",
    "pycharm": {
     "name": "#%% md\n"
    }
   },
   "source": [
    "Drop self-loops since they're useless for our analysis."
   ]
  },
  {
   "cell_type": "code",
   "execution_count": 8,
   "metadata": {
    "id": "hVlRgo6ozI39",
    "colab": {
     "base_uri": "https://localhost:8080/"
    },
    "outputId": "41678029-0992-4c5f-da38-4c76c95571f8",
    "pycharm": {
     "name": "#%%\n"
    }
   },
   "outputs": [
    {
     "name": "stdout",
     "output_type": "stream",
     "text": [
      "Useless interactions:\n",
      "False    79283\n",
      "True        13\n",
      "dtype: int64\n"
     ]
    }
   ],
   "source": [
    "# Look for interactions where both proteins are the same\n",
    "same_proteins_interactions = pd.DataFrame(dataset[[\"InteractorA\", \"InteractorB\"]].nunique(axis=1) == 1)\n",
    "print(\"Useless interactions:\\n{0}\".format(same_proteins_interactions.value_counts()))\n",
    "\n",
    "# Delete such interactions from the dataset\n",
    "dataset = dataset[~same_proteins_interactions.values]"
   ]
  },
  {
   "cell_type": "markdown",
   "metadata": {
    "id": "suXiaPI_6hBO",
    "pycharm": {
     "name": "#%% md\n"
    }
   },
   "source": [
    "Unify the interactions from the starting gene with the ones obtained by the requests to the BioGrid dataset."
   ]
  },
  {
   "cell_type": "code",
   "execution_count": 9,
   "metadata": {
    "id": "JvZWF8Jk22o5",
    "pycharm": {
     "name": "#%%\n"
    }
   },
   "outputs": [],
   "source": [
    "dataset = pd.concat([dataset, gene_interactions])"
   ]
  },
  {
   "cell_type": "code",
   "execution_count": 10,
   "metadata": {
    "id": "V7uiZtNPvR_Y",
    "colab": {
     "base_uri": "https://localhost:8080/"
    },
    "outputId": "21e43ee7-3d85-408a-e23d-14843cfd41ef",
    "pycharm": {
     "name": "#%%\n"
    }
   },
   "outputs": [
    {
     "name": "stdout",
     "output_type": "stream",
     "text": [
      "Number of nodes: 13010\n"
     ]
    }
   ],
   "source": [
    "nodes = pd.concat([dataset[\"InteractorA\"], dataset[\"InteractorB\"]]).unique()\n",
    "print(\"Number of nodes: {0}\".format(len(nodes)))"
   ]
  },
  {
   "cell_type": "markdown",
   "source": [
    "At last, save the interactions and nodes into csv file for pathway enrichment."
   ],
   "metadata": {
    "id": "HKEVJuyGHHy-",
    "pycharm": {
     "name": "#%% md\n"
    }
   }
  },
  {
   "cell_type": "code",
   "execution_count": 11,
   "metadata": {
    "id": "EejlpWODCiwU",
    "pycharm": {
     "name": "#%%\n"
    }
   },
   "outputs": [],
   "source": [
    "# Save interactions and nodes dataset to csv\n",
    "dataset.to_csv(\"datasets/interactions.csv\")\n",
    "pd.DataFrame(nodes).to_csv(\"datasets/genes.csv\")"
   ]
  },
  {
   "cell_type": "markdown",
   "metadata": {
    "id": "ItzFqtwX5WLy",
    "pycharm": {
     "name": "#%% md\n"
    }
   },
   "source": [
    "## **Pathway enrichment**\n",
    "Find all the diseases linked to the nodes retrieved by the previous step."
   ]
  },
  {
   "cell_type": "code",
   "execution_count": 12,
   "metadata": {
    "id": "c1oUsfl0zUrb",
    "colab": {
     "base_uri": "https://localhost:8080/"
    },
    "outputId": "12e73371-cb4b-4ccc-f32c-e15ff27df424",
    "pycharm": {
     "name": "#%%\n"
    }
   },
   "outputs": [],
   "source": [
    "import gseapy as gp"
   ]
  },
  {
   "cell_type": "markdown",
   "source": [
    "List all the datasets from wich we can retrieve pathways by using the gseapy package."
   ],
   "metadata": {
    "id": "xxi1i2x1Hfbt",
    "pycharm": {
     "name": "#%% md\n"
    }
   }
  },
  {
   "cell_type": "code",
   "execution_count": 13,
   "metadata": {
    "id": "t1pzpEInKuCM",
    "colab": {
     "base_uri": "https://localhost:8080/"
    },
    "outputId": "da54e68e-9299-4be9-8964-99786b13e7ce",
    "pycharm": {
     "name": "#%%\n"
    }
   },
   "outputs": [
    {
     "data": {
      "text/plain": "['ARCHS4_Cell-lines',\n 'ARCHS4_IDG_Coexp',\n 'ARCHS4_Kinases_Coexp',\n 'ARCHS4_TFs_Coexp',\n 'ARCHS4_Tissues',\n 'Achilles_fitness_decrease',\n 'Achilles_fitness_increase',\n 'Aging_Perturbations_from_GEO_down',\n 'Aging_Perturbations_from_GEO_up',\n 'Allen_Brain_Atlas_10x_scRNA_2021',\n 'Allen_Brain_Atlas_down',\n 'Allen_Brain_Atlas_up',\n 'Azimuth_Cell_Types_2021',\n 'BioCarta_2013',\n 'BioCarta_2015',\n 'BioCarta_2016',\n 'BioPlanet_2019',\n 'BioPlex_2017',\n 'CCLE_Proteomics_2020',\n 'CORUM',\n 'COVID-19_Related_Gene_Sets',\n 'COVID-19_Related_Gene_Sets_2021',\n 'Cancer_Cell_Line_Encyclopedia',\n 'CellMarker_Augmented_2021',\n 'ChEA_2013',\n 'ChEA_2015',\n 'ChEA_2016',\n 'Chromosome_Location',\n 'Chromosome_Location_hg19',\n 'ClinVar_2019',\n 'DSigDB',\n 'Data_Acquisition_Method_Most_Popular_Genes',\n 'DepMap_WG_CRISPR_Screens_Broad_CellLines_2019',\n 'DepMap_WG_CRISPR_Screens_Sanger_CellLines_2019',\n 'Descartes_Cell_Types_and_Tissue_2021',\n 'DisGeNET',\n 'Disease_Perturbations_from_GEO_down',\n 'Disease_Perturbations_from_GEO_up',\n 'Disease_Signatures_from_GEO_down_2014',\n 'Disease_Signatures_from_GEO_up_2014',\n 'DrugMatrix',\n 'Drug_Perturbations_from_GEO_2014',\n 'Drug_Perturbations_from_GEO_down',\n 'Drug_Perturbations_from_GEO_up',\n 'ENCODE_Histone_Modifications_2013',\n 'ENCODE_Histone_Modifications_2015',\n 'ENCODE_TF_ChIP-seq_2014',\n 'ENCODE_TF_ChIP-seq_2015',\n 'ENCODE_and_ChEA_Consensus_TFs_from_ChIP-X',\n 'ESCAPE',\n 'Elsevier_Pathway_Collection',\n 'Enrichr_Libraries_Most_Popular_Genes',\n 'Enrichr_Submissions_TF-Gene_Coocurrence',\n 'Enrichr_Users_Contributed_Lists_2020',\n 'Epigenomics_Roadmap_HM_ChIP-seq',\n 'GO_Biological_Process_2013',\n 'GO_Biological_Process_2015',\n 'GO_Biological_Process_2017',\n 'GO_Biological_Process_2017b',\n 'GO_Biological_Process_2018',\n 'GO_Biological_Process_2021',\n 'GO_Cellular_Component_2013',\n 'GO_Cellular_Component_2015',\n 'GO_Cellular_Component_2017',\n 'GO_Cellular_Component_2017b',\n 'GO_Cellular_Component_2018',\n 'GO_Cellular_Component_2021',\n 'GO_Molecular_Function_2013',\n 'GO_Molecular_Function_2015',\n 'GO_Molecular_Function_2017',\n 'GO_Molecular_Function_2017b',\n 'GO_Molecular_Function_2018',\n 'GO_Molecular_Function_2021',\n 'GTEx_Aging_Signatures_2021',\n 'GTEx_Tissue_Expression_Down',\n 'GTEx_Tissue_Expression_Up',\n 'GWAS_Catalog_2019',\n 'GeneSigDB',\n 'Gene_Perturbations_from_GEO_down',\n 'Gene_Perturbations_from_GEO_up',\n 'Genes_Associated_with_NIH_Grants',\n 'Genome_Browser_PWMs',\n 'HDSigDB_Human_2021',\n 'HDSigDB_Mouse_2021',\n 'HMDB_Metabolites',\n 'HMS_LINCS_KinomeScan',\n 'HomoloGene',\n 'HuBMAP_ASCT_plus_B_augmented_w_RNAseq_Coexpression',\n 'HuBMAP_ASCTplusB_augmented_2022',\n 'HumanCyc_2015',\n 'HumanCyc_2016',\n 'Human_Gene_Atlas',\n 'Human_Phenotype_Ontology',\n 'InterPro_Domains_2019',\n 'Jensen_COMPARTMENTS',\n 'Jensen_DISEASES',\n 'Jensen_TISSUES',\n 'KEA_2013',\n 'KEA_2015',\n 'KEGG_2013',\n 'KEGG_2015',\n 'KEGG_2016',\n 'KEGG_2019_Human',\n 'KEGG_2019_Mouse',\n 'KEGG_2021_Human',\n 'Kinase_Perturbations_from_GEO_down',\n 'Kinase_Perturbations_from_GEO_up',\n 'L1000_Kinase_and_GPCR_Perturbations_down',\n 'L1000_Kinase_and_GPCR_Perturbations_up',\n 'LINCS_L1000_Chem_Pert_down',\n 'LINCS_L1000_Chem_Pert_up',\n 'LINCS_L1000_Ligand_Perturbations_down',\n 'LINCS_L1000_Ligand_Perturbations_up',\n 'Ligand_Perturbations_from_GEO_down',\n 'Ligand_Perturbations_from_GEO_up',\n 'MCF7_Perturbations_from_GEO_down',\n 'MCF7_Perturbations_from_GEO_up',\n 'MGI_Mammalian_Phenotype_2013',\n 'MGI_Mammalian_Phenotype_2017',\n 'MGI_Mammalian_Phenotype_Level_3',\n 'MGI_Mammalian_Phenotype_Level_4',\n 'MGI_Mammalian_Phenotype_Level_4_2019',\n 'MGI_Mammalian_Phenotype_Level_4_2021',\n 'MSigDB_Computational',\n 'MSigDB_Hallmark_2020',\n 'MSigDB_Oncogenic_Signatures',\n 'Microbe_Perturbations_from_GEO_down',\n 'Microbe_Perturbations_from_GEO_up',\n 'Mouse_Gene_Atlas',\n 'NCI-60_Cancer_Cell_Lines',\n 'NCI-Nature_2015',\n 'NCI-Nature_2016',\n 'NIH_Funded_PIs_2017_AutoRIF_ARCHS4_Predictions',\n 'NIH_Funded_PIs_2017_GeneRIF_ARCHS4_Predictions',\n 'NIH_Funded_PIs_2017_Human_AutoRIF',\n 'NIH_Funded_PIs_2017_Human_GeneRIF',\n 'NURSA_Human_Endogenous_Complexome',\n 'OMIM_Disease',\n 'OMIM_Expanded',\n 'Old_CMAP_down',\n 'Old_CMAP_up',\n 'Orphanet_Augmented_2021',\n 'PPI_Hub_Proteins',\n 'PanglaoDB_Augmented_2021',\n 'Panther_2015',\n 'Panther_2016',\n 'Pfam_Domains_2019',\n 'Pfam_InterPro_Domains',\n 'PheWeb_2019',\n 'PhenGenI_Association_2021',\n 'Phosphatase_Substrates_from_DEPOD',\n 'ProteomicsDB_2020',\n 'RNA-Seq_Disease_Gene_and_Drug_Signatures_from_GEO',\n 'RNAseq_Automatic_GEO_Signatures_Human_Down',\n 'RNAseq_Automatic_GEO_Signatures_Human_Up',\n 'RNAseq_Automatic_GEO_Signatures_Mouse_Down',\n 'RNAseq_Automatic_GEO_Signatures_Mouse_Up',\n 'Rare_Diseases_AutoRIF_ARCHS4_Predictions',\n 'Rare_Diseases_AutoRIF_Gene_Lists',\n 'Rare_Diseases_GeneRIF_ARCHS4_Predictions',\n 'Rare_Diseases_GeneRIF_Gene_Lists',\n 'Reactome_2013',\n 'Reactome_2015',\n 'Reactome_2016',\n 'SILAC_Phosphoproteomics',\n 'SubCell_BarCode',\n 'SysMyo_Muscle_Gene_Sets',\n 'TF-LOF_Expression_from_GEO',\n 'TF_Perturbations_Followed_by_Expression',\n 'TG_GATES_2020',\n 'TRANSFAC_and_JASPAR_PWMs',\n 'TRRUST_Transcription_Factors_2019',\n 'Table_Mining_of_CRISPR_Studies',\n 'TargetScan_microRNA',\n 'TargetScan_microRNA_2017',\n 'Tissue_Protein_Expression_from_Human_Proteome_Map',\n 'Tissue_Protein_Expression_from_ProteomicsDB',\n 'Transcription_Factor_PPIs',\n 'UK_Biobank_GWAS_v1',\n 'Virus-Host_PPI_P-HIPSTer_2020',\n 'VirusMINT',\n 'Virus_Perturbations_from_GEO_down',\n 'Virus_Perturbations_from_GEO_up',\n 'WikiPathway_2021_Human',\n 'WikiPathways_2013',\n 'WikiPathways_2015',\n 'WikiPathways_2016',\n 'WikiPathways_2019_Human',\n 'WikiPathways_2019_Mouse',\n 'dbGaP',\n 'huMAP',\n 'lncHUB_lncRNA_Co-Expression',\n 'miRTarBase_2017']"
     },
     "execution_count": 13,
     "metadata": {},
     "output_type": "execute_result"
    }
   ],
   "source": [
    "gp.get_library_name()"
   ]
  },
  {
   "cell_type": "markdown",
   "source": [
    "Obtain all the pathways connected to our nodes, for our case we are going to use the DisGeNET dataset."
   ],
   "metadata": {
    "id": "lCFCjVV6HnXE",
    "pycharm": {
     "name": "#%% md\n"
    }
   }
  },
  {
   "cell_type": "code",
   "execution_count": 14,
   "metadata": {
    "id": "0sBOTwJFImd7",
    "pycharm": {
     "name": "#%%\n"
    }
   },
   "outputs": [],
   "source": [
    "import os\n",
    "\n",
    "if os.path.exists(\"datasets/diseases_pathways.csv\"):\n",
    "    df_diseases = pd.read_csv(\"datasets/diseases_pathways.csv\", sep=\",\", index_col=0)\n",
    "else:\n",
    "    enr = gp.enrichr(gene_list=pd.DataFrame(nodes),\n",
    "                      gene_sets=['DisGeNET'],  # Datasets from the gp.get_library_name() method\n",
    "                      organism='Human',\n",
    "                      description='DEGs_up_1d',\n",
    "                      outdir='test'\n",
    "                  )\n",
    "\n",
    "    # Keep those pathways with an adjusted p-value < 0.1\n",
    "    df_diseases = enr.results[enr.results[\"Adjusted P-value\"] < 0.1][[\"Term\", \"Overlap\", \"P-value\", \"Adjusted P-value\", \"Genes\"]]"
   ]
  },
  {
   "cell_type": "markdown",
   "source": [
    "Keep those pathways with an adjusted p-value < 0.1."
   ],
   "metadata": {
    "id": "6q44ekjaIJMj",
    "pycharm": {
     "name": "#%% md\n"
    }
   }
  },
  {
   "cell_type": "code",
   "execution_count": 15,
   "metadata": {
    "id": "Kfoo4F13J1L_",
    "colab": {
     "base_uri": "https://localhost:8080/",
     "height": 206
    },
    "outputId": "fa08cde1-c01a-448e-e98e-58e6dd2b25ae",
    "pycharm": {
     "name": "#%%\n"
    }
   },
   "outputs": [
    {
     "data": {
      "text/plain": "                                      Term Overlap   P-value  \\\n584                   Chronic otitis media   55/69  0.005896   \n585  Inadequate arch length for tooth size   47/58  0.005953   \n586                         Tooth Crowding   47/58  0.005953   \n587       Tooth mass arch size discrepancy   47/58  0.005953   \n588                 Tooth size discrepancy   47/58  0.005953   \n\n     Adjusted P-value                                              Genes  \n584          0.098950  IGHM;CD81;WIPF1;FMR1;DOCK8;CHD7;JMJD1C;COMT;GT...  \n585          0.099228  AMER1;SETD5;NOTCH3;TRIO;RPL10;SATB2;GNAI3;PLOD...  \n586          0.099228  AMER1;SETD5;NOTCH3;TRIO;RPL10;SATB2;GNAI3;PLOD...  \n587          0.099228  AMER1;SETD5;NOTCH3;TRIO;RPL10;SATB2;GNAI3;PLOD...  \n588          0.099228  AMER1;SETD5;NOTCH3;TRIO;RPL10;SATB2;GNAI3;PLOD...  ",
      "text/html": "<div>\n<style scoped>\n    .dataframe tbody tr th:only-of-type {\n        vertical-align: middle;\n    }\n\n    .dataframe tbody tr th {\n        vertical-align: top;\n    }\n\n    .dataframe thead th {\n        text-align: right;\n    }\n</style>\n<table border=\"1\" class=\"dataframe\">\n  <thead>\n    <tr style=\"text-align: right;\">\n      <th></th>\n      <th>Term</th>\n      <th>Overlap</th>\n      <th>P-value</th>\n      <th>Adjusted P-value</th>\n      <th>Genes</th>\n    </tr>\n  </thead>\n  <tbody>\n    <tr>\n      <th>584</th>\n      <td>Chronic otitis media</td>\n      <td>55/69</td>\n      <td>0.005896</td>\n      <td>0.098950</td>\n      <td>IGHM;CD81;WIPF1;FMR1;DOCK8;CHD7;JMJD1C;COMT;GT...</td>\n    </tr>\n    <tr>\n      <th>585</th>\n      <td>Inadequate arch length for tooth size</td>\n      <td>47/58</td>\n      <td>0.005953</td>\n      <td>0.099228</td>\n      <td>AMER1;SETD5;NOTCH3;TRIO;RPL10;SATB2;GNAI3;PLOD...</td>\n    </tr>\n    <tr>\n      <th>586</th>\n      <td>Tooth Crowding</td>\n      <td>47/58</td>\n      <td>0.005953</td>\n      <td>0.099228</td>\n      <td>AMER1;SETD5;NOTCH3;TRIO;RPL10;SATB2;GNAI3;PLOD...</td>\n    </tr>\n    <tr>\n      <th>587</th>\n      <td>Tooth mass arch size discrepancy</td>\n      <td>47/58</td>\n      <td>0.005953</td>\n      <td>0.099228</td>\n      <td>AMER1;SETD5;NOTCH3;TRIO;RPL10;SATB2;GNAI3;PLOD...</td>\n    </tr>\n    <tr>\n      <th>588</th>\n      <td>Tooth size discrepancy</td>\n      <td>47/58</td>\n      <td>0.005953</td>\n      <td>0.099228</td>\n      <td>AMER1;SETD5;NOTCH3;TRIO;RPL10;SATB2;GNAI3;PLOD...</td>\n    </tr>\n  </tbody>\n</table>\n</div>"
     },
     "execution_count": 15,
     "metadata": {},
     "output_type": "execute_result"
    }
   ],
   "source": [
    "df_diseases.tail()"
   ]
  },
  {
   "cell_type": "markdown",
   "source": [
    "Save the pathways in a csv file just like for the interactions and nodes."
   ],
   "metadata": {
    "id": "Oxe_BnEYIP6a",
    "pycharm": {
     "name": "#%% md\n"
    }
   }
  },
  {
   "cell_type": "code",
   "execution_count": 16,
   "metadata": {
    "id": "zYcHpOy8dvXb",
    "pycharm": {
     "name": "#%%\n"
    }
   },
   "outputs": [],
   "source": [
    "df_diseases.to_csv(\"datasets/diseases_pathways.csv\")"
   ]
  }
 ]
}