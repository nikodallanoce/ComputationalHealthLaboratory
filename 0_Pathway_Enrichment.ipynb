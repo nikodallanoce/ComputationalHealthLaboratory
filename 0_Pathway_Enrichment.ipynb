{
 "nbformat": 4,
 "nbformat_minor": 0,
 "metadata": {
  "colab": {
   "name": "0_Pathway_Enrichment.ipynb",
   "provenance": []
  },
  "kernelspec": {
   "name": "python3",
   "display_name": "Python 3"
  },
  "language_info": {
   "name": "python"
  }
 },
 "cells": [
  {
   "cell_type": "markdown",
   "metadata": {
    "id": "kLse5cbrtAn0",
    "pycharm": {
     "name": "#%% md\n"
    }
   },
   "source": [
    "**Computational Health Laboratory Project, A.Y. 2021/2022**\n",
    "\n",
    "**Authors:** Niko Dalla Noce, Alessandro Ristori, Andrea Zuppolini\n",
    "\n",
    "**Project:** Starting fron one or more genes, extract from interaction databases the genes they interact with. Using the expanded gene set, perform pathway analysis and obtain all disease pathways in which the genes appear. Merge the pathways to obtain a larger graph. Perform further network analysis to extract central biomarkers and communities beyond pathways. Compute a distance between the initial gene set and the various pathways (diseases)."
   ]
  },
  {
   "cell_type": "markdown",
   "metadata": {
    "id": "EnunYcRW8FBh",
    "pycharm": {
     "name": "#%% md\n"
    }
   },
   "source": [
    "# **CHL Project, Pathway Enrichment**"
   ]
  },
  {
   "cell_type": "markdown",
   "metadata": {
    "id": "VBEF2viCEfdx",
    "pycharm": {
     "name": "#%% md\n"
    }
   },
   "source": [
    "## **Colab setup**\n",
    "Takes care of the project setup on Colab."
   ]
  },
  {
   "cell_type": "code",
   "execution_count": 1,
   "metadata": {
    "id": "a5orYga8hr_f",
    "colab": {
     "base_uri": "https://localhost:8080/"
    },
    "outputId": "af8b10d2-1f8b-4ed7-c3df-db1356806b15",
    "pycharm": {
     "name": "#%%\n"
    }
   },
   "outputs": [],
   "source": [
    "if 'google.colab' in str(get_ipython()):\n",
    "    import subprocess\n",
    "    from google.colab import drive\n",
    "    out_clone = subprocess.run([\"git\", \"clone\", \"https://github.com/nikodallanoce/ComputationalHealthLaboratory\"], text=True, capture_output=True)\n",
    "    print(\"{0}{1}\".format(out_clone.stdout, out_clone.stderr))\n",
    "    %pip install -U PyYAML\n",
    "    %pip install gseapy\n",
    "    drive.mount(\"/content/drive/\")\n",
    "    %cp \"/content/drive/Shareddrives/CHL/config.yml\" \"/content/ComputationalHealthLaboratory\"\n",
    "    %cd ComputationalHealthLaboratory"
   ]
  },
  {
   "cell_type": "markdown",
   "metadata": {
    "id": "zExTy0EvuEaV",
    "pycharm": {
     "name": "#%% md\n"
    }
   },
   "source": [
    "## **Obtain all the genes that interacts with the starting one**\n",
    "Starting from a gene, retrieve its neighbours and the interactions between them.\n"
   ]
  },
  {
   "cell_type": "code",
   "execution_count": 2,
   "metadata": {
    "id": "75Qa06UWh1fE",
    "pycharm": {
     "name": "#%%\n"
    }
   },
   "outputs": [],
   "source": [
    "import requests\n",
    "import pandas as pd\n",
    "import numpy as np\n",
    "from config import ACCESS_KEY, BASE_URL"
   ]
  },
  {
   "cell_type": "markdown",
   "source": [
    "Some utilities methods needed to create and clean the interactions dataset."
   ],
   "metadata": {
    "collapsed": false,
    "pycharm": {
     "name": "#%% md\n"
    }
   }
  },
  {
   "cell_type": "code",
   "execution_count": 3,
   "outputs": [],
   "source": [
    "def build_starting_gene_interactions(interactions_dataset: str) -> pd.DataFrame:\n",
    "    # Build the interactions dataframe, choose and rename the needed columns\n",
    "    gene_starting_interactions = pd.read_table(interactions_dataset)\n",
    "    gene_starting_interactions.rename(columns={\"Official Symbol Interactor A\": \"InteractorA\",\n",
    "                                      \"Official Symbol Interactor B\": \"InteractorB\"}, inplace=True)\n",
    "    gene_starting_interactions = gene_starting_interactions[[\"InteractorA\", \"InteractorB\"]]\n",
    "\n",
    "    # Put uppercase all the genes inside each interaction\n",
    "    gene_starting_interactions[\"InteractorA\"] = gene_starting_interactions[\"InteractorA\"].str.upper()\n",
    "    gene_starting_interactions[\"InteractorB\"] = gene_starting_interactions[\"InteractorB\"].str.upper()\n",
    "    return gene_starting_interactions\n",
    "\n",
    "\n",
    "def remove_duplicated_interactions(interactions_dataset: pd.DataFrame, verbose: bool = True) -> pd.DataFrame:\n",
    "    \"\"\"\n",
    "    Remove all the duplicated interactions from the interactions dataframe\n",
    "    :param interactions_dataset: dataframe of interactions retrieved from BioGRID\n",
    "    :param verbose: print or not the amount of removed and kept interactions\n",
    "    :return: cleaned interactions dataframe\n",
    "    \"\"\"\n",
    "    # Look for duplicated interactions\n",
    "    duplicated_interactions = pd.DataFrame(np.sort(\n",
    "        interactions_dataset[[\"InteractorA\", \"InteractorB\"]].values, 1)).duplicated()\n",
    "    if verbose:\n",
    "        print(\"Duplicated interactions:\\n{0}\".format(duplicated_interactions.value_counts()))\n",
    "\n",
    "    # Delete such interactions from the dataset\n",
    "    cleaned_interactions_dataset = interactions_dataset[~duplicated_interactions.values]\n",
    "    return cleaned_interactions_dataset\n",
    "\n",
    "\n",
    "def remove_self_loop_interactions(interactions_dataset: pd.DataFrame, verbose: bool = True) -> pd.DataFrame:\n",
    "    \"\"\"\n",
    "    Removes self-loop interactions from the interactions dataframe\n",
    "    :param interactions_dataset: dataframe of interactions retrieved from BioGRID\n",
    "    :param verbose: print or not the amount of removed and kept interactions\n",
    "    :return: cleaned interactions dataframe\n",
    "    \"\"\"\n",
    "    # Look for interactions where both proteins are the same\n",
    "    same_proteins_interactions = pd.Series(interactions_dataset[[\"InteractorA\", \"InteractorB\"]].nunique(axis=1) == 1)\n",
    "    if verbose:\n",
    "        print(\"Useless interactions:\\n{0}\".format(same_proteins_interactions.value_counts()))\n",
    "\n",
    "    # Delete such interactions from the dataset\n",
    "    cleaned_interactions_dataset = interactions_dataset[~same_proteins_interactions.values]\n",
    "    return cleaned_interactions_dataset"
   ],
   "metadata": {
    "collapsed": false,
    "pycharm": {
     "name": "#%%\n"
    }
   }
  },
  {
   "cell_type": "markdown",
   "source": [
    "We expect that you have retrieved the gene interactions from BioGRID in the tab3 format, if so, then build the pandas dataframe with the starting gene's interactions."
   ],
   "metadata": {
    "collapsed": false,
    "pycharm": {
     "name": "#%% md\n"
    }
   }
  },
  {
   "cell_type": "code",
   "execution_count": 4,
   "outputs": [
    {
     "data": {
      "text/plain": "    InteractorA InteractorB\n149        NSP8         SON\n150        NSP9         SON\n151        ORF6         SON\n152        ORF8         SON\n153        CCNF         SON",
      "text/html": "<div>\n<style scoped>\n    .dataframe tbody tr th:only-of-type {\n        vertical-align: middle;\n    }\n\n    .dataframe tbody tr th {\n        vertical-align: top;\n    }\n\n    .dataframe thead th {\n        text-align: right;\n    }\n</style>\n<table border=\"1\" class=\"dataframe\">\n  <thead>\n    <tr style=\"text-align: right;\">\n      <th></th>\n      <th>InteractorA</th>\n      <th>InteractorB</th>\n    </tr>\n  </thead>\n  <tbody>\n    <tr>\n      <th>149</th>\n      <td>NSP8</td>\n      <td>SON</td>\n    </tr>\n    <tr>\n      <th>150</th>\n      <td>NSP9</td>\n      <td>SON</td>\n    </tr>\n    <tr>\n      <th>151</th>\n      <td>ORF6</td>\n      <td>SON</td>\n    </tr>\n    <tr>\n      <th>152</th>\n      <td>ORF8</td>\n      <td>SON</td>\n    </tr>\n    <tr>\n      <th>153</th>\n      <td>CCNF</td>\n      <td>SON</td>\n    </tr>\n  </tbody>\n</table>\n</div>"
     },
     "execution_count": 4,
     "metadata": {},
     "output_type": "execute_result"
    }
   ],
   "source": [
    "starting_interactions = build_starting_gene_interactions(\"datasets/BIOGRID.tab3.txt\")\n",
    "starting_interactions.tail()"
   ],
   "metadata": {
    "collapsed": false,
    "pycharm": {
     "name": "#%%\n"
    }
   }
  },
  {
   "cell_type": "markdown",
   "source": [
    "We need to remove duplicated and self-loops interactions from the dataframe."
   ],
   "metadata": {
    "collapsed": false,
    "pycharm": {
     "name": "#%% md\n"
    }
   }
  },
  {
   "cell_type": "code",
   "execution_count": 5,
   "outputs": [
    {
     "name": "stdout",
     "output_type": "stream",
     "text": [
      "Duplicated interactions:\n",
      "False    146\n",
      "True       8\n",
      "dtype: int64\n"
     ]
    }
   ],
   "source": [
    "starting_interactions = remove_duplicated_interactions(starting_interactions)"
   ],
   "metadata": {
    "collapsed": false,
    "pycharm": {
     "name": "#%%\n"
    }
   }
  },
  {
   "cell_type": "code",
   "execution_count": 6,
   "outputs": [
    {
     "name": "stdout",
     "output_type": "stream",
     "text": [
      "Useless interactions:\n",
      "False    146\n",
      "dtype: int64\n"
     ]
    }
   ],
   "source": [
    "starting_interactions = remove_self_loop_interactions(starting_interactions)"
   ],
   "metadata": {
    "collapsed": false,
    "pycharm": {
     "name": "#%%\n"
    }
   }
  },
  {
   "cell_type": "markdown",
   "source": [
    "Save the cleaned dataframe into a csv file."
   ],
   "metadata": {
    "collapsed": false,
    "pycharm": {
     "name": "#%% md\n"
    }
   }
  },
  {
   "cell_type": "code",
   "execution_count": 21,
   "outputs": [],
   "source": [
    "starting_interactions.to_csv(\"datasets/geneset.csv\")"
   ],
   "metadata": {
    "collapsed": false,
    "pycharm": {
     "name": "#%%\n"
    }
   }
  },
  {
   "cell_type": "markdown",
   "source": [
    "Obtain all the proteins that interact with our starting gene."
   ],
   "metadata": {
    "collapsed": false,
    "pycharm": {
     "name": "#%% md\n"
    }
   }
  },
  {
   "cell_type": "code",
   "execution_count": 8,
   "outputs": [],
   "source": [
    "proteins_list = set(starting_interactions[\"InteractorA\"])\n",
    "proteins_list.update(starting_interactions[\"InteractorB\"])\n",
    "proteins_list.remove(\"SON\")  # Do not consider the starting gene\n",
    "proteins_list = list(proteins_list)"
   ],
   "metadata": {
    "collapsed": false,
    "pycharm": {
     "name": "#%%\n"
    }
   }
  },
  {
   "cell_type": "markdown",
   "metadata": {
    "id": "WSImzBkZEuWs",
    "pycharm": {
     "name": "#%% md\n"
    }
   },
   "source": [
    "## **Expand the interactions dataset**\n",
    "Expand the dataset using the proteins obtained from the previous step."
   ]
  },
  {
   "cell_type": "code",
   "execution_count": 9,
   "metadata": {
    "id": "eR1eHsQDlLrC",
    "pycharm": {
     "name": "#%%\n"
    }
   },
   "outputs": [],
   "source": [
    "request_url = BASE_URL + \"/interactions\"\n",
    "data = {}\n",
    "\n",
    "step = 5\n",
    "for i in range(0, len(proteins_list), step):\n",
    "    end = i+step\n",
    "    if end >= len(proteins_list):\n",
    "        end = len(proteins_list)\n",
    "    \n",
    "    # List of genes to search for\n",
    "    gene_list = proteins_list[i:end] # [\"SRPK2\"]\n",
    "\n",
    "    params = {\n",
    "        \"accesskey\": ACCESS_KEY,\n",
    "        \"format\": \"json\",  # Return results in TAB2 format\n",
    "        \"geneList\": \"|\".join(gene_list),  # Must be | separated\n",
    "        \"searchNames\": \"true\",  # Search against official names\n",
    "        \"includeInteractors\": \"true\",  # Set to true to get any interaction involving EITHER gene, set to false to get interactions between genes\n",
    "        \"includeInteractorInteractions\": \"false\",  # Set to true to get interactions between the geneList’s first order interactors\n",
    "        \"includeEvidence\": \"false\",  # If false \"evidenceList\" is evidence to exclude, if true \"evidenceList\" is evidence to show\n",
    "        \"selfInteractionsExcluded\": \"true\", # If true no self-interactions will be included\n",
    "    }\n",
    "\n",
    "    r = requests.get(request_url, params=params)\n",
    "    interactions = r.json()\n",
    "    \n",
    "    # Check if the interactions are more than the allowed number\n",
    "    if len(interactions)==10000:\n",
    "      assert False\n",
    "\n",
    "    # Create a hash of results by interaction identifier\n",
    "    for interaction_id, interaction in interactions.items():\n",
    "        data[interaction_id] = interaction"
   ]
  },
  {
   "cell_type": "code",
   "execution_count": 10,
   "metadata": {
    "id": "-h7TATRhnHf6",
    "colab": {
     "base_uri": "https://localhost:8080/",
     "height": 423
    },
    "outputId": "496999f9-a553-4fc4-da3c-4adedcb3c7aa",
    "pycharm": {
     "name": "#%%\n"
    }
   },
   "outputs": [
    {
     "data": {
      "text/plain": "        InteractorA InteractorB\n3204002      YTHDF1        CLK2\n3204091        RBM6        CLK2\n3204238       AP2M1        CLK2\n3204416        CLK2       UBE2I\n3205088      MRPS21        CLK2",
      "text/html": "<div>\n<style scoped>\n    .dataframe tbody tr th:only-of-type {\n        vertical-align: middle;\n    }\n\n    .dataframe tbody tr th {\n        vertical-align: top;\n    }\n\n    .dataframe thead th {\n        text-align: right;\n    }\n</style>\n<table border=\"1\" class=\"dataframe\">\n  <thead>\n    <tr style=\"text-align: right;\">\n      <th></th>\n      <th>InteractorA</th>\n      <th>InteractorB</th>\n    </tr>\n  </thead>\n  <tbody>\n    <tr>\n      <th>3204002</th>\n      <td>YTHDF1</td>\n      <td>CLK2</td>\n    </tr>\n    <tr>\n      <th>3204091</th>\n      <td>RBM6</td>\n      <td>CLK2</td>\n    </tr>\n    <tr>\n      <th>3204238</th>\n      <td>AP2M1</td>\n      <td>CLK2</td>\n    </tr>\n    <tr>\n      <th>3204416</th>\n      <td>CLK2</td>\n      <td>UBE2I</td>\n    </tr>\n    <tr>\n      <th>3205088</th>\n      <td>MRPS21</td>\n      <td>CLK2</td>\n    </tr>\n  </tbody>\n</table>\n</div>"
     },
     "execution_count": 10,
     "metadata": {},
     "output_type": "execute_result"
    }
   ],
   "source": [
    "# Load the data into a pandas dataframe\n",
    "dataset = pd.DataFrame.from_dict(data, orient=\"index\")\n",
    "\n",
    "# Re-order the columns and select only the columns we want to see\n",
    "columns = [\"OFFICIAL_SYMBOL_A\", \"OFFICIAL_SYMBOL_B\"]\n",
    "dataset = dataset[columns]\n",
    "\n",
    "# Rename the columns and make all the values uppercase\n",
    "dataset = dataset.rename(columns={\"OFFICIAL_SYMBOL_A\": \"InteractorA\", \"OFFICIAL_SYMBOL_B\": \"InteractorB\"})\n",
    "dataset[\"InteractorA\"] = dataset[\"InteractorA\"].str.upper()\n",
    "dataset[\"InteractorB\"] = dataset[\"InteractorB\"].str.upper()\n",
    "\n",
    "# Print the dataframe\n",
    "dataset.tail()"
   ]
  },
  {
   "cell_type": "markdown",
   "metadata": {
    "id": "mLu6ftTO6PFD",
    "pycharm": {
     "name": "#%% md\n"
    }
   },
   "source": [
    "Drop duplicated interactions, they're not interesting from out point of view."
   ]
  },
  {
   "cell_type": "code",
   "execution_count": 11,
   "outputs": [
    {
     "name": "stdout",
     "output_type": "stream",
     "text": [
      "Duplicated interactions:\n",
      "False    79296\n",
      "True     25281\n",
      "dtype: int64\n"
     ]
    }
   ],
   "source": [
    "dataset = remove_duplicated_interactions(dataset)"
   ],
   "metadata": {
    "collapsed": false,
    "pycharm": {
     "name": "#%%\n"
    }
   }
  },
  {
   "cell_type": "markdown",
   "metadata": {
    "id": "p3JD2OfP6Ypd",
    "pycharm": {
     "name": "#%% md\n"
    }
   },
   "source": [
    "Drop self-loops since they're useless for our analysis."
   ]
  },
  {
   "cell_type": "code",
   "execution_count": 12,
   "outputs": [
    {
     "name": "stdout",
     "output_type": "stream",
     "text": [
      "Useless interactions:\n",
      "False    79283\n",
      "True        13\n",
      "dtype: int64\n"
     ]
    }
   ],
   "source": [
    "dataset = remove_self_loop_interactions(dataset)"
   ],
   "metadata": {
    "collapsed": false,
    "pycharm": {
     "name": "#%%\n"
    }
   }
  },
  {
   "cell_type": "markdown",
   "metadata": {
    "id": "suXiaPI_6hBO",
    "pycharm": {
     "name": "#%% md\n"
    }
   },
   "source": [
    "Unify the interactions from the starting gene with the ones obtained by the requests to the BioGrid dataset."
   ]
  },
  {
   "cell_type": "code",
   "execution_count": 13,
   "metadata": {
    "id": "JvZWF8Jk22o5",
    "pycharm": {
     "name": "#%%\n"
    }
   },
   "outputs": [],
   "source": [
    "dataset = pd.concat([dataset, starting_interactions])"
   ]
  },
  {
   "cell_type": "code",
   "execution_count": 14,
   "metadata": {
    "id": "V7uiZtNPvR_Y",
    "colab": {
     "base_uri": "https://localhost:8080/"
    },
    "outputId": "21e43ee7-3d85-408a-e23d-14843cfd41ef",
    "pycharm": {
     "name": "#%%\n"
    }
   },
   "outputs": [
    {
     "name": "stdout",
     "output_type": "stream",
     "text": [
      "Number of nodes: 13010\n"
     ]
    }
   ],
   "source": [
    "nodes = pd.concat([dataset[\"InteractorA\"], dataset[\"InteractorB\"]]).unique()\n",
    "print(\"Number of nodes: {0}\".format(len(nodes)))"
   ]
  },
  {
   "cell_type": "markdown",
   "source": [
    "At last, save the interactions and nodes into csv file for pathway enrichment."
   ],
   "metadata": {
    "id": "HKEVJuyGHHy-",
    "pycharm": {
     "name": "#%% md\n"
    }
   }
  },
  {
   "cell_type": "code",
   "execution_count": 15,
   "metadata": {
    "id": "EejlpWODCiwU",
    "pycharm": {
     "name": "#%%\n"
    }
   },
   "outputs": [],
   "source": [
    "# Save interactions and nodes dataset to csv\n",
    "dataset.to_csv(\"datasets/interactions.csv\")\n",
    "pd.DataFrame(nodes).to_csv(\"datasets/genes.csv\")"
   ]
  },
  {
   "cell_type": "markdown",
   "metadata": {
    "id": "ItzFqtwX5WLy",
    "pycharm": {
     "name": "#%% md\n"
    }
   },
   "source": [
    "## **Pathway enrichment**\n",
    "Find all the diseases linked to the nodes retrieved by the previous step."
   ]
  },
  {
   "cell_type": "code",
   "execution_count": 16,
   "metadata": {
    "id": "c1oUsfl0zUrb",
    "colab": {
     "base_uri": "https://localhost:8080/"
    },
    "outputId": "12e73371-cb4b-4ccc-f32c-e15ff27df424",
    "pycharm": {
     "name": "#%%\n"
    }
   },
   "outputs": [],
   "source": [
    "import gseapy as gp"
   ]
  },
  {
   "cell_type": "markdown",
   "source": [
    "Obtain all the pathways connected to our nodes, for our case we are going to use the DisGeNET dataset."
   ],
   "metadata": {
    "id": "lCFCjVV6HnXE",
    "pycharm": {
     "name": "#%% md\n"
    }
   }
  },
  {
   "cell_type": "code",
   "execution_count": 17,
   "metadata": {
    "id": "0sBOTwJFImd7",
    "pycharm": {
     "name": "#%%\n"
    }
   },
   "outputs": [],
   "source": [
    "import os\n",
    "\n",
    "if os.path.exists(\"datasets/diseases_pathways.csv\"):\n",
    "    df_diseases = pd.read_csv(\"datasets/diseases_pathways.csv\", sep=\",\", index_col=0)\n",
    "else:\n",
    "    enr = gp.enrichr(gene_list=pd.DataFrame(nodes),\n",
    "                      gene_sets=['DisGeNET'],  # Datasets from the gp.get_library_name() method\n",
    "                      organism='Human',\n",
    "                      description='DEGs_up_1d',\n",
    "                      outdir='test'\n",
    "                  )\n",
    "\n",
    "    # Keep those pathways with an adjusted p-value < 0.1\n",
    "    df_diseases = enr.results[enr.results[\"Adjusted P-value\"] < 0.1][[\"Term\", \"Overlap\", \"P-value\", \"Adjusted P-value\", \"Genes\"]]"
   ]
  },
  {
   "cell_type": "markdown",
   "source": [
    "Keep those pathways with an adjusted p-value < 0.1."
   ],
   "metadata": {
    "id": "6q44ekjaIJMj",
    "pycharm": {
     "name": "#%% md\n"
    }
   }
  },
  {
   "cell_type": "code",
   "execution_count": 18,
   "metadata": {
    "id": "Kfoo4F13J1L_",
    "colab": {
     "base_uri": "https://localhost:8080/",
     "height": 206
    },
    "outputId": "fa08cde1-c01a-448e-e98e-58e6dd2b25ae",
    "pycharm": {
     "name": "#%%\n"
    }
   },
   "outputs": [
    {
     "data": {
      "text/plain": "                                      Term Overlap   P-value  \\\n584                   Chronic otitis media   55/69  0.005896   \n585  Inadequate arch length for tooth size   47/58  0.005953   \n586                         Tooth Crowding   47/58  0.005953   \n587       Tooth mass arch size discrepancy   47/58  0.005953   \n588                 Tooth size discrepancy   47/58  0.005953   \n\n     Adjusted P-value                                              Genes  \n584          0.098950  IGHM;CD81;WIPF1;FMR1;DOCK8;CHD7;JMJD1C;COMT;GT...  \n585          0.099228  AMER1;SETD5;NOTCH3;TRIO;RPL10;SATB2;GNAI3;PLOD...  \n586          0.099228  AMER1;SETD5;NOTCH3;TRIO;RPL10;SATB2;GNAI3;PLOD...  \n587          0.099228  AMER1;SETD5;NOTCH3;TRIO;RPL10;SATB2;GNAI3;PLOD...  \n588          0.099228  AMER1;SETD5;NOTCH3;TRIO;RPL10;SATB2;GNAI3;PLOD...  ",
      "text/html": "<div>\n<style scoped>\n    .dataframe tbody tr th:only-of-type {\n        vertical-align: middle;\n    }\n\n    .dataframe tbody tr th {\n        vertical-align: top;\n    }\n\n    .dataframe thead th {\n        text-align: right;\n    }\n</style>\n<table border=\"1\" class=\"dataframe\">\n  <thead>\n    <tr style=\"text-align: right;\">\n      <th></th>\n      <th>Term</th>\n      <th>Overlap</th>\n      <th>P-value</th>\n      <th>Adjusted P-value</th>\n      <th>Genes</th>\n    </tr>\n  </thead>\n  <tbody>\n    <tr>\n      <th>584</th>\n      <td>Chronic otitis media</td>\n      <td>55/69</td>\n      <td>0.005896</td>\n      <td>0.098950</td>\n      <td>IGHM;CD81;WIPF1;FMR1;DOCK8;CHD7;JMJD1C;COMT;GT...</td>\n    </tr>\n    <tr>\n      <th>585</th>\n      <td>Inadequate arch length for tooth size</td>\n      <td>47/58</td>\n      <td>0.005953</td>\n      <td>0.099228</td>\n      <td>AMER1;SETD5;NOTCH3;TRIO;RPL10;SATB2;GNAI3;PLOD...</td>\n    </tr>\n    <tr>\n      <th>586</th>\n      <td>Tooth Crowding</td>\n      <td>47/58</td>\n      <td>0.005953</td>\n      <td>0.099228</td>\n      <td>AMER1;SETD5;NOTCH3;TRIO;RPL10;SATB2;GNAI3;PLOD...</td>\n    </tr>\n    <tr>\n      <th>587</th>\n      <td>Tooth mass arch size discrepancy</td>\n      <td>47/58</td>\n      <td>0.005953</td>\n      <td>0.099228</td>\n      <td>AMER1;SETD5;NOTCH3;TRIO;RPL10;SATB2;GNAI3;PLOD...</td>\n    </tr>\n    <tr>\n      <th>588</th>\n      <td>Tooth size discrepancy</td>\n      <td>47/58</td>\n      <td>0.005953</td>\n      <td>0.099228</td>\n      <td>AMER1;SETD5;NOTCH3;TRIO;RPL10;SATB2;GNAI3;PLOD...</td>\n    </tr>\n  </tbody>\n</table>\n</div>"
     },
     "execution_count": 18,
     "metadata": {},
     "output_type": "execute_result"
    }
   ],
   "source": [
    "df_diseases.tail()"
   ]
  },
  {
   "cell_type": "markdown",
   "source": [
    "Save the pathways in a csv file just like for the interactions and nodes."
   ],
   "metadata": {
    "id": "Oxe_BnEYIP6a",
    "pycharm": {
     "name": "#%% md\n"
    }
   }
  },
  {
   "cell_type": "code",
   "execution_count": 19,
   "metadata": {
    "id": "zYcHpOy8dvXb",
    "pycharm": {
     "name": "#%%\n"
    }
   },
   "outputs": [],
   "source": [
    "df_diseases.to_csv(\"datasets/diseases_pathways.csv\")"
   ]
  }
 ]
}