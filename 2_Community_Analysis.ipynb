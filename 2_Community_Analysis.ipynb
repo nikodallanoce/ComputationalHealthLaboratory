{
 "cells": [
  {
   "cell_type": "markdown",
   "source": [
    "**Computational Health Laboratory Project, A.Y. 2021/2022**\n",
    "\n",
    "**Authors:** Niko Dalla Noce, Alessandro Ristori, Andrea Zuppolini\n",
    "\n",
    "**Project:** Starting fron one or more genes, extract from interaction databases the genes they interact with. Using the expanded gene set, perform pathway analysis and obtain all disease pathways in which the genes appear. Merge the pathways to obtain a larger graph. Perform further network analysis to extract central biomarkers and communities beyond pathways. Compute a distance between the initial gene set and the various pathways (diseases)."
   ],
   "metadata": {
    "collapsed": false,
    "pycharm": {
     "name": "#%% md\n"
    }
   }
  },
  {
   "cell_type": "markdown",
   "source": [
    "# **CHL Project, Community Analysis**"
   ],
   "metadata": {
    "collapsed": false,
    "pycharm": {
     "name": "#%% md\n"
    }
   }
  },
  {
   "cell_type": "markdown",
   "source": [
    "## **Colab setup**\n",
    "Takes care of the project setup on Colab."
   ],
   "metadata": {
    "collapsed": false,
    "pycharm": {
     "name": "#%% md\n"
    }
   }
  },
  {
   "cell_type": "code",
   "execution_count": 2,
   "outputs": [],
   "source": [
    "if 'google.colab' in str(get_ipython()):\n",
    "    import subprocess\n",
    "    out_clone = subprocess.run([\"git\", \"clone\", \"https://github.com/nikodallanoce/ComputationalHealthLaboratory\"], text=True, capture_output=True)\n",
    "    print(\"{0}{1}\".format(out_clone.stdout, out_clone.stderr))\n",
    "    %cd ComputationalHealthLaboratory"
   ],
   "metadata": {
    "collapsed": false,
    "pycharm": {
     "name": "#%%\n"
    }
   }
  },
  {
   "cell_type": "markdown",
   "source": [
    "## **Community analysis**\n",
    "Find the communities inside the graph and look how the one in which the starting gene fell is connected to the various diseases."
   ],
   "metadata": {
    "collapsed": false,
    "pycharm": {
     "name": "#%% md\n"
    }
   }
  },
  {
   "cell_type": "code",
   "execution_count": 3,
   "outputs": [],
   "source": [
    "import pandas as pd\n",
    "import numpy as np\n",
    "import networkx as nx\n",
    "\n",
    "def intersection(lst1, lst2):\n",
    "    inters = list()\n",
    "    if not (len(lst1) == 0 or len(lst2) == 0):\n",
    "        set1 = set(lst1)\n",
    "        inters = [elem for elem in lst2 if elem in set1]\n",
    "    return inters"
   ],
   "metadata": {
    "collapsed": false,
    "pycharm": {
     "name": "#%%\n"
    }
   }
  },
  {
   "cell_type": "markdown",
   "source": [
    "We assume that you have already done pathway enrichment on notebook and network analysis on **0_Pathway_Enrichment** and **1_Network_Analysis** and, therefore, all the datasets needed here are available. If so, then load everything."
   ],
   "metadata": {
    "collapsed": false,
    "pycharm": {
     "name": "#%% md\n"
    }
   }
  },
  {
   "cell_type": "code",
   "execution_count": 4,
   "outputs": [],
   "source": [
    "df_diseases = pd.read_csv(\"datasets/diseases_pathways.csv\", sep=\",\", index_col=0)\n",
    "protein_graph = nx.read_gpickle(\"datasets/protein_graph.gpickle\")\n",
    "diseases = dict()\n",
    "for i, disease in df_diseases.iterrows():\n",
    "    disease_genes = disease['Genes'].split(\";\")\n",
    "    term = disease['Term']\n",
    "    diseases[i] = {\"name\": term, \"genes\": disease_genes}"
   ],
   "metadata": {
    "collapsed": false,
    "pycharm": {
     "name": "#%%\n"
    }
   }
  },
  {
   "cell_type": "markdown",
   "source": [
    "Find all the communities with the Louvain method (beware that is not deterministic) and discard those with only one node inside."
   ],
   "metadata": {
    "collapsed": false,
    "pycharm": {
     "name": "#%% md\n"
    }
   }
  },
  {
   "cell_type": "code",
   "execution_count": 5,
   "outputs": [],
   "source": [
    "louvain_communities = list(nx.algorithms.community.louvain_communities(protein_graph))\n",
    "communities = [community for community in louvain_communities if len(community) > 1]  # Discard those communities with one node"
   ],
   "metadata": {
    "collapsed": false,
    "pycharm": {
     "name": "#%%\n"
    }
   }
  },
  {
   "cell_type": "code",
   "execution_count": 6,
   "outputs": [
    {
     "name": "stdout",
     "output_type": "stream",
     "text": [
      "Number of communities: 9\n"
     ]
    }
   ],
   "source": [
    "print(\"Number of communities: {0}\".format(len(communities)))"
   ],
   "metadata": {
    "collapsed": false,
    "pycharm": {
     "name": "#%%\n"
    }
   }
  },
  {
   "cell_type": "markdown",
   "source": [
    "Compute the mean number of nodes of those communities kept after the pruning on their size."
   ],
   "metadata": {
    "collapsed": false,
    "pycharm": {
     "name": "#%% md\n"
    }
   }
  },
  {
   "cell_type": "code",
   "execution_count": 7,
   "outputs": [],
   "source": [
    "def mean_size_communities(communities: list) -> float:\n",
    "    mean_size = 0\n",
    "    for community in communities:\n",
    "        mean_size += len(community)\n",
    "\n",
    "    mean_size /= len(communities)\n",
    "    return mean_size"
   ],
   "metadata": {
    "collapsed": false,
    "pycharm": {
     "name": "#%%\n"
    }
   }
  },
  {
   "cell_type": "code",
   "execution_count": 8,
   "outputs": [
    {
     "name": "stdout",
     "output_type": "stream",
     "text": [
      "Mean size of communities: 681.1111111111111\n"
     ]
    }
   ],
   "source": [
    "print(\"Mean size of communities: {0}\".format(str(mean_size_communities(communities))))"
   ],
   "metadata": {
    "collapsed": false,
    "pycharm": {
     "name": "#%%\n"
    }
   }
  },
  {
   "cell_type": "markdown",
   "source": [
    "Compute the number of diseases in a community."
   ],
   "metadata": {
    "collapsed": false,
    "pycharm": {
     "name": "#%% md\n"
    }
   }
  },
  {
   "cell_type": "code",
   "execution_count": 9,
   "outputs": [],
   "source": [
    "def diseases_in_community(protein_graph: nx.Graph, community: set) -> set:\n",
    "    diseases_community = set()\n",
    "    for protein in list(community):\n",
    "        diseases_protein = protein_graph.nodes[protein][\"diseases\"]\n",
    "        diseases_community.update(diseases_protein)\n",
    "\n",
    "    return diseases_community"
   ],
   "metadata": {
    "collapsed": false,
    "pycharm": {
     "name": "#%%\n"
    }
   }
  },
  {
   "cell_type": "code",
   "execution_count": 10,
   "outputs": [
    {
     "name": "stdout",
     "output_type": "stream",
     "text": [
      "Number of diseases in community 5: 575\n"
     ]
    }
   ],
   "source": [
    "diseases_comm = diseases_in_community(protein_graph, communities[5])\n",
    "print(\"Number of diseases in community {0}: {1}\".format(5, len(diseases_comm)))"
   ],
   "metadata": {
    "collapsed": false,
    "pycharm": {
     "name": "#%%\n"
    }
   }
  },
  {
   "cell_type": "markdown",
   "source": [
    "Let’s also see how many disease, on average, where linked to those communities with only one node."
   ],
   "metadata": {
    "collapsed": false,
    "pycharm": {
     "name": "#%% md\n"
    }
   }
  },
  {
   "cell_type": "code",
   "execution_count": 11,
   "outputs": [],
   "source": [
    "def mean_diseases_communities_size_n(communities: list, protein_graph: nx.Graph, n: int = 1) -> float:\n",
    "    mean_diseases = 0\n",
    "    n_size_commmunities = 0\n",
    "    for community in communities:\n",
    "        community = list(community)\n",
    "        if len(community) == n:\n",
    "            protein = community[0]\n",
    "            protein_diseases = protein_graph.nodes[protein]['diseases']\n",
    "            n_size_commmunities += 1\n",
    "            mean_diseases += len(protein_diseases)\n",
    "\n",
    "    if n_size_commmunities == 0:\n",
    "        print(\"There are no communities with {0} nodes\".format(n))\n",
    "    else:\n",
    "        mean_diseases /= n_size_commmunities\n",
    "\n",
    "    return mean_diseases"
   ],
   "metadata": {
    "collapsed": false,
    "pycharm": {
     "name": "#%%\n"
    }
   }
  },
  {
   "cell_type": "code",
   "execution_count": 12,
   "outputs": [
    {
     "name": "stdout",
     "output_type": "stream",
     "text": [
      "Mean diseases for those communities with one node: 2.2324127906976745\n"
     ]
    }
   ],
   "source": [
    "mean_diseases_one_node = mean_diseases_communities_size_n(louvain_communities, protein_graph)\n",
    "print(\"Mean diseases for those communities with one node: {0}\".format(str(mean_diseases_one_node)))"
   ],
   "metadata": {
    "collapsed": false,
    "pycharm": {
     "name": "#%%\n"
    }
   }
  },
  {
   "cell_type": "markdown",
   "source": [
    "At last compute the mean number of nodes for the diseases."
   ],
   "metadata": {
    "collapsed": false,
    "pycharm": {
     "name": "#%% md\n"
    }
   }
  },
  {
   "cell_type": "code",
   "execution_count": 13,
   "outputs": [],
   "source": [
    "def mean_genes_diseases(diseases: dict) -> float:\n",
    "    mean_size = 0\n",
    "    for _, disease in diseases.items():\n",
    "        mean_size += len(disease['genes'])\n",
    "\n",
    "    mean_size /= len(diseases.keys())\n",
    "    return mean_size"
   ],
   "metadata": {
    "collapsed": false,
    "pycharm": {
     "name": "#%%\n"
    }
   }
  },
  {
   "cell_type": "code",
   "execution_count": 14,
   "outputs": [
    {
     "name": "stdout",
     "output_type": "stream",
     "text": [
      "Mean number of genes for disease: 246.55857385398983\n"
     ]
    }
   ],
   "source": [
    "print(\"Mean number of genes for disease: {0}\".format(mean_genes_diseases(diseases)))"
   ],
   "metadata": {
    "collapsed": false,
    "pycharm": {
     "name": "#%%\n"
    }
   }
  },
  {
   "cell_type": "markdown",
   "source": [
    "Let's see if the communities do not share any nodes."
   ],
   "metadata": {
    "collapsed": false,
    "pycharm": {
     "name": "#%% md\n"
    }
   }
  },
  {
   "cell_type": "code",
   "execution_count": 15,
   "outputs": [],
   "source": [
    "def are_communities_distinct(communities: list) -> bool:\n",
    "    for i, first_community in enumerate(communities):\n",
    "        for j in range(i+1, len(communities)):\n",
    "            second_community = communities[j]\n",
    "            if len(intersection(first_community, second_community))>0:\n",
    "                return False\n",
    "\n",
    "    return True"
   ],
   "metadata": {
    "collapsed": false,
    "pycharm": {
     "name": "#%%\n"
    }
   }
  },
  {
   "cell_type": "code",
   "execution_count": 16,
   "outputs": [
    {
     "data": {
      "text/plain": "True"
     },
     "execution_count": 16,
     "metadata": {},
     "output_type": "execute_result"
    }
   ],
   "source": [
    "are_communities_distinct(communities)"
   ],
   "metadata": {
    "collapsed": false,
    "pycharm": {
     "name": "#%%\n"
    }
   }
  },
  {
   "cell_type": "markdown",
   "source": [
    "Compute how many proteins are shared between each community and disease."
   ],
   "metadata": {
    "collapsed": false,
    "pycharm": {
     "name": "#%% md\n"
    }
   }
  },
  {
   "cell_type": "code",
   "execution_count": 17,
   "outputs": [],
   "source": [
    "def communities_metrics(communities: list, diseases: dict) -> pd.DataFrame:\n",
    "    df_ranks = list()\n",
    "    for i, community in enumerate(communities):\n",
    "        tot_genes = dict()\n",
    "        shared_genes = dict()\n",
    "        for k, disease in diseases.items():\n",
    "            genes = disease['genes']\n",
    "            shared_genes_community = intersection(genes, community)\n",
    "            tot_genes[k] = len(genes)\n",
    "            shared_genes[k] = len(shared_genes_community)\n",
    "\n",
    "        for j in range(len(tot_genes)):\n",
    "            n_genes, n_shared_genes = tot_genes[j], shared_genes[j]\n",
    "            if n_shared_genes > 1:\n",
    "                df_ranks.append({\"Community\": i, \"Disease\": diseases[j]['name'], \"Shared genes\": n_shared_genes,\n",
    "                                 \"Disease genes\": n_genes, \"Community size\": len(community)})\n",
    "\n",
    "    df_ranks = pd.DataFrame(df_ranks)\n",
    "\n",
    "    # Ratio of the shared genes (between community and disease pathway) and the number of genes in the disease\n",
    "    df_ranks[\"Ratio disease\"] = df_ranks['Shared genes'] / df_ranks['Disease genes']\n",
    "\n",
    "    # Ratio of the shared genes (between community and disease pathway) and the size of the community\n",
    "    df_ranks['Ratio community'] = df_ranks[\"Shared genes\"] / df_ranks[\"Community size\"]\n",
    "\n",
    "    # Relevance of the  based on the previous computed metrics\n",
    "    df_ranks[\"Relevance\"] = df_ranks[\"Ratio disease\"] * df_ranks[\"Ratio community\"]\n",
    "    return df_ranks"
   ],
   "metadata": {
    "collapsed": false,
    "pycharm": {
     "name": "#%%\n"
    }
   }
  },
  {
   "cell_type": "code",
   "execution_count": 18,
   "outputs": [
    {
     "data": {
      "text/plain": "      Community                 Disease  Shared genes  Disease genes  \\\n560           0  Tooth size discrepancy             4             47   \n1109          1  Tooth size discrepancy             3             47   \n1667          2  Tooth size discrepancy             5             47   \n2244          3  Tooth size discrepancy             9             47   \n2762          4  Tooth size discrepancy             2             47   \n3881          6  Tooth size discrepancy            12             47   \n4748          8  Tooth size discrepancy             4             47   \n\n      Community size  Ratio disease  Ratio community  Relevance  \n560              988       0.085106         0.004049   0.000345  \n1109             899       0.063830         0.003337   0.000213  \n1667             805       0.106383         0.006211   0.000661  \n2244            1100       0.191489         0.008182   0.001567  \n2762             504       0.042553         0.003968   0.000169  \n3881             483       0.255319         0.024845   0.006343  \n4748             824       0.085106         0.004854   0.000413  ",
      "text/html": "<div>\n<style scoped>\n    .dataframe tbody tr th:only-of-type {\n        vertical-align: middle;\n    }\n\n    .dataframe tbody tr th {\n        vertical-align: top;\n    }\n\n    .dataframe thead th {\n        text-align: right;\n    }\n</style>\n<table border=\"1\" class=\"dataframe\">\n  <thead>\n    <tr style=\"text-align: right;\">\n      <th></th>\n      <th>Community</th>\n      <th>Disease</th>\n      <th>Shared genes</th>\n      <th>Disease genes</th>\n      <th>Community size</th>\n      <th>Ratio disease</th>\n      <th>Ratio community</th>\n      <th>Relevance</th>\n    </tr>\n  </thead>\n  <tbody>\n    <tr>\n      <th>560</th>\n      <td>0</td>\n      <td>Tooth size discrepancy</td>\n      <td>4</td>\n      <td>47</td>\n      <td>988</td>\n      <td>0.085106</td>\n      <td>0.004049</td>\n      <td>0.000345</td>\n    </tr>\n    <tr>\n      <th>1109</th>\n      <td>1</td>\n      <td>Tooth size discrepancy</td>\n      <td>3</td>\n      <td>47</td>\n      <td>899</td>\n      <td>0.063830</td>\n      <td>0.003337</td>\n      <td>0.000213</td>\n    </tr>\n    <tr>\n      <th>1667</th>\n      <td>2</td>\n      <td>Tooth size discrepancy</td>\n      <td>5</td>\n      <td>47</td>\n      <td>805</td>\n      <td>0.106383</td>\n      <td>0.006211</td>\n      <td>0.000661</td>\n    </tr>\n    <tr>\n      <th>2244</th>\n      <td>3</td>\n      <td>Tooth size discrepancy</td>\n      <td>9</td>\n      <td>47</td>\n      <td>1100</td>\n      <td>0.191489</td>\n      <td>0.008182</td>\n      <td>0.001567</td>\n    </tr>\n    <tr>\n      <th>2762</th>\n      <td>4</td>\n      <td>Tooth size discrepancy</td>\n      <td>2</td>\n      <td>47</td>\n      <td>504</td>\n      <td>0.042553</td>\n      <td>0.003968</td>\n      <td>0.000169</td>\n    </tr>\n    <tr>\n      <th>3881</th>\n      <td>6</td>\n      <td>Tooth size discrepancy</td>\n      <td>12</td>\n      <td>47</td>\n      <td>483</td>\n      <td>0.255319</td>\n      <td>0.024845</td>\n      <td>0.006343</td>\n    </tr>\n    <tr>\n      <th>4748</th>\n      <td>8</td>\n      <td>Tooth size discrepancy</td>\n      <td>4</td>\n      <td>47</td>\n      <td>824</td>\n      <td>0.085106</td>\n      <td>0.004854</td>\n      <td>0.000413</td>\n    </tr>\n  </tbody>\n</table>\n</div>"
     },
     "execution_count": 18,
     "metadata": {},
     "output_type": "execute_result"
    }
   ],
   "source": [
    "communities_rank = communities_metrics(communities, diseases)\n",
    "communities_rank[communities_rank[\"Disease\"]==\"Tooth size discrepancy\"]"
   ],
   "metadata": {
    "collapsed": false,
    "pycharm": {
     "name": "#%%\n"
    }
   }
  },
  {
   "cell_type": "code",
   "execution_count": 19,
   "outputs": [],
   "source": [
    "communities_rank.to_csv(\"datasets/communities_metrics.csv\")"
   ],
   "metadata": {
    "collapsed": false,
    "pycharm": {
     "name": "#%%\n"
    }
   }
  },
  {
   "cell_type": "markdown",
   "source": [],
   "metadata": {
    "collapsed": false,
    "pycharm": {
     "name": "#%% md\n"
    }
   }
  },
  {
   "cell_type": "code",
   "execution_count": 20,
   "outputs": [],
   "source": [
    "def look_for_gene_community(protein: str, communities: list) -> int:\n",
    "    for i, community in enumerate(communities):\n",
    "        if protein in community:\n",
    "            return i\n",
    "\n",
    "    return -1"
   ],
   "metadata": {
    "collapsed": false,
    "pycharm": {
     "name": "#%%\n"
    }
   }
  },
  {
   "cell_type": "code",
   "execution_count": 21,
   "outputs": [
    {
     "name": "stdout",
     "output_type": "stream",
     "text": [
      "The gene SON is in community 3\n"
     ]
    }
   ],
   "source": [
    "protein_community = \"SON\"\n",
    "gene_community = look_for_gene_community(protein_community, communities)\n",
    "if gene_community == -1:\n",
    "    raise Exception(\"The gene {0} is not in one of the communities\".format(protein_community))\n",
    "else:\n",
    "    print(\"The gene {0} is in community {1}\".format(protein_community, gene_community))"
   ],
   "metadata": {
    "collapsed": false,
    "pycharm": {
     "name": "#%%\n"
    }
   }
  },
  {
   "cell_type": "markdown",
   "source": [
    "Knowing in which community our starting gene is, we can retrieve all the diseases inisde such community and rank them by their relevance."
   ],
   "metadata": {
    "collapsed": false,
    "pycharm": {
     "name": "#%% md\n"
    }
   }
  },
  {
   "cell_type": "code",
   "execution_count": 22,
   "outputs": [],
   "source": [
    "# Retrieve the diseases inside the community in which the gene is in and keep those that share at least ten genes with the community\n",
    "disease_rank = communities_rank[(communities_rank[\"Community\"]==gene_community) &\n",
    "                             (communities_rank[\"Shared genes\"] > 10)].sort_values(by=\"Relevance\", ascending=False).drop([\"Community\", \"Shared genes\",\n",
    "                                                                                                                         \"Disease genes\", \"Community size\"], axis=1)"
   ],
   "metadata": {
    "collapsed": false,
    "pycharm": {
     "name": "#%%\n"
    }
   }
  },
  {
   "cell_type": "code",
   "execution_count": 23,
   "outputs": [
    {
     "data": {
      "text/plain": "                              Disease  Ratio disease  Ratio community  \\\n1952               Adult Glioblastoma       0.082192         0.010909   \n2156                   Renal fibrosis       0.080000         0.010909   \n2157   Reticulocyte count (procedure)       0.080000         0.010909   \n1854             Carcinoma, Papillary       0.077922         0.010909   \n1844  Disseminated Malignant Neoplasm       0.077922         0.010909   \n\n      Relevance  \n1952   0.000897  \n2156   0.000873  \n2157   0.000873  \n1854   0.000850  \n1844   0.000850  ",
      "text/html": "<div>\n<style scoped>\n    .dataframe tbody tr th:only-of-type {\n        vertical-align: middle;\n    }\n\n    .dataframe tbody tr th {\n        vertical-align: top;\n    }\n\n    .dataframe thead th {\n        text-align: right;\n    }\n</style>\n<table border=\"1\" class=\"dataframe\">\n  <thead>\n    <tr style=\"text-align: right;\">\n      <th></th>\n      <th>Disease</th>\n      <th>Ratio disease</th>\n      <th>Ratio community</th>\n      <th>Relevance</th>\n    </tr>\n  </thead>\n  <tbody>\n    <tr>\n      <th>1952</th>\n      <td>Adult Glioblastoma</td>\n      <td>0.082192</td>\n      <td>0.010909</td>\n      <td>0.000897</td>\n    </tr>\n    <tr>\n      <th>2156</th>\n      <td>Renal fibrosis</td>\n      <td>0.080000</td>\n      <td>0.010909</td>\n      <td>0.000873</td>\n    </tr>\n    <tr>\n      <th>2157</th>\n      <td>Reticulocyte count (procedure)</td>\n      <td>0.080000</td>\n      <td>0.010909</td>\n      <td>0.000873</td>\n    </tr>\n    <tr>\n      <th>1854</th>\n      <td>Carcinoma, Papillary</td>\n      <td>0.077922</td>\n      <td>0.010909</td>\n      <td>0.000850</td>\n    </tr>\n    <tr>\n      <th>1844</th>\n      <td>Disseminated Malignant Neoplasm</td>\n      <td>0.077922</td>\n      <td>0.010909</td>\n      <td>0.000850</td>\n    </tr>\n  </tbody>\n</table>\n</div>"
     },
     "execution_count": 23,
     "metadata": {},
     "output_type": "execute_result"
    }
   ],
   "source": [
    "disease_rank.tail()"
   ],
   "metadata": {
    "collapsed": false,
    "pycharm": {
     "name": "#%%\n"
    }
   }
  },
  {
   "cell_type": "code",
   "execution_count": 24,
   "outputs": [],
   "source": [
    "disease_rank.to_csv(\"datasets/community_gene_metrics.csv\")"
   ],
   "metadata": {
    "collapsed": false,
    "pycharm": {
     "name": "#%%\n"
    }
   }
  },
  {
   "cell_type": "markdown",
   "source": [
    "Compute the distances from a communitiy to the other ones."
   ],
   "metadata": {
    "collapsed": false,
    "pycharm": {
     "name": "#%% md\n"
    }
   }
  },
  {
   "cell_type": "code",
   "execution_count": 25,
   "outputs": [],
   "source": [
    "def communities_distance(communities_rank: pd.DataFrame,\n",
    "                         first_index: int,\n",
    "                         second_index: int,\n",
    "                         metric: str = \"Relevance\") -> float:\n",
    "    # Retrieve all the diseases linked to the communities\n",
    "    tmp_first = communities_rank[communities_rank[\"Community\"] == first_index][[\"Disease\", metric]]\n",
    "    tmp_second = communities_rank[communities_rank[\"Community\"] == second_index][[\"Disease\", metric]]\n",
    "\n",
    "    # Shared diseases between the two communities\n",
    "    shared_diseases = tmp_first.merge(tmp_second, left_on=\"Disease\", right_on=\"Disease\")\n",
    "\n",
    "    # Diseases that are not shared between the two communities\n",
    "    tmp_first = tmp_first[~tmp_first['Disease'].isin(shared_diseases[\"Disease\"])]\n",
    "    tmp_second = tmp_second[~tmp_second['Disease'].isin(shared_diseases[\"Disease\"])]\n",
    "\n",
    "    distance = 0\n",
    "    for i, disease in shared_diseases.iterrows():\n",
    "        distance += np.power(disease[metric + \"_x\"] - disease[metric + \"_y\"], 2)\n",
    "\n",
    "    for i, first_disease in tmp_first.iterrows():\n",
    "        distance += np.power(first_disease[metric], 2)\n",
    "\n",
    "    for i, second_disease in tmp_second.iterrows():\n",
    "        distance += np.power(second_disease[metric], 2)\n",
    "\n",
    "    return distance"
   ],
   "metadata": {
    "collapsed": false,
    "pycharm": {
     "name": "#%%\n"
    }
   }
  },
  {
   "cell_type": "code",
   "execution_count": 26,
   "outputs": [
    {
     "name": "stdout",
     "output_type": "stream",
     "text": [
      "Distance to community 0: 0.14602867571178443\n",
      "Distance to community 1: 0.15733497379769454\n",
      "Distance to community 2: 0.12119677364028239\n",
      "Distance to community 3: 0.0\n",
      "Distance to community 4: 0.159074212007178\n",
      "Distance to community 5: 0.11510766957069604\n",
      "Distance to community 6: 0.09418618613444958\n",
      "Distance to community 7: 0.15250022114971026\n",
      "Distance to community 8: 0.142301470705065\n"
     ]
    }
   ],
   "source": [
    "son_comm = look_for_gene_community(\"SON\", communities)\n",
    "for i in range(len(communities)):\n",
    "    print(\"Distance to community {0}: {1}\".format(i, communities_distance(communities_rank, son_comm, i)))"
   ],
   "metadata": {
    "collapsed": false,
    "pycharm": {
     "name": "#%%\n"
    }
   }
  },
  {
   "cell_type": "markdown",
   "source": [
    "Save the communities into a csv file."
   ],
   "metadata": {
    "collapsed": false,
    "pycharm": {
     "name": "#%% md\n"
    }
   }
  },
  {
   "cell_type": "code",
   "execution_count": 27,
   "outputs": [],
   "source": [
    "df_communities = pd.DataFrame(communities)\n",
    "df_communities.to_csv(\"datasets/communities.csv\")"
   ],
   "metadata": {
    "collapsed": false,
    "pycharm": {
     "name": "#%%\n"
    }
   }
  }
 ],
 "metadata": {
  "kernelspec": {
   "display_name": "Python 3",
   "language": "python",
   "name": "python3"
  },
  "language_info": {
   "codemirror_mode": {
    "name": "ipython",
    "version": 2
   },
   "file_extension": ".py",
   "mimetype": "text/x-python",
   "name": "python",
   "nbconvert_exporter": "python",
   "pygments_lexer": "ipython2",
   "version": "2.7.6"
  }
 },
 "nbformat": 4,
 "nbformat_minor": 0
}