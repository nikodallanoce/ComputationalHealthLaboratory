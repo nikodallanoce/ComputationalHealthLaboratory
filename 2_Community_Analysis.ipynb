{
 "cells": [
  {
   "cell_type": "markdown",
   "source": [
    "**Computational Health Laboratory Project, A.Y. 2021/2022**\n",
    "\n",
    "**Authors:** Niko Dalla Noce, Alessandro Ristori, Andrea Zuppolini\n",
    "\n",
    "**Project:** Starting fron one or more genes, extract from interaction databases the genes they interact with. Using the expanded gene set, perform pathway analysis and obtain all disease pathways in which the genes appear. Merge the pathways to obtain a larger graph. Perform further network analysis to extract central biomarkers and communities beyond pathways. Compute a distance between the initial gene set and the various pathways (diseases)."
   ],
   "metadata": {
    "collapsed": false,
    "pycharm": {
     "name": "#%% md\n"
    }
   }
  },
  {
   "cell_type": "markdown",
   "source": [
    "# **CHL Project, Community Analysis**"
   ],
   "metadata": {
    "collapsed": false,
    "pycharm": {
     "name": "#%% md\n"
    }
   }
  },
  {
   "cell_type": "markdown",
   "source": [
    "## **Colab setup**\n",
    "Takes care of the project setup on Colab."
   ],
   "metadata": {
    "collapsed": false,
    "pycharm": {
     "name": "#%% md\n"
    }
   }
  },
  {
   "cell_type": "code",
   "execution_count": 2,
   "outputs": [],
   "source": [
    "if 'google.colab' in str(get_ipython()):\n",
    "    import subprocess\n",
    "    out_clone = subprocess.run([\"git\", \"clone\", \"https://github.com/nikodallanoce/ComputationalHealthLaboratory\"], text=True, capture_output=True)\n",
    "    print(\"{0}{1}\".format(out_clone.stdout, out_clone.stderr))\n",
    "    %cd ComputationalHealthLaboratory"
   ],
   "metadata": {
    "collapsed": false,
    "pycharm": {
     "name": "#%%\n"
    }
   }
  },
  {
   "cell_type": "markdown",
   "source": [
    "## **Community analysis**\n",
    "Find the communities inside the graph and look how the one in which the starting gene fell is connected to the various diseases."
   ],
   "metadata": {
    "collapsed": false,
    "pycharm": {
     "name": "#%% md\n"
    }
   }
  },
  {
   "cell_type": "code",
   "execution_count": 3,
   "outputs": [],
   "source": [
    "import pandas as pd\n",
    "import numpy as np\n",
    "import networkx as nx\n",
    "\n",
    "def intersection(lst1, lst2):\n",
    "    inters = list()\n",
    "    if not (len(lst1) == 0 or len(lst2) == 0):\n",
    "        set1 = set(lst1)\n",
    "        inters = [elem for elem in lst2 if elem in set1]\n",
    "    return inters"
   ],
   "metadata": {
    "collapsed": false,
    "pycharm": {
     "name": "#%%\n"
    }
   }
  },
  {
   "cell_type": "markdown",
   "source": [
    "We assume that you have already done pathway enrichment on notebook and network analysis on **0_Pathway_Enrichment** and **1_Network_Analysis** and, therefore, all the datasets needed here are available. If so, then load everything."
   ],
   "metadata": {
    "collapsed": false,
    "pycharm": {
     "name": "#%% md\n"
    }
   }
  },
  {
   "cell_type": "code",
   "execution_count": 4,
   "outputs": [],
   "source": [
    "df_diseases = pd.read_csv(\"datasets/diseases_pathways.csv\", sep=\",\", index_col=0)\n",
    "protein_graph = nx.read_gpickle(\"datasets/protein_graph.gpickle\")\n",
    "diseases = dict()\n",
    "for i, disease in df_diseases.iterrows():\n",
    "    disease_genes = disease['Genes'].split(\";\")\n",
    "    term = disease['Term']\n",
    "    diseases[i] = {\"name\": term, \"genes\": disease_genes}"
   ],
   "metadata": {
    "collapsed": false,
    "pycharm": {
     "name": "#%%\n"
    }
   }
  },
  {
   "cell_type": "markdown",
   "source": [
    "Find all the communities with the Louvain method (beware that is not deterministic) and discard those with only one node inside."
   ],
   "metadata": {
    "collapsed": false,
    "pycharm": {
     "name": "#%% md\n"
    }
   }
  },
  {
   "cell_type": "code",
   "execution_count": 5,
   "outputs": [],
   "source": [
    "louvain_communities = list(nx.algorithms.community.louvain_communities(protein_graph))\n",
    "communities = [community for community in louvain_communities if len(community) > 1]  # Discard those communities with one node"
   ],
   "metadata": {
    "collapsed": false,
    "pycharm": {
     "name": "#%%\n"
    }
   }
  },
  {
   "cell_type": "code",
   "execution_count": 6,
   "outputs": [
    {
     "name": "stdout",
     "output_type": "stream",
     "text": [
      "Number of communities: 9\n"
     ]
    }
   ],
   "source": [
    "print(\"Number of communities: {0}\".format(len(communities)))"
   ],
   "metadata": {
    "collapsed": false,
    "pycharm": {
     "name": "#%%\n"
    }
   }
  },
  {
   "cell_type": "markdown",
   "source": [
    "Compute the mean number of nodes of those communities kept after the pruning on their size."
   ],
   "metadata": {
    "collapsed": false,
    "pycharm": {
     "name": "#%% md\n"
    }
   }
  },
  {
   "cell_type": "code",
   "execution_count": 7,
   "outputs": [],
   "source": [
    "def mean_size_communities(communities: list) -> float:\n",
    "    mean_size = 0\n",
    "    for community in communities:\n",
    "        mean_size += len(community)\n",
    "\n",
    "    mean_size /= len(communities)\n",
    "    return mean_size"
   ],
   "metadata": {
    "collapsed": false,
    "pycharm": {
     "name": "#%%\n"
    }
   }
  },
  {
   "cell_type": "code",
   "execution_count": 8,
   "outputs": [
    {
     "name": "stdout",
     "output_type": "stream",
     "text": [
      "Mean size of communities: 681.1111111111111\n"
     ]
    }
   ],
   "source": [
    "print(\"Mean size of communities: {0}\".format(str(mean_size_communities(communities))))"
   ],
   "metadata": {
    "collapsed": false,
    "pycharm": {
     "name": "#%%\n"
    }
   }
  },
  {
   "cell_type": "markdown",
   "source": [
    "Compute the number of diseases in a community."
   ],
   "metadata": {
    "collapsed": false,
    "pycharm": {
     "name": "#%% md\n"
    }
   }
  },
  {
   "cell_type": "code",
   "execution_count": 9,
   "outputs": [],
   "source": [
    "def diseases_in_community(protein_graph: nx.Graph, community: set) -> set:\n",
    "    diseases_community = set()\n",
    "    for protein in list(community):\n",
    "        diseases_protein = protein_graph.nodes[protein][\"diseases\"]\n",
    "        diseases_community.update(diseases_protein)\n",
    "\n",
    "    return diseases_community"
   ],
   "metadata": {
    "collapsed": false,
    "pycharm": {
     "name": "#%%\n"
    }
   }
  },
  {
   "cell_type": "code",
   "execution_count": 10,
   "outputs": [
    {
     "name": "stdout",
     "output_type": "stream",
     "text": [
      "Number of diseases in community 5: 585\n"
     ]
    }
   ],
   "source": [
    "diseases_comm = diseases_in_community(protein_graph, communities[5])\n",
    "print(\"Number of diseases in community {0}: {1}\".format(5, len(diseases_comm)))"
   ],
   "metadata": {
    "collapsed": false,
    "pycharm": {
     "name": "#%%\n"
    }
   }
  },
  {
   "cell_type": "markdown",
   "source": [
    "Let’s also see how many disease, on average, where linked to those communities with only one node."
   ],
   "metadata": {
    "collapsed": false,
    "pycharm": {
     "name": "#%% md\n"
    }
   }
  },
  {
   "cell_type": "code",
   "execution_count": 11,
   "outputs": [],
   "source": [
    "def mean_diseases_communities_size_n(communities: list, protein_graph: nx.Graph, n: int = 1) -> float:\n",
    "    mean_diseases = 0\n",
    "    n_size_commmunities = 0\n",
    "    for community in communities:\n",
    "        community = list(community)\n",
    "        if len(community) == n:\n",
    "            protein = community[0]\n",
    "            protein_diseases = protein_graph.nodes[protein]['diseases']\n",
    "            n_size_commmunities += 1\n",
    "            mean_diseases += len(protein_diseases)\n",
    "\n",
    "    if n_size_commmunities == 0:\n",
    "        print(\"There are no communities with {0} nodes\".format(n))\n",
    "    else:\n",
    "        mean_diseases /= n_size_commmunities\n",
    "\n",
    "    return mean_diseases"
   ],
   "metadata": {
    "collapsed": false,
    "pycharm": {
     "name": "#%%\n"
    }
   }
  },
  {
   "cell_type": "code",
   "execution_count": 12,
   "outputs": [
    {
     "name": "stdout",
     "output_type": "stream",
     "text": [
      "Mean diseases for those communities with one node: 2.2324127906976745\n"
     ]
    }
   ],
   "source": [
    "mean_diseases_one_node = mean_diseases_communities_size_n(louvain_communities, protein_graph)\n",
    "print(\"Mean diseases for those communities with one node: {0}\".format(str(mean_diseases_one_node)))"
   ],
   "metadata": {
    "collapsed": false,
    "pycharm": {
     "name": "#%%\n"
    }
   }
  },
  {
   "cell_type": "markdown",
   "source": [
    "At last compute the mean number of nodes for the diseases."
   ],
   "metadata": {
    "collapsed": false,
    "pycharm": {
     "name": "#%% md\n"
    }
   }
  },
  {
   "cell_type": "code",
   "execution_count": 13,
   "outputs": [],
   "source": [
    "def mean_genes_diseases(diseases: dict) -> float:\n",
    "    mean_size = 0\n",
    "    for _, disease in diseases.items():\n",
    "        mean_size += len(disease['genes'])\n",
    "\n",
    "    mean_size /= len(diseases.keys())\n",
    "    return mean_size"
   ],
   "metadata": {
    "collapsed": false,
    "pycharm": {
     "name": "#%%\n"
    }
   }
  },
  {
   "cell_type": "code",
   "execution_count": 14,
   "outputs": [
    {
     "name": "stdout",
     "output_type": "stream",
     "text": [
      "Mean number of genes for disease: 246.55857385398983\n"
     ]
    }
   ],
   "source": [
    "print(\"Mean number of genes for disease: {0}\".format(mean_genes_diseases(diseases)))"
   ],
   "metadata": {
    "collapsed": false,
    "pycharm": {
     "name": "#%%\n"
    }
   }
  },
  {
   "cell_type": "markdown",
   "source": [
    "Let's see if the communities do not share any nodes."
   ],
   "metadata": {
    "collapsed": false,
    "pycharm": {
     "name": "#%% md\n"
    }
   }
  },
  {
   "cell_type": "code",
   "execution_count": 15,
   "outputs": [],
   "source": [
    "def are_communities_distinct(communities: list) -> bool:\n",
    "    for i, first_community in enumerate(communities):\n",
    "        for j in range(i+1, len(communities)):\n",
    "            second_community = communities[j]\n",
    "            if len(intersection(first_community, second_community))>0:\n",
    "                return False\n",
    "\n",
    "    return True"
   ],
   "metadata": {
    "collapsed": false,
    "pycharm": {
     "name": "#%%\n"
    }
   }
  },
  {
   "cell_type": "code",
   "execution_count": 16,
   "outputs": [
    {
     "data": {
      "text/plain": "True"
     },
     "execution_count": 16,
     "metadata": {},
     "output_type": "execute_result"
    }
   ],
   "source": [
    "are_communities_distinct(communities)"
   ],
   "metadata": {
    "collapsed": false,
    "pycharm": {
     "name": "#%%\n"
    }
   }
  },
  {
   "cell_type": "markdown",
   "source": [
    "Compute how many proteins are shared between each community and disease."
   ],
   "metadata": {
    "collapsed": false,
    "pycharm": {
     "name": "#%% md\n"
    }
   }
  },
  {
   "cell_type": "code",
   "execution_count": 17,
   "outputs": [],
   "source": [
    "def communities_metrics(communities: list, diseases: dict) -> pd.DataFrame:\n",
    "    df_ranks = list()\n",
    "    for i, community in enumerate(communities):\n",
    "        tot_genes = dict()\n",
    "        shared_genes = dict()\n",
    "        for k, disease in diseases.items():\n",
    "            genes = disease['genes']\n",
    "            shared_genes_community = intersection(genes, community)\n",
    "            tot_genes[k] = len(genes)\n",
    "            shared_genes[k] = len(shared_genes_community)\n",
    "\n",
    "        for j in range(len(tot_genes)):\n",
    "            n_genes, n_shared_genes = tot_genes[j], shared_genes[j]\n",
    "            if n_shared_genes > 1:\n",
    "                df_ranks.append({\"Community\": i, \"Disease\": diseases[j]['name'], \"Shared genes\": n_shared_genes,\n",
    "                                 \"Disease genes\": n_genes, \"Community size\": len(community)})\n",
    "\n",
    "    df_ranks = pd.DataFrame(df_ranks)\n",
    "\n",
    "    # Ratio of the shared genes (between community and disease pathway) and the number of genes in the disease\n",
    "    df_ranks[\"Ratio disease\"] = df_ranks['Shared genes'] / df_ranks['Disease genes']\n",
    "\n",
    "    # Ratio of the shared genes (between community and disease pathway) and the size of the community\n",
    "    df_ranks['Ratio community'] = df_ranks[\"Shared genes\"] / df_ranks[\"Community size\"]\n",
    "\n",
    "    # Relevance of the  based on the previous computed metrics\n",
    "    df_ranks[\"Relevance\"] = df_ranks[\"Ratio disease\"] * df_ranks[\"Ratio community\"]\n",
    "    return df_ranks"
   ],
   "metadata": {
    "collapsed": false,
    "pycharm": {
     "name": "#%%\n"
    }
   }
  },
  {
   "cell_type": "code",
   "execution_count": 18,
   "outputs": [
    {
     "data": {
      "text/plain": "      Community                 Disease  Shared genes  Disease genes  \\\n517           0  Tooth size discrepancy             2             47   \n1613          2  Tooth size discrepancy             3             47   \n2190          3  Tooth size discrepancy             8             47   \n3071          5  Tooth size discrepancy             5             47   \n3617          6  Tooth size discrepancy             4             47   \n4185          7  Tooth size discrepancy            12             47   \n4743          8  Tooth size discrepancy             5             47   \n\n      Community size  Ratio disease  Ratio community  Relevance  \n517              506       0.042553         0.003953   0.000168  \n1613             895       0.063830         0.003352   0.000214  \n2190            1084       0.170213         0.007380   0.001256  \n3071            1081       0.106383         0.004625   0.000492  \n3617             714       0.085106         0.005602   0.000477  \n4185             522       0.255319         0.022989   0.005869  \n4743             798       0.106383         0.006266   0.000667  ",
      "text/html": "<div>\n<style scoped>\n    .dataframe tbody tr th:only-of-type {\n        vertical-align: middle;\n    }\n\n    .dataframe tbody tr th {\n        vertical-align: top;\n    }\n\n    .dataframe thead th {\n        text-align: right;\n    }\n</style>\n<table border=\"1\" class=\"dataframe\">\n  <thead>\n    <tr style=\"text-align: right;\">\n      <th></th>\n      <th>Community</th>\n      <th>Disease</th>\n      <th>Shared genes</th>\n      <th>Disease genes</th>\n      <th>Community size</th>\n      <th>Ratio disease</th>\n      <th>Ratio community</th>\n      <th>Relevance</th>\n    </tr>\n  </thead>\n  <tbody>\n    <tr>\n      <th>517</th>\n      <td>0</td>\n      <td>Tooth size discrepancy</td>\n      <td>2</td>\n      <td>47</td>\n      <td>506</td>\n      <td>0.042553</td>\n      <td>0.003953</td>\n      <td>0.000168</td>\n    </tr>\n    <tr>\n      <th>1613</th>\n      <td>2</td>\n      <td>Tooth size discrepancy</td>\n      <td>3</td>\n      <td>47</td>\n      <td>895</td>\n      <td>0.063830</td>\n      <td>0.003352</td>\n      <td>0.000214</td>\n    </tr>\n    <tr>\n      <th>2190</th>\n      <td>3</td>\n      <td>Tooth size discrepancy</td>\n      <td>8</td>\n      <td>47</td>\n      <td>1084</td>\n      <td>0.170213</td>\n      <td>0.007380</td>\n      <td>0.001256</td>\n    </tr>\n    <tr>\n      <th>3071</th>\n      <td>5</td>\n      <td>Tooth size discrepancy</td>\n      <td>5</td>\n      <td>47</td>\n      <td>1081</td>\n      <td>0.106383</td>\n      <td>0.004625</td>\n      <td>0.000492</td>\n    </tr>\n    <tr>\n      <th>3617</th>\n      <td>6</td>\n      <td>Tooth size discrepancy</td>\n      <td>4</td>\n      <td>47</td>\n      <td>714</td>\n      <td>0.085106</td>\n      <td>0.005602</td>\n      <td>0.000477</td>\n    </tr>\n    <tr>\n      <th>4185</th>\n      <td>7</td>\n      <td>Tooth size discrepancy</td>\n      <td>12</td>\n      <td>47</td>\n      <td>522</td>\n      <td>0.255319</td>\n      <td>0.022989</td>\n      <td>0.005869</td>\n    </tr>\n    <tr>\n      <th>4743</th>\n      <td>8</td>\n      <td>Tooth size discrepancy</td>\n      <td>5</td>\n      <td>47</td>\n      <td>798</td>\n      <td>0.106383</td>\n      <td>0.006266</td>\n      <td>0.000667</td>\n    </tr>\n  </tbody>\n</table>\n</div>"
     },
     "execution_count": 18,
     "metadata": {},
     "output_type": "execute_result"
    }
   ],
   "source": [
    "communities_rank = communities_metrics(communities, diseases)\n",
    "communities_rank[communities_rank[\"Disease\"]==\"Tooth size discrepancy\"]"
   ],
   "metadata": {
    "collapsed": false,
    "pycharm": {
     "name": "#%%\n"
    }
   }
  },
  {
   "cell_type": "code",
   "execution_count": 19,
   "outputs": [
    {
     "data": {
      "text/plain": "   Community                       Disease  Shared genes  Disease genes  \\\n0          0  Mental and motor retardation            28            802   \n1          0                    Small head            15            470   \n2          0               Cognitive delay            28            758   \n3          0    Global developmental delay            32            854   \n4          0             Mammary Neoplasms           167           1736   \n\n   Community size  Ratio disease  Ratio community  Relevance  \n0             506       0.034913         0.055336   0.001932  \n1             506       0.031915         0.029644   0.000946  \n2             506       0.036939         0.055336   0.002044  \n3             506       0.037471         0.063241   0.002370  \n4             506       0.096198         0.330040   0.031749  ",
      "text/html": "<div>\n<style scoped>\n    .dataframe tbody tr th:only-of-type {\n        vertical-align: middle;\n    }\n\n    .dataframe tbody tr th {\n        vertical-align: top;\n    }\n\n    .dataframe thead th {\n        text-align: right;\n    }\n</style>\n<table border=\"1\" class=\"dataframe\">\n  <thead>\n    <tr style=\"text-align: right;\">\n      <th></th>\n      <th>Community</th>\n      <th>Disease</th>\n      <th>Shared genes</th>\n      <th>Disease genes</th>\n      <th>Community size</th>\n      <th>Ratio disease</th>\n      <th>Ratio community</th>\n      <th>Relevance</th>\n    </tr>\n  </thead>\n  <tbody>\n    <tr>\n      <th>0</th>\n      <td>0</td>\n      <td>Mental and motor retardation</td>\n      <td>28</td>\n      <td>802</td>\n      <td>506</td>\n      <td>0.034913</td>\n      <td>0.055336</td>\n      <td>0.001932</td>\n    </tr>\n    <tr>\n      <th>1</th>\n      <td>0</td>\n      <td>Small head</td>\n      <td>15</td>\n      <td>470</td>\n      <td>506</td>\n      <td>0.031915</td>\n      <td>0.029644</td>\n      <td>0.000946</td>\n    </tr>\n    <tr>\n      <th>2</th>\n      <td>0</td>\n      <td>Cognitive delay</td>\n      <td>28</td>\n      <td>758</td>\n      <td>506</td>\n      <td>0.036939</td>\n      <td>0.055336</td>\n      <td>0.002044</td>\n    </tr>\n    <tr>\n      <th>3</th>\n      <td>0</td>\n      <td>Global developmental delay</td>\n      <td>32</td>\n      <td>854</td>\n      <td>506</td>\n      <td>0.037471</td>\n      <td>0.063241</td>\n      <td>0.002370</td>\n    </tr>\n    <tr>\n      <th>4</th>\n      <td>0</td>\n      <td>Mammary Neoplasms</td>\n      <td>167</td>\n      <td>1736</td>\n      <td>506</td>\n      <td>0.096198</td>\n      <td>0.330040</td>\n      <td>0.031749</td>\n    </tr>\n  </tbody>\n</table>\n</div>"
     },
     "execution_count": 19,
     "metadata": {},
     "output_type": "execute_result"
    }
   ],
   "source": [
    "communities_rank.head()"
   ],
   "metadata": {
    "collapsed": false,
    "pycharm": {
     "name": "#%%\n"
    }
   }
  },
  {
   "cell_type": "code",
   "execution_count": 20,
   "outputs": [],
   "source": [
    "communities_rank.to_csv(\"datasets/communities_metrics.csv\")"
   ],
   "metadata": {
    "collapsed": false,
    "pycharm": {
     "name": "#%%\n"
    }
   }
  },
  {
   "cell_type": "markdown",
   "source": [],
   "metadata": {
    "collapsed": false,
    "pycharm": {
     "name": "#%% md\n"
    }
   }
  },
  {
   "cell_type": "code",
   "execution_count": 21,
   "outputs": [],
   "source": [
    "def look_for_gene_community(protein: str, communities: list) -> int:\n",
    "    for i, community in enumerate(communities):\n",
    "        if protein in community:\n",
    "            return i\n",
    "\n",
    "    return -1"
   ],
   "metadata": {
    "collapsed": false,
    "pycharm": {
     "name": "#%%\n"
    }
   }
  },
  {
   "cell_type": "code",
   "execution_count": 22,
   "outputs": [
    {
     "name": "stdout",
     "output_type": "stream",
     "text": [
      "The gene SON is in community 3\n"
     ]
    }
   ],
   "source": [
    "protein_community = \"SON\"\n",
    "gene_community = look_for_gene_community(protein_community, communities)\n",
    "if gene_community == -1:\n",
    "    raise Exception(\"The gene {0} is not in one of the communities\".format(protein_community))\n",
    "else:\n",
    "    print(\"The gene {0} is in community {1}\".format(protein_community, gene_community))"
   ],
   "metadata": {
    "collapsed": false,
    "pycharm": {
     "name": "#%%\n"
    }
   }
  },
  {
   "cell_type": "markdown",
   "source": [
    "Knowing in which community our starting gene is, we can retrieve all the diseases inisde such community and rank them by their relevance."
   ],
   "metadata": {
    "collapsed": false,
    "pycharm": {
     "name": "#%% md\n"
    }
   }
  },
  {
   "cell_type": "code",
   "execution_count": 47,
   "outputs": [],
   "source": [
    "# Retrieve the diseases inside the community in which the gene is in and keep those that share at least ten genes with the community\n",
    "disease_rank = communities_rank[(communities_rank[\"Community\"]==gene_community) &\n",
    "                             (communities_rank[\"Shared genes\"] > 10)].sort_values(by=\"Relevance\", ascending=False).drop([\"Community\", \"Shared genes\", \"Disease genes\", \"Community size\"], axis=1)"
   ],
   "metadata": {
    "collapsed": false,
    "pycharm": {
     "name": "#%%\n"
    }
   }
  },
  {
   "cell_type": "code",
   "execution_count": 48,
   "outputs": [
    {
     "data": {
      "text/plain": "                           Disease  Ratio disease  Ratio community  Relevance\n1619       Intellectual Disability       0.278761         0.464945   0.129608\n1614  Mental and motor retardation       0.361596         0.267528   0.096737\n1617    Global developmental delay       0.345433         0.272140   0.094006\n1616               Cognitive delay       0.364116         0.254613   0.092709\n1622             Mental deficiency       0.336774         0.240775   0.081087",
      "text/html": "<div>\n<style scoped>\n    .dataframe tbody tr th:only-of-type {\n        vertical-align: middle;\n    }\n\n    .dataframe tbody tr th {\n        vertical-align: top;\n    }\n\n    .dataframe thead th {\n        text-align: right;\n    }\n</style>\n<table border=\"1\" class=\"dataframe\">\n  <thead>\n    <tr style=\"text-align: right;\">\n      <th></th>\n      <th>Disease</th>\n      <th>Ratio disease</th>\n      <th>Ratio community</th>\n      <th>Relevance</th>\n    </tr>\n  </thead>\n  <tbody>\n    <tr>\n      <th>1619</th>\n      <td>Intellectual Disability</td>\n      <td>0.278761</td>\n      <td>0.464945</td>\n      <td>0.129608</td>\n    </tr>\n    <tr>\n      <th>1614</th>\n      <td>Mental and motor retardation</td>\n      <td>0.361596</td>\n      <td>0.267528</td>\n      <td>0.096737</td>\n    </tr>\n    <tr>\n      <th>1617</th>\n      <td>Global developmental delay</td>\n      <td>0.345433</td>\n      <td>0.272140</td>\n      <td>0.094006</td>\n    </tr>\n    <tr>\n      <th>1616</th>\n      <td>Cognitive delay</td>\n      <td>0.364116</td>\n      <td>0.254613</td>\n      <td>0.092709</td>\n    </tr>\n    <tr>\n      <th>1622</th>\n      <td>Mental deficiency</td>\n      <td>0.336774</td>\n      <td>0.240775</td>\n      <td>0.081087</td>\n    </tr>\n  </tbody>\n</table>\n</div>"
     },
     "execution_count": 48,
     "metadata": {},
     "output_type": "execute_result"
    }
   ],
   "source": [
    "disease_rank.head()"
   ],
   "metadata": {
    "collapsed": false,
    "pycharm": {
     "name": "#%%\n"
    }
   }
  },
  {
   "cell_type": "code",
   "execution_count": 25,
   "outputs": [],
   "source": [
    "disease_rank.to_csv(\"datasets/community_gene_metrics.csv\")"
   ],
   "metadata": {
    "collapsed": false,
    "pycharm": {
     "name": "#%%\n"
    }
   }
  },
  {
   "cell_type": "markdown",
   "source": [
    "Compute the distances from a communitiy to the other ones."
   ],
   "metadata": {
    "collapsed": false,
    "pycharm": {
     "name": "#%% md\n"
    }
   }
  },
  {
   "cell_type": "code",
   "execution_count": 26,
   "outputs": [],
   "source": [
    "def communities_distance(communities_rank: pd.DataFrame,\n",
    "                         first_index: int,\n",
    "                         second_index: int,\n",
    "                         metric: str = \"Relevance\") -> float:\n",
    "    # Retrieve all the diseases linked to the communities\n",
    "    tmp_first = communities_rank[communities_rank[\"Community\"] == first_index][[\"Disease\", metric]]\n",
    "    tmp_second = communities_rank[communities_rank[\"Community\"] == second_index][[\"Disease\", metric]]\n",
    "\n",
    "    # Shared diseases between the two communities\n",
    "    shared_diseases = tmp_first.merge(tmp_second, left_on=\"Disease\", right_on=\"Disease\")\n",
    "\n",
    "    # Diseases that are not shared between the two communities\n",
    "    tmp_first = tmp_first[~tmp_first['Disease'].isin(shared_diseases[\"Disease\"])]\n",
    "    tmp_second = tmp_second[~tmp_second['Disease'].isin(shared_diseases[\"Disease\"])]\n",
    "\n",
    "    distance = 0\n",
    "    for _, disease in shared_diseases.iterrows():\n",
    "        distance += np.power(disease[metric + \"_x\"] - disease[metric + \"_y\"], 2)\n",
    "\n",
    "    for _, first_disease in tmp_first.iterrows():\n",
    "        distance += np.power(first_disease[metric], 2)\n",
    "\n",
    "    for _, second_disease in tmp_second.iterrows():\n",
    "        distance += np.power(second_disease[metric], 2)\n",
    "\n",
    "    return distance"
   ],
   "metadata": {
    "collapsed": false,
    "pycharm": {
     "name": "#%%\n"
    }
   }
  },
  {
   "cell_type": "code",
   "execution_count": 27,
   "outputs": [
    {
     "name": "stdout",
     "output_type": "stream",
     "text": [
      "Distance to community 0: 0.15309881692535318\n",
      "Distance to community 1: 0.10621400794995371\n",
      "Distance to community 2: 0.1509892632652227\n",
      "Distance to community 3: 0.0\n",
      "Distance to community 4: 0.14419228602325065\n",
      "Distance to community 5: 0.14792731821379565\n",
      "Distance to community 6: 0.13737694668498182\n",
      "Distance to community 7: 0.08251813061038002\n",
      "Distance to community 8: 0.11564524055172641\n"
     ]
    }
   ],
   "source": [
    "son_comm = look_for_gene_community(\"SON\", communities)\n",
    "for i in range(len(communities)):\n",
    "    print(\"Distance to community {0}: {1}\".format(i, communities_distance(communities_rank, son_comm, i)))"
   ],
   "metadata": {
    "collapsed": false,
    "pycharm": {
     "name": "#%%\n"
    }
   }
  },
  {
   "cell_type": "markdown",
   "source": [
    "Save the communities into a csv file."
   ],
   "metadata": {
    "collapsed": false,
    "pycharm": {
     "name": "#%% md\n"
    }
   }
  },
  {
   "cell_type": "code",
   "execution_count": 28,
   "outputs": [],
   "source": [
    "df_communities = pd.DataFrame(communities)\n",
    "df_communities.to_csv(\"datasets/communities.csv\")"
   ],
   "metadata": {
    "collapsed": false,
    "pycharm": {
     "name": "#%%\n"
    }
   }
  },
  {
   "cell_type": "code",
   "execution_count": 29,
   "outputs": [],
   "source": [
    "son_index_diseases = protein_graph.nodes()['SON']['diseases']\n",
    "son_diseases = df_diseases.loc[son_index_diseases, 'Term']\n",
    "\n",
    "top_disc_dis = disease_rank[~disease_rank['Disease'].isin(son_diseases)].sort_values(by='Relevance', ascending=False)"
   ],
   "metadata": {
    "collapsed": false,
    "pycharm": {
     "name": "#%%\n"
    }
   }
  },
  {
   "cell_type": "code",
   "execution_count": 30,
   "outputs": [
    {
     "data": {
      "text/plain": "                                   Disease  Ratio disease  Ratio community  \\\n1615                            Small head       0.412766         0.178967   \n1965                              Seizures       0.259804         0.195572   \n1730          Malignant neoplasm of breast       0.125292         0.395756   \n1842                              Epilepsy       0.245763         0.187269   \n1867                      Breast Carcinoma       0.119269         0.367159   \n...                                    ...            ...              ...   \n2102                        Renal fibrosis       0.080000         0.011070   \n1790       Disseminated Malignant Neoplasm       0.077922         0.011070   \n1912  Prostatic Intraepithelial Neoplasias       0.081481         0.010148   \n1973                     oligodendroglioma       0.078571         0.010148   \n1686                   Multiple malignancy       0.075342         0.010148   \n\n      Relevance  \n1615   0.073871  \n1965   0.050810  \n1730   0.049585  \n1842   0.046024  \n1867   0.043791  \n...         ...  \n2102   0.000886  \n1790   0.000863  \n1912   0.000827  \n1973   0.000797  \n1686   0.000765  \n\n[394 rows x 4 columns]",
      "text/html": "<div>\n<style scoped>\n    .dataframe tbody tr th:only-of-type {\n        vertical-align: middle;\n    }\n\n    .dataframe tbody tr th {\n        vertical-align: top;\n    }\n\n    .dataframe thead th {\n        text-align: right;\n    }\n</style>\n<table border=\"1\" class=\"dataframe\">\n  <thead>\n    <tr style=\"text-align: right;\">\n      <th></th>\n      <th>Disease</th>\n      <th>Ratio disease</th>\n      <th>Ratio community</th>\n      <th>Relevance</th>\n    </tr>\n  </thead>\n  <tbody>\n    <tr>\n      <th>1615</th>\n      <td>Small head</td>\n      <td>0.412766</td>\n      <td>0.178967</td>\n      <td>0.073871</td>\n    </tr>\n    <tr>\n      <th>1965</th>\n      <td>Seizures</td>\n      <td>0.259804</td>\n      <td>0.195572</td>\n      <td>0.050810</td>\n    </tr>\n    <tr>\n      <th>1730</th>\n      <td>Malignant neoplasm of breast</td>\n      <td>0.125292</td>\n      <td>0.395756</td>\n      <td>0.049585</td>\n    </tr>\n    <tr>\n      <th>1842</th>\n      <td>Epilepsy</td>\n      <td>0.245763</td>\n      <td>0.187269</td>\n      <td>0.046024</td>\n    </tr>\n    <tr>\n      <th>1867</th>\n      <td>Breast Carcinoma</td>\n      <td>0.119269</td>\n      <td>0.367159</td>\n      <td>0.043791</td>\n    </tr>\n    <tr>\n      <th>...</th>\n      <td>...</td>\n      <td>...</td>\n      <td>...</td>\n      <td>...</td>\n    </tr>\n    <tr>\n      <th>2102</th>\n      <td>Renal fibrosis</td>\n      <td>0.080000</td>\n      <td>0.011070</td>\n      <td>0.000886</td>\n    </tr>\n    <tr>\n      <th>1790</th>\n      <td>Disseminated Malignant Neoplasm</td>\n      <td>0.077922</td>\n      <td>0.011070</td>\n      <td>0.000863</td>\n    </tr>\n    <tr>\n      <th>1912</th>\n      <td>Prostatic Intraepithelial Neoplasias</td>\n      <td>0.081481</td>\n      <td>0.010148</td>\n      <td>0.000827</td>\n    </tr>\n    <tr>\n      <th>1973</th>\n      <td>oligodendroglioma</td>\n      <td>0.078571</td>\n      <td>0.010148</td>\n      <td>0.000797</td>\n    </tr>\n    <tr>\n      <th>1686</th>\n      <td>Multiple malignancy</td>\n      <td>0.075342</td>\n      <td>0.010148</td>\n      <td>0.000765</td>\n    </tr>\n  </tbody>\n</table>\n<p>394 rows × 4 columns</p>\n</div>"
     },
     "execution_count": 30,
     "metadata": {},
     "output_type": "execute_result"
    }
   ],
   "source": [
    "top_disc_dis"
   ],
   "metadata": {
    "collapsed": false,
    "pycharm": {
     "name": "#%%\n"
    }
   }
  },
  {
   "cell_type": "code",
   "execution_count": 31,
   "outputs": [
    {
     "data": {
      "text/plain": "                                  Disease  Ratio disease  Ratio community  \\\n1619              Intellectual Disability       0.278761         0.464945   \n1614         Mental and motor retardation       0.361596         0.267528   \n1617           Global developmental delay       0.345433         0.272140   \n1616                      Cognitive delay       0.364116         0.254613   \n1622                    Mental deficiency       0.336774         0.240775   \n1624              Poor school performance       0.344130         0.235240   \n1647                   Mental Retardation       0.321513         0.250923   \n1626                    Dull intelligence       0.346910         0.227860   \n1627                     Low intelligence       0.346910         0.227860   \n1620                        Short stature       0.331034         0.177122   \n1664                Generalized hypotonia       0.317895         0.139299   \n1698               Failure to gain weight       0.320988         0.119926   \n1713          Pediatric failure to thrive       0.320197         0.119926   \n1716                          Undergrowth       0.323232         0.118081   \n1630                           Strabismus       0.349845         0.104244   \n1787             Genetic Diseases, Inborn       0.299465         0.103321   \n1697                   Acquired scoliosis       0.309375         0.091328   \n1696                   Curvature of spine       0.306709         0.088561   \n1721         Dilated ventricles (finding)       0.396341         0.059963   \n1648                         Low set ears       0.329114         0.071956   \n1738                Cerebellar Hypoplasia       0.420168         0.046125   \n1884        Hypoplasia of corpus callosum       0.372414         0.049815   \n1659                 Feeding difficulties       0.317949         0.057196   \n1807             Thin upper lip vermilion       0.431373         0.040590   \n1665               Byzanthine arch palate       0.285714         0.059041   \n1756                             leukemia       0.114730         0.142989   \n1673               Depressed nasal bridge       0.280543         0.057196   \n1684          Depressed nasal root/bridge       0.278539         0.056273   \n1683               Concave bridge of nose       0.278539         0.056273   \n1635  Downward slant of palpebral fissure       0.299465         0.051661   \n1618                    Mammary Neoplasms       0.088710         0.142066   \n1689          Leukemia, Myelocytic, Acute       0.104651         0.116236   \n1773                      Frontal bossing       0.270588         0.042435   \n2135                          Sunken eyes       0.312500         0.023063   \n2107                         Enophthalmos       0.308642         0.023063   \n1949                        Hyperkyphosis       0.237705         0.026753   \n1899          Kyphosis deformity of spine       0.229008         0.027675   \n1893                          Microstomia       0.264368         0.021218   \n1677                       Leukemogenesis       0.092421         0.046125   \n2141    Range of joint movement increased       0.325581         0.012915   \n1917             Adenoid Cystic Carcinoma       0.100629         0.014760   \n\n      Relevance  \n1619   0.129608  \n1614   0.096737  \n1617   0.094006  \n1616   0.092709  \n1622   0.081087  \n1624   0.080953  \n1647   0.080675  \n1626   0.079047  \n1627   0.079047  \n1620   0.058633  \n1664   0.044282  \n1698   0.038495  \n1713   0.038400  \n1716   0.038168  \n1630   0.036469  \n1787   0.030941  \n1697   0.028255  \n1696   0.027162  \n1721   0.023766  \n1648   0.023682  \n1738   0.019380  \n1884   0.018552  \n1659   0.018185  \n1807   0.017510  \n1665   0.016869  \n1756   0.016405  \n1673   0.016046  \n1684   0.015674  \n1683   0.015674  \n1635   0.015471  \n1618   0.012603  \n1689   0.012164  \n1773   0.011483  \n2135   0.007207  \n2107   0.007118  \n1949   0.006359  \n1899   0.006338  \n1893   0.005609  \n1677   0.004263  \n2141   0.004205  \n1917   0.001485  ",
      "text/html": "<div>\n<style scoped>\n    .dataframe tbody tr th:only-of-type {\n        vertical-align: middle;\n    }\n\n    .dataframe tbody tr th {\n        vertical-align: top;\n    }\n\n    .dataframe thead th {\n        text-align: right;\n    }\n</style>\n<table border=\"1\" class=\"dataframe\">\n  <thead>\n    <tr style=\"text-align: right;\">\n      <th></th>\n      <th>Disease</th>\n      <th>Ratio disease</th>\n      <th>Ratio community</th>\n      <th>Relevance</th>\n    </tr>\n  </thead>\n  <tbody>\n    <tr>\n      <th>1619</th>\n      <td>Intellectual Disability</td>\n      <td>0.278761</td>\n      <td>0.464945</td>\n      <td>0.129608</td>\n    </tr>\n    <tr>\n      <th>1614</th>\n      <td>Mental and motor retardation</td>\n      <td>0.361596</td>\n      <td>0.267528</td>\n      <td>0.096737</td>\n    </tr>\n    <tr>\n      <th>1617</th>\n      <td>Global developmental delay</td>\n      <td>0.345433</td>\n      <td>0.272140</td>\n      <td>0.094006</td>\n    </tr>\n    <tr>\n      <th>1616</th>\n      <td>Cognitive delay</td>\n      <td>0.364116</td>\n      <td>0.254613</td>\n      <td>0.092709</td>\n    </tr>\n    <tr>\n      <th>1622</th>\n      <td>Mental deficiency</td>\n      <td>0.336774</td>\n      <td>0.240775</td>\n      <td>0.081087</td>\n    </tr>\n    <tr>\n      <th>1624</th>\n      <td>Poor school performance</td>\n      <td>0.344130</td>\n      <td>0.235240</td>\n      <td>0.080953</td>\n    </tr>\n    <tr>\n      <th>1647</th>\n      <td>Mental Retardation</td>\n      <td>0.321513</td>\n      <td>0.250923</td>\n      <td>0.080675</td>\n    </tr>\n    <tr>\n      <th>1626</th>\n      <td>Dull intelligence</td>\n      <td>0.346910</td>\n      <td>0.227860</td>\n      <td>0.079047</td>\n    </tr>\n    <tr>\n      <th>1627</th>\n      <td>Low intelligence</td>\n      <td>0.346910</td>\n      <td>0.227860</td>\n      <td>0.079047</td>\n    </tr>\n    <tr>\n      <th>1620</th>\n      <td>Short stature</td>\n      <td>0.331034</td>\n      <td>0.177122</td>\n      <td>0.058633</td>\n    </tr>\n    <tr>\n      <th>1664</th>\n      <td>Generalized hypotonia</td>\n      <td>0.317895</td>\n      <td>0.139299</td>\n      <td>0.044282</td>\n    </tr>\n    <tr>\n      <th>1698</th>\n      <td>Failure to gain weight</td>\n      <td>0.320988</td>\n      <td>0.119926</td>\n      <td>0.038495</td>\n    </tr>\n    <tr>\n      <th>1713</th>\n      <td>Pediatric failure to thrive</td>\n      <td>0.320197</td>\n      <td>0.119926</td>\n      <td>0.038400</td>\n    </tr>\n    <tr>\n      <th>1716</th>\n      <td>Undergrowth</td>\n      <td>0.323232</td>\n      <td>0.118081</td>\n      <td>0.038168</td>\n    </tr>\n    <tr>\n      <th>1630</th>\n      <td>Strabismus</td>\n      <td>0.349845</td>\n      <td>0.104244</td>\n      <td>0.036469</td>\n    </tr>\n    <tr>\n      <th>1787</th>\n      <td>Genetic Diseases, Inborn</td>\n      <td>0.299465</td>\n      <td>0.103321</td>\n      <td>0.030941</td>\n    </tr>\n    <tr>\n      <th>1697</th>\n      <td>Acquired scoliosis</td>\n      <td>0.309375</td>\n      <td>0.091328</td>\n      <td>0.028255</td>\n    </tr>\n    <tr>\n      <th>1696</th>\n      <td>Curvature of spine</td>\n      <td>0.306709</td>\n      <td>0.088561</td>\n      <td>0.027162</td>\n    </tr>\n    <tr>\n      <th>1721</th>\n      <td>Dilated ventricles (finding)</td>\n      <td>0.396341</td>\n      <td>0.059963</td>\n      <td>0.023766</td>\n    </tr>\n    <tr>\n      <th>1648</th>\n      <td>Low set ears</td>\n      <td>0.329114</td>\n      <td>0.071956</td>\n      <td>0.023682</td>\n    </tr>\n    <tr>\n      <th>1738</th>\n      <td>Cerebellar Hypoplasia</td>\n      <td>0.420168</td>\n      <td>0.046125</td>\n      <td>0.019380</td>\n    </tr>\n    <tr>\n      <th>1884</th>\n      <td>Hypoplasia of corpus callosum</td>\n      <td>0.372414</td>\n      <td>0.049815</td>\n      <td>0.018552</td>\n    </tr>\n    <tr>\n      <th>1659</th>\n      <td>Feeding difficulties</td>\n      <td>0.317949</td>\n      <td>0.057196</td>\n      <td>0.018185</td>\n    </tr>\n    <tr>\n      <th>1807</th>\n      <td>Thin upper lip vermilion</td>\n      <td>0.431373</td>\n      <td>0.040590</td>\n      <td>0.017510</td>\n    </tr>\n    <tr>\n      <th>1665</th>\n      <td>Byzanthine arch palate</td>\n      <td>0.285714</td>\n      <td>0.059041</td>\n      <td>0.016869</td>\n    </tr>\n    <tr>\n      <th>1756</th>\n      <td>leukemia</td>\n      <td>0.114730</td>\n      <td>0.142989</td>\n      <td>0.016405</td>\n    </tr>\n    <tr>\n      <th>1673</th>\n      <td>Depressed nasal bridge</td>\n      <td>0.280543</td>\n      <td>0.057196</td>\n      <td>0.016046</td>\n    </tr>\n    <tr>\n      <th>1684</th>\n      <td>Depressed nasal root/bridge</td>\n      <td>0.278539</td>\n      <td>0.056273</td>\n      <td>0.015674</td>\n    </tr>\n    <tr>\n      <th>1683</th>\n      <td>Concave bridge of nose</td>\n      <td>0.278539</td>\n      <td>0.056273</td>\n      <td>0.015674</td>\n    </tr>\n    <tr>\n      <th>1635</th>\n      <td>Downward slant of palpebral fissure</td>\n      <td>0.299465</td>\n      <td>0.051661</td>\n      <td>0.015471</td>\n    </tr>\n    <tr>\n      <th>1618</th>\n      <td>Mammary Neoplasms</td>\n      <td>0.088710</td>\n      <td>0.142066</td>\n      <td>0.012603</td>\n    </tr>\n    <tr>\n      <th>1689</th>\n      <td>Leukemia, Myelocytic, Acute</td>\n      <td>0.104651</td>\n      <td>0.116236</td>\n      <td>0.012164</td>\n    </tr>\n    <tr>\n      <th>1773</th>\n      <td>Frontal bossing</td>\n      <td>0.270588</td>\n      <td>0.042435</td>\n      <td>0.011483</td>\n    </tr>\n    <tr>\n      <th>2135</th>\n      <td>Sunken eyes</td>\n      <td>0.312500</td>\n      <td>0.023063</td>\n      <td>0.007207</td>\n    </tr>\n    <tr>\n      <th>2107</th>\n      <td>Enophthalmos</td>\n      <td>0.308642</td>\n      <td>0.023063</td>\n      <td>0.007118</td>\n    </tr>\n    <tr>\n      <th>1949</th>\n      <td>Hyperkyphosis</td>\n      <td>0.237705</td>\n      <td>0.026753</td>\n      <td>0.006359</td>\n    </tr>\n    <tr>\n      <th>1899</th>\n      <td>Kyphosis deformity of spine</td>\n      <td>0.229008</td>\n      <td>0.027675</td>\n      <td>0.006338</td>\n    </tr>\n    <tr>\n      <th>1893</th>\n      <td>Microstomia</td>\n      <td>0.264368</td>\n      <td>0.021218</td>\n      <td>0.005609</td>\n    </tr>\n    <tr>\n      <th>1677</th>\n      <td>Leukemogenesis</td>\n      <td>0.092421</td>\n      <td>0.046125</td>\n      <td>0.004263</td>\n    </tr>\n    <tr>\n      <th>2141</th>\n      <td>Range of joint movement increased</td>\n      <td>0.325581</td>\n      <td>0.012915</td>\n      <td>0.004205</td>\n    </tr>\n    <tr>\n      <th>1917</th>\n      <td>Adenoid Cystic Carcinoma</td>\n      <td>0.100629</td>\n      <td>0.014760</td>\n      <td>0.001485</td>\n    </tr>\n  </tbody>\n</table>\n</div>"
     },
     "execution_count": 31,
     "metadata": {},
     "output_type": "execute_result"
    }
   ],
   "source": [
    "disease_rank[disease_rank['Disease'].isin(son_diseases)]"
   ],
   "metadata": {
    "collapsed": false,
    "pycharm": {
     "name": "#%%\n"
    }
   }
  },
  {
   "cell_type": "code",
   "execution_count": 34,
   "outputs": [
    {
     "data": {
      "text/plain": "         Term   Overlap   P-value  Adjusted P-value  \\\n351  Seizures  816/1174  0.000486          0.013543   \n\n                                                 Genes  \n351  ATF2;JRK;NUP107;TSEN54;NSDHL;SYNGAP1;AKT2;AKT3...  ",
      "text/html": "<div>\n<style scoped>\n    .dataframe tbody tr th:only-of-type {\n        vertical-align: middle;\n    }\n\n    .dataframe tbody tr th {\n        vertical-align: top;\n    }\n\n    .dataframe thead th {\n        text-align: right;\n    }\n</style>\n<table border=\"1\" class=\"dataframe\">\n  <thead>\n    <tr style=\"text-align: right;\">\n      <th></th>\n      <th>Term</th>\n      <th>Overlap</th>\n      <th>P-value</th>\n      <th>Adjusted P-value</th>\n      <th>Genes</th>\n    </tr>\n  </thead>\n  <tbody>\n    <tr>\n      <th>351</th>\n      <td>Seizures</td>\n      <td>816/1174</td>\n      <td>0.000486</td>\n      <td>0.013543</td>\n      <td>ATF2;JRK;NUP107;TSEN54;NSDHL;SYNGAP1;AKT2;AKT3...</td>\n    </tr>\n  </tbody>\n</table>\n</div>"
     },
     "execution_count": 34,
     "metadata": {},
     "output_type": "execute_result"
    }
   ],
   "source": [
    "df_diseases[df_diseases['Term']=='Seizures']"
   ],
   "metadata": {
    "collapsed": false,
    "pycharm": {
     "name": "#%%\n"
    }
   }
  },
  {
   "cell_type": "code",
   "execution_count": 33,
   "outputs": [
    {
     "data": {
      "text/plain": "3"
     },
     "execution_count": 33,
     "metadata": {},
     "output_type": "execute_result"
    }
   ],
   "source": [
    "look_for_gene_community(\"SON\", communities)"
   ],
   "metadata": {
    "collapsed": false,
    "pycharm": {
     "name": "#%%\n"
    }
   }
  }
 ],
 "metadata": {
  "kernelspec": {
   "display_name": "Python 3",
   "language": "python",
   "name": "python3"
  },
  "language_info": {
   "codemirror_mode": {
    "name": "ipython",
    "version": 2
   },
   "file_extension": ".py",
   "mimetype": "text/x-python",
   "name": "python",
   "nbconvert_exporter": "python",
   "pygments_lexer": "ipython2",
   "version": "2.7.6"
  }
 },
 "nbformat": 4,
 "nbformat_minor": 0
}