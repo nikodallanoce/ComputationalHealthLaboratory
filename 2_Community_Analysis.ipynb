{
 "cells": [
  {
   "cell_type": "markdown",
   "source": [
    "**Computational Health Laboratory Project, A.Y. 2021/2022**\n",
    "\n",
    "**Authors:** Niko Dalla Noce, Alessandro Ristori, Andrea Zuppolini\n",
    "\n",
    "**Project:** Starting fron one or more genes, extract from interaction databases the genes they interact with. Using the expanded gene set, perform pathway analysis and obtain all disease pathways in which the genes appear. Merge the pathways to obtain a larger graph. Perform further network analysis to extract central biomarkers and communities beyond pathways. Compute a distance between the initial gene set and the various pathways (diseases)."
   ],
   "metadata": {
    "collapsed": false,
    "pycharm": {
     "name": "#%% md\n"
    }
   }
  },
  {
   "cell_type": "markdown",
   "source": [
    "# **CHL Project, Community Analysis**"
   ],
   "metadata": {
    "collapsed": false,
    "pycharm": {
     "name": "#%% md\n"
    }
   }
  },
  {
   "cell_type": "markdown",
   "source": [
    "## **Colab setup**\n",
    "Takes care of the project setup on Colab."
   ],
   "metadata": {
    "collapsed": false,
    "pycharm": {
     "name": "#%% md\n"
    }
   }
  },
  {
   "cell_type": "code",
   "execution_count": 1,
   "outputs": [],
   "source": [
    "if 'google.colab' in str(get_ipython()):\n",
    "    import subprocess\n",
    "    out_clone = subprocess.run([\"git\", \"clone\", \"https://github.com/nikodallanoce/ComputationalHealthLaboratory\"], text=True, capture_output=True)\n",
    "    print(\"{0}{1}\".format(out_clone.stdout, out_clone.stderr))\n",
    "    %cd ComputationalHealthLaboratory"
   ],
   "metadata": {
    "collapsed": false,
    "pycharm": {
     "name": "#%%\n"
    }
   }
  },
  {
   "cell_type": "markdown",
   "source": [
    "## **Community analysis**\n",
    "Find the communities inside the graph and look how the one in which the starting gene fell is connected to the various diseases."
   ],
   "metadata": {
    "collapsed": false,
    "pycharm": {
     "name": "#%% md\n"
    }
   }
  },
  {
   "cell_type": "code",
   "execution_count": 2,
   "outputs": [],
   "source": [
    "import pandas as pd\n",
    "import numpy as np\n",
    "import networkx as nx\n",
    "\n",
    "def intersection(lst1, lst2):\n",
    "    inters = list()\n",
    "    if not (len(lst1) == 0 or len(lst2) == 0):\n",
    "        set1 = set(lst1)\n",
    "        inters = [elem for elem in lst2 if elem in set1]\n",
    "    return inters"
   ],
   "metadata": {
    "collapsed": false,
    "pycharm": {
     "name": "#%%\n"
    }
   }
  },
  {
   "cell_type": "markdown",
   "source": [
    "We assume that you have already done pathway enrichment on notebook and network analysis on **0_Pathway_Enrichment** and **1_Network_Analysis** and, therefore, all the datasets needed here are available. If so, then load everything."
   ],
   "metadata": {
    "collapsed": false,
    "pycharm": {
     "name": "#%% md\n"
    }
   }
  },
  {
   "cell_type": "code",
   "execution_count": 3,
   "outputs": [],
   "source": [
    "df_diseases = pd.read_csv(\"datasets/diseases_pathways.csv\", sep=\",\", index_col=0)\n",
    "protein_graph = nx.read_gpickle(\"datasets/protein_graph.gpickle\")\n",
    "diseases = dict()\n",
    "for i, disease in df_diseases.iterrows():\n",
    "    disease_genes = disease['Genes'].split(\";\")\n",
    "    term = disease['Term']\n",
    "    diseases[i] = {\"name\": term, \"genes\": disease_genes}"
   ],
   "metadata": {
    "collapsed": false,
    "pycharm": {
     "name": "#%%\n"
    }
   }
  },
  {
   "cell_type": "markdown",
   "source": [
    "Find all the communities with the Louvain method (beware that is not deterministic) and discard those with only one node inside."
   ],
   "metadata": {
    "collapsed": false,
    "pycharm": {
     "name": "#%% md\n"
    }
   }
  },
  {
   "cell_type": "code",
   "execution_count": 4,
   "outputs": [],
   "source": [
    "louvain_communities = list(nx.algorithms.community.louvain_communities(protein_graph))\n",
    "communities = [community for community in louvain_communities if len(community) > 1]  # Discard those communities with one node"
   ],
   "metadata": {
    "collapsed": false,
    "pycharm": {
     "name": "#%%\n"
    }
   }
  },
  {
   "cell_type": "code",
   "execution_count": 5,
   "outputs": [
    {
     "name": "stdout",
     "output_type": "stream",
     "text": [
      "Number of communities: 9\n"
     ]
    }
   ],
   "source": [
    "print(\"Number of communities: {0}\".format(len(communities)))"
   ],
   "metadata": {
    "collapsed": false,
    "pycharm": {
     "name": "#%%\n"
    }
   }
  },
  {
   "cell_type": "markdown",
   "source": [
    "Compute the mean number of nodes of those communities kept after the pruning on their size."
   ],
   "metadata": {
    "collapsed": false,
    "pycharm": {
     "name": "#%% md\n"
    }
   }
  },
  {
   "cell_type": "code",
   "execution_count": 6,
   "outputs": [],
   "source": [
    "def mean_size_communities(communities: list) -> float:\n",
    "    mean_size = 0\n",
    "    for community in communities:\n",
    "        mean_size += len(community)\n",
    "\n",
    "    mean_size /= len(communities)\n",
    "    return mean_size"
   ],
   "metadata": {
    "collapsed": false,
    "pycharm": {
     "name": "#%%\n"
    }
   }
  },
  {
   "cell_type": "code",
   "execution_count": 7,
   "outputs": [
    {
     "name": "stdout",
     "output_type": "stream",
     "text": [
      "Mean size of communities: 681.1111111111111\n"
     ]
    }
   ],
   "source": [
    "print(\"Mean size of communities: {0}\".format(str(mean_size_communities(communities))))"
   ],
   "metadata": {
    "collapsed": false,
    "pycharm": {
     "name": "#%%\n"
    }
   }
  },
  {
   "cell_type": "markdown",
   "source": [
    "Compute the number of diseases in a community."
   ],
   "metadata": {
    "collapsed": false,
    "pycharm": {
     "name": "#%% md\n"
    }
   }
  },
  {
   "cell_type": "code",
   "execution_count": 8,
   "outputs": [],
   "source": [
    "def diseases_in_community(protein_graph: nx.Graph, community: set) -> set:\n",
    "    diseases_community = set()\n",
    "    for protein in list(community):\n",
    "        diseases_protein = protein_graph.nodes[protein][\"diseases\"]\n",
    "        diseases_community.update(diseases_protein)\n",
    "\n",
    "    return diseases_community"
   ],
   "metadata": {
    "collapsed": false,
    "pycharm": {
     "name": "#%%\n"
    }
   }
  },
  {
   "cell_type": "code",
   "execution_count": 9,
   "outputs": [
    {
     "name": "stdout",
     "output_type": "stream",
     "text": [
      "Number of diseases in community 5: 561\n"
     ]
    }
   ],
   "source": [
    "diseases_comm = diseases_in_community(protein_graph, communities[5])\n",
    "print(\"Number of diseases in community {0}: {1}\".format(5, len(diseases_comm)))"
   ],
   "metadata": {
    "collapsed": false,
    "pycharm": {
     "name": "#%%\n"
    }
   }
  },
  {
   "cell_type": "markdown",
   "source": [
    "Let’s also see how many disease, on average, where linked to those communities with only one node."
   ],
   "metadata": {
    "collapsed": false,
    "pycharm": {
     "name": "#%% md\n"
    }
   }
  },
  {
   "cell_type": "code",
   "execution_count": 10,
   "outputs": [],
   "source": [
    "def mean_diseases_communities_size_n(communities: list, protein_graph: nx.Graph, n: int = 1) -> float:\n",
    "    mean_diseases = 0\n",
    "    n_size_commmunities = 0\n",
    "    for community in communities:\n",
    "        community = list(community)\n",
    "        if len(community) == n:\n",
    "            protein = community[0]\n",
    "            protein_diseases = protein_graph.nodes[protein]['diseases']\n",
    "            n_size_commmunities += 1\n",
    "            mean_diseases += len(protein_diseases)\n",
    "\n",
    "    if n_size_commmunities == 0:\n",
    "        print(\"There are no communities with {0} nodes\".format(n))\n",
    "    else:\n",
    "        mean_diseases /= n_size_commmunities\n",
    "\n",
    "    return mean_diseases"
   ],
   "metadata": {
    "collapsed": false,
    "pycharm": {
     "name": "#%%\n"
    }
   }
  },
  {
   "cell_type": "code",
   "execution_count": 11,
   "outputs": [
    {
     "name": "stdout",
     "output_type": "stream",
     "text": [
      "Mean diseases for those communities with one node: 2.2324127906976745\n"
     ]
    }
   ],
   "source": [
    "mean_diseases_one_node = mean_diseases_communities_size_n(louvain_communities, protein_graph)\n",
    "print(\"Mean diseases for those communities with one node: {0}\".format(str(mean_diseases_one_node)))"
   ],
   "metadata": {
    "collapsed": false,
    "pycharm": {
     "name": "#%%\n"
    }
   }
  },
  {
   "cell_type": "markdown",
   "source": [
    "At last compute the mean number of nodes for the diseases."
   ],
   "metadata": {
    "collapsed": false,
    "pycharm": {
     "name": "#%% md\n"
    }
   }
  },
  {
   "cell_type": "code",
   "execution_count": 12,
   "outputs": [],
   "source": [
    "def mean_genes_diseases(diseases: dict) -> float:\n",
    "    mean_size = 0\n",
    "    for _, disease in diseases.items():\n",
    "        mean_size += len(disease['genes'])\n",
    "\n",
    "    mean_size /= len(diseases.keys())\n",
    "    return mean_size"
   ],
   "metadata": {
    "collapsed": false,
    "pycharm": {
     "name": "#%%\n"
    }
   }
  },
  {
   "cell_type": "code",
   "execution_count": 13,
   "outputs": [
    {
     "name": "stdout",
     "output_type": "stream",
     "text": [
      "Mean number of genes for disease: 246.55857385398983\n"
     ]
    }
   ],
   "source": [
    "print(\"Mean number of genes for disease: {0}\".format(mean_genes_diseases(diseases)))"
   ],
   "metadata": {
    "collapsed": false,
    "pycharm": {
     "name": "#%%\n"
    }
   }
  },
  {
   "cell_type": "markdown",
   "source": [
    "Let's see if the communities do not share any nodes."
   ],
   "metadata": {
    "collapsed": false,
    "pycharm": {
     "name": "#%% md\n"
    }
   }
  },
  {
   "cell_type": "code",
   "execution_count": 14,
   "outputs": [],
   "source": [
    "def are_communities_distinct(communities: list) -> bool:\n",
    "    for i, first_community in enumerate(communities):\n",
    "        for j in range(i+1, len(communities)):\n",
    "            second_community = communities[j]\n",
    "            if len(intersection(first_community, second_community))>0:\n",
    "                return False\n",
    "\n",
    "    return True"
   ],
   "metadata": {
    "collapsed": false,
    "pycharm": {
     "name": "#%%\n"
    }
   }
  },
  {
   "cell_type": "code",
   "execution_count": 15,
   "outputs": [
    {
     "data": {
      "text/plain": "True"
     },
     "execution_count": 15,
     "metadata": {},
     "output_type": "execute_result"
    }
   ],
   "source": [
    "are_communities_distinct(communities)"
   ],
   "metadata": {
    "collapsed": false,
    "pycharm": {
     "name": "#%%\n"
    }
   }
  },
  {
   "cell_type": "markdown",
   "source": [
    "Compute how many proteins are shared between each community and disease."
   ],
   "metadata": {
    "collapsed": false,
    "pycharm": {
     "name": "#%% md\n"
    }
   }
  },
  {
   "cell_type": "code",
   "execution_count": 16,
   "outputs": [],
   "source": [
    "def communities_metrics(communities: list, diseases: dict) -> pd.DataFrame:\n",
    "    df_ranks = list()\n",
    "    for i, community in enumerate(communities):\n",
    "        tot_genes = dict()\n",
    "        shared_genes = dict()\n",
    "        for k, disease in diseases.items():\n",
    "            genes = disease['genes']\n",
    "            shared_genes_community = intersection(genes, community)\n",
    "            tot_genes[k] = len(genes)\n",
    "            shared_genes[k] = len(shared_genes_community)\n",
    "\n",
    "        for j in range(len(tot_genes)):\n",
    "            n_genes, n_shared_genes = tot_genes[j], shared_genes[j]\n",
    "            if n_shared_genes > 1:\n",
    "                df_ranks.append({\"Community\": i, \"Disease\": diseases[j]['name'], \"Shared genes\": n_shared_genes,\n",
    "                                 \"Disease genes\": n_genes, \"Community size\": len(community)})\n",
    "\n",
    "    df_ranks = pd.DataFrame(df_ranks)\n",
    "\n",
    "    # Ratio of the shared genes (between community and disease pathway) and the number of genes in the disease\n",
    "    df_ranks[\"Ratio disease\"] = df_ranks['Shared genes'] / df_ranks['Disease genes']\n",
    "\n",
    "    # Ratio of the shared genes (between community and disease pathway) and the size of the community\n",
    "    df_ranks['Ratio community'] = df_ranks[\"Shared genes\"] / df_ranks[\"Community size\"]\n",
    "\n",
    "    # Relevance of the  based on the previous computed metrics\n",
    "    df_ranks[\"Relevance\"] = df_ranks[\"Ratio disease\"] * df_ranks[\"Ratio community\"]\n",
    "    return df_ranks"
   ],
   "metadata": {
    "collapsed": false,
    "pycharm": {
     "name": "#%%\n"
    }
   }
  },
  {
   "cell_type": "code",
   "execution_count": 17,
   "outputs": [
    {
     "data": {
      "text/plain": "      Community                 Disease  Shared genes  Disease genes  \\\n566           0  Tooth size discrepancy             5             47   \n1084          1  Tooth size discrepancy             2             47   \n1630          2  Tooth size discrepancy             3             47   \n2187          3  Tooth size discrepancy             5             47   \n2765          4  Tooth size discrepancy             8             47   \n3279          5  Tooth size discrepancy             4             47   \n4399          7  Tooth size discrepancy            12             47   \n\n      Community size  Ratio disease  Ratio community  Relevance  \n566             1084       0.106383         0.004613   0.000491  \n1084             510       0.042553         0.003922   0.000167  \n1630             894       0.063830         0.003356   0.000214  \n2187             759       0.106383         0.006588   0.000701  \n2765            1085       0.170213         0.007373   0.001255  \n3279             434       0.085106         0.009217   0.000784  \n4399             524       0.255319         0.022901   0.005847  ",
      "text/html": "<div>\n<style scoped>\n    .dataframe tbody tr th:only-of-type {\n        vertical-align: middle;\n    }\n\n    .dataframe tbody tr th {\n        vertical-align: top;\n    }\n\n    .dataframe thead th {\n        text-align: right;\n    }\n</style>\n<table border=\"1\" class=\"dataframe\">\n  <thead>\n    <tr style=\"text-align: right;\">\n      <th></th>\n      <th>Community</th>\n      <th>Disease</th>\n      <th>Shared genes</th>\n      <th>Disease genes</th>\n      <th>Community size</th>\n      <th>Ratio disease</th>\n      <th>Ratio community</th>\n      <th>Relevance</th>\n    </tr>\n  </thead>\n  <tbody>\n    <tr>\n      <th>566</th>\n      <td>0</td>\n      <td>Tooth size discrepancy</td>\n      <td>5</td>\n      <td>47</td>\n      <td>1084</td>\n      <td>0.106383</td>\n      <td>0.004613</td>\n      <td>0.000491</td>\n    </tr>\n    <tr>\n      <th>1084</th>\n      <td>1</td>\n      <td>Tooth size discrepancy</td>\n      <td>2</td>\n      <td>47</td>\n      <td>510</td>\n      <td>0.042553</td>\n      <td>0.003922</td>\n      <td>0.000167</td>\n    </tr>\n    <tr>\n      <th>1630</th>\n      <td>2</td>\n      <td>Tooth size discrepancy</td>\n      <td>3</td>\n      <td>47</td>\n      <td>894</td>\n      <td>0.063830</td>\n      <td>0.003356</td>\n      <td>0.000214</td>\n    </tr>\n    <tr>\n      <th>2187</th>\n      <td>3</td>\n      <td>Tooth size discrepancy</td>\n      <td>5</td>\n      <td>47</td>\n      <td>759</td>\n      <td>0.106383</td>\n      <td>0.006588</td>\n      <td>0.000701</td>\n    </tr>\n    <tr>\n      <th>2765</th>\n      <td>4</td>\n      <td>Tooth size discrepancy</td>\n      <td>8</td>\n      <td>47</td>\n      <td>1085</td>\n      <td>0.170213</td>\n      <td>0.007373</td>\n      <td>0.001255</td>\n    </tr>\n    <tr>\n      <th>3279</th>\n      <td>5</td>\n      <td>Tooth size discrepancy</td>\n      <td>4</td>\n      <td>47</td>\n      <td>434</td>\n      <td>0.085106</td>\n      <td>0.009217</td>\n      <td>0.000784</td>\n    </tr>\n    <tr>\n      <th>4399</th>\n      <td>7</td>\n      <td>Tooth size discrepancy</td>\n      <td>12</td>\n      <td>47</td>\n      <td>524</td>\n      <td>0.255319</td>\n      <td>0.022901</td>\n      <td>0.005847</td>\n    </tr>\n  </tbody>\n</table>\n</div>"
     },
     "execution_count": 17,
     "metadata": {},
     "output_type": "execute_result"
    }
   ],
   "source": [
    "communities_rank = communities_metrics(communities, diseases)\n",
    "communities_rank[communities_rank[\"Disease\"]==\"Tooth size discrepancy\"]"
   ],
   "metadata": {
    "collapsed": false,
    "pycharm": {
     "name": "#%%\n"
    }
   }
  },
  {
   "cell_type": "code",
   "execution_count": 18,
   "outputs": [],
   "source": [
    "communities_rank.to_csv(\"datasets/communities_metrics.csv\")"
   ],
   "metadata": {
    "collapsed": false,
    "pycharm": {
     "name": "#%%\n"
    }
   }
  },
  {
   "cell_type": "markdown",
   "source": [],
   "metadata": {
    "collapsed": false,
    "pycharm": {
     "name": "#%% md\n"
    }
   }
  },
  {
   "cell_type": "code",
   "execution_count": 19,
   "outputs": [],
   "source": [
    "def look_for_gene_community(protein: str, communities: list) -> int:\n",
    "    for i, community in enumerate(communities):\n",
    "        if protein in community:\n",
    "            return i\n",
    "\n",
    "    return -1"
   ],
   "metadata": {
    "collapsed": false,
    "pycharm": {
     "name": "#%%\n"
    }
   }
  },
  {
   "cell_type": "code",
   "execution_count": 20,
   "outputs": [
    {
     "name": "stdout",
     "output_type": "stream",
     "text": [
      "The gene SON is in community 4\n"
     ]
    }
   ],
   "source": [
    "protein_community = \"SON\"\n",
    "gene_community = look_for_gene_community(protein_community, communities)\n",
    "if gene_community == -1:\n",
    "    raise Exception(\"The gene {0} is not in one of the communities\".format(protein_community))\n",
    "else:\n",
    "    print(\"The gene {0} is in community {1}\".format(protein_community, gene_community))"
   ],
   "metadata": {
    "collapsed": false,
    "pycharm": {
     "name": "#%%\n"
    }
   }
  },
  {
   "cell_type": "markdown",
   "source": [
    "Knowing in which community our starting gene is, we can retrieve all the diseases inisde such community and rank them by their relevance."
   ],
   "metadata": {
    "collapsed": false,
    "pycharm": {
     "name": "#%% md\n"
    }
   }
  },
  {
   "cell_type": "code",
   "execution_count": 46,
   "outputs": [],
   "source": [
    "# Retrieve the diseases inside the community in which the gene is in and keep those that share at least ten genes with the community\n",
    "disease_rank = communities_rank[(communities_rank[\"Community\"]==gene_community) &\n",
    "                             (communities_rank[\"Shared genes\"] > 10)].sort_values(by=\"Relevance\", ascending=False).drop([\"Community\", \"Shared genes\", \"Disease genes\", \"Community size\"], axis=1)"
   ],
   "metadata": {
    "collapsed": false,
    "pycharm": {
     "name": "#%%\n"
    }
   }
  },
  {
   "cell_type": "code",
   "execution_count": 47,
   "outputs": [
    {
     "data": {
      "text/plain": "                           Disease  Ratio disease  Ratio community  Relevance\n2193       Intellectual Disability       0.279867         0.466359   0.130519\n2188  Mental and motor retardation       0.364090         0.269124   0.097985\n2191    Global developmental delay       0.347775         0.273733   0.095197\n2190               Cognitive delay       0.366755         0.256221   0.093970\n2196             Mental deficiency       0.339355         0.242396   0.082258",
      "text/html": "<div>\n<style scoped>\n    .dataframe tbody tr th:only-of-type {\n        vertical-align: middle;\n    }\n\n    .dataframe tbody tr th {\n        vertical-align: top;\n    }\n\n    .dataframe thead th {\n        text-align: right;\n    }\n</style>\n<table border=\"1\" class=\"dataframe\">\n  <thead>\n    <tr style=\"text-align: right;\">\n      <th></th>\n      <th>Disease</th>\n      <th>Ratio disease</th>\n      <th>Ratio community</th>\n      <th>Relevance</th>\n    </tr>\n  </thead>\n  <tbody>\n    <tr>\n      <th>2193</th>\n      <td>Intellectual Disability</td>\n      <td>0.279867</td>\n      <td>0.466359</td>\n      <td>0.130519</td>\n    </tr>\n    <tr>\n      <th>2188</th>\n      <td>Mental and motor retardation</td>\n      <td>0.364090</td>\n      <td>0.269124</td>\n      <td>0.097985</td>\n    </tr>\n    <tr>\n      <th>2191</th>\n      <td>Global developmental delay</td>\n      <td>0.347775</td>\n      <td>0.273733</td>\n      <td>0.095197</td>\n    </tr>\n    <tr>\n      <th>2190</th>\n      <td>Cognitive delay</td>\n      <td>0.366755</td>\n      <td>0.256221</td>\n      <td>0.093970</td>\n    </tr>\n    <tr>\n      <th>2196</th>\n      <td>Mental deficiency</td>\n      <td>0.339355</td>\n      <td>0.242396</td>\n      <td>0.082258</td>\n    </tr>\n  </tbody>\n</table>\n</div>"
     },
     "execution_count": 47,
     "metadata": {},
     "output_type": "execute_result"
    }
   ],
   "source": [
    "disease_rank.head()"
   ],
   "metadata": {
    "collapsed": false,
    "pycharm": {
     "name": "#%%\n"
    }
   }
  },
  {
   "cell_type": "code",
   "execution_count": 23,
   "outputs": [],
   "source": [
    "disease_rank.to_csv(\"datasets/community_gene_metrics.csv\")"
   ],
   "metadata": {
    "collapsed": false,
    "pycharm": {
     "name": "#%%\n"
    }
   }
  },
  {
   "cell_type": "markdown",
   "source": [
    "Compute the distances from a communitiy to the other ones."
   ],
   "metadata": {
    "collapsed": false,
    "pycharm": {
     "name": "#%% md\n"
    }
   }
  },
  {
   "cell_type": "code",
   "execution_count": 42,
   "outputs": [],
   "source": [
    "def communities_distance(communities_rank: pd.DataFrame,\n",
    "                         first_index: int,\n",
    "                         second_index: int,\n",
    "                         metric: str = \"Relevance\") -> float:\n",
    "    # Retrieve all the diseases linked to the communities\n",
    "    tmp_first = communities_rank[communities_rank[\"Community\"] == first_index][[\"Disease\", metric]]\n",
    "    tmp_second = communities_rank[communities_rank[\"Community\"] == second_index][[\"Disease\", metric]]\n",
    "\n",
    "    # Shared diseases between the two communities\n",
    "    shared_diseases = tmp_first.merge(tmp_second, left_on=\"Disease\", right_on=\"Disease\")\n",
    "\n",
    "    # Diseases that are not shared between the two communities\n",
    "    tmp_first = tmp_first[~tmp_first['Disease'].isin(shared_diseases[\"Disease\"])]\n",
    "    tmp_second = tmp_second[~tmp_second['Disease'].isin(shared_diseases[\"Disease\"])]\n",
    "\n",
    "    distance = 0\n",
    "    for _, disease in shared_diseases.iterrows():\n",
    "        distance += np.power(disease[metric + \"_x\"] - disease[metric + \"_y\"], 2)\n",
    "\n",
    "    for _, first_disease in tmp_first.iterrows():\n",
    "        distance += np.power(first_disease[metric], 2)\n",
    "\n",
    "    for _, second_disease in tmp_second.iterrows():\n",
    "        distance += np.power(second_disease[metric], 2)\n",
    "\n",
    "    return distance"
   ],
   "metadata": {
    "collapsed": false,
    "pycharm": {
     "name": "#%%\n"
    }
   }
  },
  {
   "cell_type": "code",
   "execution_count": 43,
   "outputs": [
    {
     "name": "stdout",
     "output_type": "stream",
     "text": [
      "Distance to community 0: 0.14864256552637062\n",
      "Distance to community 1: 0.15653731097698675\n",
      "Distance to community 2: 0.1526746051195029\n",
      "Distance to community 3: 0.11742705447044309\n",
      "Distance to community 4: 0.0\n",
      "Distance to community 5: 0.13705091001054495\n",
      "Distance to community 6: 0.10726077869655141\n",
      "Distance to community 7: 0.08689236367490395\n",
      "Distance to community 8: 0.1406843209622718\n"
     ]
    }
   ],
   "source": [
    "son_comm = look_for_gene_community(\"SON\", communities)\n",
    "for i in range(len(communities)):\n",
    "    print(\"Distance to community {0}: {1}\".format(i, communities_distance(communities_rank, son_comm, i)))"
   ],
   "metadata": {
    "collapsed": false,
    "pycharm": {
     "name": "#%%\n"
    }
   }
  },
  {
   "cell_type": "markdown",
   "source": [
    "Save the communities into a csv file."
   ],
   "metadata": {
    "collapsed": false,
    "pycharm": {
     "name": "#%% md\n"
    }
   }
  },
  {
   "cell_type": "code",
   "execution_count": 26,
   "outputs": [],
   "source": [
    "df_communities = pd.DataFrame(communities)\n",
    "df_communities.to_csv(\"datasets/communities.csv\")"
   ],
   "metadata": {
    "collapsed": false,
    "pycharm": {
     "name": "#%%\n"
    }
   }
  },
  {
   "cell_type": "code",
   "execution_count": 37,
   "outputs": [
    {
     "data": {
      "text/plain": "                                   Disease  Ratio disease  Ratio community  \\\n2189                            Small head       0.412766         0.178802   \n2539                              Seizures       0.259804         0.195392   \n2304          Malignant neoplasm of breast       0.125292         0.395392   \n2416                              Epilepsy       0.245763         0.187097   \n2441                      Breast Carcinoma       0.119868         0.368664   \n...                                    ...            ...              ...   \n2364       Disseminated Malignant Neoplasm       0.077922         0.011060   \n2486  Prostatic Intraepithelial Neoplasias       0.081481         0.010138   \n2379       Intrahepatic Cholangiocarcinoma       0.078571         0.010138   \n2547                     oligodendroglioma       0.078571         0.010138   \n2260                   Multiple malignancy       0.075342         0.010138   \n\n      Relevance  \n2189   0.073803  \n2539   0.050764  \n2304   0.049539  \n2416   0.045981  \n2441   0.044191  \n...         ...  \n2364   0.000862  \n2486   0.000826  \n2379   0.000797  \n2547   0.000797  \n2260   0.000764  \n\n[392 rows x 4 columns]",
      "text/html": "<div>\n<style scoped>\n    .dataframe tbody tr th:only-of-type {\n        vertical-align: middle;\n    }\n\n    .dataframe tbody tr th {\n        vertical-align: top;\n    }\n\n    .dataframe thead th {\n        text-align: right;\n    }\n</style>\n<table border=\"1\" class=\"dataframe\">\n  <thead>\n    <tr style=\"text-align: right;\">\n      <th></th>\n      <th>Disease</th>\n      <th>Ratio disease</th>\n      <th>Ratio community</th>\n      <th>Relevance</th>\n    </tr>\n  </thead>\n  <tbody>\n    <tr>\n      <th>2189</th>\n      <td>Small head</td>\n      <td>0.412766</td>\n      <td>0.178802</td>\n      <td>0.073803</td>\n    </tr>\n    <tr>\n      <th>2539</th>\n      <td>Seizures</td>\n      <td>0.259804</td>\n      <td>0.195392</td>\n      <td>0.050764</td>\n    </tr>\n    <tr>\n      <th>2304</th>\n      <td>Malignant neoplasm of breast</td>\n      <td>0.125292</td>\n      <td>0.395392</td>\n      <td>0.049539</td>\n    </tr>\n    <tr>\n      <th>2416</th>\n      <td>Epilepsy</td>\n      <td>0.245763</td>\n      <td>0.187097</td>\n      <td>0.045981</td>\n    </tr>\n    <tr>\n      <th>2441</th>\n      <td>Breast Carcinoma</td>\n      <td>0.119868</td>\n      <td>0.368664</td>\n      <td>0.044191</td>\n    </tr>\n    <tr>\n      <th>...</th>\n      <td>...</td>\n      <td>...</td>\n      <td>...</td>\n      <td>...</td>\n    </tr>\n    <tr>\n      <th>2364</th>\n      <td>Disseminated Malignant Neoplasm</td>\n      <td>0.077922</td>\n      <td>0.011060</td>\n      <td>0.000862</td>\n    </tr>\n    <tr>\n      <th>2486</th>\n      <td>Prostatic Intraepithelial Neoplasias</td>\n      <td>0.081481</td>\n      <td>0.010138</td>\n      <td>0.000826</td>\n    </tr>\n    <tr>\n      <th>2379</th>\n      <td>Intrahepatic Cholangiocarcinoma</td>\n      <td>0.078571</td>\n      <td>0.010138</td>\n      <td>0.000797</td>\n    </tr>\n    <tr>\n      <th>2547</th>\n      <td>oligodendroglioma</td>\n      <td>0.078571</td>\n      <td>0.010138</td>\n      <td>0.000797</td>\n    </tr>\n    <tr>\n      <th>2260</th>\n      <td>Multiple malignancy</td>\n      <td>0.075342</td>\n      <td>0.010138</td>\n      <td>0.000764</td>\n    </tr>\n  </tbody>\n</table>\n<p>392 rows × 4 columns</p>\n</div>"
     },
     "execution_count": 37,
     "metadata": {},
     "output_type": "execute_result"
    }
   ],
   "source": [
    "son_index_diseases = protein_graph.nodes()['SON']['diseases']\n",
    "son_diseases = df_diseases.loc[son_index_diseases, 'Term']\n",
    "\n",
    "disease_rank[~disease_rank['Disease'].isin(son_diseases)].sort_values(by='Relevance', ascending=False)"
   ],
   "metadata": {
    "collapsed": false,
    "pycharm": {
     "name": "#%%\n"
    }
   }
  },
  {
   "cell_type": "code",
   "execution_count": 49,
   "outputs": [
    {
     "data": {
      "text/plain": "                                  Disease  Ratio disease  Ratio community  \\\n2193              Intellectual Disability       0.279867         0.466359   \n2188         Mental and motor retardation       0.364090         0.269124   \n2191           Global developmental delay       0.347775         0.273733   \n2190                      Cognitive delay       0.366755         0.256221   \n2196                    Mental deficiency       0.339355         0.242396   \n2198              Poor school performance       0.346829         0.236866   \n2221                   Mental Retardation       0.323877         0.252535   \n2200                    Dull intelligence       0.349719         0.229493   \n2201                     Low intelligence       0.349719         0.229493   \n2194                        Short stature       0.332759         0.177880   \n2238                Generalized hypotonia       0.317895         0.139171   \n2272               Failure to gain weight       0.320988         0.119816   \n2287          Pediatric failure to thrive       0.320197         0.119816   \n2290                          Undergrowth       0.323232         0.117972   \n2204                           Strabismus       0.349845         0.104147   \n2361             Genetic Diseases, Inborn       0.296791         0.102304   \n2271                   Acquired scoliosis       0.309375         0.091244   \n2270                   Curvature of spine       0.306709         0.088479   \n2295         Dilated ventricles (finding)       0.396341         0.059908   \n2222                         Low set ears       0.329114         0.071889   \n2312                Cerebellar Hypoplasia       0.420168         0.046083   \n2458        Hypoplasia of corpus callosum       0.372414         0.049770   \n2233                 Feeding difficulties       0.317949         0.057143   \n2381             Thin upper lip vermilion       0.431373         0.040553   \n2239               Byzanthine arch palate       0.285714         0.058986   \n2247               Depressed nasal bridge       0.285068         0.058065   \n2330                             leukemia       0.114730         0.142857   \n2257               Concave bridge of nose       0.283105         0.057143   \n2258          Depressed nasal root/bridge       0.283105         0.057143   \n2209  Downward slant of palpebral fissure       0.299465         0.051613   \n2192                    Mammary Neoplasms       0.089286         0.142857   \n2263          Leukemia, Myelocytic, Acute       0.104651         0.116129   \n2347                      Frontal bossing       0.270588         0.042396   \n2710                          Sunken eyes       0.312500         0.023041   \n2682                         Enophthalmos       0.308642         0.023041   \n2523                        Hyperkyphosis       0.237705         0.026728   \n2473          Kyphosis deformity of spine       0.229008         0.027650   \n2467                          Microstomia       0.264368         0.021198   \n2716    Range of joint movement increased       0.325581         0.012903   \n2251                       Leukemogenesis       0.090573         0.045161   \n2491             Adenoid Cystic Carcinoma       0.094340         0.013825   \n\n      Relevance  \n2193   0.130519  \n2188   0.097985  \n2191   0.095197  \n2190   0.093970  \n2196   0.082258  \n2198   0.082152  \n2221   0.081790  \n2200   0.080258  \n2201   0.080258  \n2194   0.059191  \n2238   0.044242  \n2272   0.038459  \n2287   0.038365  \n2290   0.038132  \n2204   0.036435  \n2361   0.030363  \n2271   0.028229  \n2270   0.027137  \n2295   0.023744  \n2222   0.023660  \n2312   0.019363  \n2458   0.018535  \n2233   0.018168  \n2381   0.017493  \n2239   0.016853  \n2247   0.016552  \n2330   0.016390  \n2257   0.016177  \n2258   0.016177  \n2209   0.015456  \n2192   0.012755  \n2263   0.012153  \n2347   0.011472  \n2710   0.007200  \n2682   0.007112  \n2523   0.006353  \n2473   0.006332  \n2467   0.005604  \n2716   0.004201  \n2251   0.004090  \n2491   0.001304  ",
      "text/html": "<div>\n<style scoped>\n    .dataframe tbody tr th:only-of-type {\n        vertical-align: middle;\n    }\n\n    .dataframe tbody tr th {\n        vertical-align: top;\n    }\n\n    .dataframe thead th {\n        text-align: right;\n    }\n</style>\n<table border=\"1\" class=\"dataframe\">\n  <thead>\n    <tr style=\"text-align: right;\">\n      <th></th>\n      <th>Disease</th>\n      <th>Ratio disease</th>\n      <th>Ratio community</th>\n      <th>Relevance</th>\n    </tr>\n  </thead>\n  <tbody>\n    <tr>\n      <th>2193</th>\n      <td>Intellectual Disability</td>\n      <td>0.279867</td>\n      <td>0.466359</td>\n      <td>0.130519</td>\n    </tr>\n    <tr>\n      <th>2188</th>\n      <td>Mental and motor retardation</td>\n      <td>0.364090</td>\n      <td>0.269124</td>\n      <td>0.097985</td>\n    </tr>\n    <tr>\n      <th>2191</th>\n      <td>Global developmental delay</td>\n      <td>0.347775</td>\n      <td>0.273733</td>\n      <td>0.095197</td>\n    </tr>\n    <tr>\n      <th>2190</th>\n      <td>Cognitive delay</td>\n      <td>0.366755</td>\n      <td>0.256221</td>\n      <td>0.093970</td>\n    </tr>\n    <tr>\n      <th>2196</th>\n      <td>Mental deficiency</td>\n      <td>0.339355</td>\n      <td>0.242396</td>\n      <td>0.082258</td>\n    </tr>\n    <tr>\n      <th>2198</th>\n      <td>Poor school performance</td>\n      <td>0.346829</td>\n      <td>0.236866</td>\n      <td>0.082152</td>\n    </tr>\n    <tr>\n      <th>2221</th>\n      <td>Mental Retardation</td>\n      <td>0.323877</td>\n      <td>0.252535</td>\n      <td>0.081790</td>\n    </tr>\n    <tr>\n      <th>2200</th>\n      <td>Dull intelligence</td>\n      <td>0.349719</td>\n      <td>0.229493</td>\n      <td>0.080258</td>\n    </tr>\n    <tr>\n      <th>2201</th>\n      <td>Low intelligence</td>\n      <td>0.349719</td>\n      <td>0.229493</td>\n      <td>0.080258</td>\n    </tr>\n    <tr>\n      <th>2194</th>\n      <td>Short stature</td>\n      <td>0.332759</td>\n      <td>0.177880</td>\n      <td>0.059191</td>\n    </tr>\n    <tr>\n      <th>2238</th>\n      <td>Generalized hypotonia</td>\n      <td>0.317895</td>\n      <td>0.139171</td>\n      <td>0.044242</td>\n    </tr>\n    <tr>\n      <th>2272</th>\n      <td>Failure to gain weight</td>\n      <td>0.320988</td>\n      <td>0.119816</td>\n      <td>0.038459</td>\n    </tr>\n    <tr>\n      <th>2287</th>\n      <td>Pediatric failure to thrive</td>\n      <td>0.320197</td>\n      <td>0.119816</td>\n      <td>0.038365</td>\n    </tr>\n    <tr>\n      <th>2290</th>\n      <td>Undergrowth</td>\n      <td>0.323232</td>\n      <td>0.117972</td>\n      <td>0.038132</td>\n    </tr>\n    <tr>\n      <th>2204</th>\n      <td>Strabismus</td>\n      <td>0.349845</td>\n      <td>0.104147</td>\n      <td>0.036435</td>\n    </tr>\n    <tr>\n      <th>2361</th>\n      <td>Genetic Diseases, Inborn</td>\n      <td>0.296791</td>\n      <td>0.102304</td>\n      <td>0.030363</td>\n    </tr>\n    <tr>\n      <th>2271</th>\n      <td>Acquired scoliosis</td>\n      <td>0.309375</td>\n      <td>0.091244</td>\n      <td>0.028229</td>\n    </tr>\n    <tr>\n      <th>2270</th>\n      <td>Curvature of spine</td>\n      <td>0.306709</td>\n      <td>0.088479</td>\n      <td>0.027137</td>\n    </tr>\n    <tr>\n      <th>2295</th>\n      <td>Dilated ventricles (finding)</td>\n      <td>0.396341</td>\n      <td>0.059908</td>\n      <td>0.023744</td>\n    </tr>\n    <tr>\n      <th>2222</th>\n      <td>Low set ears</td>\n      <td>0.329114</td>\n      <td>0.071889</td>\n      <td>0.023660</td>\n    </tr>\n    <tr>\n      <th>2312</th>\n      <td>Cerebellar Hypoplasia</td>\n      <td>0.420168</td>\n      <td>0.046083</td>\n      <td>0.019363</td>\n    </tr>\n    <tr>\n      <th>2458</th>\n      <td>Hypoplasia of corpus callosum</td>\n      <td>0.372414</td>\n      <td>0.049770</td>\n      <td>0.018535</td>\n    </tr>\n    <tr>\n      <th>2233</th>\n      <td>Feeding difficulties</td>\n      <td>0.317949</td>\n      <td>0.057143</td>\n      <td>0.018168</td>\n    </tr>\n    <tr>\n      <th>2381</th>\n      <td>Thin upper lip vermilion</td>\n      <td>0.431373</td>\n      <td>0.040553</td>\n      <td>0.017493</td>\n    </tr>\n    <tr>\n      <th>2239</th>\n      <td>Byzanthine arch palate</td>\n      <td>0.285714</td>\n      <td>0.058986</td>\n      <td>0.016853</td>\n    </tr>\n    <tr>\n      <th>2247</th>\n      <td>Depressed nasal bridge</td>\n      <td>0.285068</td>\n      <td>0.058065</td>\n      <td>0.016552</td>\n    </tr>\n    <tr>\n      <th>2330</th>\n      <td>leukemia</td>\n      <td>0.114730</td>\n      <td>0.142857</td>\n      <td>0.016390</td>\n    </tr>\n    <tr>\n      <th>2257</th>\n      <td>Concave bridge of nose</td>\n      <td>0.283105</td>\n      <td>0.057143</td>\n      <td>0.016177</td>\n    </tr>\n    <tr>\n      <th>2258</th>\n      <td>Depressed nasal root/bridge</td>\n      <td>0.283105</td>\n      <td>0.057143</td>\n      <td>0.016177</td>\n    </tr>\n    <tr>\n      <th>2209</th>\n      <td>Downward slant of palpebral fissure</td>\n      <td>0.299465</td>\n      <td>0.051613</td>\n      <td>0.015456</td>\n    </tr>\n    <tr>\n      <th>2192</th>\n      <td>Mammary Neoplasms</td>\n      <td>0.089286</td>\n      <td>0.142857</td>\n      <td>0.012755</td>\n    </tr>\n    <tr>\n      <th>2263</th>\n      <td>Leukemia, Myelocytic, Acute</td>\n      <td>0.104651</td>\n      <td>0.116129</td>\n      <td>0.012153</td>\n    </tr>\n    <tr>\n      <th>2347</th>\n      <td>Frontal bossing</td>\n      <td>0.270588</td>\n      <td>0.042396</td>\n      <td>0.011472</td>\n    </tr>\n    <tr>\n      <th>2710</th>\n      <td>Sunken eyes</td>\n      <td>0.312500</td>\n      <td>0.023041</td>\n      <td>0.007200</td>\n    </tr>\n    <tr>\n      <th>2682</th>\n      <td>Enophthalmos</td>\n      <td>0.308642</td>\n      <td>0.023041</td>\n      <td>0.007112</td>\n    </tr>\n    <tr>\n      <th>2523</th>\n      <td>Hyperkyphosis</td>\n      <td>0.237705</td>\n      <td>0.026728</td>\n      <td>0.006353</td>\n    </tr>\n    <tr>\n      <th>2473</th>\n      <td>Kyphosis deformity of spine</td>\n      <td>0.229008</td>\n      <td>0.027650</td>\n      <td>0.006332</td>\n    </tr>\n    <tr>\n      <th>2467</th>\n      <td>Microstomia</td>\n      <td>0.264368</td>\n      <td>0.021198</td>\n      <td>0.005604</td>\n    </tr>\n    <tr>\n      <th>2716</th>\n      <td>Range of joint movement increased</td>\n      <td>0.325581</td>\n      <td>0.012903</td>\n      <td>0.004201</td>\n    </tr>\n    <tr>\n      <th>2251</th>\n      <td>Leukemogenesis</td>\n      <td>0.090573</td>\n      <td>0.045161</td>\n      <td>0.004090</td>\n    </tr>\n    <tr>\n      <th>2491</th>\n      <td>Adenoid Cystic Carcinoma</td>\n      <td>0.094340</td>\n      <td>0.013825</td>\n      <td>0.001304</td>\n    </tr>\n  </tbody>\n</table>\n</div>"
     },
     "execution_count": 49,
     "metadata": {},
     "output_type": "execute_result"
    }
   ],
   "source": [
    "disease_rank[disease_rank['Disease'].isin(son_diseases)]"
   ],
   "metadata": {
    "collapsed": false,
    "pycharm": {
     "name": "#%%\n"
    }
   }
  }
 ],
 "metadata": {
  "kernelspec": {
   "display_name": "Python 3",
   "language": "python",
   "name": "python3"
  },
  "language_info": {
   "codemirror_mode": {
    "name": "ipython",
    "version": 2
   },
   "file_extension": ".py",
   "mimetype": "text/x-python",
   "name": "python",
   "nbconvert_exporter": "python",
   "pygments_lexer": "ipython2",
   "version": "2.7.6"
  }
 },
 "nbformat": 4,
 "nbformat_minor": 0
}