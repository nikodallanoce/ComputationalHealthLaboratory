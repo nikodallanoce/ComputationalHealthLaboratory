{
 "cells": [
  {
   "cell_type": "markdown",
   "source": [
    "**Computational Health Laboratory Project, A.Y. 2021/2022**\n",
    "\n",
    "**Authors:** Niko Dalla Noce, Alessandro Ristori, Andrea Zuppolini\n",
    "\n",
    "**Project:** Starting fron one or more genes, extract from interaction databases the genes they interact with. Using the expanded gene set, perform pathway analysis and obtain all disease pathways in which the genes appear. Merge the pathways to obtain a larger graph. Perform further network analysis to extract central biomarkers and communities beyond pathways. Compute a distance between the initial gene set and the various pathways (diseases)."
   ],
   "metadata": {
    "collapsed": false,
    "pycharm": {
     "name": "#%% md\n"
    }
   }
  },
  {
   "cell_type": "markdown",
   "source": [
    "# **CHL Project, Community Analysis**"
   ],
   "metadata": {
    "collapsed": false,
    "pycharm": {
     "name": "#%% md\n"
    }
   }
  },
  {
   "cell_type": "markdown",
   "source": [
    "## **Colab setup**\n",
    "Takes care of the project setup on Colab."
   ],
   "metadata": {
    "collapsed": false,
    "pycharm": {
     "name": "#%% md\n"
    }
   }
  },
  {
   "cell_type": "code",
   "execution_count": 1,
   "outputs": [],
   "source": [
    "if 'google.colab' in str(get_ipython()):\n",
    "    import subprocess\n",
    "    out_clone = subprocess.run([\"git\", \"clone\", \"https://github.com/nikodallanoce/ComputationalHealthLaboratory\"], text=True, capture_output=True)\n",
    "    print(\"{0}{1}\".format(out_clone.stdout, out_clone.stderr))\n",
    "    %cd ComputationalHealthLaboratory"
   ],
   "metadata": {
    "collapsed": false,
    "pycharm": {
     "name": "#%%\n"
    }
   }
  },
  {
   "cell_type": "markdown",
   "source": [
    "## **Community analysis**\n",
    "Find the communities inside the graph and look how the one in which the starting gene fell is connected to the various diseases."
   ],
   "metadata": {
    "collapsed": false,
    "pycharm": {
     "name": "#%% md\n"
    }
   }
  },
  {
   "cell_type": "code",
   "execution_count": 2,
   "outputs": [],
   "source": [
    "import pandas as pd\n",
    "import networkx as nx\n",
    "\n",
    "def intersection(lst1, lst2):\n",
    "    inters = list()\n",
    "    if not (len(lst1) == 0 or len(lst2) == 0):\n",
    "        set1 = set(lst1)\n",
    "        inters = [elem for elem in lst2 if elem in set1]\n",
    "    return inters"
   ],
   "metadata": {
    "collapsed": false,
    "pycharm": {
     "name": "#%%\n"
    }
   }
  },
  {
   "cell_type": "markdown",
   "source": [
    "We assume that you have already done pathway enrichment on notebook and network analysis on **0_Pathway_Enrichment** and **1_Network_Analysis** and, therefore, all the datasets needed here are available. If so, then load everything."
   ],
   "metadata": {
    "collapsed": false,
    "pycharm": {
     "name": "#%% md\n"
    }
   }
  },
  {
   "cell_type": "code",
   "execution_count": 3,
   "outputs": [],
   "source": [
    "nodes = pd.read_csv(\"datasets/genes.csv\", sep=\",\", index_col=0)[\"0\"]\n",
    "df_diseases = pd.read_csv(\"datasets/diseases_pathways.csv\", sep=\",\", index_col=0)\n",
    "interactions = pd.read_csv(\"datasets/interactions.csv\", sep=\",\", index_col=0)\n",
    "protein_graph = nx.read_gpickle(\"datasets/protein_graph.gpickle\")\n",
    "diseases = dict()\n",
    "for i, disease in df_diseases.iterrows():\n",
    "    disease_genes = disease['Genes'].split(\";\")\n",
    "    term = disease['Term']\n",
    "    diseases[i] = {\"name\": term, \"genes\": disease_genes}"
   ],
   "metadata": {
    "collapsed": false,
    "pycharm": {
     "name": "#%%\n"
    }
   }
  },
  {
   "cell_type": "markdown",
   "source": [
    "Find all the communities with the Louvain method (beware that is not deterministic) and discard those with only one node inside."
   ],
   "metadata": {
    "collapsed": false,
    "pycharm": {
     "name": "#%% md\n"
    }
   }
  },
  {
   "cell_type": "code",
   "execution_count": 4,
   "outputs": [],
   "source": [
    "louvain_communities = list(nx.algorithms.community.louvain_communities(protein_graph))\n",
    "communities = [community for community in louvain_communities if len(community) > 1]  # Discard those communities with one node"
   ],
   "metadata": {
    "collapsed": false,
    "pycharm": {
     "name": "#%%\n"
    }
   }
  },
  {
   "cell_type": "code",
   "execution_count": 5,
   "outputs": [
    {
     "name": "stdout",
     "output_type": "stream",
     "text": [
      "Number of communities: 9\n"
     ]
    }
   ],
   "source": [
    "print(\"Number of communities: {0}\".format(len(communities)))"
   ],
   "metadata": {
    "collapsed": false,
    "pycharm": {
     "name": "#%%\n"
    }
   }
  },
  {
   "cell_type": "markdown",
   "source": [
    "Compute the mean number of nodes of those communities kept after the pruning on their size."
   ],
   "metadata": {
    "collapsed": false,
    "pycharm": {
     "name": "#%% md\n"
    }
   }
  },
  {
   "cell_type": "code",
   "execution_count": 6,
   "outputs": [],
   "source": [
    "def mean_size_communities(communities: list) -> float:\n",
    "    mean_size = 0\n",
    "    for community in communities:\n",
    "        mean_size += len(community)\n",
    "\n",
    "    mean_size /= len(communities)\n",
    "    return mean_size"
   ],
   "metadata": {
    "collapsed": false,
    "pycharm": {
     "name": "#%%\n"
    }
   }
  },
  {
   "cell_type": "code",
   "execution_count": 7,
   "outputs": [
    {
     "name": "stdout",
     "output_type": "stream",
     "text": [
      "Mean size of communities: 681.1111111111111\n"
     ]
    }
   ],
   "source": [
    "print(\"Mean size of communities: {0}\".format(str(mean_size_communities(communities))))"
   ],
   "metadata": {
    "collapsed": false,
    "pycharm": {
     "name": "#%%\n"
    }
   }
  },
  {
   "cell_type": "markdown",
   "source": [
    "Compute the number of diseases in a community."
   ],
   "metadata": {
    "collapsed": false,
    "pycharm": {
     "name": "#%% md\n"
    }
   }
  },
  {
   "cell_type": "code",
   "execution_count": 8,
   "outputs": [],
   "source": [
    "def diseases_in_community(protein_graph: nx.Graph, community: set) -> set:\n",
    "    diseases_community = set()\n",
    "    for protein in list(community):\n",
    "        diseases_protein = protein_graph.nodes[protein][\"diseases\"]\n",
    "        diseases_community.update(diseases_protein)\n",
    "\n",
    "    return diseases_community"
   ],
   "metadata": {
    "collapsed": false,
    "pycharm": {
     "name": "#%%\n"
    }
   }
  },
  {
   "cell_type": "code",
   "execution_count": 9,
   "outputs": [
    {
     "name": "stdout",
     "output_type": "stream",
     "text": [
      "Number of diseases in community 5: 586\n"
     ]
    }
   ],
   "source": [
    "diseases_comm = diseases_in_community(protein_graph, communities[5])\n",
    "print(\"Number of diseases in community {0}: {1}\".format(5, len(diseases_comm)))"
   ],
   "metadata": {
    "collapsed": false,
    "pycharm": {
     "name": "#%%\n"
    }
   }
  },
  {
   "cell_type": "markdown",
   "source": [
    "Let’s also see how many disease, on average, where linked to those communities with only one node."
   ],
   "metadata": {
    "collapsed": false,
    "pycharm": {
     "name": "#%% md\n"
    }
   }
  },
  {
   "cell_type": "code",
   "execution_count": 10,
   "outputs": [],
   "source": [
    "def mean_diseases_communities_size_n(communities: list, protein_graph: nx.Graph, n: int = 1) -> float:\n",
    "    mean_diseases = 0\n",
    "    n_size_commmunities = 0\n",
    "    for community in communities:\n",
    "        community = list(community)\n",
    "        if len(community) == n:\n",
    "            protein = community[0]\n",
    "            protein_diseases = protein_graph.nodes[protein]['diseases']\n",
    "            n_size_commmunities += 1\n",
    "            mean_diseases += len(protein_diseases)\n",
    "\n",
    "    if n_size_commmunities == 0:\n",
    "        print(\"There are no communities with {0} nodes\".format(n))\n",
    "    else:\n",
    "        mean_diseases /= n_size_commmunities\n",
    "\n",
    "    return mean_diseases"
   ],
   "metadata": {
    "collapsed": false,
    "pycharm": {
     "name": "#%%\n"
    }
   }
  },
  {
   "cell_type": "code",
   "execution_count": 11,
   "outputs": [
    {
     "name": "stdout",
     "output_type": "stream",
     "text": [
      "Mean diseases for those communities with one node: 2.2324127906976745\n"
     ]
    }
   ],
   "source": [
    "mean_diseases_one_node = mean_diseases_communities_size_n(louvain_communities, protein_graph)\n",
    "print(\"Mean diseases for those communities with one node: {0}\".format(str(mean_diseases_one_node)))"
   ],
   "metadata": {
    "collapsed": false,
    "pycharm": {
     "name": "#%%\n"
    }
   }
  },
  {
   "cell_type": "markdown",
   "source": [
    "At last compute the mean number of nodes for the diseases."
   ],
   "metadata": {
    "collapsed": false,
    "pycharm": {
     "name": "#%% md\n"
    }
   }
  },
  {
   "cell_type": "code",
   "execution_count": 12,
   "outputs": [],
   "source": [
    "def mean_genes_diseases(diseases: dict) -> float:\n",
    "    mean_size = 0\n",
    "    for _, disease in diseases.items():\n",
    "        mean_size += len(disease['genes'])\n",
    "\n",
    "    mean_size /= len(diseases.keys())\n",
    "    return mean_size"
   ],
   "metadata": {
    "collapsed": false,
    "pycharm": {
     "name": "#%%\n"
    }
   }
  },
  {
   "cell_type": "code",
   "execution_count": 13,
   "outputs": [
    {
     "name": "stdout",
     "output_type": "stream",
     "text": [
      "Mean number of genes for disease: 246.55857385398983\n"
     ]
    }
   ],
   "source": [
    "print(\"Mean number of genes for disease: {0}\".format(mean_genes_diseases(diseases)))"
   ],
   "metadata": {
    "collapsed": false,
    "pycharm": {
     "name": "#%%\n"
    }
   }
  },
  {
   "cell_type": "markdown",
   "source": [
    "Let's see if the communities do not share any nodes."
   ],
   "metadata": {
    "collapsed": false,
    "pycharm": {
     "name": "#%% md\n"
    }
   }
  },
  {
   "cell_type": "code",
   "execution_count": 14,
   "outputs": [],
   "source": [
    "def are_communities_distinct(communities: list) -> bool:\n",
    "    for i, first_community in enumerate(communities):\n",
    "        for j in range(i+1, len(communities)):\n",
    "            second_community = communities[j]\n",
    "            if len(intersection(first_community, second_community))>0:\n",
    "                return False\n",
    "\n",
    "    return True"
   ],
   "metadata": {
    "collapsed": false,
    "pycharm": {
     "name": "#%%\n"
    }
   }
  },
  {
   "cell_type": "code",
   "execution_count": 15,
   "outputs": [
    {
     "data": {
      "text/plain": "True"
     },
     "execution_count": 15,
     "metadata": {},
     "output_type": "execute_result"
    }
   ],
   "source": [
    "are_communities_distinct(communities)"
   ],
   "metadata": {
    "collapsed": false,
    "pycharm": {
     "name": "#%%\n"
    }
   }
  },
  {
   "cell_type": "markdown",
   "source": [
    "Compute how many proteins are shared between each community and disease."
   ],
   "metadata": {
    "collapsed": false,
    "pycharm": {
     "name": "#%% md\n"
    }
   }
  },
  {
   "cell_type": "code",
   "execution_count": 16,
   "outputs": [],
   "source": [
    "def communities_metrics(communities: list, diseases: dict) -> pd.DataFrame:\n",
    "    df_ranks = list()\n",
    "    for i, community in enumerate(communities):\n",
    "        tot_genes = dict()\n",
    "        shared_genes = dict()\n",
    "        for k, disease in diseases.items():\n",
    "            genes = disease['genes']\n",
    "            shared_genes_community = intersection(genes, community)\n",
    "            tot_genes[k] = len(genes)\n",
    "            shared_genes[k] = len(shared_genes_community)\n",
    "\n",
    "        for j in range(len(tot_genes)):\n",
    "            n_genes, n_shared_genes = tot_genes[j], shared_genes[j]\n",
    "            if n_shared_genes > 1:\n",
    "                df_ranks.append({\"Community\": i, \"Disease\": diseases[j]['name'], \"Shared genes\": n_shared_genes,\n",
    "                                 \"Disease genes\": n_genes, \"Community size\": len(community)})\n",
    "\n",
    "    df_ranks = pd.DataFrame(df_ranks)\n",
    "\n",
    "    # Ratio of the shared genes (between community and disease pathway) and the number of genes in the disease\n",
    "    df_ranks[\"Ratio disease\"] = df_ranks['Shared genes'] / df_ranks['Disease genes']\n",
    "\n",
    "    # Ratio of the shared genes (between community and disease pathway) and the size of the community\n",
    "    df_ranks['Ratio community'] = df_ranks[\"Shared genes\"] / df_ranks[\"Community size\"]\n",
    "\n",
    "    # Relevance of the  based on the previous computed metrics\n",
    "    df_ranks[\"Relevance\"] = df_ranks[\"Ratio disease\"] * df_ranks[\"Ratio community\"]\n",
    "    return df_ranks"
   ],
   "metadata": {
    "collapsed": false,
    "pycharm": {
     "name": "#%%\n"
    }
   }
  },
  {
   "cell_type": "code",
   "execution_count": 17,
   "outputs": [
    {
     "data": {
      "text/plain": "      Community                 Disease  Shared genes  Disease genes  \\\n518           0  Tooth size discrepancy             2             47   \n1079          1  Tooth size discrepancy             4             47   \n1628          2  Tooth size discrepancy             3             47   \n2182          3  Tooth size discrepancy             5             47   \n2736          4  Tooth size discrepancy             9             47   \n3312          5  Tooth size discrepancy             8             47   \n3868          6  Tooth size discrepancy             4             47   \n4438          7  Tooth size discrepancy             5             47   \n\n      Community size  Ratio disease  Ratio community  Relevance  \n518              495       0.042553         0.004040   0.000172  \n1079             458       0.085106         0.008734   0.000743  \n1628             900       0.063830         0.003333   0.000213  \n2182             675       0.106383         0.007407   0.000788  \n2736             411       0.191489         0.021898   0.004193  \n3312            1077       0.170213         0.007428   0.001264  \n3868             836       0.085106         0.004785   0.000407  \n4438            1112       0.106383         0.004496   0.000478  ",
      "text/html": "<div>\n<style scoped>\n    .dataframe tbody tr th:only-of-type {\n        vertical-align: middle;\n    }\n\n    .dataframe tbody tr th {\n        vertical-align: top;\n    }\n\n    .dataframe thead th {\n        text-align: right;\n    }\n</style>\n<table border=\"1\" class=\"dataframe\">\n  <thead>\n    <tr style=\"text-align: right;\">\n      <th></th>\n      <th>Community</th>\n      <th>Disease</th>\n      <th>Shared genes</th>\n      <th>Disease genes</th>\n      <th>Community size</th>\n      <th>Ratio disease</th>\n      <th>Ratio community</th>\n      <th>Relevance</th>\n    </tr>\n  </thead>\n  <tbody>\n    <tr>\n      <th>518</th>\n      <td>0</td>\n      <td>Tooth size discrepancy</td>\n      <td>2</td>\n      <td>47</td>\n      <td>495</td>\n      <td>0.042553</td>\n      <td>0.004040</td>\n      <td>0.000172</td>\n    </tr>\n    <tr>\n      <th>1079</th>\n      <td>1</td>\n      <td>Tooth size discrepancy</td>\n      <td>4</td>\n      <td>47</td>\n      <td>458</td>\n      <td>0.085106</td>\n      <td>0.008734</td>\n      <td>0.000743</td>\n    </tr>\n    <tr>\n      <th>1628</th>\n      <td>2</td>\n      <td>Tooth size discrepancy</td>\n      <td>3</td>\n      <td>47</td>\n      <td>900</td>\n      <td>0.063830</td>\n      <td>0.003333</td>\n      <td>0.000213</td>\n    </tr>\n    <tr>\n      <th>2182</th>\n      <td>3</td>\n      <td>Tooth size discrepancy</td>\n      <td>5</td>\n      <td>47</td>\n      <td>675</td>\n      <td>0.106383</td>\n      <td>0.007407</td>\n      <td>0.000788</td>\n    </tr>\n    <tr>\n      <th>2736</th>\n      <td>4</td>\n      <td>Tooth size discrepancy</td>\n      <td>9</td>\n      <td>47</td>\n      <td>411</td>\n      <td>0.191489</td>\n      <td>0.021898</td>\n      <td>0.004193</td>\n    </tr>\n    <tr>\n      <th>3312</th>\n      <td>5</td>\n      <td>Tooth size discrepancy</td>\n      <td>8</td>\n      <td>47</td>\n      <td>1077</td>\n      <td>0.170213</td>\n      <td>0.007428</td>\n      <td>0.001264</td>\n    </tr>\n    <tr>\n      <th>3868</th>\n      <td>6</td>\n      <td>Tooth size discrepancy</td>\n      <td>4</td>\n      <td>47</td>\n      <td>836</td>\n      <td>0.085106</td>\n      <td>0.004785</td>\n      <td>0.000407</td>\n    </tr>\n    <tr>\n      <th>4438</th>\n      <td>7</td>\n      <td>Tooth size discrepancy</td>\n      <td>5</td>\n      <td>47</td>\n      <td>1112</td>\n      <td>0.106383</td>\n      <td>0.004496</td>\n      <td>0.000478</td>\n    </tr>\n  </tbody>\n</table>\n</div>"
     },
     "execution_count": 17,
     "metadata": {},
     "output_type": "execute_result"
    }
   ],
   "source": [
    "communities_rank = communities_metrics(communities, diseases)\n",
    "communities_rank[communities_rank[\"Disease\"]==\"Tooth size discrepancy\"]"
   ],
   "metadata": {
    "collapsed": false,
    "pycharm": {
     "name": "#%%\n"
    }
   }
  },
  {
   "cell_type": "markdown",
   "source": [],
   "metadata": {
    "collapsed": false,
    "pycharm": {
     "name": "#%% md\n"
    }
   }
  },
  {
   "cell_type": "code",
   "execution_count": 18,
   "outputs": [],
   "source": [
    "def look_for_gene_community(protein: str, communities: list) -> int:\n",
    "    for i, community in enumerate(communities):\n",
    "        if protein in community:\n",
    "            return i\n",
    "\n",
    "    return -1"
   ],
   "metadata": {
    "collapsed": false,
    "pycharm": {
     "name": "#%%\n"
    }
   }
  },
  {
   "cell_type": "code",
   "execution_count": 19,
   "outputs": [
    {
     "name": "stdout",
     "output_type": "stream",
     "text": [
      "The gene SON is in community 5\n"
     ]
    }
   ],
   "source": [
    "protein_community = \"SON\"\n",
    "gene_community = look_for_gene_community(protein_community, communities)\n",
    "if gene_community == -1:\n",
    "    raise Exception(\"The gene {0} is not in one of the communities\".format(protein_community))\n",
    "else:\n",
    "    print(\"The gene {0} is in community {1}\".format(protein_community, gene_community))"
   ],
   "metadata": {
    "collapsed": false,
    "pycharm": {
     "name": "#%%\n"
    }
   }
  },
  {
   "cell_type": "markdown",
   "source": [
    "Knowing in which community our starting gene is, we can retrieve all the diseases inisde such community and rank them by their relevance."
   ],
   "metadata": {
    "collapsed": false,
    "pycharm": {
     "name": "#%% md\n"
    }
   }
  },
  {
   "cell_type": "code",
   "execution_count": 20,
   "outputs": [],
   "source": [
    "# Retrieve the diseases inside the community in which the gene is in and keep those that share at least ten genes with the community\n",
    "disease_rank = communities_rank[(communities_rank[\"Community\"]==gene_community) &\n",
    "                             (communities_rank[\"Shared genes\"] > 10)].sort_values(by=\"Relevance\", ascending=False).drop([\"Community\", \"Shared genes\",\n",
    "                                                                                                                         \"Disease genes\", \"Community size\"], axis=1)"
   ],
   "metadata": {
    "collapsed": false,
    "pycharm": {
     "name": "#%%\n"
    }
   }
  },
  {
   "cell_type": "code",
   "execution_count": 21,
   "outputs": [
    {
     "data": {
      "text/plain": "                                    Disease  Ratio disease  Ratio community  \\\n3224                         Renal fibrosis       0.080000         0.011142   \n2913        Disseminated Malignant Neoplasm       0.077922         0.011142   \n3035   Prostatic Intraepithelial Neoplasias       0.081481         0.010214   \n2889  Noninfiltrating Intraductal Carcinoma       0.063348         0.012999   \n3096                      oligodendroglioma       0.078571         0.010214   \n\n      Relevance  \n3224   0.000891  \n2913   0.000868  \n3035   0.000832  \n2889   0.000823  \n3096   0.000802  ",
      "text/html": "<div>\n<style scoped>\n    .dataframe tbody tr th:only-of-type {\n        vertical-align: middle;\n    }\n\n    .dataframe tbody tr th {\n        vertical-align: top;\n    }\n\n    .dataframe thead th {\n        text-align: right;\n    }\n</style>\n<table border=\"1\" class=\"dataframe\">\n  <thead>\n    <tr style=\"text-align: right;\">\n      <th></th>\n      <th>Disease</th>\n      <th>Ratio disease</th>\n      <th>Ratio community</th>\n      <th>Relevance</th>\n    </tr>\n  </thead>\n  <tbody>\n    <tr>\n      <th>3224</th>\n      <td>Renal fibrosis</td>\n      <td>0.080000</td>\n      <td>0.011142</td>\n      <td>0.000891</td>\n    </tr>\n    <tr>\n      <th>2913</th>\n      <td>Disseminated Malignant Neoplasm</td>\n      <td>0.077922</td>\n      <td>0.011142</td>\n      <td>0.000868</td>\n    </tr>\n    <tr>\n      <th>3035</th>\n      <td>Prostatic Intraepithelial Neoplasias</td>\n      <td>0.081481</td>\n      <td>0.010214</td>\n      <td>0.000832</td>\n    </tr>\n    <tr>\n      <th>2889</th>\n      <td>Noninfiltrating Intraductal Carcinoma</td>\n      <td>0.063348</td>\n      <td>0.012999</td>\n      <td>0.000823</td>\n    </tr>\n    <tr>\n      <th>3096</th>\n      <td>oligodendroglioma</td>\n      <td>0.078571</td>\n      <td>0.010214</td>\n      <td>0.000802</td>\n    </tr>\n  </tbody>\n</table>\n</div>"
     },
     "execution_count": 21,
     "metadata": {},
     "output_type": "execute_result"
    }
   ],
   "source": [
    "disease_rank.tail()"
   ],
   "metadata": {
    "collapsed": false,
    "pycharm": {
     "name": "#%%\n"
    }
   }
  },
  {
   "cell_type": "code",
   "execution_count": 22,
   "outputs": [],
   "source": [
    "disease_rank.to_csv(\"datasets/community_diseases_rank.csv\")"
   ],
   "metadata": {
    "collapsed": false,
    "pycharm": {
     "name": "#%%\n"
    }
   }
  }
 ],
 "metadata": {
  "kernelspec": {
   "display_name": "Python 3",
   "language": "python",
   "name": "python3"
  },
  "language_info": {
   "codemirror_mode": {
    "name": "ipython",
    "version": 2
   },
   "file_extension": ".py",
   "mimetype": "text/x-python",
   "name": "python",
   "nbconvert_exporter": "python",
   "pygments_lexer": "ipython2",
   "version": "2.7.6"
  }
 },
 "nbformat": 4,
 "nbformat_minor": 0
}