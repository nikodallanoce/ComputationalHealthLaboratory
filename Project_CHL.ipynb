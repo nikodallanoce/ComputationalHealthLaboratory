{
  "nbformat": 4,
  "nbformat_minor": 0,
  "metadata": {
    "colab": {
      "name": "Project_CHL.ipynb",
      "provenance": [],
      "collapsed_sections": []
    },
    "kernelspec": {
      "name": "python3",
      "display_name": "Python 3"
    },
    "language_info": {
      "name": "python"
    }
  },
  "cells": [
    {
      "cell_type": "markdown",
      "source": [
        "**Computational Health Laboratory Project, A.Y. 2021/2022**\n",
        "\n",
        "**Authors:** Niko Dalla Noce, Alessandro Ristori, Andrea Zuppolini"
      ],
      "metadata": {
        "id": "kLse5cbrtAn0"
      }
    },
    {
      "cell_type": "markdown",
      "source": [
        "# **Colab setup**\n",
        "Takes care of the project setup on Colab."
      ],
      "metadata": {
        "id": "VBEF2viCEfdx"
      }
    },
    {
      "cell_type": "code",
      "execution_count": 2,
      "metadata": {
        "id": "a5orYga8hr_f",
        "colab": {
          "base_uri": "https://localhost:8080/"
        },
        "outputId": "5ecbbcd7-54ec-4e60-a25e-a94af9e9cbe7"
      },
      "outputs": [
        {
          "output_type": "stream",
          "name": "stdout",
          "text": [
            "fatal: destination path 'ComputationalHealthLaboratory' already exists and is not an empty directory.\n",
            "\n",
            "Requirement already satisfied: PyYAML in /usr/local/lib/python3.7/dist-packages (6.0)\n",
            "Drive already mounted at /content/drive/; to attempt to forcibly remount, call drive.mount(\"/content/drive/\", force_remount=True).\n",
            "/content/ComputationalHealthLaboratory\n"
          ]
        }
      ],
      "source": [
        "if 'google.colab' in str(get_ipython()):\n",
        "    import subprocess\n",
        "    from google.colab import drive\n",
        "    out_clone = subprocess.run([\"git\", \"clone\", \"https://github.com/nikodallanoce/ComputationalHealthLaboratory\"], text=True, capture_output=True)\n",
        "    print(\"{0}{1}\".format(out_clone.stdout, out_clone.stderr))\n",
        "    %pip install -U PyYAML\n",
        "    drive.mount(\"/content/drive/\")\n",
        "    %cp \"/content/drive/Shareddrives/CHL/config.yml\" \"/content/ComputationalHealthLaboratory\"\n",
        "    %cd ComputationalHealthLaboratory"
      ]
    },
    {
      "cell_type": "markdown",
      "source": [
        "# **Obtain all the genes that interacts with the starting one**\n"
      ],
      "metadata": {
        "id": "zExTy0EvuEaV"
      }
    },
    {
      "cell_type": "code",
      "source": [
        "import requests\n",
        "import json\n",
        "import pandas as pd\n",
        "import numpy as np\n",
        "from config import ACCESS_KEY, BASE_URL"
      ],
      "metadata": {
        "id": "75Qa06UWh1fE"
      },
      "execution_count": 3,
      "outputs": []
    },
    {
      "cell_type": "code",
      "source": [
        "genes = pd.read_csv(\"datasets/geneset.csv\", sep=\";\")\n",
        "genes[\"InteractorA\"] = genes[\"InteractorA\"].str.upper()\n",
        "genes.drop_duplicates(inplace=True)\n",
        "proteins_list = list(genes[\"InteractorA\"])"
      ],
      "metadata": {
        "id": "Nfi87h6cCgnM"
      },
      "execution_count": 4,
      "outputs": []
    },
    {
      "cell_type": "code",
      "source": [
        "genes"
      ],
      "metadata": {
        "colab": {
          "base_uri": "https://localhost:8080/",
          "height": 423
        },
        "id": "ag2NAKTf5eoZ",
        "outputId": "90494900-2313-465a-d834-15f3a399e3d2"
      },
      "execution_count": 5,
      "outputs": [
        {
          "output_type": "execute_result",
          "data": {
            "text/plain": [
              "    InteractorA InteractorB\n",
              "0         YWHAG         SON\n",
              "1         YWHAB         SON\n",
              "3         SIRT7         SON\n",
              "4          TCF3         SON\n",
              "5         SF3B1         SON\n",
              "..          ...         ...\n",
              "149        NSP8         SON\n",
              "150        NSP9         SON\n",
              "151        ORF6         SON\n",
              "152        ORF8         SON\n",
              "153        CCNF         SON\n",
              "\n",
              "[146 rows x 2 columns]"
            ],
            "text/html": [
              "\n",
              "  <div id=\"df-a3439800-9faf-448d-b0bb-309cbb74330a\">\n",
              "    <div class=\"colab-df-container\">\n",
              "      <div>\n",
              "<style scoped>\n",
              "    .dataframe tbody tr th:only-of-type {\n",
              "        vertical-align: middle;\n",
              "    }\n",
              "\n",
              "    .dataframe tbody tr th {\n",
              "        vertical-align: top;\n",
              "    }\n",
              "\n",
              "    .dataframe thead th {\n",
              "        text-align: right;\n",
              "    }\n",
              "</style>\n",
              "<table border=\"1\" class=\"dataframe\">\n",
              "  <thead>\n",
              "    <tr style=\"text-align: right;\">\n",
              "      <th></th>\n",
              "      <th>InteractorA</th>\n",
              "      <th>InteractorB</th>\n",
              "    </tr>\n",
              "  </thead>\n",
              "  <tbody>\n",
              "    <tr>\n",
              "      <th>0</th>\n",
              "      <td>YWHAG</td>\n",
              "      <td>SON</td>\n",
              "    </tr>\n",
              "    <tr>\n",
              "      <th>1</th>\n",
              "      <td>YWHAB</td>\n",
              "      <td>SON</td>\n",
              "    </tr>\n",
              "    <tr>\n",
              "      <th>3</th>\n",
              "      <td>SIRT7</td>\n",
              "      <td>SON</td>\n",
              "    </tr>\n",
              "    <tr>\n",
              "      <th>4</th>\n",
              "      <td>TCF3</td>\n",
              "      <td>SON</td>\n",
              "    </tr>\n",
              "    <tr>\n",
              "      <th>5</th>\n",
              "      <td>SF3B1</td>\n",
              "      <td>SON</td>\n",
              "    </tr>\n",
              "    <tr>\n",
              "      <th>...</th>\n",
              "      <td>...</td>\n",
              "      <td>...</td>\n",
              "    </tr>\n",
              "    <tr>\n",
              "      <th>149</th>\n",
              "      <td>NSP8</td>\n",
              "      <td>SON</td>\n",
              "    </tr>\n",
              "    <tr>\n",
              "      <th>150</th>\n",
              "      <td>NSP9</td>\n",
              "      <td>SON</td>\n",
              "    </tr>\n",
              "    <tr>\n",
              "      <th>151</th>\n",
              "      <td>ORF6</td>\n",
              "      <td>SON</td>\n",
              "    </tr>\n",
              "    <tr>\n",
              "      <th>152</th>\n",
              "      <td>ORF8</td>\n",
              "      <td>SON</td>\n",
              "    </tr>\n",
              "    <tr>\n",
              "      <th>153</th>\n",
              "      <td>CCNF</td>\n",
              "      <td>SON</td>\n",
              "    </tr>\n",
              "  </tbody>\n",
              "</table>\n",
              "<p>146 rows × 2 columns</p>\n",
              "</div>\n",
              "      <button class=\"colab-df-convert\" onclick=\"convertToInteractive('df-a3439800-9faf-448d-b0bb-309cbb74330a')\"\n",
              "              title=\"Convert this dataframe to an interactive table.\"\n",
              "              style=\"display:none;\">\n",
              "        \n",
              "  <svg xmlns=\"http://www.w3.org/2000/svg\" height=\"24px\"viewBox=\"0 0 24 24\"\n",
              "       width=\"24px\">\n",
              "    <path d=\"M0 0h24v24H0V0z\" fill=\"none\"/>\n",
              "    <path d=\"M18.56 5.44l.94 2.06.94-2.06 2.06-.94-2.06-.94-.94-2.06-.94 2.06-2.06.94zm-11 1L8.5 8.5l.94-2.06 2.06-.94-2.06-.94L8.5 2.5l-.94 2.06-2.06.94zm10 10l.94 2.06.94-2.06 2.06-.94-2.06-.94-.94-2.06-.94 2.06-2.06.94z\"/><path d=\"M17.41 7.96l-1.37-1.37c-.4-.4-.92-.59-1.43-.59-.52 0-1.04.2-1.43.59L10.3 9.45l-7.72 7.72c-.78.78-.78 2.05 0 2.83L4 21.41c.39.39.9.59 1.41.59.51 0 1.02-.2 1.41-.59l7.78-7.78 2.81-2.81c.8-.78.8-2.07 0-2.86zM5.41 20L4 18.59l7.72-7.72 1.47 1.35L5.41 20z\"/>\n",
              "  </svg>\n",
              "      </button>\n",
              "      \n",
              "  <style>\n",
              "    .colab-df-container {\n",
              "      display:flex;\n",
              "      flex-wrap:wrap;\n",
              "      gap: 12px;\n",
              "    }\n",
              "\n",
              "    .colab-df-convert {\n",
              "      background-color: #E8F0FE;\n",
              "      border: none;\n",
              "      border-radius: 50%;\n",
              "      cursor: pointer;\n",
              "      display: none;\n",
              "      fill: #1967D2;\n",
              "      height: 32px;\n",
              "      padding: 0 0 0 0;\n",
              "      width: 32px;\n",
              "    }\n",
              "\n",
              "    .colab-df-convert:hover {\n",
              "      background-color: #E2EBFA;\n",
              "      box-shadow: 0px 1px 2px rgba(60, 64, 67, 0.3), 0px 1px 3px 1px rgba(60, 64, 67, 0.15);\n",
              "      fill: #174EA6;\n",
              "    }\n",
              "\n",
              "    [theme=dark] .colab-df-convert {\n",
              "      background-color: #3B4455;\n",
              "      fill: #D2E3FC;\n",
              "    }\n",
              "\n",
              "    [theme=dark] .colab-df-convert:hover {\n",
              "      background-color: #434B5C;\n",
              "      box-shadow: 0px 1px 3px 1px rgba(0, 0, 0, 0.15);\n",
              "      filter: drop-shadow(0px 1px 2px rgba(0, 0, 0, 0.3));\n",
              "      fill: #FFFFFF;\n",
              "    }\n",
              "  </style>\n",
              "\n",
              "      <script>\n",
              "        const buttonEl =\n",
              "          document.querySelector('#df-a3439800-9faf-448d-b0bb-309cbb74330a button.colab-df-convert');\n",
              "        buttonEl.style.display =\n",
              "          google.colab.kernel.accessAllowed ? 'block' : 'none';\n",
              "\n",
              "        async function convertToInteractive(key) {\n",
              "          const element = document.querySelector('#df-a3439800-9faf-448d-b0bb-309cbb74330a');\n",
              "          const dataTable =\n",
              "            await google.colab.kernel.invokeFunction('convertToInteractive',\n",
              "                                                     [key], {});\n",
              "          if (!dataTable) return;\n",
              "\n",
              "          const docLinkHtml = 'Like what you see? Visit the ' +\n",
              "            '<a target=\"_blank\" href=https://colab.research.google.com/notebooks/data_table.ipynb>data table notebook</a>'\n",
              "            + ' to learn more about interactive tables.';\n",
              "          element.innerHTML = '';\n",
              "          dataTable['output_type'] = 'display_data';\n",
              "          await google.colab.output.renderOutput(dataTable, element);\n",
              "          const docLink = document.createElement('div');\n",
              "          docLink.innerHTML = docLinkHtml;\n",
              "          element.appendChild(docLink);\n",
              "        }\n",
              "      </script>\n",
              "    </div>\n",
              "  </div>\n",
              "  "
            ]
          },
          "metadata": {},
          "execution_count": 5
        }
      ]
    },
    {
      "cell_type": "markdown",
      "source": [
        "# **Expand the network**"
      ],
      "metadata": {
        "id": "WSImzBkZEuWs"
      }
    },
    {
      "cell_type": "code",
      "source": [
        "request_url = BASE_URL + \"/interactions\"\n",
        "data = {}\n",
        "\n",
        "step = 146\n",
        "for i in range(0, len(proteins_list), step):\n",
        "    end = i+step\n",
        "    if end >= len(proteins_list):\n",
        "        end = len(proteins_list)\n",
        "    \n",
        "    # List of genes to search for\n",
        "    geneList = proteins_list[i:end] # [\"SRPK2\"]\n",
        "\n",
        "    params = {\n",
        "        \"accesskey\": ACCESS_KEY,\n",
        "        \"format\": \"json\",  # Return results in TAB2 format\n",
        "        \"geneList\": \"|\".join(geneList),  # Must be | separated\n",
        "        \"searchNames\": \"true\",  # Search against official names\n",
        "        \"includeInteractors\": \"false\",  # Set to true to get any interaction involving EITHER gene, set to false to get interactions between genes\n",
        "        \"includeInteractorInteractions\": \"false\",  # Set to true to get interactions between the geneList’s first order interactors\n",
        "        \"includeEvidence\": \"false\",  # If false \"evidenceList\" is evidence to exclude, if true \"evidenceList\" is evidence to show\n",
        "        \"selfInteractionsExcluded\": \"true\", # If true no self-interactions will be included\n",
        "    }\n",
        "\n",
        "    r = requests.get(request_url, params=params)\n",
        "    interactions = r.json()\n",
        "    \n",
        "    # Check if the interactions are more than the allowed number\n",
        "    if len(interactions)==10000:\n",
        "      assert False\n",
        "\n",
        "    # Create a hash of results by interaction identifier\n",
        "    for interaction_id, interaction in interactions.items():\n",
        "        data[interaction_id] = interaction"
      ],
      "metadata": {
        "id": "eR1eHsQDlLrC"
      },
      "execution_count": 13,
      "outputs": []
    },
    {
      "cell_type": "code",
      "source": [
        "# Load the data into a pandas dataframe\n",
        "dataset = pd.DataFrame.from_dict(data, orient=\"index\")\n",
        "\n",
        "# Re-order the columns and select only the columns we want to see\n",
        "columns = [\"OFFICIAL_SYMBOL_A\", \"OFFICIAL_SYMBOL_B\"]\n",
        "dataset = dataset[columns]\n",
        "\n",
        "# Rename the columns and make all the values uppercase\n",
        "dataset = dataset.rename(columns={\"OFFICIAL_SYMBOL_A\": \"InteractorA\", \"OFFICIAL_SYMBOL_B\": \"InteractorB\"})\n",
        "dataset[\"InteractorA\"] = dataset[\"InteractorA\"].str.upper()\n",
        "dataset[\"InteractorB\"] = dataset[\"InteractorB\"].str.upper()\n",
        "\n",
        "# Print the dataframe\n",
        "dataset"
      ],
      "metadata": {
        "colab": {
          "base_uri": "https://localhost:8080/",
          "height": 423
        },
        "id": "-h7TATRhnHf6",
        "outputId": "582916c5-23a2-4d00-b387-3422bd36b26e"
      },
      "execution_count": 14,
      "outputs": [
        {
          "output_type": "execute_result",
          "data": {
            "text/plain": [
              "        InteractorA InteractorB\n",
              "17282          SFPQ        NONO\n",
              "22627          EZH2         EED\n",
              "119679        SRPK2       U2AF2\n",
              "120105        SRSF6       RNPS1\n",
              "120300        U2AF2       PUF60\n",
              "...             ...         ...\n",
              "3324902        BRD4    HIST1H4A\n",
              "3324964        BRD3        NFIA\n",
              "3324983       NSP10       NSP16\n",
              "3325359        SFPQ        NONO\n",
              "3325533        NONO        SFPQ\n",
              "\n",
              "[4297 rows x 2 columns]"
            ],
            "text/html": [
              "\n",
              "  <div id=\"df-eb0eaa61-9c3a-48a3-b1e9-58b31dcce4cb\">\n",
              "    <div class=\"colab-df-container\">\n",
              "      <div>\n",
              "<style scoped>\n",
              "    .dataframe tbody tr th:only-of-type {\n",
              "        vertical-align: middle;\n",
              "    }\n",
              "\n",
              "    .dataframe tbody tr th {\n",
              "        vertical-align: top;\n",
              "    }\n",
              "\n",
              "    .dataframe thead th {\n",
              "        text-align: right;\n",
              "    }\n",
              "</style>\n",
              "<table border=\"1\" class=\"dataframe\">\n",
              "  <thead>\n",
              "    <tr style=\"text-align: right;\">\n",
              "      <th></th>\n",
              "      <th>InteractorA</th>\n",
              "      <th>InteractorB</th>\n",
              "    </tr>\n",
              "  </thead>\n",
              "  <tbody>\n",
              "    <tr>\n",
              "      <th>17282</th>\n",
              "      <td>SFPQ</td>\n",
              "      <td>NONO</td>\n",
              "    </tr>\n",
              "    <tr>\n",
              "      <th>22627</th>\n",
              "      <td>EZH2</td>\n",
              "      <td>EED</td>\n",
              "    </tr>\n",
              "    <tr>\n",
              "      <th>119679</th>\n",
              "      <td>SRPK2</td>\n",
              "      <td>U2AF2</td>\n",
              "    </tr>\n",
              "    <tr>\n",
              "      <th>120105</th>\n",
              "      <td>SRSF6</td>\n",
              "      <td>RNPS1</td>\n",
              "    </tr>\n",
              "    <tr>\n",
              "      <th>120300</th>\n",
              "      <td>U2AF2</td>\n",
              "      <td>PUF60</td>\n",
              "    </tr>\n",
              "    <tr>\n",
              "      <th>...</th>\n",
              "      <td>...</td>\n",
              "      <td>...</td>\n",
              "    </tr>\n",
              "    <tr>\n",
              "      <th>3324902</th>\n",
              "      <td>BRD4</td>\n",
              "      <td>HIST1H4A</td>\n",
              "    </tr>\n",
              "    <tr>\n",
              "      <th>3324964</th>\n",
              "      <td>BRD3</td>\n",
              "      <td>NFIA</td>\n",
              "    </tr>\n",
              "    <tr>\n",
              "      <th>3324983</th>\n",
              "      <td>NSP10</td>\n",
              "      <td>NSP16</td>\n",
              "    </tr>\n",
              "    <tr>\n",
              "      <th>3325359</th>\n",
              "      <td>SFPQ</td>\n",
              "      <td>NONO</td>\n",
              "    </tr>\n",
              "    <tr>\n",
              "      <th>3325533</th>\n",
              "      <td>NONO</td>\n",
              "      <td>SFPQ</td>\n",
              "    </tr>\n",
              "  </tbody>\n",
              "</table>\n",
              "<p>4297 rows × 2 columns</p>\n",
              "</div>\n",
              "      <button class=\"colab-df-convert\" onclick=\"convertToInteractive('df-eb0eaa61-9c3a-48a3-b1e9-58b31dcce4cb')\"\n",
              "              title=\"Convert this dataframe to an interactive table.\"\n",
              "              style=\"display:none;\">\n",
              "        \n",
              "  <svg xmlns=\"http://www.w3.org/2000/svg\" height=\"24px\"viewBox=\"0 0 24 24\"\n",
              "       width=\"24px\">\n",
              "    <path d=\"M0 0h24v24H0V0z\" fill=\"none\"/>\n",
              "    <path d=\"M18.56 5.44l.94 2.06.94-2.06 2.06-.94-2.06-.94-.94-2.06-.94 2.06-2.06.94zm-11 1L8.5 8.5l.94-2.06 2.06-.94-2.06-.94L8.5 2.5l-.94 2.06-2.06.94zm10 10l.94 2.06.94-2.06 2.06-.94-2.06-.94-.94-2.06-.94 2.06-2.06.94z\"/><path d=\"M17.41 7.96l-1.37-1.37c-.4-.4-.92-.59-1.43-.59-.52 0-1.04.2-1.43.59L10.3 9.45l-7.72 7.72c-.78.78-.78 2.05 0 2.83L4 21.41c.39.39.9.59 1.41.59.51 0 1.02-.2 1.41-.59l7.78-7.78 2.81-2.81c.8-.78.8-2.07 0-2.86zM5.41 20L4 18.59l7.72-7.72 1.47 1.35L5.41 20z\"/>\n",
              "  </svg>\n",
              "      </button>\n",
              "      \n",
              "  <style>\n",
              "    .colab-df-container {\n",
              "      display:flex;\n",
              "      flex-wrap:wrap;\n",
              "      gap: 12px;\n",
              "    }\n",
              "\n",
              "    .colab-df-convert {\n",
              "      background-color: #E8F0FE;\n",
              "      border: none;\n",
              "      border-radius: 50%;\n",
              "      cursor: pointer;\n",
              "      display: none;\n",
              "      fill: #1967D2;\n",
              "      height: 32px;\n",
              "      padding: 0 0 0 0;\n",
              "      width: 32px;\n",
              "    }\n",
              "\n",
              "    .colab-df-convert:hover {\n",
              "      background-color: #E2EBFA;\n",
              "      box-shadow: 0px 1px 2px rgba(60, 64, 67, 0.3), 0px 1px 3px 1px rgba(60, 64, 67, 0.15);\n",
              "      fill: #174EA6;\n",
              "    }\n",
              "\n",
              "    [theme=dark] .colab-df-convert {\n",
              "      background-color: #3B4455;\n",
              "      fill: #D2E3FC;\n",
              "    }\n",
              "\n",
              "    [theme=dark] .colab-df-convert:hover {\n",
              "      background-color: #434B5C;\n",
              "      box-shadow: 0px 1px 3px 1px rgba(0, 0, 0, 0.15);\n",
              "      filter: drop-shadow(0px 1px 2px rgba(0, 0, 0, 0.3));\n",
              "      fill: #FFFFFF;\n",
              "    }\n",
              "  </style>\n",
              "\n",
              "      <script>\n",
              "        const buttonEl =\n",
              "          document.querySelector('#df-eb0eaa61-9c3a-48a3-b1e9-58b31dcce4cb button.colab-df-convert');\n",
              "        buttonEl.style.display =\n",
              "          google.colab.kernel.accessAllowed ? 'block' : 'none';\n",
              "\n",
              "        async function convertToInteractive(key) {\n",
              "          const element = document.querySelector('#df-eb0eaa61-9c3a-48a3-b1e9-58b31dcce4cb');\n",
              "          const dataTable =\n",
              "            await google.colab.kernel.invokeFunction('convertToInteractive',\n",
              "                                                     [key], {});\n",
              "          if (!dataTable) return;\n",
              "\n",
              "          const docLinkHtml = 'Like what you see? Visit the ' +\n",
              "            '<a target=\"_blank\" href=https://colab.research.google.com/notebooks/data_table.ipynb>data table notebook</a>'\n",
              "            + ' to learn more about interactive tables.';\n",
              "          element.innerHTML = '';\n",
              "          dataTable['output_type'] = 'display_data';\n",
              "          await google.colab.output.renderOutput(dataTable, element);\n",
              "          const docLink = document.createElement('div');\n",
              "          docLink.innerHTML = docLinkHtml;\n",
              "          element.appendChild(docLink);\n",
              "        }\n",
              "      </script>\n",
              "    </div>\n",
              "  </div>\n",
              "  "
            ]
          },
          "metadata": {},
          "execution_count": 14
        }
      ]
    },
    {
      "cell_type": "code",
      "source": [
        "# Look for duplicated interactions\n",
        "duplicated_interactions = pd.DataFrame(np.sort(dataset[[\"InteractorA\", \"InteractorB\"]].values, 1)).duplicated()\n",
        "print(\"Duplicated interactions:\\n{0}\".format(duplicated_interactions.value_counts()))\n",
        "\n",
        "# Delete such interactions from the dataset\n",
        "dataset = dataset[~duplicated_interactions.values]"
      ],
      "metadata": {
        "colab": {
          "base_uri": "https://localhost:8080/"
        },
        "id": "6Aso-GCJoWpq",
        "outputId": "c867a82e-fac6-4cd0-b9d7-2f9c171b025d"
      },
      "execution_count": 33,
      "outputs": [
        {
          "output_type": "stream",
          "name": "stdout",
          "text": [
            "Duplicated interactions:\n",
            "False    2769\n",
            "True      146\n",
            "dtype: int64\n"
          ]
        }
      ]
    },
    {
      "cell_type": "code",
      "source": [
        "# Look for interactions where both proteins are the same\n",
        "same_proteins_interactions = pd.DataFrame(dataset[[\"InteractorA\", \"InteractorB\"]].nunique(axis=1) == 1)\n",
        "print(\"Useless interactions:\\n{0}\".format(same_proteins_interactions.value_counts()))\n",
        "\n",
        "# Delete such interactions from the dataset\n",
        "dataset = dataset[~same_proteins_interactions.values]"
      ],
      "metadata": {
        "colab": {
          "base_uri": "https://localhost:8080/"
        },
        "id": "hVlRgo6ozI39",
        "outputId": "68996b5f-fa0f-407b-bd4c-5077acc3bfce"
      },
      "execution_count": 34,
      "outputs": [
        {
          "output_type": "stream",
          "name": "stdout",
          "text": [
            "Useless interactions:\n",
            "False    2769\n",
            "dtype: int64\n"
          ]
        }
      ]
    },
    {
      "cell_type": "code",
      "source": [
        "dataset = dataset.append(genes)\n",
        "dataset"
      ],
      "metadata": {
        "colab": {
          "base_uri": "https://localhost:8080/",
          "height": 423
        },
        "id": "JvZWF8Jk22o5",
        "outputId": "afd29193-d0b6-4d45-b44a-034dcc194506"
      },
      "execution_count": 31,
      "outputs": [
        {
          "output_type": "execute_result",
          "data": {
            "text/plain": [
              "       InteractorA InteractorB\n",
              "17282         SFPQ        NONO\n",
              "22627         EZH2         EED\n",
              "119679       SRPK2       U2AF2\n",
              "120105       SRSF6       RNPS1\n",
              "120300       U2AF2       PUF60\n",
              "...            ...         ...\n",
              "149           NSP8         SON\n",
              "150           NSP9         SON\n",
              "151           ORF6         SON\n",
              "152           ORF8         SON\n",
              "153           CCNF         SON\n",
              "\n",
              "[2915 rows x 2 columns]"
            ],
            "text/html": [
              "\n",
              "  <div id=\"df-306d17ae-f6d1-45f2-a2a5-63d07efc43d3\">\n",
              "    <div class=\"colab-df-container\">\n",
              "      <div>\n",
              "<style scoped>\n",
              "    .dataframe tbody tr th:only-of-type {\n",
              "        vertical-align: middle;\n",
              "    }\n",
              "\n",
              "    .dataframe tbody tr th {\n",
              "        vertical-align: top;\n",
              "    }\n",
              "\n",
              "    .dataframe thead th {\n",
              "        text-align: right;\n",
              "    }\n",
              "</style>\n",
              "<table border=\"1\" class=\"dataframe\">\n",
              "  <thead>\n",
              "    <tr style=\"text-align: right;\">\n",
              "      <th></th>\n",
              "      <th>InteractorA</th>\n",
              "      <th>InteractorB</th>\n",
              "    </tr>\n",
              "  </thead>\n",
              "  <tbody>\n",
              "    <tr>\n",
              "      <th>17282</th>\n",
              "      <td>SFPQ</td>\n",
              "      <td>NONO</td>\n",
              "    </tr>\n",
              "    <tr>\n",
              "      <th>22627</th>\n",
              "      <td>EZH2</td>\n",
              "      <td>EED</td>\n",
              "    </tr>\n",
              "    <tr>\n",
              "      <th>119679</th>\n",
              "      <td>SRPK2</td>\n",
              "      <td>U2AF2</td>\n",
              "    </tr>\n",
              "    <tr>\n",
              "      <th>120105</th>\n",
              "      <td>SRSF6</td>\n",
              "      <td>RNPS1</td>\n",
              "    </tr>\n",
              "    <tr>\n",
              "      <th>120300</th>\n",
              "      <td>U2AF2</td>\n",
              "      <td>PUF60</td>\n",
              "    </tr>\n",
              "    <tr>\n",
              "      <th>...</th>\n",
              "      <td>...</td>\n",
              "      <td>...</td>\n",
              "    </tr>\n",
              "    <tr>\n",
              "      <th>149</th>\n",
              "      <td>NSP8</td>\n",
              "      <td>SON</td>\n",
              "    </tr>\n",
              "    <tr>\n",
              "      <th>150</th>\n",
              "      <td>NSP9</td>\n",
              "      <td>SON</td>\n",
              "    </tr>\n",
              "    <tr>\n",
              "      <th>151</th>\n",
              "      <td>ORF6</td>\n",
              "      <td>SON</td>\n",
              "    </tr>\n",
              "    <tr>\n",
              "      <th>152</th>\n",
              "      <td>ORF8</td>\n",
              "      <td>SON</td>\n",
              "    </tr>\n",
              "    <tr>\n",
              "      <th>153</th>\n",
              "      <td>CCNF</td>\n",
              "      <td>SON</td>\n",
              "    </tr>\n",
              "  </tbody>\n",
              "</table>\n",
              "<p>2915 rows × 2 columns</p>\n",
              "</div>\n",
              "      <button class=\"colab-df-convert\" onclick=\"convertToInteractive('df-306d17ae-f6d1-45f2-a2a5-63d07efc43d3')\"\n",
              "              title=\"Convert this dataframe to an interactive table.\"\n",
              "              style=\"display:none;\">\n",
              "        \n",
              "  <svg xmlns=\"http://www.w3.org/2000/svg\" height=\"24px\"viewBox=\"0 0 24 24\"\n",
              "       width=\"24px\">\n",
              "    <path d=\"M0 0h24v24H0V0z\" fill=\"none\"/>\n",
              "    <path d=\"M18.56 5.44l.94 2.06.94-2.06 2.06-.94-2.06-.94-.94-2.06-.94 2.06-2.06.94zm-11 1L8.5 8.5l.94-2.06 2.06-.94-2.06-.94L8.5 2.5l-.94 2.06-2.06.94zm10 10l.94 2.06.94-2.06 2.06-.94-2.06-.94-.94-2.06-.94 2.06-2.06.94z\"/><path d=\"M17.41 7.96l-1.37-1.37c-.4-.4-.92-.59-1.43-.59-.52 0-1.04.2-1.43.59L10.3 9.45l-7.72 7.72c-.78.78-.78 2.05 0 2.83L4 21.41c.39.39.9.59 1.41.59.51 0 1.02-.2 1.41-.59l7.78-7.78 2.81-2.81c.8-.78.8-2.07 0-2.86zM5.41 20L4 18.59l7.72-7.72 1.47 1.35L5.41 20z\"/>\n",
              "  </svg>\n",
              "      </button>\n",
              "      \n",
              "  <style>\n",
              "    .colab-df-container {\n",
              "      display:flex;\n",
              "      flex-wrap:wrap;\n",
              "      gap: 12px;\n",
              "    }\n",
              "\n",
              "    .colab-df-convert {\n",
              "      background-color: #E8F0FE;\n",
              "      border: none;\n",
              "      border-radius: 50%;\n",
              "      cursor: pointer;\n",
              "      display: none;\n",
              "      fill: #1967D2;\n",
              "      height: 32px;\n",
              "      padding: 0 0 0 0;\n",
              "      width: 32px;\n",
              "    }\n",
              "\n",
              "    .colab-df-convert:hover {\n",
              "      background-color: #E2EBFA;\n",
              "      box-shadow: 0px 1px 2px rgba(60, 64, 67, 0.3), 0px 1px 3px 1px rgba(60, 64, 67, 0.15);\n",
              "      fill: #174EA6;\n",
              "    }\n",
              "\n",
              "    [theme=dark] .colab-df-convert {\n",
              "      background-color: #3B4455;\n",
              "      fill: #D2E3FC;\n",
              "    }\n",
              "\n",
              "    [theme=dark] .colab-df-convert:hover {\n",
              "      background-color: #434B5C;\n",
              "      box-shadow: 0px 1px 3px 1px rgba(0, 0, 0, 0.15);\n",
              "      filter: drop-shadow(0px 1px 2px rgba(0, 0, 0, 0.3));\n",
              "      fill: #FFFFFF;\n",
              "    }\n",
              "  </style>\n",
              "\n",
              "      <script>\n",
              "        const buttonEl =\n",
              "          document.querySelector('#df-306d17ae-f6d1-45f2-a2a5-63d07efc43d3 button.colab-df-convert');\n",
              "        buttonEl.style.display =\n",
              "          google.colab.kernel.accessAllowed ? 'block' : 'none';\n",
              "\n",
              "        async function convertToInteractive(key) {\n",
              "          const element = document.querySelector('#df-306d17ae-f6d1-45f2-a2a5-63d07efc43d3');\n",
              "          const dataTable =\n",
              "            await google.colab.kernel.invokeFunction('convertToInteractive',\n",
              "                                                     [key], {});\n",
              "          if (!dataTable) return;\n",
              "\n",
              "          const docLinkHtml = 'Like what you see? Visit the ' +\n",
              "            '<a target=\"_blank\" href=https://colab.research.google.com/notebooks/data_table.ipynb>data table notebook</a>'\n",
              "            + ' to learn more about interactive tables.';\n",
              "          element.innerHTML = '';\n",
              "          dataTable['output_type'] = 'display_data';\n",
              "          await google.colab.output.renderOutput(dataTable, element);\n",
              "          const docLink = document.createElement('div');\n",
              "          docLink.innerHTML = docLinkHtml;\n",
              "          element.appendChild(docLink);\n",
              "        }\n",
              "      </script>\n",
              "    </div>\n",
              "  </div>\n",
              "  "
            ]
          },
          "metadata": {},
          "execution_count": 31
        }
      ]
    },
    {
      "cell_type": "code",
      "source": [
        "nodes = dataset[\"InteractorA\"].append(dataset[\"InteractorB\"]).unique()\n",
        "print(\"Number of nodes: {0}\".format(len(nodes)))"
      ],
      "metadata": {
        "id": "V7uiZtNPvR_Y",
        "colab": {
          "base_uri": "https://localhost:8080/"
        },
        "outputId": "ae6f3d34-e828-4fb3-c810-3dd9b93b5a75"
      },
      "execution_count": 35,
      "outputs": [
        {
          "output_type": "stream",
          "name": "stdout",
          "text": [
            "Number of nodes: 147\n"
          ]
        }
      ]
    },
    {
      "cell_type": "markdown",
      "source": [
        "## **Draw the network**"
      ],
      "metadata": {
        "id": "FSzkDMrJevCS"
      }
    },
    {
      "cell_type": "code",
      "source": [
        "import networkx as nx\n",
        "import matplotlib.pyplot as plt\n",
        "from matplotlib import cm"
      ],
      "metadata": {
        "id": "wUB8v8fye1_0"
      },
      "execution_count": 40,
      "outputs": []
    },
    {
      "cell_type": "code",
      "source": [
        "protein_graph=nx.Graph(name='Protein Interaction Graph')\n",
        "interactions = np.array(dataset)\n",
        "for interaction in interactions:\n",
        "    a = interaction[0] # protein a node\n",
        "    b = interaction[1] # protein b node\n",
        "    protein_graph.add_edges_from([(a,b)]) # add weighted edge to graph"
      ],
      "metadata": {
        "id": "WbnXzsKnf6Xd"
      },
      "execution_count": 36,
      "outputs": []
    },
    {
      "cell_type": "code",
      "source": [
        "# function to rescale list of values to range [newmin,newmax]\n",
        "def rescale(l,newmin,newmax):\n",
        "    arr = list(l)\n",
        "    return [(x-min(arr))/(max(arr)-min(arr))*(newmax-newmin)+newmin for x in arr]\n",
        "# use the matplotlib plasma colormap\n",
        "graph_colormap = cm.get_cmap('plasma', 12)\n",
        "# node color varies with Degree\n",
        "c = rescale([protein_graph.degree(v) for v in protein_graph],0.0,0.9) \n",
        "c = [graph_colormap(i) for i in c]\n",
        "# node size varies with betweeness centrality - map to range [10,100] \n",
        "bc = nx.betweenness_centrality(protein_graph) # betweeness centrality\n",
        "s =  rescale([v for v in bc.values()],1500,7000)"
      ],
      "metadata": {
        "id": "UQLjPpLD4KNP"
      },
      "execution_count": 46,
      "outputs": []
    },
    {
      "cell_type": "code",
      "source": [
        "pos = nx.spring_layout(protein_graph)\n",
        "plt.figure(figsize=(59,59),facecolor=[0.7,0.7,0.7,0.4])\n",
        "nx.draw_networkx(protein_graph, pos=pos, with_labels=True, node_color=c, node_size=s,font_color='white',font_weight='bold',font_size='9')\n",
        "plt.axis('off')\n",
        "plt.show()"
      ],
      "metadata": {
        "id": "vOfabDP_47ph"
      },
      "execution_count": null,
      "outputs": []
    },
    {
      "cell_type": "markdown",
      "source": [
        "## **Pathway analysis**"
      ],
      "metadata": {
        "id": "ItzFqtwX5WLy"
      }
    },
    {
      "cell_type": "code",
      "source": [
        "!pip install reactome2py"
      ],
      "metadata": {
        "colab": {
          "base_uri": "https://localhost:8080/"
        },
        "id": "fDlXmavWyI2d",
        "outputId": "8fe7cf71-6f33-49b5-cbea-c42cb5bd8ab2"
      },
      "execution_count": 39,
      "outputs": [
        {
          "output_type": "stream",
          "name": "stdout",
          "text": [
            "Requirement already satisfied: reactome2py in /usr/local/lib/python3.7/dist-packages (3.0.0)\n",
            "Requirement already satisfied: pandas>=0.24.2 in /usr/local/lib/python3.7/dist-packages (from reactome2py) (1.3.5)\n",
            "Requirement already satisfied: json5>=0.8.4 in /usr/local/lib/python3.7/dist-packages (from reactome2py) (0.9.6)\n",
            "Requirement already satisfied: requests in /usr/local/lib/python3.7/dist-packages (from reactome2py) (2.23.0)\n",
            "Requirement already satisfied: python-dateutil>=2.7.3 in /usr/local/lib/python3.7/dist-packages (from pandas>=0.24.2->reactome2py) (2.8.2)\n",
            "Requirement already satisfied: pytz>=2017.3 in /usr/local/lib/python3.7/dist-packages (from pandas>=0.24.2->reactome2py) (2018.9)\n",
            "Requirement already satisfied: numpy>=1.17.3 in /usr/local/lib/python3.7/dist-packages (from pandas>=0.24.2->reactome2py) (1.21.5)\n",
            "Requirement already satisfied: six>=1.5 in /usr/local/lib/python3.7/dist-packages (from python-dateutil>=2.7.3->pandas>=0.24.2->reactome2py) (1.15.0)\n",
            "Requirement already satisfied: certifi>=2017.4.17 in /usr/local/lib/python3.7/dist-packages (from requests->reactome2py) (2021.10.8)\n",
            "Requirement already satisfied: chardet<4,>=3.0.2 in /usr/local/lib/python3.7/dist-packages (from requests->reactome2py) (3.0.4)\n",
            "Requirement already satisfied: idna<3,>=2.5 in /usr/local/lib/python3.7/dist-packages (from requests->reactome2py) (2.10)\n",
            "Requirement already satisfied: urllib3!=1.25.0,!=1.25.1,<1.26,>=1.21.1 in /usr/local/lib/python3.7/dist-packages (from requests->reactome2py) (1.24.3)\n"
          ]
        }
      ]
    },
    {
      "cell_type": "code",
      "source": [
        "from reactome2py import content, analysis"
      ],
      "metadata": {
        "id": "c1oUsfl0zUrb"
      },
      "execution_count": 49,
      "outputs": []
    }
  ]
}