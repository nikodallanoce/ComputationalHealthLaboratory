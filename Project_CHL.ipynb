{
  "cells": [
    {
      "cell_type": "markdown",
      "metadata": {
        "id": "kLse5cbrtAn0"
      },
      "source": [
        "**Computational Health Laboratory Project, A.Y. 2021/2022**\n",
        "\n",
        "**Authors:** Niko Dalla Noce, Alessandro Ristori, Andrea Zuppolini"
      ]
    },
    {
      "cell_type": "markdown",
      "metadata": {
        "id": "EnunYcRW8FBh"
      },
      "source": [
        "# **CHL Project, Pathway Analysis**\n",
        "Starting fron one or more genes, extract from interaction databases the genes they interact with. Using the expanded gene set, perform pathway analysis and obtain all disease pathways in which the genes appear. Merge the pathways to obtain a larger graph. Perform further network analysis to extract central biomarkers and communities beyond pathways. Compute a distance between the initial gene set and the various pathways (diseases)."
      ]
    },
    {
      "cell_type": "markdown",
      "metadata": {
        "id": "VBEF2viCEfdx"
      },
      "source": [
        "## **Colab setup**\n",
        "Takes care of the project setup on Colab."
      ]
    },
    {
      "cell_type": "code",
      "execution_count": null,
      "metadata": {
        "colab": {
          "base_uri": "https://localhost:8080/"
        },
        "id": "a5orYga8hr_f",
        "outputId": "2ca65b1d-d719-410c-800a-3aed7b75c347"
      },
      "outputs": [
        {
          "output_type": "stream",
          "name": "stdout",
          "text": [
            "Cloning into 'ComputationalHealthLaboratory'...\n",
            "\n",
            "Requirement already satisfied: PyYAML in /usr/local/lib/python3.7/dist-packages (3.13)\n",
            "Collecting PyYAML\n",
            "  Downloading PyYAML-6.0-cp37-cp37m-manylinux_2_5_x86_64.manylinux1_x86_64.manylinux_2_12_x86_64.manylinux2010_x86_64.whl (596 kB)\n",
            "\u001b[K     |████████████████████████████████| 596 kB 5.2 MB/s \n",
            "\u001b[?25hInstalling collected packages: PyYAML\n",
            "  Attempting uninstall: PyYAML\n",
            "    Found existing installation: PyYAML 3.13\n",
            "    Uninstalling PyYAML-3.13:\n",
            "      Successfully uninstalled PyYAML-3.13\n",
            "Successfully installed PyYAML-6.0\n",
            "Collecting gseapy\n",
            "  Downloading gseapy-0.10.8-py3-none-any.whl (526 kB)\n",
            "\u001b[K     |████████████████████████████████| 526 kB 5.2 MB/s \n",
            "\u001b[?25hRequirement already satisfied: numpy>=1.13.0 in /usr/local/lib/python3.7/dist-packages (from gseapy) (1.21.6)\n",
            "Requirement already satisfied: requests in /usr/local/lib/python3.7/dist-packages (from gseapy) (2.23.0)\n",
            "Requirement already satisfied: joblib in /usr/local/lib/python3.7/dist-packages (from gseapy) (1.1.0)\n",
            "Requirement already satisfied: matplotlib in /usr/local/lib/python3.7/dist-packages (from gseapy) (3.2.2)\n",
            "Collecting bioservices\n",
            "  Downloading bioservices-1.8.4.tar.gz (1.0 MB)\n",
            "\u001b[K     |████████████████████████████████| 1.0 MB 36.5 MB/s \n",
            "\u001b[?25hRequirement already satisfied: pandas in /usr/local/lib/python3.7/dist-packages (from gseapy) (1.3.5)\n",
            "Requirement already satisfied: scipy in /usr/local/lib/python3.7/dist-packages (from gseapy) (1.4.1)\n",
            "Collecting grequests\n",
            "  Downloading grequests-0.6.0-py3-none-any.whl (5.2 kB)\n",
            "Collecting requests_cache\n",
            "  Downloading requests_cache-0.9.4-py3-none-any.whl (47 kB)\n",
            "\u001b[K     |████████████████████████████████| 47 kB 3.9 MB/s \n",
            "\u001b[?25hCollecting easydev>=0.9.36\n",
            "  Downloading easydev-0.12.0.tar.gz (47 kB)\n",
            "\u001b[K     |████████████████████████████████| 47 kB 3.9 MB/s \n",
            "\u001b[?25hRequirement already satisfied: beautifulsoup4 in /usr/local/lib/python3.7/dist-packages (from bioservices->gseapy) (4.6.3)\n",
            "Collecting xmltodict\n",
            "  Downloading xmltodict-0.12.0-py2.py3-none-any.whl (9.2 kB)\n",
            "Requirement already satisfied: lxml in /usr/local/lib/python3.7/dist-packages (from bioservices->gseapy) (4.2.6)\n",
            "Collecting suds-community\n",
            "  Downloading suds_community-1.1.0-py3-none-any.whl (144 kB)\n",
            "\u001b[K     |████████████████████████████████| 144 kB 46.7 MB/s \n",
            "\u001b[?25hRequirement already satisfied: appdirs in /usr/local/lib/python3.7/dist-packages (from bioservices->gseapy) (1.4.4)\n",
            "Requirement already satisfied: wrapt in /usr/local/lib/python3.7/dist-packages (from bioservices->gseapy) (1.14.0)\n",
            "Collecting colorlog\n",
            "  Downloading colorlog-6.6.0-py2.py3-none-any.whl (11 kB)\n",
            "Collecting colorama\n",
            "  Downloading colorama-0.4.4-py2.py3-none-any.whl (16 kB)\n",
            "Requirement already satisfied: pexpect in /usr/local/lib/python3.7/dist-packages (from easydev>=0.9.36->bioservices->gseapy) (4.8.0)\n",
            "Collecting gevent\n",
            "  Downloading gevent-21.12.0-cp37-cp37m-manylinux_2_12_x86_64.manylinux2010_x86_64.whl (5.8 MB)\n",
            "\u001b[K     |████████████████████████████████| 5.8 MB 43.4 MB/s \n",
            "\u001b[?25hCollecting zope.interface\n",
            "  Downloading zope.interface-5.4.0-cp37-cp37m-manylinux2010_x86_64.whl (251 kB)\n",
            "\u001b[K     |████████████████████████████████| 251 kB 49.2 MB/s \n",
            "\u001b[?25hRequirement already satisfied: greenlet<2.0,>=1.1.0 in /usr/local/lib/python3.7/dist-packages (from gevent->grequests->bioservices->gseapy) (1.1.2)\n",
            "Requirement already satisfied: setuptools in /usr/local/lib/python3.7/dist-packages (from gevent->grequests->bioservices->gseapy) (57.4.0)\n",
            "Collecting zope.event\n",
            "  Downloading zope.event-4.5.0-py2.py3-none-any.whl (6.8 kB)\n",
            "Requirement already satisfied: cycler>=0.10 in /usr/local/lib/python3.7/dist-packages (from matplotlib->gseapy) (0.11.0)\n",
            "Requirement already satisfied: kiwisolver>=1.0.1 in /usr/local/lib/python3.7/dist-packages (from matplotlib->gseapy) (1.4.2)\n",
            "Requirement already satisfied: pyparsing!=2.0.4,!=2.1.2,!=2.1.6,>=2.0.1 in /usr/local/lib/python3.7/dist-packages (from matplotlib->gseapy) (3.0.8)\n",
            "Requirement already satisfied: python-dateutil>=2.1 in /usr/local/lib/python3.7/dist-packages (from matplotlib->gseapy) (2.8.2)\n",
            "Requirement already satisfied: typing-extensions in /usr/local/lib/python3.7/dist-packages (from kiwisolver>=1.0.1->matplotlib->gseapy) (4.2.0)\n",
            "Requirement already satisfied: six>=1.5 in /usr/local/lib/python3.7/dist-packages (from python-dateutil>=2.1->matplotlib->gseapy) (1.15.0)\n",
            "Requirement already satisfied: pytz>=2017.3 in /usr/local/lib/python3.7/dist-packages (from pandas->gseapy) (2022.1)\n",
            "Requirement already satisfied: ptyprocess>=0.5 in /usr/local/lib/python3.7/dist-packages (from pexpect->easydev>=0.9.36->bioservices->gseapy) (0.7.0)\n",
            "Requirement already satisfied: chardet<4,>=3.0.2 in /usr/local/lib/python3.7/dist-packages (from requests->gseapy) (3.0.4)\n",
            "Requirement already satisfied: idna<3,>=2.5 in /usr/local/lib/python3.7/dist-packages (from requests->gseapy) (2.10)\n",
            "Requirement already satisfied: urllib3!=1.25.0,!=1.25.1,<1.26,>=1.21.1 in /usr/local/lib/python3.7/dist-packages (from requests->gseapy) (1.24.3)\n",
            "Requirement already satisfied: certifi>=2017.4.17 in /usr/local/lib/python3.7/dist-packages (from requests->gseapy) (2021.10.8)\n",
            "Collecting cattrs<2.0,>=1.8\n",
            "  Downloading cattrs-1.10.0-py3-none-any.whl (29 kB)\n",
            "Requirement already satisfied: attrs<22.0,>=21.2 in /usr/local/lib/python3.7/dist-packages (from requests_cache->bioservices->gseapy) (21.4.0)\n",
            "Collecting urllib3!=1.25.0,!=1.25.1,<1.26,>=1.21.1\n",
            "  Downloading urllib3-1.25.11-py2.py3-none-any.whl (127 kB)\n",
            "\u001b[K     |████████████████████████████████| 127 kB 45.5 MB/s \n",
            "\u001b[?25hCollecting url-normalize<2.0,>=1.4\n",
            "  Downloading url_normalize-1.4.3-py2.py3-none-any.whl (6.8 kB)\n",
            "Building wheels for collected packages: bioservices, easydev\n",
            "  Building wheel for bioservices (setup.py) ... \u001b[?25l\u001b[?25hdone\n",
            "  Created wheel for bioservices: filename=bioservices-1.8.4-py3-none-any.whl size=231822 sha256=3d8bb42115248913d38f1b5cf16d9f73d3df927297e5b010fef39609e49e52bc\n",
            "  Stored in directory: /root/.cache/pip/wheels/68/df/3c/0ed23eeeafac858b6d4d3ec54d90d58e9292628b50d43bcd0f\n",
            "  Building wheel for easydev (setup.py) ... \u001b[?25l\u001b[?25hdone\n",
            "  Created wheel for easydev: filename=easydev-0.12.0-py3-none-any.whl size=64232 sha256=0e3cd6cec596bff65c5e62fae065b00369eaddeac983985dae2e65b98d05926f\n",
            "  Stored in directory: /root/.cache/pip/wheels/82/ab/83/fdfc4017ea44a585b6754752cc5f63f2d0d63fcc1317e7174b\n",
            "Successfully built bioservices easydev\n",
            "Installing collected packages: zope.interface, zope.event, urllib3, url-normalize, gevent, colorlog, colorama, cattrs, xmltodict, suds-community, requests-cache, grequests, easydev, bioservices, gseapy\n",
            "  Attempting uninstall: urllib3\n",
            "    Found existing installation: urllib3 1.24.3\n",
            "    Uninstalling urllib3-1.24.3:\n",
            "      Successfully uninstalled urllib3-1.24.3\n",
            "\u001b[31mERROR: pip's dependency resolver does not currently take into account all the packages that are installed. This behaviour is the source of the following dependency conflicts.\n",
            "datascience 0.10.6 requires folium==0.2.1, but you have folium 0.8.3 which is incompatible.\u001b[0m\n",
            "Successfully installed bioservices-1.8.4 cattrs-1.10.0 colorama-0.4.4 colorlog-6.6.0 easydev-0.12.0 gevent-21.12.0 grequests-0.6.0 gseapy-0.10.8 requests-cache-0.9.4 suds-community-1.1.0 url-normalize-1.4.3 urllib3-1.25.11 xmltodict-0.12.0 zope.event-4.5.0 zope.interface-5.4.0\n",
            "Mounted at /content/drive/\n",
            "/content/ComputationalHealthLaboratory\n"
          ]
        }
      ],
      "source": [
        "if 'google.colab' in str(get_ipython()):\n",
        "    import subprocess\n",
        "    from google.colab import drive\n",
        "    out_clone = subprocess.run([\"git\", \"clone\", \"https://github.com/nikodallanoce/ComputationalHealthLaboratory\"], text=True, capture_output=True)\n",
        "    print(\"{0}{1}\".format(out_clone.stdout, out_clone.stderr))\n",
        "    %pip install -U PyYAML\n",
        "    %pip install gseapy\n",
        "    drive.mount(\"/content/drive/\")\n",
        "    %cp \"/content/drive/Shareddrives/CHL/config.yml\" \"/content/ComputationalHealthLaboratory\"\n",
        "    %cd ComputationalHealthLaboratory"
      ]
    },
    {
      "cell_type": "markdown",
      "metadata": {
        "id": "zExTy0EvuEaV"
      },
      "source": [
        "## **Obtain all the genes that interacts with the starting one**\n",
        "Starting from a gene obtain its neighbours and the interactions between them.\n"
      ]
    },
    {
      "cell_type": "code",
      "execution_count": null,
      "metadata": {
        "id": "75Qa06UWh1fE"
      },
      "outputs": [],
      "source": [
        "import requests\n",
        "import json\n",
        "import pandas as pd\n",
        "import numpy as np\n",
        "import re\n",
        "from config import ACCESS_KEY, BASE_URL"
      ]
    },
    {
      "cell_type": "code",
      "execution_count": null,
      "metadata": {
        "id": "Nfi87h6cCgnM"
      },
      "outputs": [],
      "source": [
        "gene_interactions = pd.read_csv(\"datasets/geneset.csv\", sep=\";\")\n",
        "gene_interactions[\"InteractorA\"] = gene_interactions[\"InteractorA\"].str.upper()\n",
        "gene_interactions.drop_duplicates(inplace=True)\n",
        "proteins_list = list(gene_interactions[\"InteractorA\"])  # all the proteins that interact with our starting gene"
      ]
    },
    {
      "cell_type": "code",
      "execution_count": null,
      "metadata": {
        "colab": {
          "base_uri": "https://localhost:8080/",
          "height": 423
        },
        "id": "ag2NAKTf5eoZ",
        "outputId": "541c4f9d-48a5-4b72-9b61-513d33d33793"
      },
      "outputs": [
        {
          "output_type": "execute_result",
          "data": {
            "text/plain": [
              "    InteractorA InteractorB\n",
              "0         YWHAG         SON\n",
              "1         YWHAB         SON\n",
              "3         SIRT7         SON\n",
              "4          TCF3         SON\n",
              "5         SF3B1         SON\n",
              "..          ...         ...\n",
              "149        NSP8         SON\n",
              "150        NSP9         SON\n",
              "151        ORF6         SON\n",
              "152        ORF8         SON\n",
              "153        CCNF         SON\n",
              "\n",
              "[146 rows x 2 columns]"
            ],
            "text/html": [
              "\n",
              "  <div id=\"df-fc2af410-68b3-4218-8df9-8b1c5c8c9ba8\">\n",
              "    <div class=\"colab-df-container\">\n",
              "      <div>\n",
              "<style scoped>\n",
              "    .dataframe tbody tr th:only-of-type {\n",
              "        vertical-align: middle;\n",
              "    }\n",
              "\n",
              "    .dataframe tbody tr th {\n",
              "        vertical-align: top;\n",
              "    }\n",
              "\n",
              "    .dataframe thead th {\n",
              "        text-align: right;\n",
              "    }\n",
              "</style>\n",
              "<table border=\"1\" class=\"dataframe\">\n",
              "  <thead>\n",
              "    <tr style=\"text-align: right;\">\n",
              "      <th></th>\n",
              "      <th>InteractorA</th>\n",
              "      <th>InteractorB</th>\n",
              "    </tr>\n",
              "  </thead>\n",
              "  <tbody>\n",
              "    <tr>\n",
              "      <th>0</th>\n",
              "      <td>YWHAG</td>\n",
              "      <td>SON</td>\n",
              "    </tr>\n",
              "    <tr>\n",
              "      <th>1</th>\n",
              "      <td>YWHAB</td>\n",
              "      <td>SON</td>\n",
              "    </tr>\n",
              "    <tr>\n",
              "      <th>3</th>\n",
              "      <td>SIRT7</td>\n",
              "      <td>SON</td>\n",
              "    </tr>\n",
              "    <tr>\n",
              "      <th>4</th>\n",
              "      <td>TCF3</td>\n",
              "      <td>SON</td>\n",
              "    </tr>\n",
              "    <tr>\n",
              "      <th>5</th>\n",
              "      <td>SF3B1</td>\n",
              "      <td>SON</td>\n",
              "    </tr>\n",
              "    <tr>\n",
              "      <th>...</th>\n",
              "      <td>...</td>\n",
              "      <td>...</td>\n",
              "    </tr>\n",
              "    <tr>\n",
              "      <th>149</th>\n",
              "      <td>NSP8</td>\n",
              "      <td>SON</td>\n",
              "    </tr>\n",
              "    <tr>\n",
              "      <th>150</th>\n",
              "      <td>NSP9</td>\n",
              "      <td>SON</td>\n",
              "    </tr>\n",
              "    <tr>\n",
              "      <th>151</th>\n",
              "      <td>ORF6</td>\n",
              "      <td>SON</td>\n",
              "    </tr>\n",
              "    <tr>\n",
              "      <th>152</th>\n",
              "      <td>ORF8</td>\n",
              "      <td>SON</td>\n",
              "    </tr>\n",
              "    <tr>\n",
              "      <th>153</th>\n",
              "      <td>CCNF</td>\n",
              "      <td>SON</td>\n",
              "    </tr>\n",
              "  </tbody>\n",
              "</table>\n",
              "<p>146 rows × 2 columns</p>\n",
              "</div>\n",
              "      <button class=\"colab-df-convert\" onclick=\"convertToInteractive('df-fc2af410-68b3-4218-8df9-8b1c5c8c9ba8')\"\n",
              "              title=\"Convert this dataframe to an interactive table.\"\n",
              "              style=\"display:none;\">\n",
              "        \n",
              "  <svg xmlns=\"http://www.w3.org/2000/svg\" height=\"24px\"viewBox=\"0 0 24 24\"\n",
              "       width=\"24px\">\n",
              "    <path d=\"M0 0h24v24H0V0z\" fill=\"none\"/>\n",
              "    <path d=\"M18.56 5.44l.94 2.06.94-2.06 2.06-.94-2.06-.94-.94-2.06-.94 2.06-2.06.94zm-11 1L8.5 8.5l.94-2.06 2.06-.94-2.06-.94L8.5 2.5l-.94 2.06-2.06.94zm10 10l.94 2.06.94-2.06 2.06-.94-2.06-.94-.94-2.06-.94 2.06-2.06.94z\"/><path d=\"M17.41 7.96l-1.37-1.37c-.4-.4-.92-.59-1.43-.59-.52 0-1.04.2-1.43.59L10.3 9.45l-7.72 7.72c-.78.78-.78 2.05 0 2.83L4 21.41c.39.39.9.59 1.41.59.51 0 1.02-.2 1.41-.59l7.78-7.78 2.81-2.81c.8-.78.8-2.07 0-2.86zM5.41 20L4 18.59l7.72-7.72 1.47 1.35L5.41 20z\"/>\n",
              "  </svg>\n",
              "      </button>\n",
              "      \n",
              "  <style>\n",
              "    .colab-df-container {\n",
              "      display:flex;\n",
              "      flex-wrap:wrap;\n",
              "      gap: 12px;\n",
              "    }\n",
              "\n",
              "    .colab-df-convert {\n",
              "      background-color: #E8F0FE;\n",
              "      border: none;\n",
              "      border-radius: 50%;\n",
              "      cursor: pointer;\n",
              "      display: none;\n",
              "      fill: #1967D2;\n",
              "      height: 32px;\n",
              "      padding: 0 0 0 0;\n",
              "      width: 32px;\n",
              "    }\n",
              "\n",
              "    .colab-df-convert:hover {\n",
              "      background-color: #E2EBFA;\n",
              "      box-shadow: 0px 1px 2px rgba(60, 64, 67, 0.3), 0px 1px 3px 1px rgba(60, 64, 67, 0.15);\n",
              "      fill: #174EA6;\n",
              "    }\n",
              "\n",
              "    [theme=dark] .colab-df-convert {\n",
              "      background-color: #3B4455;\n",
              "      fill: #D2E3FC;\n",
              "    }\n",
              "\n",
              "    [theme=dark] .colab-df-convert:hover {\n",
              "      background-color: #434B5C;\n",
              "      box-shadow: 0px 1px 3px 1px rgba(0, 0, 0, 0.15);\n",
              "      filter: drop-shadow(0px 1px 2px rgba(0, 0, 0, 0.3));\n",
              "      fill: #FFFFFF;\n",
              "    }\n",
              "  </style>\n",
              "\n",
              "      <script>\n",
              "        const buttonEl =\n",
              "          document.querySelector('#df-fc2af410-68b3-4218-8df9-8b1c5c8c9ba8 button.colab-df-convert');\n",
              "        buttonEl.style.display =\n",
              "          google.colab.kernel.accessAllowed ? 'block' : 'none';\n",
              "\n",
              "        async function convertToInteractive(key) {\n",
              "          const element = document.querySelector('#df-fc2af410-68b3-4218-8df9-8b1c5c8c9ba8');\n",
              "          const dataTable =\n",
              "            await google.colab.kernel.invokeFunction('convertToInteractive',\n",
              "                                                     [key], {});\n",
              "          if (!dataTable) return;\n",
              "\n",
              "          const docLinkHtml = 'Like what you see? Visit the ' +\n",
              "            '<a target=\"_blank\" href=https://colab.research.google.com/notebooks/data_table.ipynb>data table notebook</a>'\n",
              "            + ' to learn more about interactive tables.';\n",
              "          element.innerHTML = '';\n",
              "          dataTable['output_type'] = 'display_data';\n",
              "          await google.colab.output.renderOutput(dataTable, element);\n",
              "          const docLink = document.createElement('div');\n",
              "          docLink.innerHTML = docLinkHtml;\n",
              "          element.appendChild(docLink);\n",
              "        }\n",
              "      </script>\n",
              "    </div>\n",
              "  </div>\n",
              "  "
            ]
          },
          "metadata": {},
          "execution_count": 4
        }
      ],
      "source": [
        "gene_interactions"
      ]
    },
    {
      "cell_type": "markdown",
      "metadata": {
        "id": "WSImzBkZEuWs"
      },
      "source": [
        "## **Expand the interactions dataset**\n",
        "Expand the dataset using the proteins obtained from the previous step."
      ]
    },
    {
      "cell_type": "code",
      "execution_count": null,
      "metadata": {
        "id": "eR1eHsQDlLrC"
      },
      "outputs": [],
      "source": [
        "request_url = BASE_URL + \"/interactions\"\n",
        "data = {}\n",
        "\n",
        "step = 5\n",
        "for i in range(0, len(proteins_list), step):\n",
        "    end = i+step\n",
        "    if end >= len(proteins_list):\n",
        "        end = len(proteins_list)\n",
        "    \n",
        "    # List of genes to search for\n",
        "    gene_list = proteins_list[i:end] # [\"SRPK2\"]\n",
        "\n",
        "    params = {\n",
        "        \"accesskey\": ACCESS_KEY,\n",
        "        \"format\": \"json\",  # Return results in TAB2 format\n",
        "        \"geneList\": \"|\".join(gene_list),  # Must be | separated\n",
        "        \"searchNames\": \"true\",  # Search against official names\n",
        "        \"includeInteractors\": \"true\",  # Set to true to get any interaction involving EITHER gene, set to false to get interactions between genes\n",
        "        \"includeInteractorInteractions\": \"false\",  # Set to true to get interactions between the geneList’s first order interactors\n",
        "        \"includeEvidence\": \"false\",  # If false \"evidenceList\" is evidence to exclude, if true \"evidenceList\" is evidence to show\n",
        "        \"selfInteractionsExcluded\": \"true\", # If true no self-interactions will be included\n",
        "    }\n",
        "\n",
        "    r = requests.get(request_url, params=params)\n",
        "    interactions = r.json()\n",
        "    \n",
        "    # Check if the interactions are more than the allowed number\n",
        "    if len(interactions)==10000:\n",
        "      assert False\n",
        "\n",
        "    # Create a hash of results by interaction identifier\n",
        "    for interaction_id, interaction in interactions.items():\n",
        "        data[interaction_id] = interaction"
      ]
    },
    {
      "cell_type": "code",
      "execution_count": null,
      "metadata": {
        "colab": {
          "base_uri": "https://localhost:8080/",
          "height": 423
        },
        "id": "-h7TATRhnHf6",
        "outputId": "9e1a6b9c-e5df-40f9-85e2-0e3e33488dcc"
      },
      "outputs": [
        {
          "output_type": "execute_result",
          "data": {
            "text/plain": [
              "        InteractorA InteractorB\n",
              "8289           TCF3       HAND2\n",
              "8324           TCF3         ID3\n",
              "31348       VAP-33B       SIRT7\n",
              "31539         SIRT7    CKIIBETA\n",
              "37873         SIRT7        POLO\n",
              "...             ...         ...\n",
              "3305885        CCNF       ZBTB1\n",
              "3305886        CCNF       ZGPAT\n",
              "3305887        CCNF      ZNF638\n",
              "3305888        CCNF      ZNF687\n",
              "3305889        CCNF       ZWINT\n",
              "\n",
              "[104577 rows x 2 columns]"
            ],
            "text/html": [
              "\n",
              "  <div id=\"df-994490ae-b405-49d0-9977-e262182b1dc3\">\n",
              "    <div class=\"colab-df-container\">\n",
              "      <div>\n",
              "<style scoped>\n",
              "    .dataframe tbody tr th:only-of-type {\n",
              "        vertical-align: middle;\n",
              "    }\n",
              "\n",
              "    .dataframe tbody tr th {\n",
              "        vertical-align: top;\n",
              "    }\n",
              "\n",
              "    .dataframe thead th {\n",
              "        text-align: right;\n",
              "    }\n",
              "</style>\n",
              "<table border=\"1\" class=\"dataframe\">\n",
              "  <thead>\n",
              "    <tr style=\"text-align: right;\">\n",
              "      <th></th>\n",
              "      <th>InteractorA</th>\n",
              "      <th>InteractorB</th>\n",
              "    </tr>\n",
              "  </thead>\n",
              "  <tbody>\n",
              "    <tr>\n",
              "      <th>8289</th>\n",
              "      <td>TCF3</td>\n",
              "      <td>HAND2</td>\n",
              "    </tr>\n",
              "    <tr>\n",
              "      <th>8324</th>\n",
              "      <td>TCF3</td>\n",
              "      <td>ID3</td>\n",
              "    </tr>\n",
              "    <tr>\n",
              "      <th>31348</th>\n",
              "      <td>VAP-33B</td>\n",
              "      <td>SIRT7</td>\n",
              "    </tr>\n",
              "    <tr>\n",
              "      <th>31539</th>\n",
              "      <td>SIRT7</td>\n",
              "      <td>CKIIBETA</td>\n",
              "    </tr>\n",
              "    <tr>\n",
              "      <th>37873</th>\n",
              "      <td>SIRT7</td>\n",
              "      <td>POLO</td>\n",
              "    </tr>\n",
              "    <tr>\n",
              "      <th>...</th>\n",
              "      <td>...</td>\n",
              "      <td>...</td>\n",
              "    </tr>\n",
              "    <tr>\n",
              "      <th>3305885</th>\n",
              "      <td>CCNF</td>\n",
              "      <td>ZBTB1</td>\n",
              "    </tr>\n",
              "    <tr>\n",
              "      <th>3305886</th>\n",
              "      <td>CCNF</td>\n",
              "      <td>ZGPAT</td>\n",
              "    </tr>\n",
              "    <tr>\n",
              "      <th>3305887</th>\n",
              "      <td>CCNF</td>\n",
              "      <td>ZNF638</td>\n",
              "    </tr>\n",
              "    <tr>\n",
              "      <th>3305888</th>\n",
              "      <td>CCNF</td>\n",
              "      <td>ZNF687</td>\n",
              "    </tr>\n",
              "    <tr>\n",
              "      <th>3305889</th>\n",
              "      <td>CCNF</td>\n",
              "      <td>ZWINT</td>\n",
              "    </tr>\n",
              "  </tbody>\n",
              "</table>\n",
              "<p>104577 rows × 2 columns</p>\n",
              "</div>\n",
              "      <button class=\"colab-df-convert\" onclick=\"convertToInteractive('df-994490ae-b405-49d0-9977-e262182b1dc3')\"\n",
              "              title=\"Convert this dataframe to an interactive table.\"\n",
              "              style=\"display:none;\">\n",
              "        \n",
              "  <svg xmlns=\"http://www.w3.org/2000/svg\" height=\"24px\"viewBox=\"0 0 24 24\"\n",
              "       width=\"24px\">\n",
              "    <path d=\"M0 0h24v24H0V0z\" fill=\"none\"/>\n",
              "    <path d=\"M18.56 5.44l.94 2.06.94-2.06 2.06-.94-2.06-.94-.94-2.06-.94 2.06-2.06.94zm-11 1L8.5 8.5l.94-2.06 2.06-.94-2.06-.94L8.5 2.5l-.94 2.06-2.06.94zm10 10l.94 2.06.94-2.06 2.06-.94-2.06-.94-.94-2.06-.94 2.06-2.06.94z\"/><path d=\"M17.41 7.96l-1.37-1.37c-.4-.4-.92-.59-1.43-.59-.52 0-1.04.2-1.43.59L10.3 9.45l-7.72 7.72c-.78.78-.78 2.05 0 2.83L4 21.41c.39.39.9.59 1.41.59.51 0 1.02-.2 1.41-.59l7.78-7.78 2.81-2.81c.8-.78.8-2.07 0-2.86zM5.41 20L4 18.59l7.72-7.72 1.47 1.35L5.41 20z\"/>\n",
              "  </svg>\n",
              "      </button>\n",
              "      \n",
              "  <style>\n",
              "    .colab-df-container {\n",
              "      display:flex;\n",
              "      flex-wrap:wrap;\n",
              "      gap: 12px;\n",
              "    }\n",
              "\n",
              "    .colab-df-convert {\n",
              "      background-color: #E8F0FE;\n",
              "      border: none;\n",
              "      border-radius: 50%;\n",
              "      cursor: pointer;\n",
              "      display: none;\n",
              "      fill: #1967D2;\n",
              "      height: 32px;\n",
              "      padding: 0 0 0 0;\n",
              "      width: 32px;\n",
              "    }\n",
              "\n",
              "    .colab-df-convert:hover {\n",
              "      background-color: #E2EBFA;\n",
              "      box-shadow: 0px 1px 2px rgba(60, 64, 67, 0.3), 0px 1px 3px 1px rgba(60, 64, 67, 0.15);\n",
              "      fill: #174EA6;\n",
              "    }\n",
              "\n",
              "    [theme=dark] .colab-df-convert {\n",
              "      background-color: #3B4455;\n",
              "      fill: #D2E3FC;\n",
              "    }\n",
              "\n",
              "    [theme=dark] .colab-df-convert:hover {\n",
              "      background-color: #434B5C;\n",
              "      box-shadow: 0px 1px 3px 1px rgba(0, 0, 0, 0.15);\n",
              "      filter: drop-shadow(0px 1px 2px rgba(0, 0, 0, 0.3));\n",
              "      fill: #FFFFFF;\n",
              "    }\n",
              "  </style>\n",
              "\n",
              "      <script>\n",
              "        const buttonEl =\n",
              "          document.querySelector('#df-994490ae-b405-49d0-9977-e262182b1dc3 button.colab-df-convert');\n",
              "        buttonEl.style.display =\n",
              "          google.colab.kernel.accessAllowed ? 'block' : 'none';\n",
              "\n",
              "        async function convertToInteractive(key) {\n",
              "          const element = document.querySelector('#df-994490ae-b405-49d0-9977-e262182b1dc3');\n",
              "          const dataTable =\n",
              "            await google.colab.kernel.invokeFunction('convertToInteractive',\n",
              "                                                     [key], {});\n",
              "          if (!dataTable) return;\n",
              "\n",
              "          const docLinkHtml = 'Like what you see? Visit the ' +\n",
              "            '<a target=\"_blank\" href=https://colab.research.google.com/notebooks/data_table.ipynb>data table notebook</a>'\n",
              "            + ' to learn more about interactive tables.';\n",
              "          element.innerHTML = '';\n",
              "          dataTable['output_type'] = 'display_data';\n",
              "          await google.colab.output.renderOutput(dataTable, element);\n",
              "          const docLink = document.createElement('div');\n",
              "          docLink.innerHTML = docLinkHtml;\n",
              "          element.appendChild(docLink);\n",
              "        }\n",
              "      </script>\n",
              "    </div>\n",
              "  </div>\n",
              "  "
            ]
          },
          "metadata": {},
          "execution_count": 6
        }
      ],
      "source": [
        "# Load the data into a pandas dataframe\n",
        "dataset = pd.DataFrame.from_dict(data, orient=\"index\")\n",
        "\n",
        "# Re-order the columns and select only the columns we want to see\n",
        "columns = [\"OFFICIAL_SYMBOL_A\", \"OFFICIAL_SYMBOL_B\"]\n",
        "dataset = dataset[columns]\n",
        "\n",
        "# Rename the columns and make all the values uppercase\n",
        "dataset = dataset.rename(columns={\"OFFICIAL_SYMBOL_A\": \"InteractorA\", \"OFFICIAL_SYMBOL_B\": \"InteractorB\"})\n",
        "dataset[\"InteractorA\"] = dataset[\"InteractorA\"].str.upper()\n",
        "dataset[\"InteractorB\"] = dataset[\"InteractorB\"].str.upper()\n",
        "\n",
        "# Print the dataframe\n",
        "dataset"
      ]
    },
    {
      "cell_type": "markdown",
      "metadata": {
        "id": "mLu6ftTO6PFD"
      },
      "source": [
        "Drop duplicated interactions, they're not interesting from out point of view."
      ]
    },
    {
      "cell_type": "code",
      "execution_count": null,
      "metadata": {
        "colab": {
          "base_uri": "https://localhost:8080/"
        },
        "id": "6Aso-GCJoWpq",
        "outputId": "1ce4c169-11bb-4072-b19f-9fb35d7ca5f4"
      },
      "outputs": [
        {
          "output_type": "stream",
          "name": "stdout",
          "text": [
            "Duplicated interactions:\n",
            "False    79296\n",
            "True     25281\n",
            "dtype: int64\n"
          ]
        }
      ],
      "source": [
        "# Look for duplicated interactions\n",
        "duplicated_interactions = pd.DataFrame(np.sort(dataset[[\"InteractorA\", \"InteractorB\"]].values, 1)).duplicated()\n",
        "print(\"Duplicated interactions:\\n{0}\".format(duplicated_interactions.value_counts()))\n",
        "\n",
        "# Delete such interactions from the dataset\n",
        "dataset = dataset[~duplicated_interactions.values]"
      ]
    },
    {
      "cell_type": "markdown",
      "metadata": {
        "id": "p3JD2OfP6Ypd"
      },
      "source": [
        "Drop self-loops since they're useless for our analysis."
      ]
    },
    {
      "cell_type": "code",
      "execution_count": null,
      "metadata": {
        "colab": {
          "base_uri": "https://localhost:8080/"
        },
        "id": "hVlRgo6ozI39",
        "outputId": "b84d9c69-c5a5-465a-fa10-9c5b6325f127"
      },
      "outputs": [
        {
          "output_type": "stream",
          "name": "stdout",
          "text": [
            "Useless interactions:\n",
            "False    79283\n",
            "True        13\n",
            "dtype: int64\n"
          ]
        }
      ],
      "source": [
        "# Look for interactions where both proteins are the same\n",
        "same_proteins_interactions = pd.DataFrame(dataset[[\"InteractorA\", \"InteractorB\"]].nunique(axis=1) == 1)\n",
        "print(\"Useless interactions:\\n{0}\".format(same_proteins_interactions.value_counts()))\n",
        "\n",
        "# Delete such interactions from the dataset\n",
        "dataset = dataset[~same_proteins_interactions.values]"
      ]
    },
    {
      "cell_type": "markdown",
      "metadata": {
        "id": "suXiaPI_6hBO"
      },
      "source": [
        "Unify the interactions from the starting gene with the ones obtained by the requests to the BioGrid dataset."
      ]
    },
    {
      "cell_type": "code",
      "execution_count": null,
      "metadata": {
        "id": "JvZWF8Jk22o5"
      },
      "outputs": [],
      "source": [
        "dataset = dataset.append(gene_interactions)"
      ]
    },
    {
      "cell_type": "code",
      "execution_count": null,
      "metadata": {
        "colab": {
          "base_uri": "https://localhost:8080/"
        },
        "id": "V7uiZtNPvR_Y",
        "outputId": "b71b4174-d968-49eb-d35f-ff088a3d207a"
      },
      "outputs": [
        {
          "output_type": "stream",
          "name": "stdout",
          "text": [
            "Number of nodes: 13010\n"
          ]
        }
      ],
      "source": [
        "nodes = dataset[\"InteractorA\"].append(dataset[\"InteractorB\"]).unique()\n",
        "# Basterebbe fare l'append su genes nel caso considerassimo solamente i nodi iniziali\n",
        "print(\"Number of nodes: {0}\".format(len(nodes)))"
      ]
    },
    {
      "cell_type": "markdown",
      "source": [
        "At last, save the interactions and nodes into csv file for pathway enrichment."
      ],
      "metadata": {
        "id": "HKEVJuyGHHy-"
      }
    },
    {
      "cell_type": "code",
      "execution_count": null,
      "metadata": {
        "id": "EejlpWODCiwU"
      },
      "outputs": [],
      "source": [
        "# Save interactions and nodes dataset to csv\n",
        "dataset.to_csv(\"interactions.csv\")\n",
        "pd.DataFrame(nodes).to_csv(\"genes.csv\")"
      ]
    },
    {
      "cell_type": "markdown",
      "metadata": {
        "id": "ItzFqtwX5WLy"
      },
      "source": [
        "## **Pathway enrichment**\n",
        "Find all the diseases linked to the nodes retrieved by the previous step."
      ]
    },
    {
      "cell_type": "code",
      "execution_count": null,
      "metadata": {
        "id": "c1oUsfl0zUrb",
        "colab": {
          "base_uri": "https://localhost:8080/"
        },
        "outputId": "304b3811-c01d-4589-f87d-d0ba94a56e79"
      },
      "outputs": [
        {
          "output_type": "stream",
          "name": "stdout",
          "text": [
            "Creating directory /root/.config/bioservices \n"
          ]
        }
      ],
      "source": [
        "import gseapy as gp"
      ]
    },
    {
      "cell_type": "markdown",
      "source": [
        "List all the datasets from wich we can retrieve pathways by using the gseapy package."
      ],
      "metadata": {
        "id": "xxi1i2x1Hfbt"
      }
    },
    {
      "cell_type": "code",
      "execution_count": null,
      "metadata": {
        "id": "t1pzpEInKuCM",
        "colab": {
          "base_uri": "https://localhost:8080/"
        },
        "outputId": "41288f01-941b-4381-e1f1-cc7c1a973e40"
      },
      "outputs": [
        {
          "output_type": "execute_result",
          "data": {
            "text/plain": [
              "['ARCHS4_Cell-lines',\n",
              " 'ARCHS4_IDG_Coexp',\n",
              " 'ARCHS4_Kinases_Coexp',\n",
              " 'ARCHS4_TFs_Coexp',\n",
              " 'ARCHS4_Tissues',\n",
              " 'Achilles_fitness_decrease',\n",
              " 'Achilles_fitness_increase',\n",
              " 'Aging_Perturbations_from_GEO_down',\n",
              " 'Aging_Perturbations_from_GEO_up',\n",
              " 'Allen_Brain_Atlas_10x_scRNA_2021',\n",
              " 'Allen_Brain_Atlas_down',\n",
              " 'Allen_Brain_Atlas_up',\n",
              " 'Azimuth_Cell_Types_2021',\n",
              " 'BioCarta_2013',\n",
              " 'BioCarta_2015',\n",
              " 'BioCarta_2016',\n",
              " 'BioPlanet_2019',\n",
              " 'BioPlex_2017',\n",
              " 'CCLE_Proteomics_2020',\n",
              " 'CORUM',\n",
              " 'COVID-19_Related_Gene_Sets',\n",
              " 'COVID-19_Related_Gene_Sets_2021',\n",
              " 'Cancer_Cell_Line_Encyclopedia',\n",
              " 'CellMarker_Augmented_2021',\n",
              " 'ChEA_2013',\n",
              " 'ChEA_2015',\n",
              " 'ChEA_2016',\n",
              " 'Chromosome_Location',\n",
              " 'Chromosome_Location_hg19',\n",
              " 'ClinVar_2019',\n",
              " 'DSigDB',\n",
              " 'Data_Acquisition_Method_Most_Popular_Genes',\n",
              " 'DepMap_WG_CRISPR_Screens_Broad_CellLines_2019',\n",
              " 'DepMap_WG_CRISPR_Screens_Sanger_CellLines_2019',\n",
              " 'Descartes_Cell_Types_and_Tissue_2021',\n",
              " 'DisGeNET',\n",
              " 'Disease_Perturbations_from_GEO_down',\n",
              " 'Disease_Perturbations_from_GEO_up',\n",
              " 'Disease_Signatures_from_GEO_down_2014',\n",
              " 'Disease_Signatures_from_GEO_up_2014',\n",
              " 'DrugMatrix',\n",
              " 'Drug_Perturbations_from_GEO_2014',\n",
              " 'Drug_Perturbations_from_GEO_down',\n",
              " 'Drug_Perturbations_from_GEO_up',\n",
              " 'ENCODE_Histone_Modifications_2013',\n",
              " 'ENCODE_Histone_Modifications_2015',\n",
              " 'ENCODE_TF_ChIP-seq_2014',\n",
              " 'ENCODE_TF_ChIP-seq_2015',\n",
              " 'ENCODE_and_ChEA_Consensus_TFs_from_ChIP-X',\n",
              " 'ESCAPE',\n",
              " 'Elsevier_Pathway_Collection',\n",
              " 'Enrichr_Libraries_Most_Popular_Genes',\n",
              " 'Enrichr_Submissions_TF-Gene_Coocurrence',\n",
              " 'Enrichr_Users_Contributed_Lists_2020',\n",
              " 'Epigenomics_Roadmap_HM_ChIP-seq',\n",
              " 'GO_Biological_Process_2013',\n",
              " 'GO_Biological_Process_2015',\n",
              " 'GO_Biological_Process_2017',\n",
              " 'GO_Biological_Process_2017b',\n",
              " 'GO_Biological_Process_2018',\n",
              " 'GO_Biological_Process_2021',\n",
              " 'GO_Cellular_Component_2013',\n",
              " 'GO_Cellular_Component_2015',\n",
              " 'GO_Cellular_Component_2017',\n",
              " 'GO_Cellular_Component_2017b',\n",
              " 'GO_Cellular_Component_2018',\n",
              " 'GO_Cellular_Component_2021',\n",
              " 'GO_Molecular_Function_2013',\n",
              " 'GO_Molecular_Function_2015',\n",
              " 'GO_Molecular_Function_2017',\n",
              " 'GO_Molecular_Function_2017b',\n",
              " 'GO_Molecular_Function_2018',\n",
              " 'GO_Molecular_Function_2021',\n",
              " 'GTEx_Aging_Signatures_2021',\n",
              " 'GTEx_Tissue_Expression_Down',\n",
              " 'GTEx_Tissue_Expression_Up',\n",
              " 'GWAS_Catalog_2019',\n",
              " 'GeneSigDB',\n",
              " 'Gene_Perturbations_from_GEO_down',\n",
              " 'Gene_Perturbations_from_GEO_up',\n",
              " 'Genes_Associated_with_NIH_Grants',\n",
              " 'Genome_Browser_PWMs',\n",
              " 'HDSigDB_Human_2021',\n",
              " 'HDSigDB_Mouse_2021',\n",
              " 'HMDB_Metabolites',\n",
              " 'HMS_LINCS_KinomeScan',\n",
              " 'HomoloGene',\n",
              " 'HuBMAP_ASCT_plus_B_augmented_w_RNAseq_Coexpression',\n",
              " 'HuBMAP_ASCTplusB_augmented_2022',\n",
              " 'HumanCyc_2015',\n",
              " 'HumanCyc_2016',\n",
              " 'Human_Gene_Atlas',\n",
              " 'Human_Phenotype_Ontology',\n",
              " 'InterPro_Domains_2019',\n",
              " 'Jensen_COMPARTMENTS',\n",
              " 'Jensen_DISEASES',\n",
              " 'Jensen_TISSUES',\n",
              " 'KEA_2013',\n",
              " 'KEA_2015',\n",
              " 'KEGG_2013',\n",
              " 'KEGG_2015',\n",
              " 'KEGG_2016',\n",
              " 'KEGG_2019_Human',\n",
              " 'KEGG_2019_Mouse',\n",
              " 'KEGG_2021_Human',\n",
              " 'Kinase_Perturbations_from_GEO_down',\n",
              " 'Kinase_Perturbations_from_GEO_up',\n",
              " 'L1000_Kinase_and_GPCR_Perturbations_down',\n",
              " 'L1000_Kinase_and_GPCR_Perturbations_up',\n",
              " 'LINCS_L1000_Chem_Pert_down',\n",
              " 'LINCS_L1000_Chem_Pert_up',\n",
              " 'LINCS_L1000_Ligand_Perturbations_down',\n",
              " 'LINCS_L1000_Ligand_Perturbations_up',\n",
              " 'Ligand_Perturbations_from_GEO_down',\n",
              " 'Ligand_Perturbations_from_GEO_up',\n",
              " 'MCF7_Perturbations_from_GEO_down',\n",
              " 'MCF7_Perturbations_from_GEO_up',\n",
              " 'MGI_Mammalian_Phenotype_2013',\n",
              " 'MGI_Mammalian_Phenotype_2017',\n",
              " 'MGI_Mammalian_Phenotype_Level_3',\n",
              " 'MGI_Mammalian_Phenotype_Level_4',\n",
              " 'MGI_Mammalian_Phenotype_Level_4_2019',\n",
              " 'MGI_Mammalian_Phenotype_Level_4_2021',\n",
              " 'MSigDB_Computational',\n",
              " 'MSigDB_Hallmark_2020',\n",
              " 'MSigDB_Oncogenic_Signatures',\n",
              " 'Microbe_Perturbations_from_GEO_down',\n",
              " 'Microbe_Perturbations_from_GEO_up',\n",
              " 'Mouse_Gene_Atlas',\n",
              " 'NCI-60_Cancer_Cell_Lines',\n",
              " 'NCI-Nature_2015',\n",
              " 'NCI-Nature_2016',\n",
              " 'NIH_Funded_PIs_2017_AutoRIF_ARCHS4_Predictions',\n",
              " 'NIH_Funded_PIs_2017_GeneRIF_ARCHS4_Predictions',\n",
              " 'NIH_Funded_PIs_2017_Human_AutoRIF',\n",
              " 'NIH_Funded_PIs_2017_Human_GeneRIF',\n",
              " 'NURSA_Human_Endogenous_Complexome',\n",
              " 'OMIM_Disease',\n",
              " 'OMIM_Expanded',\n",
              " 'Old_CMAP_down',\n",
              " 'Old_CMAP_up',\n",
              " 'Orphanet_Augmented_2021',\n",
              " 'PPI_Hub_Proteins',\n",
              " 'PanglaoDB_Augmented_2021',\n",
              " 'Panther_2015',\n",
              " 'Panther_2016',\n",
              " 'Pfam_Domains_2019',\n",
              " 'Pfam_InterPro_Domains',\n",
              " 'PheWeb_2019',\n",
              " 'PhenGenI_Association_2021',\n",
              " 'Phosphatase_Substrates_from_DEPOD',\n",
              " 'ProteomicsDB_2020',\n",
              " 'RNA-Seq_Disease_Gene_and_Drug_Signatures_from_GEO',\n",
              " 'RNAseq_Automatic_GEO_Signatures_Human_Down',\n",
              " 'RNAseq_Automatic_GEO_Signatures_Human_Up',\n",
              " 'RNAseq_Automatic_GEO_Signatures_Mouse_Down',\n",
              " 'RNAseq_Automatic_GEO_Signatures_Mouse_Up',\n",
              " 'Rare_Diseases_AutoRIF_ARCHS4_Predictions',\n",
              " 'Rare_Diseases_AutoRIF_Gene_Lists',\n",
              " 'Rare_Diseases_GeneRIF_ARCHS4_Predictions',\n",
              " 'Rare_Diseases_GeneRIF_Gene_Lists',\n",
              " 'Reactome_2013',\n",
              " 'Reactome_2015',\n",
              " 'Reactome_2016',\n",
              " 'SILAC_Phosphoproteomics',\n",
              " 'SubCell_BarCode',\n",
              " 'SysMyo_Muscle_Gene_Sets',\n",
              " 'TF-LOF_Expression_from_GEO',\n",
              " 'TF_Perturbations_Followed_by_Expression',\n",
              " 'TG_GATES_2020',\n",
              " 'TRANSFAC_and_JASPAR_PWMs',\n",
              " 'TRRUST_Transcription_Factors_2019',\n",
              " 'Table_Mining_of_CRISPR_Studies',\n",
              " 'TargetScan_microRNA',\n",
              " 'TargetScan_microRNA_2017',\n",
              " 'Tissue_Protein_Expression_from_Human_Proteome_Map',\n",
              " 'Tissue_Protein_Expression_from_ProteomicsDB',\n",
              " 'Transcription_Factor_PPIs',\n",
              " 'UK_Biobank_GWAS_v1',\n",
              " 'Virus-Host_PPI_P-HIPSTer_2020',\n",
              " 'VirusMINT',\n",
              " 'Virus_Perturbations_from_GEO_down',\n",
              " 'Virus_Perturbations_from_GEO_up',\n",
              " 'WikiPathway_2021_Human',\n",
              " 'WikiPathways_2013',\n",
              " 'WikiPathways_2015',\n",
              " 'WikiPathways_2016',\n",
              " 'WikiPathways_2019_Human',\n",
              " 'WikiPathways_2019_Mouse',\n",
              " 'dbGaP',\n",
              " 'huMAP',\n",
              " 'lncHUB_lncRNA_Co-Expression',\n",
              " 'miRTarBase_2017']"
            ]
          },
          "metadata": {},
          "execution_count": 13
        }
      ],
      "source": [
        "gp.get_library_name()"
      ]
    },
    {
      "cell_type": "markdown",
      "source": [
        "Obtain all the pathways connected to our nodes, for our case we are going to use the DisGeNET dataset."
      ],
      "metadata": {
        "id": "lCFCjVV6HnXE"
      }
    },
    {
      "cell_type": "code",
      "execution_count": null,
      "metadata": {
        "id": "0sBOTwJFImd7"
      },
      "outputs": [],
      "source": [
        "enr = gp.enrichr(gene_list=pd.DataFrame(nodes),\n",
        "                  gene_sets=['DisGeNET'],  # Datasets from the gp.get_library_name() method\n",
        "                  organism='Human',\n",
        "                  description='DEGs_up_1d',\n",
        "                  outdir='test'\n",
        "              )"
      ]
    },
    {
      "cell_type": "markdown",
      "source": [
        "Keep those pathways with an adjusted p-value < 0.1."
      ],
      "metadata": {
        "id": "6q44ekjaIJMj"
      }
    },
    {
      "cell_type": "code",
      "execution_count": null,
      "metadata": {
        "id": "Kfoo4F13J1L_",
        "colab": {
          "base_uri": "https://localhost:8080/",
          "height": 388
        },
        "outputId": "6bf3aec9-68b1-43d0-ed05-3af424eeb17a"
      },
      "outputs": [
        {
          "output_type": "execute_result",
          "data": {
            "text/plain": [
              "                                      Term Overlap   P-value  \\\n",
              "584                   Chronic otitis media   55/69  0.005896   \n",
              "585  Inadequate arch length for tooth size   47/58  0.005953   \n",
              "586                         Tooth Crowding   47/58  0.005953   \n",
              "587       Tooth mass arch size discrepancy   47/58  0.005953   \n",
              "588                 Tooth size discrepancy   47/58  0.005953   \n",
              "\n",
              "     Adjusted P-value                                              Genes  \n",
              "584          0.098950  IGHM;CD81;WIPF1;FMR1;DOCK8;CHD7;JMJD1C;COMT;GT...  \n",
              "585          0.099228  AMER1;SETD5;NOTCH3;TRIO;RPL10;SATB2;GNAI3;PLOD...  \n",
              "586          0.099228  AMER1;SETD5;NOTCH3;TRIO;RPL10;SATB2;GNAI3;PLOD...  \n",
              "587          0.099228  AMER1;SETD5;NOTCH3;TRIO;RPL10;SATB2;GNAI3;PLOD...  \n",
              "588          0.099228  AMER1;SETD5;NOTCH3;TRIO;RPL10;SATB2;GNAI3;PLOD...  "
            ],
            "text/html": [
              "\n",
              "  <div id=\"df-6f075739-c3d3-4206-bf0c-5746a0bc9470\">\n",
              "    <div class=\"colab-df-container\">\n",
              "      <div>\n",
              "<style scoped>\n",
              "    .dataframe tbody tr th:only-of-type {\n",
              "        vertical-align: middle;\n",
              "    }\n",
              "\n",
              "    .dataframe tbody tr th {\n",
              "        vertical-align: top;\n",
              "    }\n",
              "\n",
              "    .dataframe thead th {\n",
              "        text-align: right;\n",
              "    }\n",
              "</style>\n",
              "<table border=\"1\" class=\"dataframe\">\n",
              "  <thead>\n",
              "    <tr style=\"text-align: right;\">\n",
              "      <th></th>\n",
              "      <th>Term</th>\n",
              "      <th>Overlap</th>\n",
              "      <th>P-value</th>\n",
              "      <th>Adjusted P-value</th>\n",
              "      <th>Genes</th>\n",
              "    </tr>\n",
              "  </thead>\n",
              "  <tbody>\n",
              "    <tr>\n",
              "      <th>584</th>\n",
              "      <td>Chronic otitis media</td>\n",
              "      <td>55/69</td>\n",
              "      <td>0.005896</td>\n",
              "      <td>0.098950</td>\n",
              "      <td>IGHM;CD81;WIPF1;FMR1;DOCK8;CHD7;JMJD1C;COMT;GT...</td>\n",
              "    </tr>\n",
              "    <tr>\n",
              "      <th>585</th>\n",
              "      <td>Inadequate arch length for tooth size</td>\n",
              "      <td>47/58</td>\n",
              "      <td>0.005953</td>\n",
              "      <td>0.099228</td>\n",
              "      <td>AMER1;SETD5;NOTCH3;TRIO;RPL10;SATB2;GNAI3;PLOD...</td>\n",
              "    </tr>\n",
              "    <tr>\n",
              "      <th>586</th>\n",
              "      <td>Tooth Crowding</td>\n",
              "      <td>47/58</td>\n",
              "      <td>0.005953</td>\n",
              "      <td>0.099228</td>\n",
              "      <td>AMER1;SETD5;NOTCH3;TRIO;RPL10;SATB2;GNAI3;PLOD...</td>\n",
              "    </tr>\n",
              "    <tr>\n",
              "      <th>587</th>\n",
              "      <td>Tooth mass arch size discrepancy</td>\n",
              "      <td>47/58</td>\n",
              "      <td>0.005953</td>\n",
              "      <td>0.099228</td>\n",
              "      <td>AMER1;SETD5;NOTCH3;TRIO;RPL10;SATB2;GNAI3;PLOD...</td>\n",
              "    </tr>\n",
              "    <tr>\n",
              "      <th>588</th>\n",
              "      <td>Tooth size discrepancy</td>\n",
              "      <td>47/58</td>\n",
              "      <td>0.005953</td>\n",
              "      <td>0.099228</td>\n",
              "      <td>AMER1;SETD5;NOTCH3;TRIO;RPL10;SATB2;GNAI3;PLOD...</td>\n",
              "    </tr>\n",
              "  </tbody>\n",
              "</table>\n",
              "</div>\n",
              "      <button class=\"colab-df-convert\" onclick=\"convertToInteractive('df-6f075739-c3d3-4206-bf0c-5746a0bc9470')\"\n",
              "              title=\"Convert this dataframe to an interactive table.\"\n",
              "              style=\"display:none;\">\n",
              "        \n",
              "  <svg xmlns=\"http://www.w3.org/2000/svg\" height=\"24px\"viewBox=\"0 0 24 24\"\n",
              "       width=\"24px\">\n",
              "    <path d=\"M0 0h24v24H0V0z\" fill=\"none\"/>\n",
              "    <path d=\"M18.56 5.44l.94 2.06.94-2.06 2.06-.94-2.06-.94-.94-2.06-.94 2.06-2.06.94zm-11 1L8.5 8.5l.94-2.06 2.06-.94-2.06-.94L8.5 2.5l-.94 2.06-2.06.94zm10 10l.94 2.06.94-2.06 2.06-.94-2.06-.94-.94-2.06-.94 2.06-2.06.94z\"/><path d=\"M17.41 7.96l-1.37-1.37c-.4-.4-.92-.59-1.43-.59-.52 0-1.04.2-1.43.59L10.3 9.45l-7.72 7.72c-.78.78-.78 2.05 0 2.83L4 21.41c.39.39.9.59 1.41.59.51 0 1.02-.2 1.41-.59l7.78-7.78 2.81-2.81c.8-.78.8-2.07 0-2.86zM5.41 20L4 18.59l7.72-7.72 1.47 1.35L5.41 20z\"/>\n",
              "  </svg>\n",
              "      </button>\n",
              "      \n",
              "  <style>\n",
              "    .colab-df-container {\n",
              "      display:flex;\n",
              "      flex-wrap:wrap;\n",
              "      gap: 12px;\n",
              "    }\n",
              "\n",
              "    .colab-df-convert {\n",
              "      background-color: #E8F0FE;\n",
              "      border: none;\n",
              "      border-radius: 50%;\n",
              "      cursor: pointer;\n",
              "      display: none;\n",
              "      fill: #1967D2;\n",
              "      height: 32px;\n",
              "      padding: 0 0 0 0;\n",
              "      width: 32px;\n",
              "    }\n",
              "\n",
              "    .colab-df-convert:hover {\n",
              "      background-color: #E2EBFA;\n",
              "      box-shadow: 0px 1px 2px rgba(60, 64, 67, 0.3), 0px 1px 3px 1px rgba(60, 64, 67, 0.15);\n",
              "      fill: #174EA6;\n",
              "    }\n",
              "\n",
              "    [theme=dark] .colab-df-convert {\n",
              "      background-color: #3B4455;\n",
              "      fill: #D2E3FC;\n",
              "    }\n",
              "\n",
              "    [theme=dark] .colab-df-convert:hover {\n",
              "      background-color: #434B5C;\n",
              "      box-shadow: 0px 1px 3px 1px rgba(0, 0, 0, 0.15);\n",
              "      filter: drop-shadow(0px 1px 2px rgba(0, 0, 0, 0.3));\n",
              "      fill: #FFFFFF;\n",
              "    }\n",
              "  </style>\n",
              "\n",
              "      <script>\n",
              "        const buttonEl =\n",
              "          document.querySelector('#df-6f075739-c3d3-4206-bf0c-5746a0bc9470 button.colab-df-convert');\n",
              "        buttonEl.style.display =\n",
              "          google.colab.kernel.accessAllowed ? 'block' : 'none';\n",
              "\n",
              "        async function convertToInteractive(key) {\n",
              "          const element = document.querySelector('#df-6f075739-c3d3-4206-bf0c-5746a0bc9470');\n",
              "          const dataTable =\n",
              "            await google.colab.kernel.invokeFunction('convertToInteractive',\n",
              "                                                     [key], {});\n",
              "          if (!dataTable) return;\n",
              "\n",
              "          const docLinkHtml = 'Like what you see? Visit the ' +\n",
              "            '<a target=\"_blank\" href=https://colab.research.google.com/notebooks/data_table.ipynb>data table notebook</a>'\n",
              "            + ' to learn more about interactive tables.';\n",
              "          element.innerHTML = '';\n",
              "          dataTable['output_type'] = 'display_data';\n",
              "          await google.colab.output.renderOutput(dataTable, element);\n",
              "          const docLink = document.createElement('div');\n",
              "          docLink.innerHTML = docLinkHtml;\n",
              "          element.appendChild(docLink);\n",
              "        }\n",
              "      </script>\n",
              "    </div>\n",
              "  </div>\n",
              "  "
            ]
          },
          "metadata": {},
          "execution_count": 15
        }
      ],
      "source": [
        "df_diseases = enr.results[enr.results[\"Adjusted P-value\"] < 0.1][[\"Term\", \"Overlap\", \"P-value\", \"Adjusted P-value\", \"Genes\"]]\n",
        "df_diseases.tail()"
      ]
    },
    {
      "cell_type": "markdown",
      "source": [
        "Save the pathways in a csv file just like for the interactions and nodes."
      ],
      "metadata": {
        "id": "Oxe_BnEYIP6a"
      }
    },
    {
      "cell_type": "code",
      "execution_count": null,
      "metadata": {
        "id": "zYcHpOy8dvXb"
      },
      "outputs": [],
      "source": [
        "df_diseases.to_csv(\"diseases_pathways.csv\")"
      ]
    },
    {
      "cell_type": "markdown",
      "source": [
        "Build a dict with all the diseases, this will be helpful when we will need to work on the graph."
      ],
      "metadata": {
        "id": "9OqjAkBO1JZo"
      }
    },
    {
      "cell_type": "code",
      "source": [
        "diseases = dict()\n",
        "\n",
        "for i, disease in df_diseases.iterrows():\n",
        "    disease_genes = disease['Genes'].split(\";\")\n",
        "    term = disease['Term']\n",
        "    diseases[i] = {\"name\": term, \"genes\": disease_genes}"
      ],
      "metadata": {
        "id": "poQ2Hb6cKJHH"
      },
      "execution_count": null,
      "outputs": []
    },
    {
      "cell_type": "markdown",
      "source": [
        "## **Protein-Protein network**\n",
        "Build the protein-to-protein network and link each node to its diseases.\n"
      ],
      "metadata": {
        "id": "ar-g0_YIwgUx"
      }
    },
    {
      "cell_type": "code",
      "source": [
        "import networkx as nx"
      ],
      "metadata": {
        "id": "VMjbxA0HwuWx"
      },
      "execution_count": null,
      "outputs": []
    },
    {
      "cell_type": "markdown",
      "source": [
        "Build the graph and fill it with its nodes (the proteins coming from the dataset)."
      ],
      "metadata": {
        "id": "khA5k7eWWspx"
      }
    },
    {
      "cell_type": "code",
      "source": [
        "# Build the graph\n",
        "protein_graph = nx.Graph(name='Protein Interactions Graph')\n",
        "\n",
        "# Build the edges\n",
        "for node in nodes:\n",
        "    protein_graph.add_node(node, diseases=[])  # Each node will have a list with the disease pathways it belongs to"
      ],
      "metadata": {
        "id": "ttwl2VnoLYJY"
      },
      "execution_count": null,
      "outputs": []
    },
    {
      "cell_type": "markdown",
      "source": [
        "Insert into the node their respective diseases."
      ],
      "metadata": {
        "id": "RjwtaDCLXDMM"
      }
    },
    {
      "cell_type": "code",
      "source": [
        "for i, disease in diseases.items():\n",
        "    disease_genes = disease['genes']\n",
        "    for gene in disease_genes:\n",
        "        protein_graph.nodes[gene][\"diseases\"].append(i)"
      ],
      "metadata": {
        "id": "f3YCjIDsM1Hm"
      },
      "execution_count": null,
      "outputs": []
    },
    {
      "cell_type": "markdown",
      "source": [
        "There could be nodes without any diseases, they still need to be kept into the network."
      ],
      "metadata": {
        "id": "wBvLpv7JXHrT"
      }
    },
    {
      "cell_type": "code",
      "source": [
        "nodes_no_disease = list()\n",
        "for node in protein_graph.nodes:\n",
        "    if len(protein_graph.nodes[node][\"diseases\"])==0:\n",
        "        nodes_no_disease.append(str(node))"
      ],
      "metadata": {
        "id": "oD4kxhJiUnpu"
      },
      "execution_count": null,
      "outputs": []
    },
    {
      "cell_type": "code",
      "source": [
        "print(\"Nodes without diseases: {0}\".format(len(nodes_no_disease)))"
      ],
      "metadata": {
        "colab": {
          "base_uri": "https://localhost:8080/"
        },
        "id": "JgQEn2iNVTGt",
        "outputId": "f6299340-c08c-4a5b-d0ae-602350a3f8ca"
      },
      "execution_count": null,
      "outputs": [
        {
          "output_type": "stream",
          "name": "stdout",
          "text": [
            "Nodes without diseases: 5101\n"
          ]
        }
      ]
    },
    {
      "cell_type": "markdown",
      "source": [
        "Then, build the edges, it's straightforward as the nodes are known."
      ],
      "metadata": {
        "id": "x7RtjTzKXTtX"
      }
    },
    {
      "cell_type": "code",
      "source": [
        "for _, interaction in dataset.iterrows():\n",
        "    first_protein, second_protein = interaction[0], interaction[1]  # Proteins involved in the interaction\n",
        "\n",
        "    # Build the edge\n",
        "    protein_graph.add_edge(first_protein, second_protein)"
      ],
      "metadata": {
        "id": "YufAJDU0R8uq"
      },
      "execution_count": null,
      "outputs": []
    },
    {
      "cell_type": "markdown",
      "source": [
        "At last, save the graph."
      ],
      "metadata": {
        "id": "-yAbHRqkJ93L"
      }
    },
    {
      "cell_type": "code",
      "source": [
        "nx.write_gpickle(protein_graph,'protein_graph.gpickle')"
      ],
      "metadata": {
        "id": "dCpxDF_4IFLO"
      },
      "execution_count": null,
      "outputs": []
    },
    {
      "cell_type": "markdown",
      "source": [
        "## **Metrics**\n",
        "Metrics needed to compare the various diseases and proteins."
      ],
      "metadata": {
        "id": "1-2pGY6W10IG"
      }
    },
    {
      "cell_type": "markdown",
      "source": [
        "Load the graph if already built previously."
      ],
      "metadata": {
        "id": "lh768Fx-IPZO"
      }
    },
    {
      "cell_type": "code",
      "source": [
        "import os\n",
        "\n",
        "if os.path.exists(\"datasets/protein_graph.gpickle\"):\n",
        "    protein_graph = nx.read_gpickle(\"datasets/protein_graph.gpickle\")\n",
        "elif not \"protein_graph\" in locals():\n",
        "    raise ValueError(\"It was not possible to find the graph, build it from the previous steps\")"
      ],
      "metadata": {
        "id": "ogIDIBdLITLB"
      },
      "execution_count": null,
      "outputs": []
    },
    {
      "cell_type": "markdown",
      "source": [
        "**Size of largest pathway component:** Fraction of disease proteins that lie in the disease's largest pathway component (i.e., the relative size of the largest connected component (LCC) of the disease)."
      ],
      "metadata": {
        "id": "MeckhnTw46Xg"
      }
    },
    {
      "cell_type": "code",
      "source": [
        "def largest_conn_comp(diseases: dict) -> list:\n",
        "    lcc_score = list()\n",
        "    for _, disease in diseases.items():\n",
        "        sub_graph = protein_graph.subgraph(disease['genes'])  # Subgraph of the current disease\n",
        "        largest_cc = max(nx.connected_components(sub_graph), key=len)\n",
        "        lcc_score.append(len(largest_cc) / len(sub_graph.nodes()))\n",
        "    \n",
        "    return lcc_score"
      ],
      "metadata": {
        "id": "PjLNNXA3RG8B"
      },
      "execution_count": null,
      "outputs": []
    },
    {
      "cell_type": "code",
      "source": [
        "df_diseases.insert(len(df_diseases.columns), \"LCC Score\", largest_conn_comp(diseases), True)"
      ],
      "metadata": {
        "id": "8tSbQl1nRtIj"
      },
      "execution_count": null,
      "outputs": []
    },
    {
      "cell_type": "code",
      "source": [
        "df_diseases.tail()"
      ],
      "metadata": {
        "colab": {
          "base_uri": "https://localhost:8080/",
          "height": 426
        },
        "id": "uulqgEER69fh",
        "outputId": "17573124-1830-4f7d-c309-be3ca0da313e"
      },
      "execution_count": null,
      "outputs": [
        {
          "output_type": "execute_result",
          "data": {
            "text/plain": [
              "                                      Term Overlap   P-value  \\\n",
              "584                   Chronic otitis media   55/69  0.005896   \n",
              "585  Inadequate arch length for tooth size   47/58  0.005953   \n",
              "586                         Tooth Crowding   47/58  0.005953   \n",
              "587       Tooth mass arch size discrepancy   47/58  0.005953   \n",
              "588                 Tooth size discrepancy   47/58  0.005953   \n",
              "\n",
              "     Adjusted P-value                                              Genes  \\\n",
              "584          0.098950  IGHM;CD81;WIPF1;FMR1;DOCK8;CHD7;JMJD1C;COMT;GT...   \n",
              "585          0.099228  AMER1;SETD5;NOTCH3;TRIO;RPL10;SATB2;GNAI3;PLOD...   \n",
              "586          0.099228  AMER1;SETD5;NOTCH3;TRIO;RPL10;SATB2;GNAI3;PLOD...   \n",
              "587          0.099228  AMER1;SETD5;NOTCH3;TRIO;RPL10;SATB2;GNAI3;PLOD...   \n",
              "588          0.099228  AMER1;SETD5;NOTCH3;TRIO;RPL10;SATB2;GNAI3;PLOD...   \n",
              "\n",
              "     LCC Score  \n",
              "584   0.018182  \n",
              "585   0.234043  \n",
              "586   0.234043  \n",
              "587   0.234043  \n",
              "588   0.234043  "
            ],
            "text/html": [
              "\n",
              "  <div id=\"df-2ab43a4d-0651-4d2c-924d-8f0d7d68824b\">\n",
              "    <div class=\"colab-df-container\">\n",
              "      <div>\n",
              "<style scoped>\n",
              "    .dataframe tbody tr th:only-of-type {\n",
              "        vertical-align: middle;\n",
              "    }\n",
              "\n",
              "    .dataframe tbody tr th {\n",
              "        vertical-align: top;\n",
              "    }\n",
              "\n",
              "    .dataframe thead th {\n",
              "        text-align: right;\n",
              "    }\n",
              "</style>\n",
              "<table border=\"1\" class=\"dataframe\">\n",
              "  <thead>\n",
              "    <tr style=\"text-align: right;\">\n",
              "      <th></th>\n",
              "      <th>Term</th>\n",
              "      <th>Overlap</th>\n",
              "      <th>P-value</th>\n",
              "      <th>Adjusted P-value</th>\n",
              "      <th>Genes</th>\n",
              "      <th>LCC Score</th>\n",
              "    </tr>\n",
              "  </thead>\n",
              "  <tbody>\n",
              "    <tr>\n",
              "      <th>584</th>\n",
              "      <td>Chronic otitis media</td>\n",
              "      <td>55/69</td>\n",
              "      <td>0.005896</td>\n",
              "      <td>0.098950</td>\n",
              "      <td>IGHM;CD81;WIPF1;FMR1;DOCK8;CHD7;JMJD1C;COMT;GT...</td>\n",
              "      <td>0.018182</td>\n",
              "    </tr>\n",
              "    <tr>\n",
              "      <th>585</th>\n",
              "      <td>Inadequate arch length for tooth size</td>\n",
              "      <td>47/58</td>\n",
              "      <td>0.005953</td>\n",
              "      <td>0.099228</td>\n",
              "      <td>AMER1;SETD5;NOTCH3;TRIO;RPL10;SATB2;GNAI3;PLOD...</td>\n",
              "      <td>0.234043</td>\n",
              "    </tr>\n",
              "    <tr>\n",
              "      <th>586</th>\n",
              "      <td>Tooth Crowding</td>\n",
              "      <td>47/58</td>\n",
              "      <td>0.005953</td>\n",
              "      <td>0.099228</td>\n",
              "      <td>AMER1;SETD5;NOTCH3;TRIO;RPL10;SATB2;GNAI3;PLOD...</td>\n",
              "      <td>0.234043</td>\n",
              "    </tr>\n",
              "    <tr>\n",
              "      <th>587</th>\n",
              "      <td>Tooth mass arch size discrepancy</td>\n",
              "      <td>47/58</td>\n",
              "      <td>0.005953</td>\n",
              "      <td>0.099228</td>\n",
              "      <td>AMER1;SETD5;NOTCH3;TRIO;RPL10;SATB2;GNAI3;PLOD...</td>\n",
              "      <td>0.234043</td>\n",
              "    </tr>\n",
              "    <tr>\n",
              "      <th>588</th>\n",
              "      <td>Tooth size discrepancy</td>\n",
              "      <td>47/58</td>\n",
              "      <td>0.005953</td>\n",
              "      <td>0.099228</td>\n",
              "      <td>AMER1;SETD5;NOTCH3;TRIO;RPL10;SATB2;GNAI3;PLOD...</td>\n",
              "      <td>0.234043</td>\n",
              "    </tr>\n",
              "  </tbody>\n",
              "</table>\n",
              "</div>\n",
              "      <button class=\"colab-df-convert\" onclick=\"convertToInteractive('df-2ab43a4d-0651-4d2c-924d-8f0d7d68824b')\"\n",
              "              title=\"Convert this dataframe to an interactive table.\"\n",
              "              style=\"display:none;\">\n",
              "        \n",
              "  <svg xmlns=\"http://www.w3.org/2000/svg\" height=\"24px\"viewBox=\"0 0 24 24\"\n",
              "       width=\"24px\">\n",
              "    <path d=\"M0 0h24v24H0V0z\" fill=\"none\"/>\n",
              "    <path d=\"M18.56 5.44l.94 2.06.94-2.06 2.06-.94-2.06-.94-.94-2.06-.94 2.06-2.06.94zm-11 1L8.5 8.5l.94-2.06 2.06-.94-2.06-.94L8.5 2.5l-.94 2.06-2.06.94zm10 10l.94 2.06.94-2.06 2.06-.94-2.06-.94-.94-2.06-.94 2.06-2.06.94z\"/><path d=\"M17.41 7.96l-1.37-1.37c-.4-.4-.92-.59-1.43-.59-.52 0-1.04.2-1.43.59L10.3 9.45l-7.72 7.72c-.78.78-.78 2.05 0 2.83L4 21.41c.39.39.9.59 1.41.59.51 0 1.02-.2 1.41-.59l7.78-7.78 2.81-2.81c.8-.78.8-2.07 0-2.86zM5.41 20L4 18.59l7.72-7.72 1.47 1.35L5.41 20z\"/>\n",
              "  </svg>\n",
              "      </button>\n",
              "      \n",
              "  <style>\n",
              "    .colab-df-container {\n",
              "      display:flex;\n",
              "      flex-wrap:wrap;\n",
              "      gap: 12px;\n",
              "    }\n",
              "\n",
              "    .colab-df-convert {\n",
              "      background-color: #E8F0FE;\n",
              "      border: none;\n",
              "      border-radius: 50%;\n",
              "      cursor: pointer;\n",
              "      display: none;\n",
              "      fill: #1967D2;\n",
              "      height: 32px;\n",
              "      padding: 0 0 0 0;\n",
              "      width: 32px;\n",
              "    }\n",
              "\n",
              "    .colab-df-convert:hover {\n",
              "      background-color: #E2EBFA;\n",
              "      box-shadow: 0px 1px 2px rgba(60, 64, 67, 0.3), 0px 1px 3px 1px rgba(60, 64, 67, 0.15);\n",
              "      fill: #174EA6;\n",
              "    }\n",
              "\n",
              "    [theme=dark] .colab-df-convert {\n",
              "      background-color: #3B4455;\n",
              "      fill: #D2E3FC;\n",
              "    }\n",
              "\n",
              "    [theme=dark] .colab-df-convert:hover {\n",
              "      background-color: #434B5C;\n",
              "      box-shadow: 0px 1px 3px 1px rgba(0, 0, 0, 0.15);\n",
              "      filter: drop-shadow(0px 1px 2px rgba(0, 0, 0, 0.3));\n",
              "      fill: #FFFFFF;\n",
              "    }\n",
              "  </style>\n",
              "\n",
              "      <script>\n",
              "        const buttonEl =\n",
              "          document.querySelector('#df-2ab43a4d-0651-4d2c-924d-8f0d7d68824b button.colab-df-convert');\n",
              "        buttonEl.style.display =\n",
              "          google.colab.kernel.accessAllowed ? 'block' : 'none';\n",
              "\n",
              "        async function convertToInteractive(key) {\n",
              "          const element = document.querySelector('#df-2ab43a4d-0651-4d2c-924d-8f0d7d68824b');\n",
              "          const dataTable =\n",
              "            await google.colab.kernel.invokeFunction('convertToInteractive',\n",
              "                                                     [key], {});\n",
              "          if (!dataTable) return;\n",
              "\n",
              "          const docLinkHtml = 'Like what you see? Visit the ' +\n",
              "            '<a target=\"_blank\" href=https://colab.research.google.com/notebooks/data_table.ipynb>data table notebook</a>'\n",
              "            + ' to learn more about interactive tables.';\n",
              "          element.innerHTML = '';\n",
              "          dataTable['output_type'] = 'display_data';\n",
              "          await google.colab.output.renderOutput(dataTable, element);\n",
              "          const docLink = document.createElement('div');\n",
              "          docLink.innerHTML = docLinkHtml;\n",
              "          element.appendChild(docLink);\n",
              "        }\n",
              "      </script>\n",
              "    </div>\n",
              "  </div>\n",
              "  "
            ]
          },
          "metadata": {},
          "execution_count": 28
        }
      ]
    },
    {
      "cell_type": "markdown",
      "source": [
        "**Distance of pathway components:** For each pair of pathway components, we calculate the average shortest path length between each set of proteins, and then, the average of this is taken over all pairs of the components."
      ],
      "metadata": {
        "id": "6-3ZpAL_5SrO"
      }
    },
    {
      "cell_type": "code",
      "source": [
        "from numpy.ma.core import mean\n",
        "from tqdm.notebook import tqdm\n",
        "\n",
        "def distance_pathway_comps(diseases: dict) -> list:\n",
        "    dpc_score = list()\n",
        "    for _, disease in tqdm(diseases.items()):\n",
        "        sub_graph = protein_graph.subgraph(disease['genes'])\n",
        "        conn_comps = list(nx.connected_components(sub_graph))\n",
        "        distances = list()\n",
        "        for i, comp in enumerate(conn_comps):\n",
        "            for j in range(i+1, len(conn_comps)):\n",
        "                dist = 0\n",
        "                for first_comp_protein in comp:\n",
        "                    for second_comp_protein in conn_comps[j]:\n",
        "                        dist += nx.shortest_path_length(protein_graph, source=first_comp_protein, target=second_comp_protein)\n",
        "                \n",
        "                distances.append(dist / (len(comp) * len(conn_comps[j])))\n",
        "        dpc_score.append(mean(distances))\n",
        "    \n",
        "    return dpc_score"
      ],
      "metadata": {
        "id": "-EFPJbmtWqnG"
      },
      "execution_count": null,
      "outputs": []
    },
    {
      "cell_type": "code",
      "source": [
        "import os\n",
        "\n",
        "if not os.path.exists(\"datasets/mean_distances.csv\"):\n",
        "    df_mean_distances = pd.DataFrame(distance_pathway_comps(diseases))\n",
        "    df_mean_distances.to_csv('/content/drive/Shareddrives/CHL/mean_distances.csv')\n",
        "else:\n",
        "    df_mean_distances = pd.read_csv(\"datasets/mean_distances.csv\", sep=\",\", index_col=0)"
      ],
      "metadata": {
        "id": "uVgsbG7iB8pw"
      },
      "execution_count": null,
      "outputs": []
    },
    {
      "cell_type": "code",
      "source": [
        "df_diseases[\"DPC Score\"] = df_mean_distances\n",
        "df_diseases.tail()"
      ],
      "metadata": {
        "colab": {
          "base_uri": "https://localhost:8080/",
          "height": 426
        },
        "id": "U238LNHMEbz5",
        "outputId": "1098992d-7c90-4051-b1e3-d41ba6b497a8"
      },
      "execution_count": null,
      "outputs": [
        {
          "output_type": "execute_result",
          "data": {
            "text/plain": [
              "                                      Term Overlap   P-value  \\\n",
              "584                   Chronic otitis media   55/69  0.005896   \n",
              "585  Inadequate arch length for tooth size   47/58  0.005953   \n",
              "586                         Tooth Crowding   47/58  0.005953   \n",
              "587       Tooth mass arch size discrepancy   47/58  0.005953   \n",
              "588                 Tooth size discrepancy   47/58  0.005953   \n",
              "\n",
              "     Adjusted P-value                                              Genes  \\\n",
              "584          0.098950  IGHM;CD81;WIPF1;FMR1;DOCK8;CHD7;JMJD1C;COMT;GT...   \n",
              "585          0.099228  AMER1;SETD5;NOTCH3;TRIO;RPL10;SATB2;GNAI3;PLOD...   \n",
              "586          0.099228  AMER1;SETD5;NOTCH3;TRIO;RPL10;SATB2;GNAI3;PLOD...   \n",
              "587          0.099228  AMER1;SETD5;NOTCH3;TRIO;RPL10;SATB2;GNAI3;PLOD...   \n",
              "588          0.099228  AMER1;SETD5;NOTCH3;TRIO;RPL10;SATB2;GNAI3;PLOD...   \n",
              "\n",
              "     LCC Score  DPC Score  \n",
              "584   0.018182   2.678114  \n",
              "585   0.234043   2.693694  \n",
              "586   0.234043   2.693694  \n",
              "587   0.234043   2.693694  \n",
              "588   0.234043   2.693694  "
            ],
            "text/html": [
              "\n",
              "  <div id=\"df-f51521f9-4d4d-4869-8ecf-a4466fc40739\">\n",
              "    <div class=\"colab-df-container\">\n",
              "      <div>\n",
              "<style scoped>\n",
              "    .dataframe tbody tr th:only-of-type {\n",
              "        vertical-align: middle;\n",
              "    }\n",
              "\n",
              "    .dataframe tbody tr th {\n",
              "        vertical-align: top;\n",
              "    }\n",
              "\n",
              "    .dataframe thead th {\n",
              "        text-align: right;\n",
              "    }\n",
              "</style>\n",
              "<table border=\"1\" class=\"dataframe\">\n",
              "  <thead>\n",
              "    <tr style=\"text-align: right;\">\n",
              "      <th></th>\n",
              "      <th>Term</th>\n",
              "      <th>Overlap</th>\n",
              "      <th>P-value</th>\n",
              "      <th>Adjusted P-value</th>\n",
              "      <th>Genes</th>\n",
              "      <th>LCC Score</th>\n",
              "      <th>DPC Score</th>\n",
              "    </tr>\n",
              "  </thead>\n",
              "  <tbody>\n",
              "    <tr>\n",
              "      <th>584</th>\n",
              "      <td>Chronic otitis media</td>\n",
              "      <td>55/69</td>\n",
              "      <td>0.005896</td>\n",
              "      <td>0.098950</td>\n",
              "      <td>IGHM;CD81;WIPF1;FMR1;DOCK8;CHD7;JMJD1C;COMT;GT...</td>\n",
              "      <td>0.018182</td>\n",
              "      <td>2.678114</td>\n",
              "    </tr>\n",
              "    <tr>\n",
              "      <th>585</th>\n",
              "      <td>Inadequate arch length for tooth size</td>\n",
              "      <td>47/58</td>\n",
              "      <td>0.005953</td>\n",
              "      <td>0.099228</td>\n",
              "      <td>AMER1;SETD5;NOTCH3;TRIO;RPL10;SATB2;GNAI3;PLOD...</td>\n",
              "      <td>0.234043</td>\n",
              "      <td>2.693694</td>\n",
              "    </tr>\n",
              "    <tr>\n",
              "      <th>586</th>\n",
              "      <td>Tooth Crowding</td>\n",
              "      <td>47/58</td>\n",
              "      <td>0.005953</td>\n",
              "      <td>0.099228</td>\n",
              "      <td>AMER1;SETD5;NOTCH3;TRIO;RPL10;SATB2;GNAI3;PLOD...</td>\n",
              "      <td>0.234043</td>\n",
              "      <td>2.693694</td>\n",
              "    </tr>\n",
              "    <tr>\n",
              "      <th>587</th>\n",
              "      <td>Tooth mass arch size discrepancy</td>\n",
              "      <td>47/58</td>\n",
              "      <td>0.005953</td>\n",
              "      <td>0.099228</td>\n",
              "      <td>AMER1;SETD5;NOTCH3;TRIO;RPL10;SATB2;GNAI3;PLOD...</td>\n",
              "      <td>0.234043</td>\n",
              "      <td>2.693694</td>\n",
              "    </tr>\n",
              "    <tr>\n",
              "      <th>588</th>\n",
              "      <td>Tooth size discrepancy</td>\n",
              "      <td>47/58</td>\n",
              "      <td>0.005953</td>\n",
              "      <td>0.099228</td>\n",
              "      <td>AMER1;SETD5;NOTCH3;TRIO;RPL10;SATB2;GNAI3;PLOD...</td>\n",
              "      <td>0.234043</td>\n",
              "      <td>2.693694</td>\n",
              "    </tr>\n",
              "  </tbody>\n",
              "</table>\n",
              "</div>\n",
              "      <button class=\"colab-df-convert\" onclick=\"convertToInteractive('df-f51521f9-4d4d-4869-8ecf-a4466fc40739')\"\n",
              "              title=\"Convert this dataframe to an interactive table.\"\n",
              "              style=\"display:none;\">\n",
              "        \n",
              "  <svg xmlns=\"http://www.w3.org/2000/svg\" height=\"24px\"viewBox=\"0 0 24 24\"\n",
              "       width=\"24px\">\n",
              "    <path d=\"M0 0h24v24H0V0z\" fill=\"none\"/>\n",
              "    <path d=\"M18.56 5.44l.94 2.06.94-2.06 2.06-.94-2.06-.94-.94-2.06-.94 2.06-2.06.94zm-11 1L8.5 8.5l.94-2.06 2.06-.94-2.06-.94L8.5 2.5l-.94 2.06-2.06.94zm10 10l.94 2.06.94-2.06 2.06-.94-2.06-.94-.94-2.06-.94 2.06-2.06.94z\"/><path d=\"M17.41 7.96l-1.37-1.37c-.4-.4-.92-.59-1.43-.59-.52 0-1.04.2-1.43.59L10.3 9.45l-7.72 7.72c-.78.78-.78 2.05 0 2.83L4 21.41c.39.39.9.59 1.41.59.51 0 1.02-.2 1.41-.59l7.78-7.78 2.81-2.81c.8-.78.8-2.07 0-2.86zM5.41 20L4 18.59l7.72-7.72 1.47 1.35L5.41 20z\"/>\n",
              "  </svg>\n",
              "      </button>\n",
              "      \n",
              "  <style>\n",
              "    .colab-df-container {\n",
              "      display:flex;\n",
              "      flex-wrap:wrap;\n",
              "      gap: 12px;\n",
              "    }\n",
              "\n",
              "    .colab-df-convert {\n",
              "      background-color: #E8F0FE;\n",
              "      border: none;\n",
              "      border-radius: 50%;\n",
              "      cursor: pointer;\n",
              "      display: none;\n",
              "      fill: #1967D2;\n",
              "      height: 32px;\n",
              "      padding: 0 0 0 0;\n",
              "      width: 32px;\n",
              "    }\n",
              "\n",
              "    .colab-df-convert:hover {\n",
              "      background-color: #E2EBFA;\n",
              "      box-shadow: 0px 1px 2px rgba(60, 64, 67, 0.3), 0px 1px 3px 1px rgba(60, 64, 67, 0.15);\n",
              "      fill: #174EA6;\n",
              "    }\n",
              "\n",
              "    [theme=dark] .colab-df-convert {\n",
              "      background-color: #3B4455;\n",
              "      fill: #D2E3FC;\n",
              "    }\n",
              "\n",
              "    [theme=dark] .colab-df-convert:hover {\n",
              "      background-color: #434B5C;\n",
              "      box-shadow: 0px 1px 3px 1px rgba(0, 0, 0, 0.15);\n",
              "      filter: drop-shadow(0px 1px 2px rgba(0, 0, 0, 0.3));\n",
              "      fill: #FFFFFF;\n",
              "    }\n",
              "  </style>\n",
              "\n",
              "      <script>\n",
              "        const buttonEl =\n",
              "          document.querySelector('#df-f51521f9-4d4d-4869-8ecf-a4466fc40739 button.colab-df-convert');\n",
              "        buttonEl.style.display =\n",
              "          google.colab.kernel.accessAllowed ? 'block' : 'none';\n",
              "\n",
              "        async function convertToInteractive(key) {\n",
              "          const element = document.querySelector('#df-f51521f9-4d4d-4869-8ecf-a4466fc40739');\n",
              "          const dataTable =\n",
              "            await google.colab.kernel.invokeFunction('convertToInteractive',\n",
              "                                                     [key], {});\n",
              "          if (!dataTable) return;\n",
              "\n",
              "          const docLinkHtml = 'Like what you see? Visit the ' +\n",
              "            '<a target=\"_blank\" href=https://colab.research.google.com/notebooks/data_table.ipynb>data table notebook</a>'\n",
              "            + ' to learn more about interactive tables.';\n",
              "          element.innerHTML = '';\n",
              "          dataTable['output_type'] = 'display_data';\n",
              "          await google.colab.output.renderOutput(dataTable, element);\n",
              "          const docLink = document.createElement('div');\n",
              "          docLink.innerHTML = docLinkHtml;\n",
              "          element.appendChild(docLink);\n",
              "        }\n",
              "      </script>\n",
              "    </div>\n",
              "  </div>\n",
              "  "
            ]
          },
          "metadata": {},
          "execution_count": 31
        }
      ]
    },
    {
      "cell_type": "code",
      "source": [
        "df_diseases.to_csv(\"diseases_scores.csv\")"
      ],
      "metadata": {
        "id": "qSZThnXLHf2_"
      },
      "execution_count": null,
      "outputs": []
    },
    {
      "cell_type": "markdown",
      "source": [
        "**Network modularity:** Fraction of edges that fall within/outside the pathway minus the expected fraction if edges were randomly distributed:\n",
        "\\begin{equation}\n",
        "Q_d = 1/(2m) \\sum_{ij} (I((i, j) ∈ E) − \\frac{k_ik_j}{\n",
        "2m})δ(p_i, p_j)\n",
        "\\end{equation}\n",
        "where $k_i$ is the degree of $i$, and $δ(p_i, p_j)$ is 1 if $p_i$ and $p_j$ are equal and 0 otherwise.\n"
      ],
      "metadata": {
        "id": "57Y3LXwnGaX-"
      }
    },
    {
      "cell_type": "code",
      "source": [
        "def intersection(lst1, lst2):\n",
        "    inters = list()\n",
        "    if not (len(lst1)==0 or len(lst2)==0):\n",
        "        set1 = set(lst1)\n",
        "        inters = [elem for elem in lst2 if elem in set1]\n",
        "    return inters"
      ],
      "metadata": {
        "id": "Tn5Dc74izYjq"
      },
      "execution_count": null,
      "outputs": []
    },
    {
      "cell_type": "code",
      "source": [
        "def network_modularity(protein_graph: nx.Graph, diseases: dict) -> list:\n",
        "    m = protein_graph.number_of_edges()\n",
        "    one_m = 1/(2*m)\n",
        "    Q = list()\n",
        "    for _, disease in tqdm(diseases.items()):\n",
        "        sub_graph = protein_graph.subgraph(disease['genes'])\n",
        "        disease_nodes = list(sub_graph.nodes())\n",
        "        Q_dis = 0\n",
        "        for i, node_i in enumerate(disease_nodes):\n",
        "            for j in range(i+1, len(disease_nodes)):\n",
        "                node_j = disease_nodes[j]\n",
        "                a = protein_graph.number_of_edges(node_i, node_j)\n",
        "                k_i=protein_graph.degree[node_i]\n",
        "                k_j=protein_graph.degree[node_j]\n",
        "                Q_dis += a - (k_i*k_j)/(2*m)\n",
        "        \n",
        "        Q.append(one_m * Q_dis)\n",
        "    \n",
        "    return Q "
      ],
      "metadata": {
        "id": "mBDoS2DwzctO"
      },
      "execution_count": null,
      "outputs": []
    },
    {
      "cell_type": "code",
      "source": [
        "import os\n",
        "\n",
        "if not os.path.exists(\"datasets/mean_distances.csv\"):\n",
        "    df_modularities = pd.DataFrame(network_modularity(protein_graph, diseases))\n",
        "    df_modularities.to_csv('/content/drive/Shareddrives/CHL/modularities.csv')\n",
        "else:\n",
        "    df_modularities = pd.read_csv(\"datasets/modularities.csv\", sep=\",\", index_col=0)"
      ],
      "metadata": {
        "id": "eYY6b5JHCHPZ"
      },
      "execution_count": null,
      "outputs": []
    },
    {
      "cell_type": "code",
      "source": [
        "df_diseases[\"Modularity\"] = df_modularities\n",
        "df_diseases.tail()"
      ],
      "metadata": {
        "id": "DJASY0DuC97N"
      },
      "execution_count": null,
      "outputs": []
    }
  ],
  "metadata": {
    "colab": {
      "collapsed_sections": [],
      "name": "Project_CHL.ipynb",
      "provenance": []
    },
    "kernelspec": {
      "display_name": "Python 3",
      "name": "python3"
    },
    "language_info": {
      "name": "python"
    }
  },
  "nbformat": 4,
  "nbformat_minor": 0
}