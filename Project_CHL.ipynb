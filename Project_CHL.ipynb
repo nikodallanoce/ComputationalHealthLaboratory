{
 "cells": [
  {
   "cell_type": "markdown",
   "metadata": {
    "id": "kLse5cbrtAn0",
    "pycharm": {
     "name": "#%% md\n"
    }
   },
   "source": [
    "**Computational Health Laboratory Project, A.Y. 2021/2022**\n",
    "\n",
    "**Authors:** Niko Dalla Noce, Alessandro Ristori, Andrea Zuppolini"
   ]
  },
  {
   "cell_type": "markdown",
   "metadata": {
    "id": "EnunYcRW8FBh",
    "pycharm": {
     "name": "#%% md\n"
    }
   },
   "source": [
    "# **CHL Project, Pathway Analysis**\n",
    "Starting fron one or more genes, extract from interaction databases the genes they interact with. Using the expanded gene set, perform pathway analysis and obtain all disease pathways in which the genes appear. Merge the pathways to obtain a larger graph. Perform further network analysis to extract central biomarkers and communities beyond pathways. Compute a distance between the initial gene set and the various pathways (diseases)."
   ]
  },
  {
   "cell_type": "markdown",
   "metadata": {
    "id": "VBEF2viCEfdx",
    "pycharm": {
     "name": "#%% md\n"
    }
   },
   "source": [
    "## **Colab setup**\n",
    "Takes care of the project setup on Colab."
   ]
  },
  {
   "cell_type": "code",
   "execution_count": 1,
   "metadata": {
    "colab": {
     "base_uri": "https://localhost:8080/"
    },
    "id": "a5orYga8hr_f",
    "outputId": "af8b10d2-1f8b-4ed7-c3df-db1356806b15",
    "pycharm": {
     "name": "#%%\n"
    }
   },
   "outputs": [],
   "source": [
    "if 'google.colab' in str(get_ipython()):\n",
    "    import subprocess\n",
    "    from google.colab import drive\n",
    "    out_clone = subprocess.run([\"git\", \"clone\", \"https://github.com/nikodallanoce/ComputationalHealthLaboratory\"], text=True, capture_output=True)\n",
    "    print(\"{0}{1}\".format(out_clone.stdout, out_clone.stderr))\n",
    "    %pip install -U PyYAML\n",
    "    %pip install gseapy\n",
    "    drive.mount(\"/content/drive/\")\n",
    "    %cp \"/content/drive/Shareddrives/CHL/config.yml\" \"/content/ComputationalHealthLaboratory\"\n",
    "    %cd ComputationalHealthLaboratory"
   ]
  },
  {
   "cell_type": "markdown",
   "metadata": {
    "id": "zExTy0EvuEaV",
    "pycharm": {
     "name": "#%% md\n"
    }
   },
   "source": [
    "## **Obtain all the genes that interacts with the starting one**\n",
    "Starting from a gene obtain its neighbours and the interactions between them.\n"
   ]
  },
  {
   "cell_type": "code",
   "execution_count": 2,
   "outputs": [],
   "source": [
    "import requests\n",
    "import pandas as pd\n",
    "import numpy as np\n",
    "from config import ACCESS_KEY, BASE_URL"
   ],
   "metadata": {
    "collapsed": false,
    "pycharm": {
     "name": "#%%\n"
    }
   }
  },
  {
   "cell_type": "code",
   "execution_count": 3,
   "outputs": [],
   "source": [
    "gene_interactions = pd.read_csv(\"datasets/geneset.csv\", sep=\";\")\n",
    "gene_interactions[\"InteractorA\"] = gene_interactions[\"InteractorA\"].str.upper()\n",
    "gene_interactions.drop_duplicates(inplace=True)\n",
    "proteins_list = list(gene_interactions[\"InteractorA\"])  # all the proteins that interact with our starting gene"
   ],
   "metadata": {
    "collapsed": false,
    "pycharm": {
     "name": "#%%\n"
    }
   }
  },
  {
   "cell_type": "code",
   "execution_count": 4,
   "outputs": [
    {
     "data": {
      "text/plain": "    InteractorA InteractorB\n149        NSP8         SON\n150        NSP9         SON\n151        ORF6         SON\n152        ORF8         SON\n153        CCNF         SON",
      "text/html": "<div>\n<style scoped>\n    .dataframe tbody tr th:only-of-type {\n        vertical-align: middle;\n    }\n\n    .dataframe tbody tr th {\n        vertical-align: top;\n    }\n\n    .dataframe thead th {\n        text-align: right;\n    }\n</style>\n<table border=\"1\" class=\"dataframe\">\n  <thead>\n    <tr style=\"text-align: right;\">\n      <th></th>\n      <th>InteractorA</th>\n      <th>InteractorB</th>\n    </tr>\n  </thead>\n  <tbody>\n    <tr>\n      <th>149</th>\n      <td>NSP8</td>\n      <td>SON</td>\n    </tr>\n    <tr>\n      <th>150</th>\n      <td>NSP9</td>\n      <td>SON</td>\n    </tr>\n    <tr>\n      <th>151</th>\n      <td>ORF6</td>\n      <td>SON</td>\n    </tr>\n    <tr>\n      <th>152</th>\n      <td>ORF8</td>\n      <td>SON</td>\n    </tr>\n    <tr>\n      <th>153</th>\n      <td>CCNF</td>\n      <td>SON</td>\n    </tr>\n  </tbody>\n</table>\n</div>"
     },
     "execution_count": 4,
     "metadata": {},
     "output_type": "execute_result"
    }
   ],
   "source": [
    "gene_interactions.tail()"
   ],
   "metadata": {
    "collapsed": false,
    "pycharm": {
     "name": "#%%\n"
    }
   }
  },
  {
   "cell_type": "markdown",
   "source": [
    "## **Expand the interactions dataset**\n",
    "Expand the dataset using the proteins obtained from the previous step."
   ],
   "metadata": {
    "collapsed": false,
    "pycharm": {
     "name": "#%% md\n"
    }
   }
  },
  {
   "cell_type": "code",
   "execution_count": 5,
   "outputs": [],
   "source": [
    "request_url = BASE_URL + \"/interactions\"\n",
    "data = {}\n",
    "\n",
    "step = 5\n",
    "for i in range(0, len(proteins_list), step):\n",
    "    end = i+step\n",
    "    if end >= len(proteins_list):\n",
    "        end = len(proteins_list)\n",
    "    \n",
    "    # List of genes to search for\n",
    "    gene_list = proteins_list[i:end]\n",
    "\n",
    "    params = {\n",
    "        \"accesskey\": ACCESS_KEY,\n",
    "        \"format\": \"json\",  # Return results in TAB2 format\n",
    "        \"geneList\": \"|\".join(gene_list),  # Must be | separated\n",
    "        \"searchNames\": \"true\",  # Search against official names\n",
    "        \"includeInteractors\": \"true\",  # Set to true to get any interaction involving EITHER gene, set to false to get interactions between genes\n",
    "        \"includeInteractorInteractions\": \"false\",  # Set to true to get interactions between the geneList’s first order interactors\n",
    "        \"includeEvidence\": \"false\",  # If false \"evidenceList\" is evidence to exclude, if true \"evidenceList\" is evidence to show\n",
    "        \"selfInteractionsExcluded\": \"true\", # If true no self-interactions will be included\n",
    "    }\n",
    "\n",
    "    r = requests.get(request_url, params=params)\n",
    "    interactions = r.json()\n",
    "    \n",
    "    # Check if the interactions are more than the allowed number\n",
    "    if len(interactions)==10000:\n",
    "      assert False\n",
    "\n",
    "    # Create a hash of results by interaction identifier\n",
    "    for interaction_id, interaction in interactions.items():\n",
    "        data[interaction_id] = interaction"
   ],
   "metadata": {
    "collapsed": false,
    "pycharm": {
     "name": "#%%\n"
    }
   }
  },
  {
   "cell_type": "code",
   "execution_count": 6,
   "outputs": [
    {
     "data": {
      "text/plain": "        InteractorA InteractorB\n3305885        CCNF       ZBTB1\n3305886        CCNF       ZGPAT\n3305887        CCNF      ZNF638\n3305888        CCNF      ZNF687\n3305889        CCNF       ZWINT",
      "text/html": "<div>\n<style scoped>\n    .dataframe tbody tr th:only-of-type {\n        vertical-align: middle;\n    }\n\n    .dataframe tbody tr th {\n        vertical-align: top;\n    }\n\n    .dataframe thead th {\n        text-align: right;\n    }\n</style>\n<table border=\"1\" class=\"dataframe\">\n  <thead>\n    <tr style=\"text-align: right;\">\n      <th></th>\n      <th>InteractorA</th>\n      <th>InteractorB</th>\n    </tr>\n  </thead>\n  <tbody>\n    <tr>\n      <th>3305885</th>\n      <td>CCNF</td>\n      <td>ZBTB1</td>\n    </tr>\n    <tr>\n      <th>3305886</th>\n      <td>CCNF</td>\n      <td>ZGPAT</td>\n    </tr>\n    <tr>\n      <th>3305887</th>\n      <td>CCNF</td>\n      <td>ZNF638</td>\n    </tr>\n    <tr>\n      <th>3305888</th>\n      <td>CCNF</td>\n      <td>ZNF687</td>\n    </tr>\n    <tr>\n      <th>3305889</th>\n      <td>CCNF</td>\n      <td>ZWINT</td>\n    </tr>\n  </tbody>\n</table>\n</div>"
     },
     "execution_count": 6,
     "metadata": {},
     "output_type": "execute_result"
    }
   ],
   "source": [
    "# Load the data into a pandas dataframe\n",
    "dataset = pd.DataFrame.from_dict(data, orient=\"index\")\n",
    "\n",
    "# Re-order the columns and select only the columns we want to see\n",
    "columns = [\"OFFICIAL_SYMBOL_A\", \"OFFICIAL_SYMBOL_B\"]\n",
    "dataset = dataset[columns]\n",
    "\n",
    "# Rename the columns and make all the values uppercase\n",
    "dataset = dataset.rename(columns={\"OFFICIAL_SYMBOL_A\": \"InteractorA\", \"OFFICIAL_SYMBOL_B\": \"InteractorB\"})\n",
    "dataset[\"InteractorA\"] = dataset[\"InteractorA\"].str.upper()\n",
    "dataset[\"InteractorB\"] = dataset[\"InteractorB\"].str.upper()\n",
    "\n",
    "# Print the dataframe\n",
    "dataset.tail()"
   ],
   "metadata": {
    "collapsed": false,
    "pycharm": {
     "name": "#%%\n"
    }
   }
  },
  {
   "cell_type": "markdown",
   "source": [
    "Drop duplicated interactions, they're not interesting from out point of view."
   ],
   "metadata": {
    "collapsed": false,
    "pycharm": {
     "name": "#%% md\n"
    }
   }
  },
  {
   "cell_type": "code",
   "execution_count": 7,
   "outputs": [
    {
     "name": "stdout",
     "output_type": "stream",
     "text": [
      "Duplicated interactions:\n",
      "False    79296\n",
      "True     25281\n",
      "dtype: int64\n"
     ]
    }
   ],
   "source": [
    "# Look for duplicated interactions\n",
    "duplicated_interactions = pd.DataFrame(np.sort(dataset[[\"InteractorA\", \"InteractorB\"]].values, 1)).duplicated()\n",
    "print(\"Duplicated interactions:\\n{0}\".format(duplicated_interactions.value_counts()))\n",
    "\n",
    "# Delete such interactions from the dataset\n",
    "dataset = dataset[~duplicated_interactions.values]"
   ],
   "metadata": {
    "collapsed": false,
    "pycharm": {
     "name": "#%%\n"
    }
   }
  },
  {
   "cell_type": "markdown",
   "source": [
    "Drop self-loops since they're useless for our analysis."
   ],
   "metadata": {
    "collapsed": false,
    "pycharm": {
     "name": "#%% md\n"
    }
   }
  },
  {
   "cell_type": "code",
   "execution_count": 8,
   "outputs": [
    {
     "name": "stdout",
     "output_type": "stream",
     "text": [
      "Useless interactions:\n",
      "False    79283\n",
      "True        13\n",
      "dtype: int64\n"
     ]
    }
   ],
   "source": [
    "# Look for interactions where both proteins are the same\n",
    "same_proteins_interactions = pd.Series(dataset[[\"InteractorA\", \"InteractorB\"]].nunique(axis=1) == 1)\n",
    "print(\"Useless interactions:\\n{0}\".format(same_proteins_interactions.value_counts()))\n",
    "\n",
    "# Delete such interactions from the dataset\n",
    "dataset = dataset[~same_proteins_interactions.values]"
   ],
   "metadata": {
    "collapsed": false,
    "pycharm": {
     "name": "#%%\n"
    }
   }
  },
  {
   "cell_type": "markdown",
   "source": [
    "Unify the interactions from the starting gene with the ones obtained by the requests to the BioGrid dataset."
   ],
   "metadata": {
    "collapsed": false,
    "pycharm": {
     "name": "#%% md\n"
    }
   }
  },
  {
   "cell_type": "code",
   "execution_count": 9,
   "outputs": [],
   "source": [
    "dataset = pd.concat([dataset, gene_interactions])"
   ],
   "metadata": {
    "collapsed": false,
    "pycharm": {
     "name": "#%%\n"
    }
   }
  },
  {
   "cell_type": "code",
   "execution_count": 10,
   "outputs": [
    {
     "name": "stdout",
     "output_type": "stream",
     "text": [
      "Number of nodes: 13010\n"
     ]
    }
   ],
   "source": [
    "nodes = pd.concat([dataset[\"InteractorA\"], dataset[\"InteractorB\"]]).unique()\n",
    "print(\"Number of nodes: {0}\".format(len(nodes)))"
   ],
   "metadata": {
    "collapsed": false,
    "pycharm": {
     "name": "#%%\n"
    }
   }
  },
  {
   "cell_type": "markdown",
   "source": [
    "At last, save the interactions and nodes into csv file for pathway enrichment."
   ],
   "metadata": {
    "collapsed": false,
    "pycharm": {
     "name": "#%% md\n"
    }
   }
  },
  {
   "cell_type": "code",
   "execution_count": 11,
   "outputs": [],
   "source": [
    "# Save interactions and nodes dataset to csv\n",
    "dataset.to_csv(\"datasets/interactions.csv\")\n",
    "pd.DataFrame(nodes).to_csv(\"datasets/genes.csv\")"
   ],
   "metadata": {
    "collapsed": false,
    "pycharm": {
     "name": "#%%\n"
    }
   }
  },
  {
   "cell_type": "markdown",
   "source": [
    "## **Pathway enrichment**\n",
    "Find all the diseases linked to the nodes retrieved by the previous step."
   ],
   "metadata": {
    "collapsed": false,
    "pycharm": {
     "name": "#%% md\n"
    }
   }
  },
  {
   "cell_type": "code",
   "execution_count": 12,
   "outputs": [],
   "source": [
    "import gseapy as gp"
   ],
   "metadata": {
    "collapsed": false,
    "pycharm": {
     "name": "#%%\n"
    }
   }
  },
  {
   "cell_type": "markdown",
   "source": [
    "List all the datasets from wich we can retrieve pathways by using the gseapy package."
   ],
   "metadata": {
    "collapsed": false,
    "pycharm": {
     "name": "#%% md\n"
    }
   }
  },
  {
   "cell_type": "code",
   "execution_count": 13,
   "outputs": [
    {
     "data": {
      "text/plain": "['ARCHS4_Cell-lines',\n 'ARCHS4_IDG_Coexp',\n 'ARCHS4_Kinases_Coexp',\n 'ARCHS4_TFs_Coexp',\n 'ARCHS4_Tissues',\n 'Achilles_fitness_decrease',\n 'Achilles_fitness_increase',\n 'Aging_Perturbations_from_GEO_down',\n 'Aging_Perturbations_from_GEO_up',\n 'Allen_Brain_Atlas_10x_scRNA_2021',\n 'Allen_Brain_Atlas_down',\n 'Allen_Brain_Atlas_up',\n 'Azimuth_Cell_Types_2021',\n 'BioCarta_2013',\n 'BioCarta_2015',\n 'BioCarta_2016',\n 'BioPlanet_2019',\n 'BioPlex_2017',\n 'CCLE_Proteomics_2020',\n 'CORUM',\n 'COVID-19_Related_Gene_Sets',\n 'COVID-19_Related_Gene_Sets_2021',\n 'Cancer_Cell_Line_Encyclopedia',\n 'CellMarker_Augmented_2021',\n 'ChEA_2013',\n 'ChEA_2015',\n 'ChEA_2016',\n 'Chromosome_Location',\n 'Chromosome_Location_hg19',\n 'ClinVar_2019',\n 'DSigDB',\n 'Data_Acquisition_Method_Most_Popular_Genes',\n 'DepMap_WG_CRISPR_Screens_Broad_CellLines_2019',\n 'DepMap_WG_CRISPR_Screens_Sanger_CellLines_2019',\n 'Descartes_Cell_Types_and_Tissue_2021',\n 'DisGeNET',\n 'Disease_Perturbations_from_GEO_down',\n 'Disease_Perturbations_from_GEO_up',\n 'Disease_Signatures_from_GEO_down_2014',\n 'Disease_Signatures_from_GEO_up_2014',\n 'DrugMatrix',\n 'Drug_Perturbations_from_GEO_2014',\n 'Drug_Perturbations_from_GEO_down',\n 'Drug_Perturbations_from_GEO_up',\n 'ENCODE_Histone_Modifications_2013',\n 'ENCODE_Histone_Modifications_2015',\n 'ENCODE_TF_ChIP-seq_2014',\n 'ENCODE_TF_ChIP-seq_2015',\n 'ENCODE_and_ChEA_Consensus_TFs_from_ChIP-X',\n 'ESCAPE',\n 'Elsevier_Pathway_Collection',\n 'Enrichr_Libraries_Most_Popular_Genes',\n 'Enrichr_Submissions_TF-Gene_Coocurrence',\n 'Enrichr_Users_Contributed_Lists_2020',\n 'Epigenomics_Roadmap_HM_ChIP-seq',\n 'GO_Biological_Process_2013',\n 'GO_Biological_Process_2015',\n 'GO_Biological_Process_2017',\n 'GO_Biological_Process_2017b',\n 'GO_Biological_Process_2018',\n 'GO_Biological_Process_2021',\n 'GO_Cellular_Component_2013',\n 'GO_Cellular_Component_2015',\n 'GO_Cellular_Component_2017',\n 'GO_Cellular_Component_2017b',\n 'GO_Cellular_Component_2018',\n 'GO_Cellular_Component_2021',\n 'GO_Molecular_Function_2013',\n 'GO_Molecular_Function_2015',\n 'GO_Molecular_Function_2017',\n 'GO_Molecular_Function_2017b',\n 'GO_Molecular_Function_2018',\n 'GO_Molecular_Function_2021',\n 'GTEx_Aging_Signatures_2021',\n 'GTEx_Tissue_Expression_Down',\n 'GTEx_Tissue_Expression_Up',\n 'GWAS_Catalog_2019',\n 'GeneSigDB',\n 'Gene_Perturbations_from_GEO_down',\n 'Gene_Perturbations_from_GEO_up',\n 'Genes_Associated_with_NIH_Grants',\n 'Genome_Browser_PWMs',\n 'HDSigDB_Human_2021',\n 'HDSigDB_Mouse_2021',\n 'HMDB_Metabolites',\n 'HMS_LINCS_KinomeScan',\n 'HomoloGene',\n 'HuBMAP_ASCT_plus_B_augmented_w_RNAseq_Coexpression',\n 'HuBMAP_ASCTplusB_augmented_2022',\n 'HumanCyc_2015',\n 'HumanCyc_2016',\n 'Human_Gene_Atlas',\n 'Human_Phenotype_Ontology',\n 'InterPro_Domains_2019',\n 'Jensen_COMPARTMENTS',\n 'Jensen_DISEASES',\n 'Jensen_TISSUES',\n 'KEA_2013',\n 'KEA_2015',\n 'KEGG_2013',\n 'KEGG_2015',\n 'KEGG_2016',\n 'KEGG_2019_Human',\n 'KEGG_2019_Mouse',\n 'KEGG_2021_Human',\n 'Kinase_Perturbations_from_GEO_down',\n 'Kinase_Perturbations_from_GEO_up',\n 'L1000_Kinase_and_GPCR_Perturbations_down',\n 'L1000_Kinase_and_GPCR_Perturbations_up',\n 'LINCS_L1000_Chem_Pert_down',\n 'LINCS_L1000_Chem_Pert_up',\n 'LINCS_L1000_Ligand_Perturbations_down',\n 'LINCS_L1000_Ligand_Perturbations_up',\n 'Ligand_Perturbations_from_GEO_down',\n 'Ligand_Perturbations_from_GEO_up',\n 'MCF7_Perturbations_from_GEO_down',\n 'MCF7_Perturbations_from_GEO_up',\n 'MGI_Mammalian_Phenotype_2013',\n 'MGI_Mammalian_Phenotype_2017',\n 'MGI_Mammalian_Phenotype_Level_3',\n 'MGI_Mammalian_Phenotype_Level_4',\n 'MGI_Mammalian_Phenotype_Level_4_2019',\n 'MGI_Mammalian_Phenotype_Level_4_2021',\n 'MSigDB_Computational',\n 'MSigDB_Hallmark_2020',\n 'MSigDB_Oncogenic_Signatures',\n 'Microbe_Perturbations_from_GEO_down',\n 'Microbe_Perturbations_from_GEO_up',\n 'Mouse_Gene_Atlas',\n 'NCI-60_Cancer_Cell_Lines',\n 'NCI-Nature_2015',\n 'NCI-Nature_2016',\n 'NIH_Funded_PIs_2017_AutoRIF_ARCHS4_Predictions',\n 'NIH_Funded_PIs_2017_GeneRIF_ARCHS4_Predictions',\n 'NIH_Funded_PIs_2017_Human_AutoRIF',\n 'NIH_Funded_PIs_2017_Human_GeneRIF',\n 'NURSA_Human_Endogenous_Complexome',\n 'OMIM_Disease',\n 'OMIM_Expanded',\n 'Old_CMAP_down',\n 'Old_CMAP_up',\n 'Orphanet_Augmented_2021',\n 'PPI_Hub_Proteins',\n 'PanglaoDB_Augmented_2021',\n 'Panther_2015',\n 'Panther_2016',\n 'Pfam_Domains_2019',\n 'Pfam_InterPro_Domains',\n 'PheWeb_2019',\n 'PhenGenI_Association_2021',\n 'Phosphatase_Substrates_from_DEPOD',\n 'ProteomicsDB_2020',\n 'RNA-Seq_Disease_Gene_and_Drug_Signatures_from_GEO',\n 'RNAseq_Automatic_GEO_Signatures_Human_Down',\n 'RNAseq_Automatic_GEO_Signatures_Human_Up',\n 'RNAseq_Automatic_GEO_Signatures_Mouse_Down',\n 'RNAseq_Automatic_GEO_Signatures_Mouse_Up',\n 'Rare_Diseases_AutoRIF_ARCHS4_Predictions',\n 'Rare_Diseases_AutoRIF_Gene_Lists',\n 'Rare_Diseases_GeneRIF_ARCHS4_Predictions',\n 'Rare_Diseases_GeneRIF_Gene_Lists',\n 'Reactome_2013',\n 'Reactome_2015',\n 'Reactome_2016',\n 'SILAC_Phosphoproteomics',\n 'SubCell_BarCode',\n 'SysMyo_Muscle_Gene_Sets',\n 'TF-LOF_Expression_from_GEO',\n 'TF_Perturbations_Followed_by_Expression',\n 'TG_GATES_2020',\n 'TRANSFAC_and_JASPAR_PWMs',\n 'TRRUST_Transcription_Factors_2019',\n 'Table_Mining_of_CRISPR_Studies',\n 'TargetScan_microRNA',\n 'TargetScan_microRNA_2017',\n 'Tissue_Protein_Expression_from_Human_Proteome_Map',\n 'Tissue_Protein_Expression_from_ProteomicsDB',\n 'Transcription_Factor_PPIs',\n 'UK_Biobank_GWAS_v1',\n 'Virus-Host_PPI_P-HIPSTer_2020',\n 'VirusMINT',\n 'Virus_Perturbations_from_GEO_down',\n 'Virus_Perturbations_from_GEO_up',\n 'WikiPathway_2021_Human',\n 'WikiPathways_2013',\n 'WikiPathways_2015',\n 'WikiPathways_2016',\n 'WikiPathways_2019_Human',\n 'WikiPathways_2019_Mouse',\n 'dbGaP',\n 'huMAP',\n 'lncHUB_lncRNA_Co-Expression',\n 'miRTarBase_2017']"
     },
     "execution_count": 13,
     "metadata": {},
     "output_type": "execute_result"
    }
   ],
   "source": [
    "gp.get_library_name()"
   ],
   "metadata": {
    "collapsed": false,
    "pycharm": {
     "name": "#%%\n"
    }
   }
  },
  {
   "cell_type": "markdown",
   "source": [
    "Obtain all the pathways connected to our nodes, for our case we are going to use the DisGeNET dataset."
   ],
   "metadata": {
    "collapsed": false,
    "pycharm": {
     "name": "#%% md\n"
    }
   }
  },
  {
   "cell_type": "code",
   "execution_count": 14,
   "outputs": [],
   "source": [
    "import os\n",
    "if os.path.exists(\"datasets/diseases_pathways.csv\"):\n",
    "    df_diseases = pd.read_csv(\"datasets/diseases_pathways.csv\", sep=\",\", index_col=0)\n",
    "else:\n",
    "    enr = gp.enrichr(gene_list=pd.DataFrame(nodes),\n",
    "                      gene_sets=['DisGeNET'],  # Datasets from the gp.get_library_name() method\n",
    "                      organism='Human',\n",
    "                      description='DEGs_up_1d',\n",
    "                      outdir='test'\n",
    "                  )\n",
    "\n",
    "    # Keep those pathways with an adjusted p-value < 0.1\n",
    "    df_diseases = enr.results[enr.results[\"Adjusted P-value\"] < 0.1][[\"Term\", \"Overlap\", \"P-value\", \"Adjusted P-value\", \"Genes\"]]"
   ],
   "metadata": {
    "collapsed": false,
    "pycharm": {
     "name": "#%%\n"
    }
   }
  },
  {
   "cell_type": "code",
   "execution_count": 15,
   "outputs": [
    {
     "data": {
      "text/plain": "                                      Term Overlap   P-value  \\\n584                   Chronic otitis media   55/69  0.005896   \n585  Inadequate arch length for tooth size   47/58  0.005953   \n586                         Tooth Crowding   47/58  0.005953   \n587       Tooth mass arch size discrepancy   47/58  0.005953   \n588                 Tooth size discrepancy   47/58  0.005953   \n\n     Adjusted P-value                                              Genes  \n584          0.098950  IGHM;CD81;WIPF1;FMR1;DOCK8;CHD7;JMJD1C;COMT;GT...  \n585          0.099228  AMER1;SETD5;NOTCH3;TRIO;RPL10;SATB2;GNAI3;PLOD...  \n586          0.099228  AMER1;SETD5;NOTCH3;TRIO;RPL10;SATB2;GNAI3;PLOD...  \n587          0.099228  AMER1;SETD5;NOTCH3;TRIO;RPL10;SATB2;GNAI3;PLOD...  \n588          0.099228  AMER1;SETD5;NOTCH3;TRIO;RPL10;SATB2;GNAI3;PLOD...  ",
      "text/html": "<div>\n<style scoped>\n    .dataframe tbody tr th:only-of-type {\n        vertical-align: middle;\n    }\n\n    .dataframe tbody tr th {\n        vertical-align: top;\n    }\n\n    .dataframe thead th {\n        text-align: right;\n    }\n</style>\n<table border=\"1\" class=\"dataframe\">\n  <thead>\n    <tr style=\"text-align: right;\">\n      <th></th>\n      <th>Term</th>\n      <th>Overlap</th>\n      <th>P-value</th>\n      <th>Adjusted P-value</th>\n      <th>Genes</th>\n    </tr>\n  </thead>\n  <tbody>\n    <tr>\n      <th>584</th>\n      <td>Chronic otitis media</td>\n      <td>55/69</td>\n      <td>0.005896</td>\n      <td>0.098950</td>\n      <td>IGHM;CD81;WIPF1;FMR1;DOCK8;CHD7;JMJD1C;COMT;GT...</td>\n    </tr>\n    <tr>\n      <th>585</th>\n      <td>Inadequate arch length for tooth size</td>\n      <td>47/58</td>\n      <td>0.005953</td>\n      <td>0.099228</td>\n      <td>AMER1;SETD5;NOTCH3;TRIO;RPL10;SATB2;GNAI3;PLOD...</td>\n    </tr>\n    <tr>\n      <th>586</th>\n      <td>Tooth Crowding</td>\n      <td>47/58</td>\n      <td>0.005953</td>\n      <td>0.099228</td>\n      <td>AMER1;SETD5;NOTCH3;TRIO;RPL10;SATB2;GNAI3;PLOD...</td>\n    </tr>\n    <tr>\n      <th>587</th>\n      <td>Tooth mass arch size discrepancy</td>\n      <td>47/58</td>\n      <td>0.005953</td>\n      <td>0.099228</td>\n      <td>AMER1;SETD5;NOTCH3;TRIO;RPL10;SATB2;GNAI3;PLOD...</td>\n    </tr>\n    <tr>\n      <th>588</th>\n      <td>Tooth size discrepancy</td>\n      <td>47/58</td>\n      <td>0.005953</td>\n      <td>0.099228</td>\n      <td>AMER1;SETD5;NOTCH3;TRIO;RPL10;SATB2;GNAI3;PLOD...</td>\n    </tr>\n  </tbody>\n</table>\n</div>"
     },
     "execution_count": 15,
     "metadata": {},
     "output_type": "execute_result"
    }
   ],
   "source": [
    "df_diseases.tail()"
   ],
   "metadata": {
    "collapsed": false,
    "pycharm": {
     "name": "#%%\n"
    }
   }
  },
  {
   "cell_type": "markdown",
   "source": [
    "Save the pathways in a csv file just like for the interactions and nodes."
   ],
   "metadata": {
    "collapsed": false,
    "pycharm": {
     "name": "#%% md\n"
    }
   }
  },
  {
   "cell_type": "code",
   "execution_count": 16,
   "outputs": [],
   "source": [
    "df_diseases.to_csv(\"datasets/diseases_pathways.csv\")"
   ],
   "metadata": {
    "collapsed": false,
    "pycharm": {
     "name": "#%%\n"
    }
   }
  },
  {
   "cell_type": "markdown",
   "source": [
    "Build a dict with all the diseases, this will be helpful when we will need to work on the graph."
   ],
   "metadata": {
    "collapsed": false,
    "pycharm": {
     "name": "#%% md\n"
    }
   }
  },
  {
   "cell_type": "code",
   "execution_count": 17,
   "outputs": [],
   "source": [
    "diseases = dict()\n",
    "\n",
    "for i, disease in df_diseases.iterrows():\n",
    "    disease_genes = disease['Genes'].split(\";\")\n",
    "    term = disease['Term']\n",
    "    diseases[i] = {\"name\": term, \"genes\": disease_genes}"
   ],
   "metadata": {
    "collapsed": false,
    "pycharm": {
     "name": "#%%\n"
    }
   }
  },
  {
   "cell_type": "markdown",
   "source": [
    "## **Protein-Protein network**\n",
    "Build the protein-to-protein network and link each node to its diseases.\n"
   ],
   "metadata": {
    "collapsed": false,
    "pycharm": {
     "name": "#%% md\n"
    }
   }
  },
  {
   "cell_type": "code",
   "execution_count": 18,
   "outputs": [],
   "source": [
    "import networkx as nx"
   ],
   "metadata": {
    "collapsed": false,
    "pycharm": {
     "name": "#%%\n"
    }
   }
  },
  {
   "cell_type": "markdown",
   "source": [
    "Build the graph and fill it with its nodes (the proteins coming from the dataset)."
   ],
   "metadata": {
    "collapsed": false,
    "pycharm": {
     "name": "#%% md\n"
    }
   }
  },
  {
   "cell_type": "code",
   "execution_count": 19,
   "outputs": [],
   "source": [
    "# Build the graph\n",
    "protein_graph = nx.Graph(name='Protein Interactions Graph')\n",
    "\n",
    "# Build the nodes\n",
    "for node in nodes:\n",
    "    protein_graph.add_node(node, diseases=[])  # Each node will have a list with the disease pathways it belongs to"
   ],
   "metadata": {
    "collapsed": false,
    "pycharm": {
     "name": "#%%\n"
    }
   }
  },
  {
   "cell_type": "markdown",
   "source": [
    "Insert into the nodes their respective diseases."
   ],
   "metadata": {
    "collapsed": false,
    "pycharm": {
     "name": "#%% md\n"
    }
   }
  },
  {
   "cell_type": "code",
   "execution_count": 20,
   "outputs": [],
   "source": [
    "for i, disease in diseases.items():\n",
    "    disease_genes = disease['genes']\n",
    "    for gene in disease_genes:\n",
    "        protein_graph.nodes[gene][\"diseases\"].append(i)"
   ],
   "metadata": {
    "collapsed": false,
    "pycharm": {
     "name": "#%%\n"
    }
   }
  },
  {
   "cell_type": "markdown",
   "source": [
    "There could be nodes without any diseases, they still need to be kept into the network."
   ],
   "metadata": {
    "collapsed": false,
    "pycharm": {
     "name": "#%% md\n"
    }
   }
  },
  {
   "cell_type": "code",
   "execution_count": 21,
   "outputs": [],
   "source": [
    "nodes_no_disease = list()\n",
    "for node in protein_graph.nodes:\n",
    "    if len(protein_graph.nodes[node][\"diseases\"])==0:\n",
    "        nodes_no_disease.append(str(node))"
   ],
   "metadata": {
    "collapsed": false,
    "pycharm": {
     "name": "#%%\n"
    }
   }
  },
  {
   "cell_type": "code",
   "execution_count": 22,
   "outputs": [
    {
     "name": "stdout",
     "output_type": "stream",
     "text": [
      "Nodes without diseases: 5101\n"
     ]
    }
   ],
   "source": [
    "print(\"Nodes without diseases: {0}\".format(len(nodes_no_disease)))"
   ],
   "metadata": {
    "collapsed": false,
    "pycharm": {
     "name": "#%%\n"
    }
   }
  },
  {
   "cell_type": "markdown",
   "source": [
    "Then, build the edges, it's straightforward as the nodes are known, the edges' weights will be the number of diseases in common between the nodes at each end."
   ],
   "metadata": {
    "collapsed": false,
    "pycharm": {
     "name": "#%% md\n"
    }
   }
  },
  {
   "cell_type": "code",
   "execution_count": 23,
   "outputs": [],
   "source": [
    "def intersection(lst1, lst2):\n",
    "    inters = list()\n",
    "    if not (len(lst1) == 0 or len(lst2) == 0):\n",
    "        set1 = set(lst1)\n",
    "        inters = [elem for elem in lst2 if elem in set1]\n",
    "    return inters"
   ],
   "metadata": {
    "collapsed": false,
    "pycharm": {
     "name": "#%%\n"
    }
   }
  },
  {
   "cell_type": "code",
   "execution_count": 24,
   "outputs": [],
   "source": [
    "for _, interaction in dataset.iterrows():\n",
    "    first_protein, second_protein = interaction[0], interaction[1]  # Proteins involved in the interaction\n",
    "\n",
    "    # Retrieve the proteins' diseases\n",
    "    prot1_dis = protein_graph.nodes()[interaction[0]]['diseases']\n",
    "    prot2_dis = protein_graph.nodes()[interaction[1]]['diseases']\n",
    "    \n",
    "    # Build the edge\n",
    "    protein_graph.add_edge(first_protein, second_protein, weight=len(intersection(prot1_dis, prot2_dis)))"
   ],
   "metadata": {
    "collapsed": false,
    "pycharm": {
     "name": "#%%\n"
    }
   }
  },
  {
   "cell_type": "markdown",
   "source": [
    "There could be edges without any disease, as we did for the nodes, they still need to be kept."
   ],
   "metadata": {
    "collapsed": false,
    "pycharm": {
     "name": "#%% md\n"
    }
   }
  },
  {
   "cell_type": "code",
   "execution_count": 25,
   "outputs": [],
   "source": [
    "edges_no_disease = list()\n",
    "for edge in protein_graph.edges:\n",
    "    if protein_graph.edges[edge][\"weight\"]==0:\n",
    "        edges_no_disease.append(str(edge))"
   ],
   "metadata": {
    "collapsed": false,
    "pycharm": {
     "name": "#%%\n"
    }
   }
  },
  {
   "cell_type": "code",
   "execution_count": 26,
   "outputs": [
    {
     "name": "stdout",
     "output_type": "stream",
     "text": [
      "Edges without diseases: 45404\n"
     ]
    }
   ],
   "source": [
    "print(\"Edges without diseases: {0}\".format(len(edges_no_disease)))"
   ],
   "metadata": {
    "collapsed": false,
    "pycharm": {
     "name": "#%%\n"
    }
   }
  },
  {
   "cell_type": "markdown",
   "source": [
    "At last, save the graph."
   ],
   "metadata": {
    "collapsed": false,
    "pycharm": {
     "name": "#%% md\n"
    }
   }
  },
  {
   "cell_type": "code",
   "execution_count": 27,
   "outputs": [],
   "source": [
    "nx.write_gpickle(protein_graph, 'datasets/protein_graph.gpickle')"
   ],
   "metadata": {
    "collapsed": false,
    "pycharm": {
     "name": "#%%\n"
    }
   }
  },
  {
   "cell_type": "markdown",
   "source": [
    "## **Metrics**\n",
    "Metrics needed to compare the various diseases and proteins."
   ],
   "metadata": {
    "collapsed": false,
    "pycharm": {
     "name": "#%% md\n"
    }
   }
  },
  {
   "cell_type": "markdown",
   "source": [
    "Load the graph if already built previously."
   ],
   "metadata": {
    "collapsed": false,
    "pycharm": {
     "name": "#%% md\n"
    }
   }
  },
  {
   "cell_type": "code",
   "execution_count": 28,
   "outputs": [],
   "source": [
    "import os\n",
    "from tqdm.notebook import tqdm\n",
    "\n",
    "if os.path.exists(\"datasets/protein_graph.gpickle\"):\n",
    "    protein_graph = nx.read_gpickle(\"datasets/protein_graph.gpickle\")\n",
    "elif not \"protein_graph\" in locals():\n",
    "    raise ValueError(\"It was not possible to find the graph, build it from the previous steps\")"
   ],
   "metadata": {
    "collapsed": false,
    "pycharm": {
     "name": "#%%\n"
    }
   }
  },
  {
   "cell_type": "markdown",
   "source": [
    "**Size of largest pathway component:** Fraction of disease proteins that lie in the disease's largest pathway component (i.e., the relative size of the largest connected component (LCC) of the disease)."
   ],
   "metadata": {
    "collapsed": false,
    "pycharm": {
     "name": "#%% md\n"
    }
   }
  },
  {
   "cell_type": "code",
   "execution_count": 29,
   "outputs": [],
   "source": [
    "def largest_conn_comp(diseases_dict: dict) -> list:\n",
    "    lcc_score = list()\n",
    "    for _, disease_dict in tqdm(diseases_dict.items()):\n",
    "        sub_graph = protein_graph.subgraph(disease_dict['genes'])  # Subgraph of the current disease\n",
    "        largest_cc = max(nx.connected_components(sub_graph), key=len)\n",
    "        lcc_score.append(len(largest_cc) / len(sub_graph.nodes()))\n",
    "    \n",
    "    return lcc_score"
   ],
   "metadata": {
    "collapsed": false,
    "pycharm": {
     "name": "#%%\n"
    }
   }
  },
  {
   "cell_type": "code",
   "execution_count": 30,
   "outputs": [
    {
     "data": {
      "text/plain": "  0%|          | 0/589 [00:00<?, ?it/s]",
      "application/vnd.jupyter.widget-view+json": {
       "version_major": 2,
       "version_minor": 0,
       "model_id": "129ef78d248544f2a844e65366af62f1"
      }
     },
     "metadata": {},
     "output_type": "display_data"
    }
   ],
   "source": [
    "if \"LCC Score\" in df_diseases.columns:\n",
    "    df_diseases[\"LCC Score\"] = largest_conn_comp(diseases)\n",
    "else:\n",
    "    df_diseases.insert(len(df_diseases.columns), \"LCC Score\", largest_conn_comp(diseases), True)"
   ],
   "metadata": {
    "collapsed": false,
    "pycharm": {
     "name": "#%%\n"
    }
   }
  },
  {
   "cell_type": "code",
   "execution_count": 31,
   "outputs": [
    {
     "data": {
      "text/plain": "                                      Term Overlap   P-value  \\\n584                   Chronic otitis media   55/69  0.005896   \n585  Inadequate arch length for tooth size   47/58  0.005953   \n586                         Tooth Crowding   47/58  0.005953   \n587       Tooth mass arch size discrepancy   47/58  0.005953   \n588                 Tooth size discrepancy   47/58  0.005953   \n\n     Adjusted P-value                                              Genes  \\\n584          0.098950  IGHM;CD81;WIPF1;FMR1;DOCK8;CHD7;JMJD1C;COMT;GT...   \n585          0.099228  AMER1;SETD5;NOTCH3;TRIO;RPL10;SATB2;GNAI3;PLOD...   \n586          0.099228  AMER1;SETD5;NOTCH3;TRIO;RPL10;SATB2;GNAI3;PLOD...   \n587          0.099228  AMER1;SETD5;NOTCH3;TRIO;RPL10;SATB2;GNAI3;PLOD...   \n588          0.099228  AMER1;SETD5;NOTCH3;TRIO;RPL10;SATB2;GNAI3;PLOD...   \n\n     LCC Score  \n584   0.018182  \n585   0.234043  \n586   0.234043  \n587   0.234043  \n588   0.234043  ",
      "text/html": "<div>\n<style scoped>\n    .dataframe tbody tr th:only-of-type {\n        vertical-align: middle;\n    }\n\n    .dataframe tbody tr th {\n        vertical-align: top;\n    }\n\n    .dataframe thead th {\n        text-align: right;\n    }\n</style>\n<table border=\"1\" class=\"dataframe\">\n  <thead>\n    <tr style=\"text-align: right;\">\n      <th></th>\n      <th>Term</th>\n      <th>Overlap</th>\n      <th>P-value</th>\n      <th>Adjusted P-value</th>\n      <th>Genes</th>\n      <th>LCC Score</th>\n    </tr>\n  </thead>\n  <tbody>\n    <tr>\n      <th>584</th>\n      <td>Chronic otitis media</td>\n      <td>55/69</td>\n      <td>0.005896</td>\n      <td>0.098950</td>\n      <td>IGHM;CD81;WIPF1;FMR1;DOCK8;CHD7;JMJD1C;COMT;GT...</td>\n      <td>0.018182</td>\n    </tr>\n    <tr>\n      <th>585</th>\n      <td>Inadequate arch length for tooth size</td>\n      <td>47/58</td>\n      <td>0.005953</td>\n      <td>0.099228</td>\n      <td>AMER1;SETD5;NOTCH3;TRIO;RPL10;SATB2;GNAI3;PLOD...</td>\n      <td>0.234043</td>\n    </tr>\n    <tr>\n      <th>586</th>\n      <td>Tooth Crowding</td>\n      <td>47/58</td>\n      <td>0.005953</td>\n      <td>0.099228</td>\n      <td>AMER1;SETD5;NOTCH3;TRIO;RPL10;SATB2;GNAI3;PLOD...</td>\n      <td>0.234043</td>\n    </tr>\n    <tr>\n      <th>587</th>\n      <td>Tooth mass arch size discrepancy</td>\n      <td>47/58</td>\n      <td>0.005953</td>\n      <td>0.099228</td>\n      <td>AMER1;SETD5;NOTCH3;TRIO;RPL10;SATB2;GNAI3;PLOD...</td>\n      <td>0.234043</td>\n    </tr>\n    <tr>\n      <th>588</th>\n      <td>Tooth size discrepancy</td>\n      <td>47/58</td>\n      <td>0.005953</td>\n      <td>0.099228</td>\n      <td>AMER1;SETD5;NOTCH3;TRIO;RPL10;SATB2;GNAI3;PLOD...</td>\n      <td>0.234043</td>\n    </tr>\n  </tbody>\n</table>\n</div>"
     },
     "execution_count": 31,
     "metadata": {},
     "output_type": "execute_result"
    }
   ],
   "source": [
    "df_diseases.tail()"
   ],
   "metadata": {
    "collapsed": false,
    "pycharm": {
     "name": "#%%\n"
    }
   }
  },
  {
   "cell_type": "markdown",
   "source": [
    "**Distance of pathway components:** For each pair of pathway components, we calculate the average shortest path length between each set of proteins, and then, the average of this is taken over all pairs of the components."
   ],
   "metadata": {
    "collapsed": false,
    "pycharm": {
     "name": "#%% md\n"
    }
   }
  },
  {
   "cell_type": "code",
   "execution_count": 32,
   "outputs": [],
   "source": [
    "from numpy.ma.core import mean\n",
    "\n",
    "def distance_pathway_comps(diseases_dict: dict) -> list:\n",
    "    dpc_score = list()\n",
    "    for _, disease_dict in tqdm(diseases_dict.items()):\n",
    "        sub_graph = protein_graph.subgraph(disease_dict['genes'])\n",
    "        conn_comps = list(nx.connected_components(sub_graph))\n",
    "        distances = list()\n",
    "        for i, comp in enumerate(conn_comps):\n",
    "            for j in range(i+1, len(conn_comps)):\n",
    "                dist = 0\n",
    "                for first_comp_protein in comp:\n",
    "                    for second_comp_protein in conn_comps[j]:\n",
    "                        dist += nx.shortest_path_length(protein_graph, source=first_comp_protein, target=second_comp_protein)\n",
    "                \n",
    "                distances.append(dist / (len(comp) * len(conn_comps[j])))\n",
    "\n",
    "        dpc_score.append(mean(distances))\n",
    "    \n",
    "    return dpc_score"
   ],
   "metadata": {
    "collapsed": false,
    "pycharm": {
     "name": "#%%\n"
    }
   }
  },
  {
   "cell_type": "code",
   "execution_count": 33,
   "outputs": [],
   "source": [
    "import os\n",
    "\n",
    "if os.path.exists(\"datasets/mean_distances.csv\"):\n",
    "    df_mean_distances = pd.read_csv(\"datasets/mean_distances.csv\", sep=\",\", index_col=0)\n",
    "elif not \"df_mean_distances\" in locals():\n",
    "    df_mean_distances = pd.DataFrame(distance_pathway_comps(diseases))\n",
    "    df_mean_distances.to_csv('datasets/mean_distances.csv')"
   ],
   "metadata": {
    "collapsed": false,
    "pycharm": {
     "name": "#%%\n"
    }
   }
  },
  {
   "cell_type": "code",
   "execution_count": 34,
   "outputs": [
    {
     "data": {
      "text/plain": "                                      Term Overlap   P-value  \\\n584                   Chronic otitis media   55/69  0.005896   \n585  Inadequate arch length for tooth size   47/58  0.005953   \n586                         Tooth Crowding   47/58  0.005953   \n587       Tooth mass arch size discrepancy   47/58  0.005953   \n588                 Tooth size discrepancy   47/58  0.005953   \n\n     Adjusted P-value                                              Genes  \\\n584          0.098950  IGHM;CD81;WIPF1;FMR1;DOCK8;CHD7;JMJD1C;COMT;GT...   \n585          0.099228  AMER1;SETD5;NOTCH3;TRIO;RPL10;SATB2;GNAI3;PLOD...   \n586          0.099228  AMER1;SETD5;NOTCH3;TRIO;RPL10;SATB2;GNAI3;PLOD...   \n587          0.099228  AMER1;SETD5;NOTCH3;TRIO;RPL10;SATB2;GNAI3;PLOD...   \n588          0.099228  AMER1;SETD5;NOTCH3;TRIO;RPL10;SATB2;GNAI3;PLOD...   \n\n     LCC Score  DPC Score  \n584   0.018182   2.678114  \n585   0.234043   2.693694  \n586   0.234043   2.693694  \n587   0.234043   2.693694  \n588   0.234043   2.693694  ",
      "text/html": "<div>\n<style scoped>\n    .dataframe tbody tr th:only-of-type {\n        vertical-align: middle;\n    }\n\n    .dataframe tbody tr th {\n        vertical-align: top;\n    }\n\n    .dataframe thead th {\n        text-align: right;\n    }\n</style>\n<table border=\"1\" class=\"dataframe\">\n  <thead>\n    <tr style=\"text-align: right;\">\n      <th></th>\n      <th>Term</th>\n      <th>Overlap</th>\n      <th>P-value</th>\n      <th>Adjusted P-value</th>\n      <th>Genes</th>\n      <th>LCC Score</th>\n      <th>DPC Score</th>\n    </tr>\n  </thead>\n  <tbody>\n    <tr>\n      <th>584</th>\n      <td>Chronic otitis media</td>\n      <td>55/69</td>\n      <td>0.005896</td>\n      <td>0.098950</td>\n      <td>IGHM;CD81;WIPF1;FMR1;DOCK8;CHD7;JMJD1C;COMT;GT...</td>\n      <td>0.018182</td>\n      <td>2.678114</td>\n    </tr>\n    <tr>\n      <th>585</th>\n      <td>Inadequate arch length for tooth size</td>\n      <td>47/58</td>\n      <td>0.005953</td>\n      <td>0.099228</td>\n      <td>AMER1;SETD5;NOTCH3;TRIO;RPL10;SATB2;GNAI3;PLOD...</td>\n      <td>0.234043</td>\n      <td>2.693694</td>\n    </tr>\n    <tr>\n      <th>586</th>\n      <td>Tooth Crowding</td>\n      <td>47/58</td>\n      <td>0.005953</td>\n      <td>0.099228</td>\n      <td>AMER1;SETD5;NOTCH3;TRIO;RPL10;SATB2;GNAI3;PLOD...</td>\n      <td>0.234043</td>\n      <td>2.693694</td>\n    </tr>\n    <tr>\n      <th>587</th>\n      <td>Tooth mass arch size discrepancy</td>\n      <td>47/58</td>\n      <td>0.005953</td>\n      <td>0.099228</td>\n      <td>AMER1;SETD5;NOTCH3;TRIO;RPL10;SATB2;GNAI3;PLOD...</td>\n      <td>0.234043</td>\n      <td>2.693694</td>\n    </tr>\n    <tr>\n      <th>588</th>\n      <td>Tooth size discrepancy</td>\n      <td>47/58</td>\n      <td>0.005953</td>\n      <td>0.099228</td>\n      <td>AMER1;SETD5;NOTCH3;TRIO;RPL10;SATB2;GNAI3;PLOD...</td>\n      <td>0.234043</td>\n      <td>2.693694</td>\n    </tr>\n  </tbody>\n</table>\n</div>"
     },
     "execution_count": 34,
     "metadata": {},
     "output_type": "execute_result"
    }
   ],
   "source": [
    "df_diseases[\"DPC Score\"] = df_mean_distances\n",
    "df_diseases.tail()"
   ],
   "metadata": {
    "collapsed": false,
    "pycharm": {
     "name": "#%%\n"
    }
   }
  },
  {
   "cell_type": "code",
   "execution_count": 35,
   "outputs": [],
   "source": [
    "df_diseases.to_csv(\"datasets/diseases_scores.csv\")"
   ],
   "metadata": {
    "collapsed": false,
    "pycharm": {
     "name": "#%%\n"
    }
   }
  },
  {
   "cell_type": "markdown",
   "source": [
    "**Network modularity:** Fraction of edges that fall within/outside the pathway minus the expected fraction if edges were randomly distributed:\n",
    "\\begin{equation}\n",
    "Q_d = 1/(2m) \\sum_{ij} (I((i, j) ∈ E) − \\frac{k_ik_j}{\n",
    "2m})δ(p_i, p_j)\n",
    "\\end{equation}\n",
    "where $k_i$ is the degree of $i$, and $δ(p_i, p_j)$ is 1 if $p_i$ and $p_j$ are equal and 0 otherwise.\n"
   ],
   "metadata": {
    "collapsed": false,
    "pycharm": {
     "name": "#%% md\n"
    }
   }
  },
  {
   "cell_type": "code",
   "execution_count": 36,
   "outputs": [],
   "source": [
    "def network_modularity(protein_graph: nx.Graph, diseases_dict: dict) -> list:\n",
    "    m = protein_graph.number_of_edges()\n",
    "    one_m = 1/(2*m)\n",
    "    q = list()\n",
    "    for _, disease_dict in tqdm(diseases_dict.items()):\n",
    "        sub_graph = protein_graph.subgraph(disease_dict['genes'])\n",
    "        disease_nodes = list(sub_graph.nodes())\n",
    "        q_dis = 0\n",
    "        for i, node_i in enumerate(disease_nodes):\n",
    "            for j in range(i+1, len(disease_nodes)):\n",
    "                node_j = disease_nodes[j]\n",
    "                a = protein_graph.number_of_edges(node_i, node_j)\n",
    "                k_i=protein_graph.degree[node_i]\n",
    "                k_j=protein_graph.degree[node_j]\n",
    "                q_dis += a - (k_i*k_j)/(2*m)\n",
    "        \n",
    "        q.append(one_m * q_dis)\n",
    "    \n",
    "    return q"
   ],
   "metadata": {
    "collapsed": false,
    "pycharm": {
     "name": "#%%\n"
    }
   }
  },
  {
   "cell_type": "code",
   "execution_count": 37,
   "outputs": [],
   "source": [
    "import os\n",
    "\n",
    "if os.path.exists(\"datasets/modularities.csv\"):\n",
    "    df_modularities = pd.read_csv(\"datasets/modularities.csv\", sep=\",\", index_col=0)\n",
    "elif not \"df_modularities\" in locals():\n",
    "    df_modularities = pd.DataFrame(network_modularity(protein_graph, diseases))\n",
    "    df_modularities.to_csv('datasets/modularities.csv')"
   ],
   "metadata": {
    "collapsed": false,
    "pycharm": {
     "name": "#%%\n"
    }
   }
  },
  {
   "cell_type": "code",
   "execution_count": 38,
   "outputs": [
    {
     "data": {
      "text/plain": "                                      Term Overlap   P-value  \\\n584                   Chronic otitis media   55/69  0.005896   \n585  Inadequate arch length for tooth size   47/58  0.005953   \n586                         Tooth Crowding   47/58  0.005953   \n587       Tooth mass arch size discrepancy   47/58  0.005953   \n588                 Tooth size discrepancy   47/58  0.005953   \n\n     Adjusted P-value                                              Genes  \\\n584          0.098950  IGHM;CD81;WIPF1;FMR1;DOCK8;CHD7;JMJD1C;COMT;GT...   \n585          0.099228  AMER1;SETD5;NOTCH3;TRIO;RPL10;SATB2;GNAI3;PLOD...   \n586          0.099228  AMER1;SETD5;NOTCH3;TRIO;RPL10;SATB2;GNAI3;PLOD...   \n587          0.099228  AMER1;SETD5;NOTCH3;TRIO;RPL10;SATB2;GNAI3;PLOD...   \n588          0.099228  AMER1;SETD5;NOTCH3;TRIO;RPL10;SATB2;GNAI3;PLOD...   \n\n     LCC Score  DPC Score  Modularity  \n584   0.018182   2.678114   -0.000008  \n585   0.234043   2.693694    0.000004  \n586   0.234043   2.693694    0.000004  \n587   0.234043   2.693694    0.000004  \n588   0.234043   2.693694    0.000004  ",
      "text/html": "<div>\n<style scoped>\n    .dataframe tbody tr th:only-of-type {\n        vertical-align: middle;\n    }\n\n    .dataframe tbody tr th {\n        vertical-align: top;\n    }\n\n    .dataframe thead th {\n        text-align: right;\n    }\n</style>\n<table border=\"1\" class=\"dataframe\">\n  <thead>\n    <tr style=\"text-align: right;\">\n      <th></th>\n      <th>Term</th>\n      <th>Overlap</th>\n      <th>P-value</th>\n      <th>Adjusted P-value</th>\n      <th>Genes</th>\n      <th>LCC Score</th>\n      <th>DPC Score</th>\n      <th>Modularity</th>\n    </tr>\n  </thead>\n  <tbody>\n    <tr>\n      <th>584</th>\n      <td>Chronic otitis media</td>\n      <td>55/69</td>\n      <td>0.005896</td>\n      <td>0.098950</td>\n      <td>IGHM;CD81;WIPF1;FMR1;DOCK8;CHD7;JMJD1C;COMT;GT...</td>\n      <td>0.018182</td>\n      <td>2.678114</td>\n      <td>-0.000008</td>\n    </tr>\n    <tr>\n      <th>585</th>\n      <td>Inadequate arch length for tooth size</td>\n      <td>47/58</td>\n      <td>0.005953</td>\n      <td>0.099228</td>\n      <td>AMER1;SETD5;NOTCH3;TRIO;RPL10;SATB2;GNAI3;PLOD...</td>\n      <td>0.234043</td>\n      <td>2.693694</td>\n      <td>0.000004</td>\n    </tr>\n    <tr>\n      <th>586</th>\n      <td>Tooth Crowding</td>\n      <td>47/58</td>\n      <td>0.005953</td>\n      <td>0.099228</td>\n      <td>AMER1;SETD5;NOTCH3;TRIO;RPL10;SATB2;GNAI3;PLOD...</td>\n      <td>0.234043</td>\n      <td>2.693694</td>\n      <td>0.000004</td>\n    </tr>\n    <tr>\n      <th>587</th>\n      <td>Tooth mass arch size discrepancy</td>\n      <td>47/58</td>\n      <td>0.005953</td>\n      <td>0.099228</td>\n      <td>AMER1;SETD5;NOTCH3;TRIO;RPL10;SATB2;GNAI3;PLOD...</td>\n      <td>0.234043</td>\n      <td>2.693694</td>\n      <td>0.000004</td>\n    </tr>\n    <tr>\n      <th>588</th>\n      <td>Tooth size discrepancy</td>\n      <td>47/58</td>\n      <td>0.005953</td>\n      <td>0.099228</td>\n      <td>AMER1;SETD5;NOTCH3;TRIO;RPL10;SATB2;GNAI3;PLOD...</td>\n      <td>0.234043</td>\n      <td>2.693694</td>\n      <td>0.000004</td>\n    </tr>\n  </tbody>\n</table>\n</div>"
     },
     "execution_count": 38,
     "metadata": {},
     "output_type": "execute_result"
    }
   ],
   "source": [
    "df_diseases[\"Modularity\"] = df_modularities\n",
    "df_diseases.tail()"
   ],
   "metadata": {
    "collapsed": false,
    "pycharm": {
     "name": "#%%\n"
    }
   }
  },
  {
   "cell_type": "code",
   "execution_count": 39,
   "outputs": [],
   "source": [
    "df_diseases.to_csv(\"datasets/diseases_scores.csv\")"
   ],
   "metadata": {
    "collapsed": false,
    "pycharm": {
     "name": "#%%\n"
    }
   }
  },
  {
   "cell_type": "markdown",
   "source": [
    "## **Network biomarkers**\n",
    "Compute the central nodes in the graph by taking into account their normalized degree."
   ],
   "metadata": {
    "collapsed": false,
    "pycharm": {
     "name": "#%% md\n"
    }
   }
  },
  {
   "cell_type": "code",
   "execution_count": 40,
   "outputs": [],
   "source": [
    "import networkx.algorithms.centrality as nx_c"
   ],
   "metadata": {
    "collapsed": false,
    "pycharm": {
     "name": "#%%\n"
    }
   }
  },
  {
   "cell_type": "markdown",
   "source": [
    "Compute the degree of each node and choose those that satisfy a treshold, the starting gene must be considered too."
   ],
   "metadata": {
    "collapsed": false,
    "pycharm": {
     "name": "#%% md\n"
    }
   }
  },
  {
   "cell_type": "code",
   "execution_count": 41,
   "outputs": [
    {
     "data": {
      "text/plain": "          centrality\nKIAA1429    0.223922\nESR2        0.175801\nESR1        0.174879\nFANCD2      0.162733\nMYC         0.156815\nKIF14       0.138596\nHIST1H4A    0.127220\nBRD4        0.117534\nEED         0.112537\nCIT         0.111308\nEFTUD2      0.107233\nNR2C2       0.106772\nEP300       0.103928\nNXF1        0.102237\nHSPA8       0.100930\nTRIM28      0.097778\nVCP         0.085018\nPHB         0.084172\nKIF20A      0.080483\nPRC1        0.079176\nKIF23       0.076255\nNAA40       0.075025\nRBM39       0.071489\nSNRNP70     0.070874\nORF8        0.069644\nECT2        0.069644\nOBSL1       0.068875\nZC3H18      0.065032\nRNF2        0.064955\nSON         0.011223",
      "text/html": "<div>\n<style scoped>\n    .dataframe tbody tr th:only-of-type {\n        vertical-align: middle;\n    }\n\n    .dataframe tbody tr th {\n        vertical-align: top;\n    }\n\n    .dataframe thead th {\n        text-align: right;\n    }\n</style>\n<table border=\"1\" class=\"dataframe\">\n  <thead>\n    <tr style=\"text-align: right;\">\n      <th></th>\n      <th>centrality</th>\n    </tr>\n  </thead>\n  <tbody>\n    <tr>\n      <th>KIAA1429</th>\n      <td>0.223922</td>\n    </tr>\n    <tr>\n      <th>ESR2</th>\n      <td>0.175801</td>\n    </tr>\n    <tr>\n      <th>ESR1</th>\n      <td>0.174879</td>\n    </tr>\n    <tr>\n      <th>FANCD2</th>\n      <td>0.162733</td>\n    </tr>\n    <tr>\n      <th>MYC</th>\n      <td>0.156815</td>\n    </tr>\n    <tr>\n      <th>KIF14</th>\n      <td>0.138596</td>\n    </tr>\n    <tr>\n      <th>HIST1H4A</th>\n      <td>0.127220</td>\n    </tr>\n    <tr>\n      <th>BRD4</th>\n      <td>0.117534</td>\n    </tr>\n    <tr>\n      <th>EED</th>\n      <td>0.112537</td>\n    </tr>\n    <tr>\n      <th>CIT</th>\n      <td>0.111308</td>\n    </tr>\n    <tr>\n      <th>EFTUD2</th>\n      <td>0.107233</td>\n    </tr>\n    <tr>\n      <th>NR2C2</th>\n      <td>0.106772</td>\n    </tr>\n    <tr>\n      <th>EP300</th>\n      <td>0.103928</td>\n    </tr>\n    <tr>\n      <th>NXF1</th>\n      <td>0.102237</td>\n    </tr>\n    <tr>\n      <th>HSPA8</th>\n      <td>0.100930</td>\n    </tr>\n    <tr>\n      <th>TRIM28</th>\n      <td>0.097778</td>\n    </tr>\n    <tr>\n      <th>VCP</th>\n      <td>0.085018</td>\n    </tr>\n    <tr>\n      <th>PHB</th>\n      <td>0.084172</td>\n    </tr>\n    <tr>\n      <th>KIF20A</th>\n      <td>0.080483</td>\n    </tr>\n    <tr>\n      <th>PRC1</th>\n      <td>0.079176</td>\n    </tr>\n    <tr>\n      <th>KIF23</th>\n      <td>0.076255</td>\n    </tr>\n    <tr>\n      <th>NAA40</th>\n      <td>0.075025</td>\n    </tr>\n    <tr>\n      <th>RBM39</th>\n      <td>0.071489</td>\n    </tr>\n    <tr>\n      <th>SNRNP70</th>\n      <td>0.070874</td>\n    </tr>\n    <tr>\n      <th>ORF8</th>\n      <td>0.069644</td>\n    </tr>\n    <tr>\n      <th>ECT2</th>\n      <td>0.069644</td>\n    </tr>\n    <tr>\n      <th>OBSL1</th>\n      <td>0.068875</td>\n    </tr>\n    <tr>\n      <th>ZC3H18</th>\n      <td>0.065032</td>\n    </tr>\n    <tr>\n      <th>RNF2</th>\n      <td>0.064955</td>\n    </tr>\n    <tr>\n      <th>SON</th>\n      <td>0.011223</td>\n    </tr>\n  </tbody>\n</table>\n</div>"
     },
     "execution_count": 41,
     "metadata": {},
     "output_type": "execute_result"
    }
   ],
   "source": [
    "nodes_degree = pd.DataFrame.from_dict(nx_c.degree_centrality(protein_graph), orient=\"index\", columns=[\"centrality\"])\n",
    "nodes_degree = nodes_degree.sort_values(by='centrality', ascending=False)\n",
    "biomarkers = pd.concat([nodes_degree.iloc[:29], nodes_degree[nodes_degree.index==\"SON\"]]) # Insert the starting gene\n",
    "biomarkers"
   ],
   "metadata": {
    "collapsed": false,
    "pycharm": {
     "name": "#%%\n"
    }
   }
  },
  {
   "cell_type": "markdown",
   "source": [
    "## **Community analysis**\n",
    "Find the communities inside the graph and look how the one in which the starting gene fell is connected to the various diseases."
   ],
   "metadata": {
    "collapsed": false,
    "pycharm": {
     "name": "#%% md\n"
    }
   }
  },
  {
   "cell_type": "markdown",
   "source": [
    "Find all the communities with the Louvain method (beware that is not deterministic) and discard those with only one node inside."
   ],
   "metadata": {
    "collapsed": false,
    "pycharm": {
     "name": "#%% md\n"
    }
   }
  },
  {
   "cell_type": "code",
   "execution_count": 42,
   "outputs": [],
   "source": [
    "louvain_communities = list(nx.algorithms.community.louvain_communities(protein_graph))\n",
    "communities = [community for community in louvain_communities if len(community)>1]  # Discard those communities with one node"
   ],
   "metadata": {
    "collapsed": false,
    "pycharm": {
     "name": "#%%\n"
    }
   }
  },
  {
   "cell_type": "code",
   "execution_count": 43,
   "outputs": [
    {
     "name": "stdout",
     "output_type": "stream",
     "text": [
      "Number of communities: 10\n"
     ]
    }
   ],
   "source": [
    "print(\"Number of communities: {0}\".format(len(communities)))"
   ],
   "metadata": {
    "collapsed": false,
    "pycharm": {
     "name": "#%%\n"
    }
   }
  },
  {
   "cell_type": "markdown",
   "source": [
    "Compute the mean number of nodes of those community kept after the pruning on their size."
   ],
   "metadata": {
    "collapsed": false,
    "pycharm": {
     "name": "#%% md\n"
    }
   }
  },
  {
   "cell_type": "code",
   "execution_count": 44,
   "outputs": [
    {
     "name": "stdout",
     "output_type": "stream",
     "text": [
      "Mean size of communities: 613.0\n"
     ]
    }
   ],
   "source": [
    "mean_size_communities = 0\n",
    "for community in communities:\n",
    "    mean_size_communities += len(community)\n",
    "\n",
    "mean_size_communities /= len(communities)\n",
    "print(\"Mean size of communities: {0}\".format(str(mean_size_communities)))"
   ],
   "metadata": {
    "collapsed": false,
    "pycharm": {
     "name": "#%%\n"
    }
   }
  },
  {
   "cell_type": "markdown",
   "source": [
    "Let's also see how many disease, on average, where linked to those communities with only one node."
   ],
   "metadata": {
    "collapsed": false,
    "pycharm": {
     "name": "#%% md\n"
    }
   }
  },
  {
   "cell_type": "code",
   "execution_count": 45,
   "outputs": [
    {
     "name": "stdout",
     "output_type": "stream",
     "text": [
      "Mean diseases for those communities with one node: 2.2324127906976745\n"
     ]
    }
   ],
   "source": [
    "mean_diseases_one_node_communities = 0\n",
    "n_one_node_commmunities = 0\n",
    "for community in louvain_communities:\n",
    "    community = list(community)\n",
    "    if len(community) == 1:\n",
    "        protein = community[0]\n",
    "        protein_diseases = protein_graph.nodes[protein]['diseases']\n",
    "        n_one_node_commmunities += 1\n",
    "        mean_diseases_one_node_communities += len(protein_diseases)\n",
    "\n",
    "if n_one_node_commmunities == 0:\n",
    "    print(\"There are no communities with only one node\")\n",
    "else:\n",
    "    mean_diseases_one_node_communities /= n_one_node_commmunities\n",
    "    print(\"Mean diseases for those communities with one node: {0}\".format(str(mean_diseases_one_node_communities)))"
   ],
   "metadata": {
    "collapsed": false,
    "pycharm": {
     "name": "#%%\n"
    }
   }
  },
  {
   "cell_type": "markdown",
   "source": [
    "At last compute the mean number of nodes for the diseases."
   ],
   "metadata": {
    "collapsed": false,
    "pycharm": {
     "name": "#%% md\n"
    }
   }
  },
  {
   "cell_type": "code",
   "execution_count": 46,
   "outputs": [
    {
     "name": "stdout",
     "output_type": "stream",
     "text": [
      "Mean number of genes for disease: 246.55857385398983\n"
     ]
    }
   ],
   "source": [
    "mean_size_diseases = 0\n",
    "for _, disease in diseases.items():\n",
    "    mean_size_diseases += len(disease['genes'])\n",
    "\n",
    "mean_size_diseases /= len(diseases.keys())\n",
    "print(\"Mean number of genes for disease: {0}\".format(mean_size_diseases))"
   ],
   "metadata": {
    "collapsed": false,
    "pycharm": {
     "name": "#%%\n"
    }
   }
  },
  {
   "cell_type": "markdown",
   "source": [
    "Let's see if the communities do not share any nodes."
   ],
   "metadata": {
    "collapsed": false,
    "pycharm": {
     "name": "#%% md\n"
    }
   }
  },
  {
   "cell_type": "code",
   "execution_count": 47,
   "outputs": [],
   "source": [
    "def are_communities_distinct(communities: list) -> bool:\n",
    "    for i, first_community in enumerate(communities):\n",
    "        for j in range(i+1, len(communities)):\n",
    "            second_community = communities[j]\n",
    "            if len(intersection(first_community, second_community))>0:\n",
    "                return False\n",
    "\n",
    "    return True"
   ],
   "metadata": {
    "collapsed": false,
    "pycharm": {
     "name": "#%%\n"
    }
   }
  },
  {
   "cell_type": "code",
   "execution_count": 48,
   "outputs": [
    {
     "data": {
      "text/plain": "True"
     },
     "execution_count": 48,
     "metadata": {},
     "output_type": "execute_result"
    }
   ],
   "source": [
    "are_communities_distinct(communities)"
   ],
   "metadata": {
    "collapsed": false,
    "pycharm": {
     "name": "#%%\n"
    }
   }
  },
  {
   "cell_type": "markdown",
   "source": [
    "Compute how many proteins are shared betweem each community and disease."
   ],
   "metadata": {
    "collapsed": false,
    "pycharm": {
     "name": "#%% md\n"
    }
   }
  },
  {
   "cell_type": "code",
   "execution_count": 49,
   "outputs": [],
   "source": [
    "def communities_ranking(communities: list, diseases: dict) -> list:\n",
    "    communities_rank = list()  # pd.DataFrame(columns=[\"com\", \"disease\", \"rel_val\", \"common_genes\"])\n",
    "    for i, community in enumerate(communities):\n",
    "        tot_genes = dict()\n",
    "        shared_genes = dict()\n",
    "        for k, disease in diseases.items():\n",
    "            genes = disease['genes']\n",
    "            shared_genes_community = intersection(genes, community)\n",
    "            tot_genes[k]= len(genes)\n",
    "            shared_genes[k] = len(shared_genes_community)\n",
    "\n",
    "        for j in range(len(tot_genes)):\n",
    "            n_genes, n_shared_genes = tot_genes[j], shared_genes[j]\n",
    "            if n_shared_genes > 1:\n",
    "                communities_rank.append({\"Community\": i, \"Disease\": diseases[j]['name'], \"Shared genes\": n_shared_genes, \"# genes\": n_genes})\n",
    "\n",
    "    communities_rank = pd.DataFrame.from_dict(communities_rank)\n",
    "    communities_rank[\"Ratio disease\"] = communities_rank['Shared genes'] / communities_rank['# genes']\n",
    "    return communities_rank"
   ],
   "metadata": {
    "collapsed": false,
    "pycharm": {
     "name": "#%%\n"
    }
   }
  },
  {
   "cell_type": "code",
   "execution_count": 50,
   "outputs": [
    {
     "data": {
      "text/plain": "      Community                 Disease  Shared genes  # genes  Ratio disease\n564           0  Tooth size discrepancy             3       47       0.063830\n1129          1  Tooth size discrepancy             9       47       0.191489\n1680          2  Tooth size discrepancy             3       47       0.063830\n2215          3  Tooth size discrepancy             2       47       0.042553\n2714          4  Tooth size discrepancy             3       47       0.063830\n3285          5  Tooth size discrepancy             5       47       0.106383\n3823          6  Tooth size discrepancy             3       47       0.063830\n4363          7  Tooth size discrepancy             3       47       0.063830\n5194          9  Tooth size discrepancy             9       47       0.191489",
      "text/html": "<div>\n<style scoped>\n    .dataframe tbody tr th:only-of-type {\n        vertical-align: middle;\n    }\n\n    .dataframe tbody tr th {\n        vertical-align: top;\n    }\n\n    .dataframe thead th {\n        text-align: right;\n    }\n</style>\n<table border=\"1\" class=\"dataframe\">\n  <thead>\n    <tr style=\"text-align: right;\">\n      <th></th>\n      <th>Community</th>\n      <th>Disease</th>\n      <th>Shared genes</th>\n      <th># genes</th>\n      <th>Ratio disease</th>\n    </tr>\n  </thead>\n  <tbody>\n    <tr>\n      <th>564</th>\n      <td>0</td>\n      <td>Tooth size discrepancy</td>\n      <td>3</td>\n      <td>47</td>\n      <td>0.063830</td>\n    </tr>\n    <tr>\n      <th>1129</th>\n      <td>1</td>\n      <td>Tooth size discrepancy</td>\n      <td>9</td>\n      <td>47</td>\n      <td>0.191489</td>\n    </tr>\n    <tr>\n      <th>1680</th>\n      <td>2</td>\n      <td>Tooth size discrepancy</td>\n      <td>3</td>\n      <td>47</td>\n      <td>0.063830</td>\n    </tr>\n    <tr>\n      <th>2215</th>\n      <td>3</td>\n      <td>Tooth size discrepancy</td>\n      <td>2</td>\n      <td>47</td>\n      <td>0.042553</td>\n    </tr>\n    <tr>\n      <th>2714</th>\n      <td>4</td>\n      <td>Tooth size discrepancy</td>\n      <td>3</td>\n      <td>47</td>\n      <td>0.063830</td>\n    </tr>\n    <tr>\n      <th>3285</th>\n      <td>5</td>\n      <td>Tooth size discrepancy</td>\n      <td>5</td>\n      <td>47</td>\n      <td>0.106383</td>\n    </tr>\n    <tr>\n      <th>3823</th>\n      <td>6</td>\n      <td>Tooth size discrepancy</td>\n      <td>3</td>\n      <td>47</td>\n      <td>0.063830</td>\n    </tr>\n    <tr>\n      <th>4363</th>\n      <td>7</td>\n      <td>Tooth size discrepancy</td>\n      <td>3</td>\n      <td>47</td>\n      <td>0.063830</td>\n    </tr>\n    <tr>\n      <th>5194</th>\n      <td>9</td>\n      <td>Tooth size discrepancy</td>\n      <td>9</td>\n      <td>47</td>\n      <td>0.191489</td>\n    </tr>\n  </tbody>\n</table>\n</div>"
     },
     "execution_count": 50,
     "metadata": {},
     "output_type": "execute_result"
    }
   ],
   "source": [
    "communities_rank = communities_ranking(communities, diseases)\n",
    "communities_rank[communities_rank[\"Disease\"]==\"Tooth size discrepancy\"]"
   ],
   "metadata": {
    "collapsed": false,
    "pycharm": {
     "name": "#%%\n"
    }
   }
  },
  {
   "cell_type": "markdown",
   "source": [
    "Compute the ratio of the number of genes shared by each community and disease and the size of such community."
   ],
   "metadata": {
    "collapsed": false,
    "pycharm": {
     "name": "#%% md\n"
    }
   }
  },
  {
   "cell_type": "code",
   "execution_count": 51,
   "outputs": [],
   "source": [
    "ratios_genes_community = list()\n",
    "for community in range(len(communities)):\n",
    "    ratios_genes_community += (list(communities_rank[communities_rank['Community']==community]['Shared genes'] / len(communities[community])))\n",
    "\n",
    "communities_rank['Ratio community'] = pd.Series(ratios_genes_community)"
   ],
   "metadata": {
    "collapsed": false,
    "pycharm": {
     "name": "#%%\n"
    }
   }
  },
  {
   "cell_type": "code",
   "execution_count": 52,
   "outputs": [
    {
     "data": {
      "text/plain": "      Community                 Disease  Shared genes  # genes  Ratio disease  \\\n564           0  Tooth size discrepancy             3       47       0.063830   \n1129          1  Tooth size discrepancy             9       47       0.191489   \n1680          2  Tooth size discrepancy             3       47       0.063830   \n2215          3  Tooth size discrepancy             2       47       0.042553   \n2714          4  Tooth size discrepancy             3       47       0.063830   \n3285          5  Tooth size discrepancy             5       47       0.106383   \n3823          6  Tooth size discrepancy             3       47       0.063830   \n4363          7  Tooth size discrepancy             3       47       0.063830   \n5194          9  Tooth size discrepancy             9       47       0.191489   \n\n      Ratio community  \n564          0.006522  \n1129         0.010936  \n1680         0.003367  \n2215         0.003344  \n2714         0.007042  \n3285         0.004634  \n3823         0.004323  \n4363         0.004823  \n5194         0.020316  ",
      "text/html": "<div>\n<style scoped>\n    .dataframe tbody tr th:only-of-type {\n        vertical-align: middle;\n    }\n\n    .dataframe tbody tr th {\n        vertical-align: top;\n    }\n\n    .dataframe thead th {\n        text-align: right;\n    }\n</style>\n<table border=\"1\" class=\"dataframe\">\n  <thead>\n    <tr style=\"text-align: right;\">\n      <th></th>\n      <th>Community</th>\n      <th>Disease</th>\n      <th>Shared genes</th>\n      <th># genes</th>\n      <th>Ratio disease</th>\n      <th>Ratio community</th>\n    </tr>\n  </thead>\n  <tbody>\n    <tr>\n      <th>564</th>\n      <td>0</td>\n      <td>Tooth size discrepancy</td>\n      <td>3</td>\n      <td>47</td>\n      <td>0.063830</td>\n      <td>0.006522</td>\n    </tr>\n    <tr>\n      <th>1129</th>\n      <td>1</td>\n      <td>Tooth size discrepancy</td>\n      <td>9</td>\n      <td>47</td>\n      <td>0.191489</td>\n      <td>0.010936</td>\n    </tr>\n    <tr>\n      <th>1680</th>\n      <td>2</td>\n      <td>Tooth size discrepancy</td>\n      <td>3</td>\n      <td>47</td>\n      <td>0.063830</td>\n      <td>0.003367</td>\n    </tr>\n    <tr>\n      <th>2215</th>\n      <td>3</td>\n      <td>Tooth size discrepancy</td>\n      <td>2</td>\n      <td>47</td>\n      <td>0.042553</td>\n      <td>0.003344</td>\n    </tr>\n    <tr>\n      <th>2714</th>\n      <td>4</td>\n      <td>Tooth size discrepancy</td>\n      <td>3</td>\n      <td>47</td>\n      <td>0.063830</td>\n      <td>0.007042</td>\n    </tr>\n    <tr>\n      <th>3285</th>\n      <td>5</td>\n      <td>Tooth size discrepancy</td>\n      <td>5</td>\n      <td>47</td>\n      <td>0.106383</td>\n      <td>0.004634</td>\n    </tr>\n    <tr>\n      <th>3823</th>\n      <td>6</td>\n      <td>Tooth size discrepancy</td>\n      <td>3</td>\n      <td>47</td>\n      <td>0.063830</td>\n      <td>0.004323</td>\n    </tr>\n    <tr>\n      <th>4363</th>\n      <td>7</td>\n      <td>Tooth size discrepancy</td>\n      <td>3</td>\n      <td>47</td>\n      <td>0.063830</td>\n      <td>0.004823</td>\n    </tr>\n    <tr>\n      <th>5194</th>\n      <td>9</td>\n      <td>Tooth size discrepancy</td>\n      <td>9</td>\n      <td>47</td>\n      <td>0.191489</td>\n      <td>0.020316</td>\n    </tr>\n  </tbody>\n</table>\n</div>"
     },
     "execution_count": 52,
     "metadata": {},
     "output_type": "execute_result"
    }
   ],
   "source": [
    "communities_rank[communities_rank[\"Disease\"]==\"Tooth size discrepancy\"]"
   ],
   "metadata": {
    "collapsed": false,
    "pycharm": {
     "name": "#%%\n"
    }
   }
  },
  {
   "cell_type": "markdown",
   "source": [
    "We need to know in wich community our starting gene is."
   ],
   "metadata": {
    "collapsed": false,
    "pycharm": {
     "name": "#%% md\n"
    }
   }
  },
  {
   "cell_type": "code",
   "execution_count": 53,
   "outputs": [],
   "source": [
    "def look_for_gene_community(protein: str, communities: list) -> int:\n",
    "    for i, community in enumerate(communities):\n",
    "        if protein in community:\n",
    "            return i\n",
    "\n",
    "    return -1"
   ],
   "metadata": {
    "collapsed": false,
    "pycharm": {
     "name": "#%%\n"
    }
   }
  },
  {
   "cell_type": "code",
   "execution_count": 54,
   "outputs": [
    {
     "name": "stdout",
     "output_type": "stream",
     "text": [
      "The gene SON is in community 1\n"
     ]
    }
   ],
   "source": [
    "protein_community = \"SON\"\n",
    "gene_community = look_for_gene_community(protein_community, communities)\n",
    "if gene_community == -1:\n",
    "    raise Exception(\"The gene {0} is not in one of the communities\".format(protein_community))\n",
    "else:\n",
    "    print(\"The gene {0} is in community {1}\".format(protein_community, gene_community))"
   ],
   "metadata": {
    "collapsed": false,
    "pycharm": {
     "name": "#%%\n"
    }
   }
  },
  {
   "cell_type": "markdown",
   "source": [
    "Knowing in which community our starting gene is, we can retrieve all the diseases inisde such community and rank them by the product of the two previous computed metrics."
   ],
   "metadata": {
    "collapsed": false,
    "pycharm": {
     "name": "#%% md\n"
    }
   }
  },
  {
   "cell_type": "code",
   "execution_count": 55,
   "outputs": [],
   "source": [
    "# Compute the new metric\n",
    "communities_rank['Relevance'] = communities_rank['Ratio community'] * communities_rank['Ratio disease']\n",
    "\n",
    "# Retrieve the diseases inside the community in which the gene is in and keep those that share at least ten genes with the community\n",
    "gene_rank = communities_rank[(communities_rank[\"Community\"]==gene_community) &\n",
    "                             (communities_rank[\"Shared genes\"] > 10)].sort_values(by=\"Relevance\", ascending=False).drop(\"Community\", axis=1)"
   ],
   "metadata": {
    "collapsed": false,
    "pycharm": {
     "name": "#%%\n"
    }
   }
  },
  {
   "cell_type": "code",
   "execution_count": 56,
   "outputs": [
    {
     "data": {
      "text/plain": "                          Disease  Shared genes  # genes  Ratio disease  \\\n570       Intellectual Disability           430     1808       0.237832   \n565  Mental and motor retardation           246      802       0.306733   \n568    Global developmental delay           248      854       0.290398   \n567               Cognitive delay           233      758       0.307388   \n575       Poor school performance           226      741       0.304993   \n\n     Ratio community  Relevance  \n570         0.522479   0.124262  \n565         0.298906   0.091685  \n568         0.301337   0.087508  \n567         0.283111   0.087025  \n575         0.274605   0.083753  ",
      "text/html": "<div>\n<style scoped>\n    .dataframe tbody tr th:only-of-type {\n        vertical-align: middle;\n    }\n\n    .dataframe tbody tr th {\n        vertical-align: top;\n    }\n\n    .dataframe thead th {\n        text-align: right;\n    }\n</style>\n<table border=\"1\" class=\"dataframe\">\n  <thead>\n    <tr style=\"text-align: right;\">\n      <th></th>\n      <th>Disease</th>\n      <th>Shared genes</th>\n      <th># genes</th>\n      <th>Ratio disease</th>\n      <th>Ratio community</th>\n      <th>Relevance</th>\n    </tr>\n  </thead>\n  <tbody>\n    <tr>\n      <th>570</th>\n      <td>Intellectual Disability</td>\n      <td>430</td>\n      <td>1808</td>\n      <td>0.237832</td>\n      <td>0.522479</td>\n      <td>0.124262</td>\n    </tr>\n    <tr>\n      <th>565</th>\n      <td>Mental and motor retardation</td>\n      <td>246</td>\n      <td>802</td>\n      <td>0.306733</td>\n      <td>0.298906</td>\n      <td>0.091685</td>\n    </tr>\n    <tr>\n      <th>568</th>\n      <td>Global developmental delay</td>\n      <td>248</td>\n      <td>854</td>\n      <td>0.290398</td>\n      <td>0.301337</td>\n      <td>0.087508</td>\n    </tr>\n    <tr>\n      <th>567</th>\n      <td>Cognitive delay</td>\n      <td>233</td>\n      <td>758</td>\n      <td>0.307388</td>\n      <td>0.283111</td>\n      <td>0.087025</td>\n    </tr>\n    <tr>\n      <th>575</th>\n      <td>Poor school performance</td>\n      <td>226</td>\n      <td>741</td>\n      <td>0.304993</td>\n      <td>0.274605</td>\n      <td>0.083753</td>\n    </tr>\n  </tbody>\n</table>\n</div>"
     },
     "execution_count": 56,
     "metadata": {},
     "output_type": "execute_result"
    }
   ],
   "source": [
    "gene_rank.head()"
   ],
   "metadata": {
    "collapsed": false,
    "pycharm": {
     "name": "#%%\n"
    }
   }
  },
  {
   "cell_type": "code",
   "execution_count": 57,
   "outputs": [],
   "source": [
    "gene_rank.to_csv(\"datasets/community_diseases_rank.csv\")"
   ],
   "metadata": {
    "collapsed": false,
    "pycharm": {
     "name": "#%%\n"
    }
   }
  },
  {
   "cell_type": "markdown",
   "source": [
    "## **Draw the protein, disease and community graphs**\n",
    "Plot the graphs to show the results of our work."
   ],
   "metadata": {
    "collapsed": false,
    "pycharm": {
     "name": "#%% md\n"
    }
   }
  },
  {
   "cell_type": "code",
   "execution_count": 58,
   "outputs": [],
   "source": [
    "from pyvis.network import Network"
   ],
   "metadata": {
    "collapsed": false,
    "pycharm": {
     "name": "#%%\n"
    }
   }
  },
  {
   "cell_type": "markdown",
   "source": [
    "Plot the protein graph, you can also plot the a disease's genes in the same graph. If a node is red, then it belongs to the disease."
   ],
   "metadata": {
    "collapsed": false,
    "pycharm": {
     "name": "#%% md\n"
    }
   }
  },
  {
   "cell_type": "code",
   "execution_count": 59,
   "outputs": [],
   "source": [
    "def plot_protein_network(protein_graph: nx.Graph, disease_genes: list=None, biomarkers: list=None) -> None:\n",
    "    if not biomarkers is None:\n",
    "        plot_graph = protein_graph.subgraph(biomarkers)\n",
    "    else:\n",
    "        plot_graph = protein_graph.copy()\n",
    "\n",
    "    net = Network(width=1080, height=720)\n",
    "    node_index = dict()\n",
    "    for i, node in enumerate(plot_graph.nodes()):\n",
    "        node_index[node] = i\n",
    "        if not node in disease_genes:\n",
    "            net.add_node(i, label=node, size=8)\n",
    "        else:\n",
    "            net.add_node(i, label=node, size=16, color=\"red\")\n",
    "\n",
    "    for edge_from, edge_to in plot_graph.edges():\n",
    "        if edge_from in disease_genes or edge_to in disease_genes:\n",
    "            if not biomarkers is None:\n",
    "                net.add_edge(node_index[edge_from], node_index[edge_to], color=\"red\")\n",
    "            else:\n",
    "                net.add_edge(node_index[edge_from], node_index[edge_to], color=\"red\", value=1)\n",
    "        else:\n",
    "            net.add_edge(node_index[edge_from], node_index[edge_to])\n",
    "\n",
    "    net.toggle_drag_nodes(False)\n",
    "    net.show_buttons(['physics'])\n",
    "    net.force_atlas_2based(spring_strength=0.02)\n",
    "    net.show(\"protein_graph.html\")"
   ],
   "metadata": {
    "collapsed": false,
    "pycharm": {
     "name": "#%%\n"
    }
   }
  },
  {
   "cell_type": "code",
   "execution_count": 60,
   "outputs": [],
   "source": [
    "plot_protein_network(protein_graph, diseases[588][\"genes\"], biomarkers.index)"
   ],
   "metadata": {
    "collapsed": false,
    "pycharm": {
     "name": "#%%\n"
    }
   }
  },
  {
   "cell_type": "markdown",
   "source": [
    "Plot the disease graph, you can also plot a disease's genes on the same plot, the latters will be colored in red."
   ],
   "metadata": {
    "collapsed": false,
    "pycharm": {
     "name": "#%% md\n"
    }
   }
  },
  {
   "cell_type": "code",
   "execution_count": 61,
   "outputs": [],
   "source": [
    "def plot_disease(protein_graph: nx.Graph, disease_genes: list, protein:str) -> None:\n",
    "    sub_graph = protein_graph.subgraph(disease_genes)\n",
    "    net = Network(width=1080, height=720)\n",
    "    node_index = dict()\n",
    "    for i, node in enumerate(sub_graph.nodes()):\n",
    "        node_index[node] = i\n",
    "        if node != protein:\n",
    "            net.add_node(i, label=node, size=8)\n",
    "        else:\n",
    "            net.add_node(i, label=node, size=16, color=\"red\")\n",
    "\n",
    "    for edge_from, edge_to in sub_graph.edges():\n",
    "        if edge_from==protein or edge_to==protein:\n",
    "            net.add_edge(node_index[edge_from], node_index[edge_to], color=\"red\")\n",
    "        else:\n",
    "            net.add_edge(node_index[edge_from], node_index[edge_to])\n",
    "\n",
    "    net.toggle_drag_nodes(False)\n",
    "    net.show_buttons(['physics'])\n",
    "    net.force_atlas_2based(spring_strength=0.02)\n",
    "    net.show(\"disease_graph.html\")"
   ],
   "metadata": {
    "collapsed": false,
    "pycharm": {
     "name": "#%%\n"
    }
   }
  },
  {
   "cell_type": "code",
   "execution_count": 62,
   "outputs": [],
   "source": [
    "plot_disease(protein_graph, diseases[588][\"genes\"], \"SON\")"
   ],
   "metadata": {
    "collapsed": false,
    "pycharm": {
     "name": "#%%\n"
    }
   }
  },
  {
   "cell_type": "markdown",
   "source": [
    "Plot a community graph and color the chosen protein, if any is passed, and the edges linked to it."
   ],
   "metadata": {
    "collapsed": false,
    "pycharm": {
     "name": "#%% md\n"
    }
   }
  },
  {
   "cell_type": "code",
   "execution_count": 63,
   "outputs": [],
   "source": [
    "def plot_community_protein(protein_graph: nx.Graph, community: list, protein: str=None) -> None:\n",
    "    if protein is not None:\n",
    "        community = communities[look_for_gene_community(protein, communities)]\n",
    "    else:\n",
    "        community = np.random.randint(0, len(communities))\n",
    "\n",
    "    sub_graph = protein_graph.subgraph(community)\n",
    "    net = Network(width=1080, height=720)\n",
    "    node_index = dict()\n",
    "    for i, node in enumerate(sub_graph.nodes()):\n",
    "        node_index[node] = i\n",
    "        if node != protein:\n",
    "            net.add_node(i, label=node, size=8)\n",
    "        else:\n",
    "            net.add_node(i, label=node, size=16, color=\"red\")\n",
    "\n",
    "    for edge_from, edge_to in sub_graph.edges():\n",
    "        if edge_from==protein or edge_to==protein:\n",
    "            net.add_edge(node_index[edge_from], node_index[edge_to], color=\"red\", value=1)\n",
    "        else:\n",
    "            net.add_edge(node_index[edge_from], node_index[edge_to])\n",
    "\n",
    "    net.toggle_drag_nodes(False)\n",
    "    net.show_buttons(['physics'])\n",
    "    net.force_atlas_2based(spring_strength=0.02)\n",
    "    net.show(\"community_protein_graph.html\")"
   ],
   "metadata": {
    "collapsed": false,
    "pycharm": {
     "name": "#%%\n"
    }
   }
  },
  {
   "cell_type": "code",
   "execution_count": 64,
   "outputs": [],
   "source": [
    "plot_community_protein(protein_graph, communities, \"SON\")"
   ],
   "metadata": {
    "collapsed": false,
    "pycharm": {
     "name": "#%%\n"
    }
   }
  },
  {
   "cell_type": "markdown",
   "source": [
    "Plot a community and color the disease's genes passed to the method."
   ],
   "metadata": {
    "collapsed": false,
    "pycharm": {
     "name": "#%% md\n"
    }
   }
  },
  {
   "cell_type": "code",
   "execution_count": 65,
   "outputs": [],
   "source": [
    "def plot_community_disease(protein_graph: nx.Graph, disease_genes: list, community: set) -> None:\n",
    "    sub_graph = protein_graph.subgraph(community)\n",
    "    net = Network(width=1080, height=720)\n",
    "    node_index = dict()\n",
    "    for i, node in enumerate(sub_graph.nodes()):\n",
    "        node_index[node] = i\n",
    "        if not node in disease_genes:\n",
    "            net.add_node(i, label=node, size=8)\n",
    "        else:\n",
    "            net.add_node(i, label=node, size=16, color=\"red\")\n",
    "\n",
    "    for edge_from, edge_to in sub_graph.edges():\n",
    "        if edge_from in disease_genes or edge_to in disease_genes:\n",
    "            net.add_edge(node_index[edge_from], node_index[edge_to], color=\"red\", value=1)\n",
    "        else:\n",
    "            net.add_edge(node_index[edge_from], node_index[edge_to])\n",
    "\n",
    "    net.toggle_drag_nodes(False)\n",
    "    net.show_buttons(['physics'])\n",
    "    net.force_atlas_2based(spring_strength=0.02)\n",
    "    net.show(\"community_disease_graph.html\")"
   ],
   "metadata": {
    "collapsed": false,
    "pycharm": {
     "name": "#%%\n"
    }
   }
  },
  {
   "cell_type": "code",
   "execution_count": 66,
   "outputs": [],
   "source": [
    "plot_community_disease(protein_graph, diseases[588][\"genes\"], communities[3])"
   ],
   "metadata": {
    "collapsed": false,
    "pycharm": {
     "name": "#%%\n"
    }
   }
  },
  {
   "cell_type": "markdown",
   "source": [
    "Compute the ratio of the number of genes shared by each community and disease and the size of such community."
   ],
   "metadata": {
    "collapsed": false,
    "pycharm": {
     "name": "#%% md\n"
    }
   }
  },
  {
   "cell_type": "code",
   "execution_count": 67,
   "outputs": [],
   "source": [
    "ratios_genes_community = list()\n",
    "for community in range(len(communities)):\n",
    "    ratios_genes_community += (list(communities_rank[communities_rank['Community']==community]['Shared genes'] / len(communities[community])))\n",
    "\n",
    "communities_rank['Ratio community'] = pd.Series(ratios_genes_community)"
   ],
   "metadata": {
    "collapsed": false,
    "pycharm": {
     "name": "#%%\n"
    }
   }
  },
  {
   "cell_type": "code",
   "execution_count": 68,
   "outputs": [
    {
     "data": {
      "text/plain": "      Community                 Disease  Shared genes  # genes  Ratio disease  \\\n564           0  Tooth size discrepancy             3       47       0.063830   \n1129          1  Tooth size discrepancy             9       47       0.191489   \n1680          2  Tooth size discrepancy             3       47       0.063830   \n2215          3  Tooth size discrepancy             2       47       0.042553   \n2714          4  Tooth size discrepancy             3       47       0.063830   \n3285          5  Tooth size discrepancy             5       47       0.106383   \n3823          6  Tooth size discrepancy             3       47       0.063830   \n4363          7  Tooth size discrepancy             3       47       0.063830   \n5194          9  Tooth size discrepancy             9       47       0.191489   \n\n      Ratio community  Relevance  \n564          0.006522   0.000416  \n1129         0.010936   0.002094  \n1680         0.003367   0.000215  \n2215         0.003344   0.000142  \n2714         0.007042   0.000450  \n3285         0.004634   0.000493  \n3823         0.004323   0.000276  \n4363         0.004823   0.000308  \n5194         0.020316   0.003890  ",
      "text/html": "<div>\n<style scoped>\n    .dataframe tbody tr th:only-of-type {\n        vertical-align: middle;\n    }\n\n    .dataframe tbody tr th {\n        vertical-align: top;\n    }\n\n    .dataframe thead th {\n        text-align: right;\n    }\n</style>\n<table border=\"1\" class=\"dataframe\">\n  <thead>\n    <tr style=\"text-align: right;\">\n      <th></th>\n      <th>Community</th>\n      <th>Disease</th>\n      <th>Shared genes</th>\n      <th># genes</th>\n      <th>Ratio disease</th>\n      <th>Ratio community</th>\n      <th>Relevance</th>\n    </tr>\n  </thead>\n  <tbody>\n    <tr>\n      <th>564</th>\n      <td>0</td>\n      <td>Tooth size discrepancy</td>\n      <td>3</td>\n      <td>47</td>\n      <td>0.063830</td>\n      <td>0.006522</td>\n      <td>0.000416</td>\n    </tr>\n    <tr>\n      <th>1129</th>\n      <td>1</td>\n      <td>Tooth size discrepancy</td>\n      <td>9</td>\n      <td>47</td>\n      <td>0.191489</td>\n      <td>0.010936</td>\n      <td>0.002094</td>\n    </tr>\n    <tr>\n      <th>1680</th>\n      <td>2</td>\n      <td>Tooth size discrepancy</td>\n      <td>3</td>\n      <td>47</td>\n      <td>0.063830</td>\n      <td>0.003367</td>\n      <td>0.000215</td>\n    </tr>\n    <tr>\n      <th>2215</th>\n      <td>3</td>\n      <td>Tooth size discrepancy</td>\n      <td>2</td>\n      <td>47</td>\n      <td>0.042553</td>\n      <td>0.003344</td>\n      <td>0.000142</td>\n    </tr>\n    <tr>\n      <th>2714</th>\n      <td>4</td>\n      <td>Tooth size discrepancy</td>\n      <td>3</td>\n      <td>47</td>\n      <td>0.063830</td>\n      <td>0.007042</td>\n      <td>0.000450</td>\n    </tr>\n    <tr>\n      <th>3285</th>\n      <td>5</td>\n      <td>Tooth size discrepancy</td>\n      <td>5</td>\n      <td>47</td>\n      <td>0.106383</td>\n      <td>0.004634</td>\n      <td>0.000493</td>\n    </tr>\n    <tr>\n      <th>3823</th>\n      <td>6</td>\n      <td>Tooth size discrepancy</td>\n      <td>3</td>\n      <td>47</td>\n      <td>0.063830</td>\n      <td>0.004323</td>\n      <td>0.000276</td>\n    </tr>\n    <tr>\n      <th>4363</th>\n      <td>7</td>\n      <td>Tooth size discrepancy</td>\n      <td>3</td>\n      <td>47</td>\n      <td>0.063830</td>\n      <td>0.004823</td>\n      <td>0.000308</td>\n    </tr>\n    <tr>\n      <th>5194</th>\n      <td>9</td>\n      <td>Tooth size discrepancy</td>\n      <td>9</td>\n      <td>47</td>\n      <td>0.191489</td>\n      <td>0.020316</td>\n      <td>0.003890</td>\n    </tr>\n  </tbody>\n</table>\n</div>"
     },
     "execution_count": 68,
     "metadata": {},
     "output_type": "execute_result"
    }
   ],
   "source": [
    "communities_rank[communities_rank[\"Disease\"]==\"Tooth size discrepancy\"]"
   ],
   "metadata": {
    "collapsed": false,
    "pycharm": {
     "name": "#%%\n"
    }
   }
  },
  {
   "cell_type": "markdown",
   "source": [
    "We need to know in wich community our starting gene is."
   ],
   "metadata": {
    "collapsed": false,
    "pycharm": {
     "name": "#%% md\n"
    }
   }
  },
  {
   "cell_type": "code",
   "execution_count": 69,
   "outputs": [],
   "source": [
    "def look_for_gene_community(protein: str, communities: list) -> int:\n",
    "    for i, community in enumerate(communities):\n",
    "        if protein in community:\n",
    "            return i\n",
    "\n",
    "    return -1"
   ],
   "metadata": {
    "collapsed": false,
    "pycharm": {
     "name": "#%%\n"
    }
   }
  },
  {
   "cell_type": "code",
   "execution_count": 70,
   "outputs": [
    {
     "name": "stdout",
     "output_type": "stream",
     "text": [
      "The gene SON is in community 1\n"
     ]
    }
   ],
   "source": [
    "protein_community = \"SON\"\n",
    "gene_community = look_for_gene_community(protein_community, communities)\n",
    "if gene_community == -1:\n",
    "    raise Exception(\"The gene {0} is not in one of the communities\".format(protein_community))\n",
    "else:\n",
    "    print(\"The gene SON is in community {0}\".format(gene_community))"
   ],
   "metadata": {
    "collapsed": false,
    "pycharm": {
     "name": "#%%\n"
    }
   }
  },
  {
   "cell_type": "markdown",
   "source": [
    "Knowing in which community our starting gene is, we can retrieve all the diseases inisde such community and rank them by the product of the two previous computed metrics."
   ],
   "metadata": {
    "collapsed": false,
    "pycharm": {
     "name": "#%% md\n"
    }
   }
  },
  {
   "cell_type": "code",
   "execution_count": 71,
   "outputs": [],
   "source": [
    "# Compute the new metric\n",
    "communities_rank['Relevance'] = communities_rank['Ratio community'] * communities_rank['Ratio disease']\n",
    "\n",
    "# Retrieve the diseases inside the community in which the gene is in and keep those that share at least ten genes with the community\n",
    "gene_rank = communities_rank[(communities_rank[\"Community\"]==gene_community) &\n",
    "                             (communities_rank[\"Shared genes\"] > 10)].sort_values(by=\"Relevance\", ascending=False).drop(\"Community\", axis=1)"
   ],
   "metadata": {
    "collapsed": false,
    "pycharm": {
     "name": "#%%\n"
    }
   }
  },
  {
   "cell_type": "code",
   "execution_count": 72,
   "outputs": [
    {
     "data": {
      "text/plain": "                               Disease  Shared genes  # genes  Ratio disease  \\\n784                   Ductal Carcinoma            11      177       0.062147   \n720         Adenomatous Polyposis Coli            14      295       0.047458   \n675  Hereditary Diffuse Gastric Cancer            12      233       0.051502   \n990                       Mesothelioma            12      276       0.043478   \n968             Malignant mesothelioma            11      244       0.045082   \n\n     Ratio community  Relevance  \n784         0.013366   0.000831  \n720         0.017011   0.000807  \n675         0.014581   0.000751  \n990         0.014581   0.000634  \n968         0.013366   0.000603  ",
      "text/html": "<div>\n<style scoped>\n    .dataframe tbody tr th:only-of-type {\n        vertical-align: middle;\n    }\n\n    .dataframe tbody tr th {\n        vertical-align: top;\n    }\n\n    .dataframe thead th {\n        text-align: right;\n    }\n</style>\n<table border=\"1\" class=\"dataframe\">\n  <thead>\n    <tr style=\"text-align: right;\">\n      <th></th>\n      <th>Disease</th>\n      <th>Shared genes</th>\n      <th># genes</th>\n      <th>Ratio disease</th>\n      <th>Ratio community</th>\n      <th>Relevance</th>\n    </tr>\n  </thead>\n  <tbody>\n    <tr>\n      <th>784</th>\n      <td>Ductal Carcinoma</td>\n      <td>11</td>\n      <td>177</td>\n      <td>0.062147</td>\n      <td>0.013366</td>\n      <td>0.000831</td>\n    </tr>\n    <tr>\n      <th>720</th>\n      <td>Adenomatous Polyposis Coli</td>\n      <td>14</td>\n      <td>295</td>\n      <td>0.047458</td>\n      <td>0.017011</td>\n      <td>0.000807</td>\n    </tr>\n    <tr>\n      <th>675</th>\n      <td>Hereditary Diffuse Gastric Cancer</td>\n      <td>12</td>\n      <td>233</td>\n      <td>0.051502</td>\n      <td>0.014581</td>\n      <td>0.000751</td>\n    </tr>\n    <tr>\n      <th>990</th>\n      <td>Mesothelioma</td>\n      <td>12</td>\n      <td>276</td>\n      <td>0.043478</td>\n      <td>0.014581</td>\n      <td>0.000634</td>\n    </tr>\n    <tr>\n      <th>968</th>\n      <td>Malignant mesothelioma</td>\n      <td>11</td>\n      <td>244</td>\n      <td>0.045082</td>\n      <td>0.013366</td>\n      <td>0.000603</td>\n    </tr>\n  </tbody>\n</table>\n</div>"
     },
     "execution_count": 72,
     "metadata": {},
     "output_type": "execute_result"
    }
   ],
   "source": [
    "gene_rank.tail()"
   ],
   "metadata": {
    "collapsed": false,
    "pycharm": {
     "name": "#%%\n"
    }
   }
  },
  {
   "cell_type": "code",
   "execution_count": 73,
   "outputs": [],
   "source": [
    "gene_rank.to_csv(\"datasets/community_diseases_rank.csv\")"
   ],
   "metadata": {
    "collapsed": false,
    "pycharm": {
     "name": "#%%\n"
    }
   }
  },
  {
   "cell_type": "markdown",
   "source": [
    "## **Draw the protein, disease and community graphs**\n",
    "Plot the graphs to show the results of our work."
   ],
   "metadata": {
    "collapsed": false,
    "pycharm": {
     "name": "#%% md\n"
    }
   }
  },
  {
   "cell_type": "code",
   "execution_count": 74,
   "outputs": [],
   "source": [
    "from pyvis.network import Network"
   ],
   "metadata": {
    "collapsed": false,
    "pycharm": {
     "name": "#%%\n"
    }
   }
  },
  {
   "cell_type": "markdown",
   "source": [
    "Plot the protein graph, you can also plot the a disease's genes in the same graph. If a node is red, then it belongs to the disease."
   ],
   "metadata": {
    "collapsed": false,
    "pycharm": {
     "name": "#%% md\n"
    }
   }
  },
  {
   "cell_type": "code",
   "execution_count": 75,
   "outputs": [],
   "source": [
    "def plot_protein_network(protein_graph: nx.Graph, disease_genes: list=None, biomarkers: list=None) -> None:\n",
    "    if not biomarkers is None:\n",
    "        plot_graph = protein_graph.subgraph(biomarkers)\n",
    "    else:\n",
    "        plot_graph = protein_graph.copy()\n",
    "\n",
    "    net = Network(width=1080, height=720)\n",
    "    node_index = dict()\n",
    "    for i, node in enumerate(plot_graph.nodes()):\n",
    "        node_index[node] = i\n",
    "        if not node in disease_genes:\n",
    "            net.add_node(i, label=node, size=8)\n",
    "        else:\n",
    "            net.add_node(i, label=node, size=16, color=\"red\")\n",
    "\n",
    "    for edge_from, edge_to in plot_graph.edges():\n",
    "        if edge_from in disease_genes or edge_to in disease_genes:\n",
    "            if not biomarkers is None:\n",
    "                net.add_edge(node_index[edge_from], node_index[edge_to], color=\"red\")\n",
    "            else:\n",
    "                net.add_edge(node_index[edge_from], node_index[edge_to], color=\"red\", value=1)\n",
    "        else:\n",
    "            net.add_edge(node_index[edge_from], node_index[edge_to])\n",
    "\n",
    "    net.toggle_drag_nodes(False)\n",
    "    net.show_buttons(['physics'])\n",
    "    net.force_atlas_2based(spring_strength=0.02)\n",
    "    net.show(\"protein_graph.html\")"
   ],
   "metadata": {
    "collapsed": false,
    "pycharm": {
     "name": "#%%\n"
    }
   }
  },
  {
   "cell_type": "code",
   "execution_count": 76,
   "outputs": [],
   "source": [
    "plot_protein_network(protein_graph, diseases[588][\"genes\"], biomarkers.index)"
   ],
   "metadata": {
    "collapsed": false,
    "pycharm": {
     "name": "#%%\n"
    }
   }
  },
  {
   "cell_type": "markdown",
   "source": [
    "Plot the disease graph, you can also plot a disease's genes on the same plot, the latters will be colored in red."
   ],
   "metadata": {
    "collapsed": false,
    "pycharm": {
     "name": "#%% md\n"
    }
   }
  },
  {
   "cell_type": "code",
   "execution_count": 77,
   "outputs": [],
   "source": [
    "def plot_disease(protein_graph: nx.Graph, disease_genes: list, protein:str) -> None:\n",
    "    sub_graph = protein_graph.subgraph(disease_genes)\n",
    "    net = Network(width=1080, height=720)\n",
    "    node_index = dict()\n",
    "    for i, node in enumerate(sub_graph.nodes()):\n",
    "        node_index[node] = i\n",
    "        if node != protein:\n",
    "            net.add_node(i, label=node, size=8)\n",
    "        else:\n",
    "            net.add_node(i, label=node, size=16, color=\"red\")\n",
    "\n",
    "    for edge_from, edge_to in sub_graph.edges():\n",
    "        if edge_from==protein or edge_to==protein:\n",
    "            net.add_edge(node_index[edge_from], node_index[edge_to], color=\"red\")\n",
    "        else:\n",
    "            net.add_edge(node_index[edge_from], node_index[edge_to])\n",
    "\n",
    "    net.toggle_drag_nodes(False)\n",
    "    net.show_buttons(['physics'])\n",
    "    net.force_atlas_2based(spring_strength=0.02)\n",
    "    net.show(\"disease_graph.html\")"
   ],
   "metadata": {
    "collapsed": false,
    "pycharm": {
     "name": "#%%\n"
    }
   }
  },
  {
   "cell_type": "code",
   "execution_count": 78,
   "outputs": [],
   "source": [
    "plot_disease(protein_graph, diseases[588][\"genes\"], \"SON\")"
   ],
   "metadata": {
    "collapsed": false,
    "pycharm": {
     "name": "#%%\n"
    }
   }
  },
  {
   "cell_type": "markdown",
   "source": [
    "Plot a community graph and color the chosen protein, if any is passed, and the edges linked to it."
   ],
   "metadata": {
    "collapsed": false,
    "pycharm": {
     "name": "#%% md\n"
    }
   }
  },
  {
   "cell_type": "code",
   "execution_count": 79,
   "outputs": [],
   "source": [
    "def plot_community_protein(protein_graph: nx.Graph, community: list, protein: str=None) -> None:\n",
    "    if protein is not None:\n",
    "        community = communities[look_for_gene_community(protein, communities)]\n",
    "    else:\n",
    "        community = np.random.randint(0, len(communities))\n",
    "\n",
    "    sub_graph = protein_graph.subgraph(community)\n",
    "    net = Network(width=1080, height=720)\n",
    "    node_index = dict()\n",
    "    for i, node in enumerate(sub_graph.nodes()):\n",
    "        node_index[node] = i\n",
    "        if node != protein:\n",
    "            net.add_node(i, label=node, size=8)\n",
    "        else:\n",
    "            net.add_node(i, label=node, size=16, color=\"red\")\n",
    "\n",
    "    for edge_from, edge_to in sub_graph.edges():\n",
    "        if edge_from==protein or edge_to==protein:\n",
    "            net.add_edge(node_index[edge_from], node_index[edge_to], color=\"red\", value=1)\n",
    "        else:\n",
    "            net.add_edge(node_index[edge_from], node_index[edge_to])\n",
    "\n",
    "    net.toggle_drag_nodes(False)\n",
    "    net.show_buttons(['physics'])\n",
    "    net.force_atlas_2based(spring_strength=0.02)\n",
    "    net.show(\"community_protein_graph.html\")"
   ],
   "metadata": {
    "collapsed": false,
    "pycharm": {
     "name": "#%%\n"
    }
   }
  },
  {
   "cell_type": "code",
   "execution_count": 80,
   "outputs": [],
   "source": [
    "plot_community_protein(protein_graph, communities, \"SON\")"
   ],
   "metadata": {
    "collapsed": false,
    "pycharm": {
     "name": "#%%\n"
    }
   }
  },
  {
   "cell_type": "markdown",
   "source": [
    "Plot a community and color the disease's genes passed to the method."
   ],
   "metadata": {
    "collapsed": false,
    "pycharm": {
     "name": "#%% md\n"
    }
   }
  },
  {
   "cell_type": "code",
   "execution_count": 81,
   "outputs": [],
   "source": [
    "def plot_community_disease(protein_graph: nx.Graph, disease_genes: list, community: set) -> None:\n",
    "    sub_graph = protein_graph.subgraph(community)\n",
    "    net = Network(width=1080, height=720)\n",
    "    node_index = dict()\n",
    "    for i, node in enumerate(sub_graph.nodes()):\n",
    "        node_index[node] = i\n",
    "        if not node in disease_genes:\n",
    "            net.add_node(i, label=node, size=8)\n",
    "        else:\n",
    "            net.add_node(i, label=node, size=16, color=\"red\")\n",
    "\n",
    "    for edge_from, edge_to in sub_graph.edges():\n",
    "        if edge_from in disease_genes or edge_to in disease_genes:\n",
    "            net.add_edge(node_index[edge_from], node_index[edge_to], color=\"red\", value=1)\n",
    "        else:\n",
    "            net.add_edge(node_index[edge_from], node_index[edge_to])\n",
    "\n",
    "    net.toggle_drag_nodes(False)\n",
    "    net.show_buttons(['physics'])\n",
    "    net.force_atlas_2based(spring_strength=0.02)\n",
    "    net.show(\"community_disease_graph.html\")"
   ],
   "metadata": {
    "collapsed": false,
    "pycharm": {
     "name": "#%%\n"
    }
   }
  },
  {
   "cell_type": "code",
   "execution_count": 82,
   "outputs": [],
   "source": [
    "plot_community_disease(protein_graph, diseases[588][\"genes\"], communities[3])"
   ],
   "metadata": {
    "collapsed": false,
    "pycharm": {
     "name": "#%%\n"
    }
   }
  },
  {
   "cell_type": "markdown",
   "source": [
    "Compute the ratio of the number of genes shared by each community and disease and the size of such community."
   ],
   "metadata": {
    "collapsed": false,
    "pycharm": {
     "name": "#%% md\n"
    }
   }
  },
  {
   "cell_type": "code",
   "execution_count": 83,
   "outputs": [],
   "source": [
    "ratios_genes_community = list()\n",
    "for community in range(len(communities)):\n",
    "    ratios_genes_community += (list(communities_rank[communities_rank['Community']==community]['Shared genes'] / len(communities[community])))\n",
    "\n",
    "communities_rank['Ratio community'] = pd.Series(ratios_genes_community)"
   ],
   "metadata": {
    "collapsed": false,
    "pycharm": {
     "name": "#%%\n"
    }
   }
  },
  {
   "cell_type": "code",
   "execution_count": 84,
   "outputs": [
    {
     "data": {
      "text/plain": "      Community                 Disease  Shared genes  # genes  Ratio disease  \\\n564           0  Tooth size discrepancy             3       47       0.063830   \n1129          1  Tooth size discrepancy             9       47       0.191489   \n1680          2  Tooth size discrepancy             3       47       0.063830   \n2215          3  Tooth size discrepancy             2       47       0.042553   \n2714          4  Tooth size discrepancy             3       47       0.063830   \n3285          5  Tooth size discrepancy             5       47       0.106383   \n3823          6  Tooth size discrepancy             3       47       0.063830   \n4363          7  Tooth size discrepancy             3       47       0.063830   \n5194          9  Tooth size discrepancy             9       47       0.191489   \n\n      Ratio community  Relevance  \n564          0.006522   0.000416  \n1129         0.010936   0.002094  \n1680         0.003367   0.000215  \n2215         0.003344   0.000142  \n2714         0.007042   0.000450  \n3285         0.004634   0.000493  \n3823         0.004323   0.000276  \n4363         0.004823   0.000308  \n5194         0.020316   0.003890  ",
      "text/html": "<div>\n<style scoped>\n    .dataframe tbody tr th:only-of-type {\n        vertical-align: middle;\n    }\n\n    .dataframe tbody tr th {\n        vertical-align: top;\n    }\n\n    .dataframe thead th {\n        text-align: right;\n    }\n</style>\n<table border=\"1\" class=\"dataframe\">\n  <thead>\n    <tr style=\"text-align: right;\">\n      <th></th>\n      <th>Community</th>\n      <th>Disease</th>\n      <th>Shared genes</th>\n      <th># genes</th>\n      <th>Ratio disease</th>\n      <th>Ratio community</th>\n      <th>Relevance</th>\n    </tr>\n  </thead>\n  <tbody>\n    <tr>\n      <th>564</th>\n      <td>0</td>\n      <td>Tooth size discrepancy</td>\n      <td>3</td>\n      <td>47</td>\n      <td>0.063830</td>\n      <td>0.006522</td>\n      <td>0.000416</td>\n    </tr>\n    <tr>\n      <th>1129</th>\n      <td>1</td>\n      <td>Tooth size discrepancy</td>\n      <td>9</td>\n      <td>47</td>\n      <td>0.191489</td>\n      <td>0.010936</td>\n      <td>0.002094</td>\n    </tr>\n    <tr>\n      <th>1680</th>\n      <td>2</td>\n      <td>Tooth size discrepancy</td>\n      <td>3</td>\n      <td>47</td>\n      <td>0.063830</td>\n      <td>0.003367</td>\n      <td>0.000215</td>\n    </tr>\n    <tr>\n      <th>2215</th>\n      <td>3</td>\n      <td>Tooth size discrepancy</td>\n      <td>2</td>\n      <td>47</td>\n      <td>0.042553</td>\n      <td>0.003344</td>\n      <td>0.000142</td>\n    </tr>\n    <tr>\n      <th>2714</th>\n      <td>4</td>\n      <td>Tooth size discrepancy</td>\n      <td>3</td>\n      <td>47</td>\n      <td>0.063830</td>\n      <td>0.007042</td>\n      <td>0.000450</td>\n    </tr>\n    <tr>\n      <th>3285</th>\n      <td>5</td>\n      <td>Tooth size discrepancy</td>\n      <td>5</td>\n      <td>47</td>\n      <td>0.106383</td>\n      <td>0.004634</td>\n      <td>0.000493</td>\n    </tr>\n    <tr>\n      <th>3823</th>\n      <td>6</td>\n      <td>Tooth size discrepancy</td>\n      <td>3</td>\n      <td>47</td>\n      <td>0.063830</td>\n      <td>0.004323</td>\n      <td>0.000276</td>\n    </tr>\n    <tr>\n      <th>4363</th>\n      <td>7</td>\n      <td>Tooth size discrepancy</td>\n      <td>3</td>\n      <td>47</td>\n      <td>0.063830</td>\n      <td>0.004823</td>\n      <td>0.000308</td>\n    </tr>\n    <tr>\n      <th>5194</th>\n      <td>9</td>\n      <td>Tooth size discrepancy</td>\n      <td>9</td>\n      <td>47</td>\n      <td>0.191489</td>\n      <td>0.020316</td>\n      <td>0.003890</td>\n    </tr>\n  </tbody>\n</table>\n</div>"
     },
     "execution_count": 84,
     "metadata": {},
     "output_type": "execute_result"
    }
   ],
   "source": [
    "communities_rank[communities_rank[\"Disease\"]==\"Tooth size discrepancy\"]"
   ],
   "metadata": {
    "collapsed": false,
    "pycharm": {
     "name": "#%%\n"
    }
   }
  },
  {
   "cell_type": "markdown",
   "source": [
    "We need to know in wich community our starting gene is."
   ],
   "metadata": {
    "collapsed": false,
    "pycharm": {
     "name": "#%% md\n"
    }
   }
  },
  {
   "cell_type": "code",
   "execution_count": 85,
   "outputs": [],
   "source": [
    "def look_for_gene_community(protein: str, communities: list) -> int:\n",
    "    for i, community in enumerate(communities):\n",
    "        if protein in community:\n",
    "            return i\n",
    "\n",
    "    return -1"
   ],
   "metadata": {
    "collapsed": false,
    "pycharm": {
     "name": "#%%\n"
    }
   }
  },
  {
   "cell_type": "code",
   "execution_count": 86,
   "outputs": [
    {
     "name": "stdout",
     "output_type": "stream",
     "text": [
      "The gene SON is in community 1\n"
     ]
    }
   ],
   "source": [
    "protein_community = \"SON\"\n",
    "gene_community = look_for_gene_community(protein_community, communities)\n",
    "if gene_community == -1:\n",
    "    raise Exception(\"The gene {0} is not in one of the communities\".format(protein_community))\n",
    "else:\n",
    "    print(\"The gene SON is in community {0}\".format(gene_community))"
   ],
   "metadata": {
    "collapsed": false,
    "pycharm": {
     "name": "#%%\n"
    }
   }
  },
  {
   "cell_type": "markdown",
   "source": [
    "Knowing in which community our starting gene is, we can retrieve all the diseases inisde such community and rank them by the product of the two previous computed metrics."
   ],
   "metadata": {
    "collapsed": false,
    "pycharm": {
     "name": "#%% md\n"
    }
   }
  },
  {
   "cell_type": "code",
   "execution_count": 87,
   "outputs": [],
   "source": [
    "# Compute the new metric\n",
    "communities_rank['Relevance'] = communities_rank['Ratio community'] * communities_rank['Ratio disease']\n",
    "\n",
    "# Retrieve the diseases inside the community in which the gene is in and keep those that share at least ten genes with the community\n",
    "gene_rank = communities_rank[(communities_rank[\"Community\"]==gene_community) &\n",
    "                             (communities_rank[\"Shared genes\"] > 10)].sort_values(by=\"Relevance\", ascending=False).drop(\"Community\", axis=1)"
   ],
   "metadata": {
    "collapsed": false,
    "pycharm": {
     "name": "#%%\n"
    }
   }
  },
  {
   "cell_type": "code",
   "execution_count": 88,
   "outputs": [
    {
     "data": {
      "text/plain": "                               Disease  Shared genes  # genes  Ratio disease  \\\n784                   Ductal Carcinoma            11      177       0.062147   \n720         Adenomatous Polyposis Coli            14      295       0.047458   \n675  Hereditary Diffuse Gastric Cancer            12      233       0.051502   \n990                       Mesothelioma            12      276       0.043478   \n968             Malignant mesothelioma            11      244       0.045082   \n\n     Ratio community  Relevance  \n784         0.013366   0.000831  \n720         0.017011   0.000807  \n675         0.014581   0.000751  \n990         0.014581   0.000634  \n968         0.013366   0.000603  ",
      "text/html": "<div>\n<style scoped>\n    .dataframe tbody tr th:only-of-type {\n        vertical-align: middle;\n    }\n\n    .dataframe tbody tr th {\n        vertical-align: top;\n    }\n\n    .dataframe thead th {\n        text-align: right;\n    }\n</style>\n<table border=\"1\" class=\"dataframe\">\n  <thead>\n    <tr style=\"text-align: right;\">\n      <th></th>\n      <th>Disease</th>\n      <th>Shared genes</th>\n      <th># genes</th>\n      <th>Ratio disease</th>\n      <th>Ratio community</th>\n      <th>Relevance</th>\n    </tr>\n  </thead>\n  <tbody>\n    <tr>\n      <th>784</th>\n      <td>Ductal Carcinoma</td>\n      <td>11</td>\n      <td>177</td>\n      <td>0.062147</td>\n      <td>0.013366</td>\n      <td>0.000831</td>\n    </tr>\n    <tr>\n      <th>720</th>\n      <td>Adenomatous Polyposis Coli</td>\n      <td>14</td>\n      <td>295</td>\n      <td>0.047458</td>\n      <td>0.017011</td>\n      <td>0.000807</td>\n    </tr>\n    <tr>\n      <th>675</th>\n      <td>Hereditary Diffuse Gastric Cancer</td>\n      <td>12</td>\n      <td>233</td>\n      <td>0.051502</td>\n      <td>0.014581</td>\n      <td>0.000751</td>\n    </tr>\n    <tr>\n      <th>990</th>\n      <td>Mesothelioma</td>\n      <td>12</td>\n      <td>276</td>\n      <td>0.043478</td>\n      <td>0.014581</td>\n      <td>0.000634</td>\n    </tr>\n    <tr>\n      <th>968</th>\n      <td>Malignant mesothelioma</td>\n      <td>11</td>\n      <td>244</td>\n      <td>0.045082</td>\n      <td>0.013366</td>\n      <td>0.000603</td>\n    </tr>\n  </tbody>\n</table>\n</div>"
     },
     "execution_count": 88,
     "metadata": {},
     "output_type": "execute_result"
    }
   ],
   "source": [
    "gene_rank.tail()"
   ],
   "metadata": {
    "collapsed": false,
    "pycharm": {
     "name": "#%%\n"
    }
   }
  },
  {
   "cell_type": "code",
   "execution_count": 89,
   "outputs": [],
   "source": [
    "gene_rank.to_csv(\"datasets/community_diseases_rank.csv\")"
   ],
   "metadata": {
    "collapsed": false,
    "pycharm": {
     "name": "#%%\n"
    }
   }
  },
  {
   "cell_type": "markdown",
   "source": [
    "## **Draw the protein, disease and community graphs**\n",
    "Plot the graphs to show the results of our work."
   ],
   "metadata": {
    "collapsed": false,
    "pycharm": {
     "name": "#%% md\n"
    }
   }
  },
  {
   "cell_type": "code",
   "execution_count": 90,
   "outputs": [],
   "source": [
    "from pyvis.network import Network"
   ],
   "metadata": {
    "collapsed": false,
    "pycharm": {
     "name": "#%%\n"
    }
   }
  },
  {
   "cell_type": "markdown",
   "source": [
    "Plot the protein graph, you can also plot the a disease's genes in the same graph. If a node is red, then it belongs to the disease."
   ],
   "metadata": {
    "collapsed": false,
    "pycharm": {
     "name": "#%% md\n"
    }
   }
  },
  {
   "cell_type": "code",
   "execution_count": 91,
   "outputs": [],
   "source": [
    "def plot_protein_network(protein_graph: nx.Graph, disease_genes: list=None, biomarkers: list=None) -> None:\n",
    "    if biomarkers is not None:\n",
    "        plot_graph = protein_graph.subgraph(biomarkers)\n",
    "    else:\n",
    "        plot_graph = protein_graph.copy()\n",
    "\n",
    "    net = Network(width=1080, height=720)\n",
    "    node_index = dict()\n",
    "    for i, node in enumerate(plot_graph.nodes()):\n",
    "        node_index[node] = i\n",
    "        if not node in disease_genes:\n",
    "            net.add_node(i, label=node, size=8)\n",
    "        else:\n",
    "            net.add_node(i, label=node, size=16, color=\"red\")\n",
    "\n",
    "    for edge_from, edge_to in plot_graph.edges():\n",
    "        if edge_from in disease_genes or edge_to in disease_genes:\n",
    "            net.add_edge(node_index[edge_from], node_index[edge_to], color=\"red\", value=1)\n",
    "        else:\n",
    "            net.add_edge(node_index[edge_from], node_index[edge_to])\n",
    "\n",
    "    net.toggle_drag_nodes(False)\n",
    "    net.show_buttons(['physics'])\n",
    "    net.force_atlas_2based(spring_strength=0.02)\n",
    "    net.show(\"protein_graph.html\")"
   ],
   "metadata": {
    "collapsed": false,
    "pycharm": {
     "name": "#%%\n"
    }
   }
  },
  {
   "cell_type": "code",
   "execution_count": 92,
   "outputs": [],
   "source": [
    "plot_protein_network(protein_graph, diseases[588][\"genes\"], biomarkers.index)"
   ],
   "metadata": {
    "collapsed": false,
    "pycharm": {
     "name": "#%%\n"
    }
   }
  },
  {
   "cell_type": "markdown",
   "source": [
    "Plot the disease graph, you can also plot a disease's genes on the same plot, the latters will be colored in red."
   ],
   "metadata": {
    "collapsed": false,
    "pycharm": {
     "name": "#%% md\n"
    }
   }
  },
  {
   "cell_type": "code",
   "execution_count": 93,
   "outputs": [],
   "source": [
    "def plot_disease(protein_graph: nx.Graph, disease_genes: list, protein:str) -> None:\n",
    "    sub_graph = protein_graph.subgraph(disease_genes)\n",
    "    net = Network(width=1080, height=720)\n",
    "    node_index = dict()\n",
    "    for i, node in enumerate(sub_graph.nodes()):\n",
    "        node_index[node] = i\n",
    "        if node != protein:\n",
    "            net.add_node(i, label=node, size=8)\n",
    "        else:\n",
    "            net.add_node(i, label=node, size=16, color=\"red\")\n",
    "\n",
    "    for edge_from, edge_to in sub_graph.edges():\n",
    "        if edge_from==protein or edge_to==protein:\n",
    "            net.add_edge(node_index[edge_from], node_index[edge_to], color=\"red\", value=1)\n",
    "        else:\n",
    "            net.add_edge(node_index[edge_from], node_index[edge_to])\n",
    "\n",
    "    net.toggle_drag_nodes(False)\n",
    "    net.show_buttons(['physics'])\n",
    "    net.force_atlas_2based(spring_strength=0.02)\n",
    "    net.show(\"disease_graph.html\")"
   ],
   "metadata": {
    "collapsed": false,
    "pycharm": {
     "name": "#%%\n"
    }
   }
  },
  {
   "cell_type": "code",
   "execution_count": 94,
   "outputs": [],
   "source": [
    "plot_disease(protein_graph, diseases[588][\"genes\"], \"SON\")"
   ],
   "metadata": {
    "collapsed": false,
    "pycharm": {
     "name": "#%%\n"
    }
   }
  },
  {
   "cell_type": "markdown",
   "source": [
    "Plot a community graph and color the chosen protein, if any is passed, and the edges linked to it."
   ],
   "metadata": {
    "collapsed": false,
    "pycharm": {
     "name": "#%% md\n"
    }
   }
  },
  {
   "cell_type": "code",
   "execution_count": 95,
   "outputs": [],
   "source": [
    "def plot_community_protein(protein_graph: nx.Graph, communities: list, protein: str=None) -> None:\n",
    "    if protein is not None:\n",
    "        community = communities[look_for_gene_community(protein, communities)]\n",
    "    else:\n",
    "        community = np.random.randint(0, len(communities))\n",
    "\n",
    "    sub_graph = protein_graph.subgraph(community)\n",
    "    net = Network(width=1080, height=720)\n",
    "    node_index = dict()\n",
    "    for i, node in enumerate(sub_graph.nodes()):\n",
    "        node_index[node] = i\n",
    "        if node != protein:\n",
    "            net.add_node(i, label=node, size=8)\n",
    "        else:\n",
    "            net.add_node(i, label=node, size=16, color=\"red\")\n",
    "\n",
    "    for edge_from, edge_to in sub_graph.edges():\n",
    "        if edge_from==protein or edge_to==protein:\n",
    "            net.add_edge(node_index[edge_from], node_index[edge_to], color=\"red\", value=1)\n",
    "        else:\n",
    "            net.add_edge(node_index[edge_from], node_index[edge_to])\n",
    "\n",
    "    net.toggle_drag_nodes(False)\n",
    "    net.show_buttons(['physics'])\n",
    "    net.force_atlas_2based(spring_strength=0.02)\n",
    "    net.show(\"community_protein_graph.html\")"
   ],
   "metadata": {
    "collapsed": false,
    "pycharm": {
     "name": "#%%\n"
    }
   }
  },
  {
   "cell_type": "code",
   "execution_count": 96,
   "outputs": [],
   "source": [
    "plot_community_protein(protein_graph, communities, \"SON\")"
   ],
   "metadata": {
    "collapsed": false,
    "pycharm": {
     "name": "#%%\n"
    }
   }
  },
  {
   "cell_type": "markdown",
   "source": [
    "Plot a community and color the disease's genes passed to the method."
   ],
   "metadata": {
    "collapsed": false,
    "pycharm": {
     "name": "#%% md\n"
    }
   }
  },
  {
   "cell_type": "code",
   "execution_count": 97,
   "outputs": [],
   "source": [
    "def plot_community_disease(protein_graph: nx.Graph, disease_genes: list, community: set) -> None:\n",
    "    sub_graph = protein_graph.subgraph(community)\n",
    "    net = Network(width=1080, height=720)\n",
    "    node_index = dict()\n",
    "    for i, node in enumerate(sub_graph.nodes()):\n",
    "        node_index[node] = i\n",
    "        if node not in disease_genes:\n",
    "            net.add_node(i, label=node, size=8)\n",
    "        else:\n",
    "            net.add_node(i, label=node, size=16, color=\"red\")\n",
    "\n",
    "    for edge_from, edge_to in sub_graph.edges():\n",
    "        if edge_from in disease_genes or edge_to in disease_genes:\n",
    "            net.add_edge(node_index[edge_from], node_index[edge_to], color=\"red\", value=1)\n",
    "        else:\n",
    "            net.add_edge(node_index[edge_from], node_index[edge_to])\n",
    "\n",
    "    net.toggle_drag_nodes(False)\n",
    "    net.show_buttons(['physics'])\n",
    "    net.force_atlas_2based(spring_strength=0.02)\n",
    "    net.show(\"community_disease_graph.html\")"
   ],
   "metadata": {
    "collapsed": false,
    "pycharm": {
     "name": "#%%\n"
    }
   }
  },
  {
   "cell_type": "code",
   "execution_count": 98,
   "outputs": [],
   "source": [
    "plot_community_disease(protein_graph, diseases[588][\"genes\"], communities[3])"
   ],
   "metadata": {
    "collapsed": false,
    "pycharm": {
     "name": "#%%\n"
    }
   }
  },
  {
   "cell_type": "code",
   "execution_count": 99,
   "outputs": [],
   "source": [
    "import json\n",
    "nodes_comm = []\n",
    "for l_s in communities:\n",
    "    ll_s = list(l_s)\n",
    "    for n in ll_s:\n",
    "        nodes_comm.append(n)\n",
    "\n",
    "graph_community = protein_graph.subgraph(nodes_comm)\n",
    "js = nx.cytoscape_data(graph_community)\n",
    "\n",
    "with open(\"graph.cyjs\", \"w+\") as fi:\n",
    "    json.dump(js, fi)"
   ],
   "metadata": {
    "collapsed": false,
    "pycharm": {
     "name": "#%%\n"
    }
   }
  },
  {
   "cell_type": "code",
   "execution_count": 100,
   "outputs": [],
   "source": [
    "colors = [\"red\", \"blue\", \"green\", \"beige\", \"black\", \"purple\", \"orange\", \"pink\", \"yellow\", \"brown\", \"grey\"]\n",
    "net = Network(width=1080, height=720)\n",
    "node_index = dict()\n",
    "index = 0\n",
    "for j in range(len(communities)):\n",
    "    community=communities[j]\n",
    "    color = colors[j]\n",
    "    sub_graph = protein_graph.subgraph(community)\n",
    "    for i, node in enumerate(sub_graph.nodes()):\n",
    "        node_index[node] = index\n",
    "        net.add_node(index, label=node, size=16, color=color)\n",
    "        index+=1\n",
    "\n",
    "    for edge_from, edge_to in sub_graph.edges():\n",
    "        net.add_edge(node_index[edge_from], node_index[edge_to], color=color)\n",
    "\n",
    "net.show_buttons(['physics'])\n",
    "net.force_atlas_2based(spring_strength=0.02)\n",
    "net.show(\"prova.html\")"
   ],
   "metadata": {
    "collapsed": false,
    "pycharm": {
     "name": "#%%\n"
    }
   }
  },
  {
   "cell_type": "markdown",
   "source": [
    "Compute the ratio of the number of genes shared by each community and disease and the size of such community."
   ],
   "metadata": {
    "collapsed": false,
    "pycharm": {
     "name": "#%% md\n"
    }
   }
  },
  {
   "cell_type": "code",
   "execution_count": 101,
   "outputs": [],
   "source": [
    "ratios_genes_community = list()\n",
    "for community in range(len(communities)):\n",
    "    ratios_genes_community += (list(communities_rank[communities_rank['Community']==community]['Shared genes'] / len(communities[community])))\n",
    "\n",
    "communities_rank['Ratio community'] = pd.Series(ratios_genes_community)"
   ],
   "metadata": {
    "collapsed": false,
    "pycharm": {
     "name": "#%%\n"
    }
   }
  },
  {
   "cell_type": "code",
   "execution_count": 102,
   "outputs": [
    {
     "data": {
      "text/plain": "      Community                 Disease  Shared genes  # genes  Ratio disease  \\\n564           0  Tooth size discrepancy             3       47       0.063830   \n1129          1  Tooth size discrepancy             9       47       0.191489   \n1680          2  Tooth size discrepancy             3       47       0.063830   \n2215          3  Tooth size discrepancy             2       47       0.042553   \n2714          4  Tooth size discrepancy             3       47       0.063830   \n3285          5  Tooth size discrepancy             5       47       0.106383   \n3823          6  Tooth size discrepancy             3       47       0.063830   \n4363          7  Tooth size discrepancy             3       47       0.063830   \n5194          9  Tooth size discrepancy             9       47       0.191489   \n\n      Ratio community  Relevance  \n564          0.006522   0.000416  \n1129         0.010936   0.002094  \n1680         0.003367   0.000215  \n2215         0.003344   0.000142  \n2714         0.007042   0.000450  \n3285         0.004634   0.000493  \n3823         0.004323   0.000276  \n4363         0.004823   0.000308  \n5194         0.020316   0.003890  ",
      "text/html": "<div>\n<style scoped>\n    .dataframe tbody tr th:only-of-type {\n        vertical-align: middle;\n    }\n\n    .dataframe tbody tr th {\n        vertical-align: top;\n    }\n\n    .dataframe thead th {\n        text-align: right;\n    }\n</style>\n<table border=\"1\" class=\"dataframe\">\n  <thead>\n    <tr style=\"text-align: right;\">\n      <th></th>\n      <th>Community</th>\n      <th>Disease</th>\n      <th>Shared genes</th>\n      <th># genes</th>\n      <th>Ratio disease</th>\n      <th>Ratio community</th>\n      <th>Relevance</th>\n    </tr>\n  </thead>\n  <tbody>\n    <tr>\n      <th>564</th>\n      <td>0</td>\n      <td>Tooth size discrepancy</td>\n      <td>3</td>\n      <td>47</td>\n      <td>0.063830</td>\n      <td>0.006522</td>\n      <td>0.000416</td>\n    </tr>\n    <tr>\n      <th>1129</th>\n      <td>1</td>\n      <td>Tooth size discrepancy</td>\n      <td>9</td>\n      <td>47</td>\n      <td>0.191489</td>\n      <td>0.010936</td>\n      <td>0.002094</td>\n    </tr>\n    <tr>\n      <th>1680</th>\n      <td>2</td>\n      <td>Tooth size discrepancy</td>\n      <td>3</td>\n      <td>47</td>\n      <td>0.063830</td>\n      <td>0.003367</td>\n      <td>0.000215</td>\n    </tr>\n    <tr>\n      <th>2215</th>\n      <td>3</td>\n      <td>Tooth size discrepancy</td>\n      <td>2</td>\n      <td>47</td>\n      <td>0.042553</td>\n      <td>0.003344</td>\n      <td>0.000142</td>\n    </tr>\n    <tr>\n      <th>2714</th>\n      <td>4</td>\n      <td>Tooth size discrepancy</td>\n      <td>3</td>\n      <td>47</td>\n      <td>0.063830</td>\n      <td>0.007042</td>\n      <td>0.000450</td>\n    </tr>\n    <tr>\n      <th>3285</th>\n      <td>5</td>\n      <td>Tooth size discrepancy</td>\n      <td>5</td>\n      <td>47</td>\n      <td>0.106383</td>\n      <td>0.004634</td>\n      <td>0.000493</td>\n    </tr>\n    <tr>\n      <th>3823</th>\n      <td>6</td>\n      <td>Tooth size discrepancy</td>\n      <td>3</td>\n      <td>47</td>\n      <td>0.063830</td>\n      <td>0.004323</td>\n      <td>0.000276</td>\n    </tr>\n    <tr>\n      <th>4363</th>\n      <td>7</td>\n      <td>Tooth size discrepancy</td>\n      <td>3</td>\n      <td>47</td>\n      <td>0.063830</td>\n      <td>0.004823</td>\n      <td>0.000308</td>\n    </tr>\n    <tr>\n      <th>5194</th>\n      <td>9</td>\n      <td>Tooth size discrepancy</td>\n      <td>9</td>\n      <td>47</td>\n      <td>0.191489</td>\n      <td>0.020316</td>\n      <td>0.003890</td>\n    </tr>\n  </tbody>\n</table>\n</div>"
     },
     "execution_count": 102,
     "metadata": {},
     "output_type": "execute_result"
    }
   ],
   "source": [
    "communities_rank[communities_rank[\"Disease\"]==\"Tooth size discrepancy\"]"
   ],
   "metadata": {
    "collapsed": false,
    "pycharm": {
     "name": "#%%\n"
    }
   }
  },
  {
   "cell_type": "markdown",
   "source": [
    "We need to know in wich community our starting gene is."
   ],
   "metadata": {
    "collapsed": false,
    "pycharm": {
     "name": "#%% md\n"
    }
   }
  },
  {
   "cell_type": "code",
   "execution_count": 103,
   "outputs": [],
   "source": [
    "def look_for_gene_community(protein: str, communities: list) -> int:\n",
    "    for i, community in enumerate(communities):\n",
    "        if protein in community:\n",
    "            return i\n",
    "\n",
    "    return -1"
   ],
   "metadata": {
    "collapsed": false,
    "pycharm": {
     "name": "#%%\n"
    }
   }
  },
  {
   "cell_type": "code",
   "execution_count": 104,
   "outputs": [
    {
     "name": "stdout",
     "output_type": "stream",
     "text": [
      "The gene SON is in community 1\n"
     ]
    }
   ],
   "source": [
    "protein_community = \"SON\"\n",
    "gene_community = look_for_gene_community(protein_community, communities)\n",
    "if gene_community == -1:\n",
    "    raise Exception(\"The gene {0} is not in one of the communities\".format(protein_community))\n",
    "else:\n",
    "    print(\"The gene SON is in community {0}\".format(gene_community))"
   ],
   "metadata": {
    "collapsed": false,
    "pycharm": {
     "name": "#%%\n"
    }
   }
  },
  {
   "cell_type": "markdown",
   "source": [
    "Knowing in which community our starting gene is, we can retrieve all the diseases inisde such community and rank them by the product of the two previous computed metrics."
   ],
   "metadata": {
    "collapsed": false,
    "pycharm": {
     "name": "#%% md\n"
    }
   }
  },
  {
   "cell_type": "code",
   "execution_count": 105,
   "outputs": [],
   "source": [
    "# Compute the new metric\n",
    "communities_rank['Relevance'] = communities_rank['Ratio community'] * communities_rank['Ratio disease']\n",
    "\n",
    "# Retrieve the diseases inside the community in which the gene is in and keep those that share at least ten genes with the community\n",
    "gene_rank = communities_rank[(communities_rank[\"Community\"]==gene_community) &\n",
    "                             (communities_rank[\"Shared genes\"] > 10)].sort_values(by=\"Relevance\", ascending=False).drop(\"Community\", axis=1)"
   ],
   "metadata": {
    "collapsed": false,
    "pycharm": {
     "name": "#%%\n"
    }
   }
  },
  {
   "cell_type": "code",
   "execution_count": 152,
   "outputs": [
    {
     "data": {
      "text/plain": "                          Disease  Shared genes  # genes  Ratio disease  \\\n570       Intellectual Disability           430     1808       0.237832   \n565  Mental and motor retardation           246      802       0.306733   \n568    Global developmental delay           248      854       0.290398   \n567               Cognitive delay           233      758       0.307388   \n575       Poor school performance           226      741       0.304993   \n\n     Ratio community  Relevance  \n570         0.522479   0.124262  \n565         0.298906   0.091685  \n568         0.301337   0.087508  \n567         0.283111   0.087025  \n575         0.274605   0.083753  ",
      "text/html": "<div>\n<style scoped>\n    .dataframe tbody tr th:only-of-type {\n        vertical-align: middle;\n    }\n\n    .dataframe tbody tr th {\n        vertical-align: top;\n    }\n\n    .dataframe thead th {\n        text-align: right;\n    }\n</style>\n<table border=\"1\" class=\"dataframe\">\n  <thead>\n    <tr style=\"text-align: right;\">\n      <th></th>\n      <th>Disease</th>\n      <th>Shared genes</th>\n      <th># genes</th>\n      <th>Ratio disease</th>\n      <th>Ratio community</th>\n      <th>Relevance</th>\n    </tr>\n  </thead>\n  <tbody>\n    <tr>\n      <th>570</th>\n      <td>Intellectual Disability</td>\n      <td>430</td>\n      <td>1808</td>\n      <td>0.237832</td>\n      <td>0.522479</td>\n      <td>0.124262</td>\n    </tr>\n    <tr>\n      <th>565</th>\n      <td>Mental and motor retardation</td>\n      <td>246</td>\n      <td>802</td>\n      <td>0.306733</td>\n      <td>0.298906</td>\n      <td>0.091685</td>\n    </tr>\n    <tr>\n      <th>568</th>\n      <td>Global developmental delay</td>\n      <td>248</td>\n      <td>854</td>\n      <td>0.290398</td>\n      <td>0.301337</td>\n      <td>0.087508</td>\n    </tr>\n    <tr>\n      <th>567</th>\n      <td>Cognitive delay</td>\n      <td>233</td>\n      <td>758</td>\n      <td>0.307388</td>\n      <td>0.283111</td>\n      <td>0.087025</td>\n    </tr>\n    <tr>\n      <th>575</th>\n      <td>Poor school performance</td>\n      <td>226</td>\n      <td>741</td>\n      <td>0.304993</td>\n      <td>0.274605</td>\n      <td>0.083753</td>\n    </tr>\n  </tbody>\n</table>\n</div>"
     },
     "execution_count": 152,
     "metadata": {},
     "output_type": "execute_result"
    }
   ],
   "source": [
    "gene_rank.head()"
   ],
   "metadata": {
    "collapsed": false,
    "pycharm": {
     "name": "#%%\n"
    }
   }
  },
  {
   "cell_type": "code",
   "execution_count": 107,
   "outputs": [],
   "source": [
    "gene_rank.to_csv(\"datasets/community_diseases_rank.csv\")"
   ],
   "metadata": {
    "collapsed": false,
    "pycharm": {
     "name": "#%%\n"
    }
   }
  },
  {
   "cell_type": "markdown",
   "source": [
    "## **Draw the protein, disease and community graphs**\n",
    "Plot the graphs to show the results of our work."
   ],
   "metadata": {
    "collapsed": false,
    "pycharm": {
     "name": "#%% md\n"
    }
   }
  },
  {
   "cell_type": "code",
   "execution_count": 108,
   "outputs": [],
   "source": [
    "from pyvis.network import Network"
   ],
   "metadata": {
    "collapsed": false,
    "pycharm": {
     "name": "#%%\n"
    }
   }
  },
  {
   "cell_type": "markdown",
   "source": [
    "Plot the protein graph, you can also plot the a disease's genes in the same graph. If a node is red, then it belongs to the disease."
   ],
   "metadata": {
    "collapsed": false,
    "pycharm": {
     "name": "#%% md\n"
    }
   }
  },
  {
   "cell_type": "code",
   "execution_count": 109,
   "outputs": [],
   "source": [
    "def plot_protein_network(protein_graph: nx.Graph, disease_genes: list=None, biomarkers: list=None) -> None:\n",
    "    if biomarkers is not None:\n",
    "        plot_graph = protein_graph.subgraph(biomarkers)\n",
    "    else:\n",
    "        plot_graph = protein_graph.copy()\n",
    "\n",
    "    net = Network(width=1080, height=720)\n",
    "    node_index = dict()\n",
    "    for i, node in enumerate(plot_graph.nodes()):\n",
    "        node_index[node] = i\n",
    "        if not node in disease_genes:\n",
    "            net.add_node(i, label=node, size=8)\n",
    "        else:\n",
    "            net.add_node(i, label=node, size=16, color=\"red\")\n",
    "\n",
    "    for edge_from, edge_to in plot_graph.edges():\n",
    "        if edge_from in disease_genes or edge_to in disease_genes:\n",
    "            net.add_edge(node_index[edge_from], node_index[edge_to], color=\"red\", value=1)\n",
    "        else:\n",
    "            net.add_edge(node_index[edge_from], node_index[edge_to])\n",
    "\n",
    "    net.toggle_drag_nodes(False)\n",
    "    net.show_buttons(['physics'])\n",
    "    net.force_atlas_2based(spring_strength=0.02)\n",
    "    net.show(\"protein_graph.html\")"
   ],
   "metadata": {
    "collapsed": false,
    "pycharm": {
     "name": "#%%\n"
    }
   }
  },
  {
   "cell_type": "code",
   "execution_count": 110,
   "outputs": [],
   "source": [
    "plot_protein_network(protein_graph, diseases[588][\"genes\"], biomarkers.index)"
   ],
   "metadata": {
    "collapsed": false,
    "pycharm": {
     "name": "#%%\n"
    }
   }
  },
  {
   "cell_type": "markdown",
   "source": [
    "Plot the disease graph, you can also plot a disease's genes on the same plot, the latters will be colored in red."
   ],
   "metadata": {
    "collapsed": false,
    "pycharm": {
     "name": "#%% md\n"
    }
   }
  },
  {
   "cell_type": "code",
   "execution_count": 111,
   "outputs": [],
   "source": [
    "def plot_disease(protein_graph: nx.Graph, disease_genes: list, protein:str) -> None:\n",
    "    sub_graph = protein_graph.subgraph(disease_genes)\n",
    "    net = Network(width=1080, height=720)\n",
    "    node_index = dict()\n",
    "    for i, node in enumerate(sub_graph.nodes()):\n",
    "        node_index[node] = i\n",
    "        if node != protein:\n",
    "            net.add_node(i, label=node, size=8)\n",
    "        else:\n",
    "            net.add_node(i, label=node, size=16, color=\"red\")\n",
    "\n",
    "    for edge_from, edge_to in sub_graph.edges():\n",
    "        if edge_from==protein or edge_to==protein:\n",
    "            net.add_edge(node_index[edge_from], node_index[edge_to], color=\"red\", value=1)\n",
    "        else:\n",
    "            net.add_edge(node_index[edge_from], node_index[edge_to])\n",
    "\n",
    "    net.toggle_drag_nodes(False)\n",
    "    net.show_buttons(['physics'])\n",
    "    net.force_atlas_2based(spring_strength=0.02)\n",
    "    net.show(\"disease_graph.html\")"
   ],
   "metadata": {
    "collapsed": false,
    "pycharm": {
     "name": "#%%\n"
    }
   }
  },
  {
   "cell_type": "code",
   "execution_count": 112,
   "outputs": [],
   "source": [
    "plot_disease(protein_graph, diseases[588][\"genes\"], \"SON\")"
   ],
   "metadata": {
    "collapsed": false,
    "pycharm": {
     "name": "#%%\n"
    }
   }
  },
  {
   "cell_type": "markdown",
   "source": [
    "Plot a community graph and color the chosen protein, if any is passed, and the edges linked to it."
   ],
   "metadata": {
    "collapsed": false,
    "pycharm": {
     "name": "#%% md\n"
    }
   }
  },
  {
   "cell_type": "code",
   "execution_count": 113,
   "outputs": [],
   "source": [
    "def plot_community_protein(protein_graph: nx.Graph, communities: list, protein: str=None) -> None:\n",
    "    if protein is not None:\n",
    "        community = communities[look_for_gene_community(protein, communities)]\n",
    "    else:\n",
    "        community = np.random.randint(0, len(communities))\n",
    "\n",
    "    sub_graph = protein_graph.subgraph(community)\n",
    "    net = Network(width=1080, height=720)\n",
    "    node_index = dict()\n",
    "    for i, node in enumerate(sub_graph.nodes()):\n",
    "        node_index[node] = i\n",
    "        if node != protein:\n",
    "            net.add_node(i, label=node, size=8)\n",
    "        else:\n",
    "            net.add_node(i, label=node, size=16, color=\"red\")\n",
    "\n",
    "    for edge_from, edge_to in sub_graph.edges():\n",
    "        if edge_from==protein or edge_to==protein:\n",
    "            net.add_edge(node_index[edge_from], node_index[edge_to], color=\"red\", value=1)\n",
    "        else:\n",
    "            net.add_edge(node_index[edge_from], node_index[edge_to])\n",
    "\n",
    "    net.toggle_drag_nodes(False)\n",
    "    net.show_buttons(['physics'])\n",
    "    net.force_atlas_2based(spring_strength=0.02)\n",
    "    net.show(\"community_protein_graph.html\")"
   ],
   "metadata": {
    "collapsed": false,
    "pycharm": {
     "name": "#%%\n"
    }
   }
  },
  {
   "cell_type": "code",
   "execution_count": 114,
   "outputs": [],
   "source": [
    "plot_community_protein(protein_graph, communities, \"SON\")"
   ],
   "metadata": {
    "collapsed": false,
    "pycharm": {
     "name": "#%%\n"
    }
   }
  },
  {
   "cell_type": "markdown",
   "source": [
    "Plot a community and color the disease's genes passed to the method."
   ],
   "metadata": {
    "collapsed": false,
    "pycharm": {
     "name": "#%% md\n"
    }
   }
  },
  {
   "cell_type": "code",
   "execution_count": 115,
   "outputs": [],
   "source": [
    "def plot_community_disease(protein_graph: nx.Graph, disease_genes: list, community: set) -> None:\n",
    "    sub_graph = protein_graph.subgraph(community)\n",
    "    net = Network(width=1080, height=720)\n",
    "    node_index = dict()\n",
    "    for i, node in enumerate(sub_graph.nodes()):\n",
    "        node_index[node] = i\n",
    "        if node not in disease_genes:\n",
    "            net.add_node(i, label=node, size=8)\n",
    "        else:\n",
    "            net.add_node(i, label=node, size=16, color=\"red\")\n",
    "\n",
    "    for edge_from, edge_to in sub_graph.edges():\n",
    "        if edge_from in disease_genes or edge_to in disease_genes:\n",
    "            net.add_edge(node_index[edge_from], node_index[edge_to], color=\"red\", value=1)\n",
    "        else:\n",
    "            net.add_edge(node_index[edge_from], node_index[edge_to])\n",
    "\n",
    "    net.toggle_drag_nodes(False)\n",
    "    net.show_buttons(['physics'])\n",
    "    net.force_atlas_2based(spring_strength=0.02)\n",
    "    net.show(\"community_disease_graph.html\")"
   ],
   "metadata": {
    "collapsed": false,
    "pycharm": {
     "name": "#%%\n"
    }
   }
  },
  {
   "cell_type": "code",
   "execution_count": 116,
   "outputs": [],
   "source": [
    "plot_community_disease(protein_graph, diseases[588][\"genes\"], communities[3])"
   ],
   "metadata": {
    "collapsed": false,
    "pycharm": {
     "name": "#%%\n"
    }
   }
  },
  {
   "cell_type": "code",
   "execution_count": 136,
   "outputs": [],
   "source": [
    "graph_vis = protein_graph.copy()\n",
    "\n",
    "for set_nodes in louvain_communities:\n",
    "    nodes= list(set_nodes)\n",
    "    if len(nodes)==1:\n",
    "        graph_vis.remove_nodes_from(nodes)\n",
    "    else:\n",
    "        sub_graph=graph_vis.subgraph(nodes)\n",
    "        sub_edges=sub_graph.edges()\n",
    "        graph_vis.remove_edges_from(sub_edges)"
   ],
   "metadata": {
    "collapsed": false,
    "pycharm": {
     "name": "#%%\n"
    }
   }
  },
  {
   "cell_type": "code",
   "execution_count": 150,
   "outputs": [
    {
     "data": {
      "text/plain": "  0%|          | 0/33622 [00:00<?, ?it/s]",
      "application/vnd.jupyter.widget-view+json": {
       "version_major": 2,
       "version_minor": 0,
       "model_id": "b0ec92c5d4794fca9ad9d8b753cfa648"
      }
     },
     "metadata": {},
     "output_type": "display_data"
    }
   ],
   "source": [
    "palette = ['blue', 'red', 'yellow', 'pink', 'purple', 'black', 'brown', 'orange', 'skyblue', 'aqua']\n",
    "net = Network(width=1080, height=720)\n",
    "node_index = dict()\n",
    "index = 0\n",
    "son_comm = look_for_gene_community(\"SON\", communities)\n",
    "for j in range(len(communities)):\n",
    "    community = communities[j]\n",
    "    color = palette[j]\n",
    "    if son_comm == j:\n",
    "        color = 'green'\n",
    "    sub_graph = protein_graph.subgraph(community)\n",
    "    for i, node in enumerate(sub_graph.nodes()):\n",
    "        node_index[node] = index\n",
    "        net.add_node(index, label=node, size=8, color=color)\n",
    "        index+=1\n",
    "\n",
    "    for edge_from, edge_to in sub_graph.edges():\n",
    "        net.add_edge(node_index[edge_from], node_index[edge_to], color=color)\n",
    "\n",
    "com_edges = dict()\n",
    "l_c = len(communities)\n",
    "for edge_from, edge_to in tqdm(graph_vis.edges()):\n",
    "    index = look_for_gene_community(edge_from, communities) * look_for_gene_community(edge_to, communities)\n",
    "    if not (index in com_edges):\n",
    "        com_edges[index]=1\n",
    "        net.add_edge(node_index[edge_from], node_index[edge_to], color='black', value=1)\n",
    "\n",
    "    if len(com_edges)== (l_c*(l_c+1))/2:\n",
    "        break\n",
    "\n",
    "net.show_buttons(['physics'])\n",
    "net.force_atlas_2based(spring_strength=0.02)\n",
    "net.show(\"communities.html\")"
   ],
   "metadata": {
    "collapsed": false,
    "pycharm": {
     "name": "#%%\n"
    }
   }
  },
  {
   "cell_type": "code",
   "execution_count": 180,
   "outputs": [
    {
     "name": "stdout",
     "output_type": "stream",
     "text": [
      "0.10159605063258893\n",
      "0.0\n",
      "0.15884148212549778\n",
      "0.12340290253934633\n",
      "0.11729253986846629\n",
      "0.15648397799270103\n",
      "0.14105632143702454\n",
      "0.18272083226840385\n",
      "0.14193775385092258\n",
      "0.0983267964503446\n"
     ]
    }
   ],
   "source": [
    "def communities_distance(communities_rank:pd.DataFrame, first_index: int, second_index: int):\n",
    "    # Retrieve all the diseases linked to the communities\n",
    "    tmp_first = communities_rank[communities_rank[\"Community\"]==first_index][[\"Disease\", \"Relevance\"]]\n",
    "    tmp_second = communities_rank[communities_rank[\"Community\"]==second_index][[\"Disease\", \"Relevance\"]]\n",
    "\n",
    "    # Shared diseases between the two communities\n",
    "    shared_diseases = tmp_first.merge(tmp_second, left_on=\"Disease\", right_on=\"Disease\")\n",
    "\n",
    "    # Diseases that are not shared between the two communities\n",
    "    tmp_first = tmp_first[~tmp_first['Disease'].isin(shared_diseases[\"Disease\"])]\n",
    "    tmp_second = tmp_second[~tmp_second['Disease'].isin(shared_diseases[\"Disease\"])]\n",
    "\n",
    "    metric = 0\n",
    "    for i, disease in shared_diseases.iterrows():\n",
    "        metric += np.power(disease[\"Relevance_x\"]-disease[\"Relevance_y\"], 2)\n",
    "\n",
    "    for i, first_disease in tmp_first.iterrows():\n",
    "        metric += np.power(first_disease[\"Relevance\"], 2)\n",
    "\n",
    "    for i, second_disease in tmp_second.iterrows():\n",
    "        metric += np.power(second_disease[\"Relevance\"], 2)\n",
    "\n",
    "    return metric\n",
    "\n",
    "son_comm = look_for_gene_community(\"SON\", communities)\n",
    "for i in range(len(communities)):\n",
    "    print(communities_distance(communities_rank, son_comm, i))"
   ],
   "metadata": {
    "collapsed": false,
    "pycharm": {
     "name": "#%%\n"
    }
   }
  },
  {
   "cell_type": "code",
   "execution_count": 193,
   "outputs": [
    {
     "data": {
      "text/plain": "                                Disease  Shared genes  # genes  Ratio disease  \\\n2452                   Breast Carcinoma           196     3337       0.058735   \n2332       Malignant neoplasm of breast           198     3424       0.057827   \n2274        Neurodegenerative Disorders            70      552       0.126812   \n2221            Intellectual Disability           119     1808       0.065819   \n2381      Amyotrophic Lateral Sclerosis            57      480       0.118750   \n...                                 ...           ...      ...            ...   \n2597                       Mesothelioma            11      276       0.039855   \n2690              Uterine Corpus Cancer            13      406       0.032020   \n2627  Malignant neoplasm of endometrium            13      407       0.031941   \n2301                     Retinoblastoma            12      405       0.029630   \n2239   Triple Negative Breast Neoplasms            13      483       0.026915   \n\n      Ratio community  Relevance  \n2452         0.460094   0.027024  \n2332         0.464789   0.026877  \n2274         0.164319   0.020838  \n2221         0.279343   0.018386  \n2381         0.133803   0.015889  \n...               ...        ...  \n2597         0.025822   0.001029  \n2690         0.030516   0.000977  \n2627         0.030516   0.000975  \n2301         0.028169   0.000835  \n2239         0.030516   0.000821  \n\n[193 rows x 6 columns]",
      "text/html": "<div>\n<style scoped>\n    .dataframe tbody tr th:only-of-type {\n        vertical-align: middle;\n    }\n\n    .dataframe tbody tr th {\n        vertical-align: top;\n    }\n\n    .dataframe thead th {\n        text-align: right;\n    }\n</style>\n<table border=\"1\" class=\"dataframe\">\n  <thead>\n    <tr style=\"text-align: right;\">\n      <th></th>\n      <th>Disease</th>\n      <th>Shared genes</th>\n      <th># genes</th>\n      <th>Ratio disease</th>\n      <th>Ratio community</th>\n      <th>Relevance</th>\n    </tr>\n  </thead>\n  <tbody>\n    <tr>\n      <th>2452</th>\n      <td>Breast Carcinoma</td>\n      <td>196</td>\n      <td>3337</td>\n      <td>0.058735</td>\n      <td>0.460094</td>\n      <td>0.027024</td>\n    </tr>\n    <tr>\n      <th>2332</th>\n      <td>Malignant neoplasm of breast</td>\n      <td>198</td>\n      <td>3424</td>\n      <td>0.057827</td>\n      <td>0.464789</td>\n      <td>0.026877</td>\n    </tr>\n    <tr>\n      <th>2274</th>\n      <td>Neurodegenerative Disorders</td>\n      <td>70</td>\n      <td>552</td>\n      <td>0.126812</td>\n      <td>0.164319</td>\n      <td>0.020838</td>\n    </tr>\n    <tr>\n      <th>2221</th>\n      <td>Intellectual Disability</td>\n      <td>119</td>\n      <td>1808</td>\n      <td>0.065819</td>\n      <td>0.279343</td>\n      <td>0.018386</td>\n    </tr>\n    <tr>\n      <th>2381</th>\n      <td>Amyotrophic Lateral Sclerosis</td>\n      <td>57</td>\n      <td>480</td>\n      <td>0.118750</td>\n      <td>0.133803</td>\n      <td>0.015889</td>\n    </tr>\n    <tr>\n      <th>...</th>\n      <td>...</td>\n      <td>...</td>\n      <td>...</td>\n      <td>...</td>\n      <td>...</td>\n      <td>...</td>\n    </tr>\n    <tr>\n      <th>2597</th>\n      <td>Mesothelioma</td>\n      <td>11</td>\n      <td>276</td>\n      <td>0.039855</td>\n      <td>0.025822</td>\n      <td>0.001029</td>\n    </tr>\n    <tr>\n      <th>2690</th>\n      <td>Uterine Corpus Cancer</td>\n      <td>13</td>\n      <td>406</td>\n      <td>0.032020</td>\n      <td>0.030516</td>\n      <td>0.000977</td>\n    </tr>\n    <tr>\n      <th>2627</th>\n      <td>Malignant neoplasm of endometrium</td>\n      <td>13</td>\n      <td>407</td>\n      <td>0.031941</td>\n      <td>0.030516</td>\n      <td>0.000975</td>\n    </tr>\n    <tr>\n      <th>2301</th>\n      <td>Retinoblastoma</td>\n      <td>12</td>\n      <td>405</td>\n      <td>0.029630</td>\n      <td>0.028169</td>\n      <td>0.000835</td>\n    </tr>\n    <tr>\n      <th>2239</th>\n      <td>Triple Negative Breast Neoplasms</td>\n      <td>13</td>\n      <td>483</td>\n      <td>0.026915</td>\n      <td>0.030516</td>\n      <td>0.000821</td>\n    </tr>\n  </tbody>\n</table>\n<p>193 rows × 6 columns</p>\n</div>"
     },
     "execution_count": 193,
     "metadata": {},
     "output_type": "execute_result"
    }
   ],
   "source": [
    "communities_rank[(communities_rank[\"Community\"]==9) &\n",
    "                             (communities_rank[\"Shared genes\"] > 10)].sort_values(by=\"Relevance\", ascending=False).drop(\"Community\", axis=1)"
   ],
   "metadata": {
    "collapsed": false,
    "pycharm": {
     "name": "#%%\n"
    }
   }
  }
 ],
 "metadata": {
  "colab": {
   "collapsed_sections": [],
   "name": "Project_CHL.ipynb",
   "provenance": []
  },
  "kernelspec": {
   "display_name": "Python 3",
   "language": "python",
   "name": "python3"
  },
  "language_info": {
   "codemirror_mode": {
    "name": "ipython",
    "version": 3
   },
   "file_extension": ".py",
   "mimetype": "text/x-python",
   "name": "python",
   "nbconvert_exporter": "python",
   "pygments_lexer": "ipython3",
   "version": "3.8.3"
  }
 },
 "nbformat": 4,
 "nbformat_minor": 1
}