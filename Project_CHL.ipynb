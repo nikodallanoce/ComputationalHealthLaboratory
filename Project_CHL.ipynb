{
  "nbformat": 4,
  "nbformat_minor": 0,
  "metadata": {
    "colab": {
      "name": "Project_CHL.ipynb",
      "provenance": []
    },
    "kernelspec": {
      "name": "python3",
      "display_name": "Python 3"
    },
    "language_info": {
      "name": "python"
    }
  },
  "cells": [
    {
      "cell_type": "markdown",
      "source": [
        "**Computational Health Laboratory Project, A.Y. 2021/2022**\n",
        "\n",
        "**Authors:** Niko Dalla Noce, Alessandro Ristori, Andrea Zuppolini"
      ],
      "metadata": {
        "id": "kLse5cbrtAn0"
      }
    },
    {
      "cell_type": "markdown",
      "source": [
        "# **Colab setup**"
      ],
      "metadata": {
        "id": "VBEF2viCEfdx"
      }
    },
    {
      "cell_type": "code",
      "execution_count": 17,
      "metadata": {
        "colab": {
          "base_uri": "https://localhost:8080/"
        },
        "id": "a5orYga8hr_f",
        "outputId": "844fc8e1-db0e-469d-fda0-00491c0a7d2e"
      },
      "outputs": [
        {
          "output_type": "stream",
          "name": "stdout",
          "text": [
            "fatal: destination path 'ComputationalHealthLaboratory' already exists and is not an empty directory.\n",
            "Requirement already satisfied: PyYAML in /usr/local/lib/python3.7/dist-packages (6.0)\n",
            "/content/ComputationalHealthLaboratory\n"
          ]
        }
      ],
      "source": [
        "!git clone \"https://github.com/nikodallanoce/ComputationalHealthLaboratory\"\n",
        "!pip install -U PyYAML\n",
        "%cd ComputationalHealthLaboratory"
      ]
    },
    {
      "cell_type": "markdown",
      "source": [
        "# **Obtain all the genes that interacts with the starting one**\n"
      ],
      "metadata": {
        "id": "zExTy0EvuEaV"
      }
    },
    {
      "cell_type": "code",
      "source": [
        "import requests\n",
        "import json\n",
        "import pandas as pd\n",
        "import numpy as np\n",
        "from config import ACCESS_KEY, BASE_URL"
      ],
      "metadata": {
        "id": "75Qa06UWh1fE"
      },
      "execution_count": 18,
      "outputs": []
    },
    {
      "cell_type": "code",
      "source": [
        "genes = pd.read_csv(\"datasets/geneset.csv\", sep=\";\")\n",
        "genes[\"InteractorA\"] = genes[\"InteractorA\"].str.upper()\n",
        "genes.drop_duplicates(inplace=True)\n",
        "proteins_list = list(genes[\"InteractorA\"])"
      ],
      "metadata": {
        "id": "Nfi87h6cCgnM"
      },
      "execution_count": 14,
      "outputs": []
    },
    {
      "cell_type": "markdown",
      "source": [
        "# **Expand the network**"
      ],
      "metadata": {
        "id": "WSImzBkZEuWs"
      }
    },
    {
      "cell_type": "code",
      "source": [
        "request_url = BASE_URL + \"/interactions\"\n",
        "\n",
        "# List of genes to search for\n",
        "geneList = proteins_list # [\"SRPK2\"]\n",
        "\n",
        "params = {\n",
        "    \"accesskey\": ACCESS_KEY,\n",
        "    \"format\": \"json\",  # Return results in TAB2 format\n",
        "    \"geneList\": \"|\".join(geneList),  # Must be | separated\n",
        "    \"searchNames\": \"true\",  # Search against official names\n",
        "    \"includeInteractors\": \"true\",  # Set to true to get any interaction involving EITHER gene, set to false to get interactions between genes\n",
        "    \"includeInteractorInteractions\": \"true\",  # Set to true to get interactions between the geneList’s first order interactors\n",
        "    \"includeEvidence\": \"false\",  # If false \"evidenceList\" is evidence to exclude, if true \"evidenceList\" is evidence to show\n",
        "}\n",
        "\n",
        "r = requests.get(request_url, params=params)\n",
        "interactions = r.json()"
      ],
      "metadata": {
        "id": "eR1eHsQDlLrC"
      },
      "execution_count": 8,
      "outputs": []
    },
    {
      "cell_type": "code",
      "source": [
        "# Create a hash of results by interaction identifier\n",
        "data = {}\n",
        "for interaction_id, interaction in interactions.items():\n",
        "    data[interaction_id] = interaction\n",
        "\n",
        "# Load the data into a pandas dataframe\n",
        "dataset = pd.DataFrame.from_dict(data, orient=\"index\")\n",
        "\n",
        "# Re-order the columns and select only the columns we want to see\n",
        "columns = [\n",
        "    \"OFFICIAL_SYMBOL_A\",\n",
        "    \"OFFICIAL_SYMBOL_B\",\n",
        "]\n",
        "\n",
        "dataset = dataset[columns]\n",
        "\n",
        "# Pretty print out the results\n",
        "dataset[\"OFFICIAL_SYMBOL_A\"] = dataset[\"OFFICIAL_SYMBOL_A\"].str.upper()\n",
        "dataset[\"OFFICIAL_SYMBOL_B\"] = dataset[\"OFFICIAL_SYMBOL_B\"].str.upper()\n",
        "dataset"
      ],
      "metadata": {
        "colab": {
          "base_uri": "https://localhost:8080/",
          "height": 423
        },
        "id": "-h7TATRhnHf6",
        "outputId": "5a2c1bc1-55b8-4e32-cfd9-ccfabf871681"
      },
      "execution_count": 9,
      "outputs": [
        {
          "output_type": "execute_result",
          "data": {
            "text/plain": [
              "       OFFICIAL_SYMBOL_A OFFICIAL_SYMBOL_B\n",
              "117                 MYPN             ACTN2\n",
              "278                GATA2               PML\n",
              "418                 RPA2             STAT3\n",
              "663                 XRN1             ALDOA\n",
              "866                  APP            APPBP2\n",
              "...                  ...               ...\n",
              "245352               NBN               ATM\n",
              "245353             RAD50               ATM\n",
              "245354             RAD51               ATM\n",
              "245355             FANCA             ATP5B\n",
              "245361             BARD1             BARD1\n",
              "\n",
              "[10000 rows x 2 columns]"
            ],
            "text/html": [
              "\n",
              "  <div id=\"df-baf9e035-d249-4519-998e-5a421a4d8beb\">\n",
              "    <div class=\"colab-df-container\">\n",
              "      <div>\n",
              "<style scoped>\n",
              "    .dataframe tbody tr th:only-of-type {\n",
              "        vertical-align: middle;\n",
              "    }\n",
              "\n",
              "    .dataframe tbody tr th {\n",
              "        vertical-align: top;\n",
              "    }\n",
              "\n",
              "    .dataframe thead th {\n",
              "        text-align: right;\n",
              "    }\n",
              "</style>\n",
              "<table border=\"1\" class=\"dataframe\">\n",
              "  <thead>\n",
              "    <tr style=\"text-align: right;\">\n",
              "      <th></th>\n",
              "      <th>OFFICIAL_SYMBOL_A</th>\n",
              "      <th>OFFICIAL_SYMBOL_B</th>\n",
              "    </tr>\n",
              "  </thead>\n",
              "  <tbody>\n",
              "    <tr>\n",
              "      <th>117</th>\n",
              "      <td>MYPN</td>\n",
              "      <td>ACTN2</td>\n",
              "    </tr>\n",
              "    <tr>\n",
              "      <th>278</th>\n",
              "      <td>GATA2</td>\n",
              "      <td>PML</td>\n",
              "    </tr>\n",
              "    <tr>\n",
              "      <th>418</th>\n",
              "      <td>RPA2</td>\n",
              "      <td>STAT3</td>\n",
              "    </tr>\n",
              "    <tr>\n",
              "      <th>663</th>\n",
              "      <td>XRN1</td>\n",
              "      <td>ALDOA</td>\n",
              "    </tr>\n",
              "    <tr>\n",
              "      <th>866</th>\n",
              "      <td>APP</td>\n",
              "      <td>APPBP2</td>\n",
              "    </tr>\n",
              "    <tr>\n",
              "      <th>...</th>\n",
              "      <td>...</td>\n",
              "      <td>...</td>\n",
              "    </tr>\n",
              "    <tr>\n",
              "      <th>245352</th>\n",
              "      <td>NBN</td>\n",
              "      <td>ATM</td>\n",
              "    </tr>\n",
              "    <tr>\n",
              "      <th>245353</th>\n",
              "      <td>RAD50</td>\n",
              "      <td>ATM</td>\n",
              "    </tr>\n",
              "    <tr>\n",
              "      <th>245354</th>\n",
              "      <td>RAD51</td>\n",
              "      <td>ATM</td>\n",
              "    </tr>\n",
              "    <tr>\n",
              "      <th>245355</th>\n",
              "      <td>FANCA</td>\n",
              "      <td>ATP5B</td>\n",
              "    </tr>\n",
              "    <tr>\n",
              "      <th>245361</th>\n",
              "      <td>BARD1</td>\n",
              "      <td>BARD1</td>\n",
              "    </tr>\n",
              "  </tbody>\n",
              "</table>\n",
              "<p>10000 rows × 2 columns</p>\n",
              "</div>\n",
              "      <button class=\"colab-df-convert\" onclick=\"convertToInteractive('df-baf9e035-d249-4519-998e-5a421a4d8beb')\"\n",
              "              title=\"Convert this dataframe to an interactive table.\"\n",
              "              style=\"display:none;\">\n",
              "        \n",
              "  <svg xmlns=\"http://www.w3.org/2000/svg\" height=\"24px\"viewBox=\"0 0 24 24\"\n",
              "       width=\"24px\">\n",
              "    <path d=\"M0 0h24v24H0V0z\" fill=\"none\"/>\n",
              "    <path d=\"M18.56 5.44l.94 2.06.94-2.06 2.06-.94-2.06-.94-.94-2.06-.94 2.06-2.06.94zm-11 1L8.5 8.5l.94-2.06 2.06-.94-2.06-.94L8.5 2.5l-.94 2.06-2.06.94zm10 10l.94 2.06.94-2.06 2.06-.94-2.06-.94-.94-2.06-.94 2.06-2.06.94z\"/><path d=\"M17.41 7.96l-1.37-1.37c-.4-.4-.92-.59-1.43-.59-.52 0-1.04.2-1.43.59L10.3 9.45l-7.72 7.72c-.78.78-.78 2.05 0 2.83L4 21.41c.39.39.9.59 1.41.59.51 0 1.02-.2 1.41-.59l7.78-7.78 2.81-2.81c.8-.78.8-2.07 0-2.86zM5.41 20L4 18.59l7.72-7.72 1.47 1.35L5.41 20z\"/>\n",
              "  </svg>\n",
              "      </button>\n",
              "      \n",
              "  <style>\n",
              "    .colab-df-container {\n",
              "      display:flex;\n",
              "      flex-wrap:wrap;\n",
              "      gap: 12px;\n",
              "    }\n",
              "\n",
              "    .colab-df-convert {\n",
              "      background-color: #E8F0FE;\n",
              "      border: none;\n",
              "      border-radius: 50%;\n",
              "      cursor: pointer;\n",
              "      display: none;\n",
              "      fill: #1967D2;\n",
              "      height: 32px;\n",
              "      padding: 0 0 0 0;\n",
              "      width: 32px;\n",
              "    }\n",
              "\n",
              "    .colab-df-convert:hover {\n",
              "      background-color: #E2EBFA;\n",
              "      box-shadow: 0px 1px 2px rgba(60, 64, 67, 0.3), 0px 1px 3px 1px rgba(60, 64, 67, 0.15);\n",
              "      fill: #174EA6;\n",
              "    }\n",
              "\n",
              "    [theme=dark] .colab-df-convert {\n",
              "      background-color: #3B4455;\n",
              "      fill: #D2E3FC;\n",
              "    }\n",
              "\n",
              "    [theme=dark] .colab-df-convert:hover {\n",
              "      background-color: #434B5C;\n",
              "      box-shadow: 0px 1px 3px 1px rgba(0, 0, 0, 0.15);\n",
              "      filter: drop-shadow(0px 1px 2px rgba(0, 0, 0, 0.3));\n",
              "      fill: #FFFFFF;\n",
              "    }\n",
              "  </style>\n",
              "\n",
              "      <script>\n",
              "        const buttonEl =\n",
              "          document.querySelector('#df-baf9e035-d249-4519-998e-5a421a4d8beb button.colab-df-convert');\n",
              "        buttonEl.style.display =\n",
              "          google.colab.kernel.accessAllowed ? 'block' : 'none';\n",
              "\n",
              "        async function convertToInteractive(key) {\n",
              "          const element = document.querySelector('#df-baf9e035-d249-4519-998e-5a421a4d8beb');\n",
              "          const dataTable =\n",
              "            await google.colab.kernel.invokeFunction('convertToInteractive',\n",
              "                                                     [key], {});\n",
              "          if (!dataTable) return;\n",
              "\n",
              "          const docLinkHtml = 'Like what you see? Visit the ' +\n",
              "            '<a target=\"_blank\" href=https://colab.research.google.com/notebooks/data_table.ipynb>data table notebook</a>'\n",
              "            + ' to learn more about interactive tables.';\n",
              "          element.innerHTML = '';\n",
              "          dataTable['output_type'] = 'display_data';\n",
              "          await google.colab.output.renderOutput(dataTable, element);\n",
              "          const docLink = document.createElement('div');\n",
              "          docLink.innerHTML = docLinkHtml;\n",
              "          element.appendChild(docLink);\n",
              "        }\n",
              "      </script>\n",
              "    </div>\n",
              "  </div>\n",
              "  "
            ]
          },
          "metadata": {},
          "execution_count": 9
        }
      ]
    },
    {
      "cell_type": "code",
      "source": [
        "# Look for duplicated interactions\n",
        "duplicated_interactions = pd.DataFrame(np.sort(dataset[[\"OFFICIAL_SYMBOL_A\", \"OFFICIAL_SYMBOL_B\"]].values, 1)).duplicated()\n",
        "print(\"Duplicated interactions:\\n{0}\".format(duplicated_interactions.value_counts()))\n",
        "\n",
        "# Delete such interactions from the dataset\n",
        "dataset = dataset[~duplicated_interactions.values]"
      ],
      "metadata": {
        "colab": {
          "base_uri": "https://localhost:8080/"
        },
        "id": "6Aso-GCJoWpq",
        "outputId": "3346b9bd-260d-49d8-b34e-ef3193c282e7"
      },
      "execution_count": 11,
      "outputs": [
        {
          "output_type": "stream",
          "name": "stdout",
          "text": [
            "Duplicated interactions:\n",
            "False    6874\n",
            "True     3126\n",
            "dtype: int64\n"
          ]
        }
      ]
    },
    {
      "cell_type": "code",
      "source": [
        "# Look for interactions where both proteins are the same\n",
        "same_proteins_interactions = pd.DataFrame(dataset[[\"OFFICIAL_SYMBOL_A\", \"OFFICIAL_SYMBOL_B\"]].nunique(axis=1) == 1)\n",
        "print(\"Useless interactions:\\n{0}\".format(same_proteins_interactions.value_counts()))\n",
        "\n",
        "# Delete such interactions from the dataset\n",
        "dataset = dataset[~same_proteins_interactions.values]"
      ],
      "metadata": {
        "colab": {
          "base_uri": "https://localhost:8080/"
        },
        "id": "NucccdFrl3hv",
        "outputId": "b5e927f5-0be9-4e2e-a235-6ada086d5f20"
      },
      "execution_count": 12,
      "outputs": [
        {
          "output_type": "stream",
          "name": "stdout",
          "text": [
            "Useless interactions:\n",
            "False    6552\n",
            "True      322\n",
            "dtype: int64\n"
          ]
        }
      ]
    },
    {
      "cell_type": "code",
      "source": [
        "dataset"
      ],
      "metadata": {
        "id": "bRqvVuNqsbE_",
        "colab": {
          "base_uri": "https://localhost:8080/",
          "height": 423
        },
        "outputId": "a6b7154e-cb48-447c-8c6e-c3292a643d05"
      },
      "execution_count": 13,
      "outputs": [
        {
          "output_type": "execute_result",
          "data": {
            "text/plain": [
              "       OFFICIAL_SYMBOL_A OFFICIAL_SYMBOL_B\n",
              "117                 MYPN             ACTN2\n",
              "278                GATA2               PML\n",
              "418                 RPA2             STAT3\n",
              "663                 XRN1             ALDOA\n",
              "866                  APP            APPBP2\n",
              "...                  ...               ...\n",
              "245350              MSH2               ATM\n",
              "245351              MSH6               ATM\n",
              "245353             RAD50               ATM\n",
              "245354             RAD51               ATM\n",
              "245355             FANCA             ATP5B\n",
              "\n",
              "[6552 rows x 2 columns]"
            ],
            "text/html": [
              "\n",
              "  <div id=\"df-ab9f46f0-785f-4b87-a50f-715f987cb128\">\n",
              "    <div class=\"colab-df-container\">\n",
              "      <div>\n",
              "<style scoped>\n",
              "    .dataframe tbody tr th:only-of-type {\n",
              "        vertical-align: middle;\n",
              "    }\n",
              "\n",
              "    .dataframe tbody tr th {\n",
              "        vertical-align: top;\n",
              "    }\n",
              "\n",
              "    .dataframe thead th {\n",
              "        text-align: right;\n",
              "    }\n",
              "</style>\n",
              "<table border=\"1\" class=\"dataframe\">\n",
              "  <thead>\n",
              "    <tr style=\"text-align: right;\">\n",
              "      <th></th>\n",
              "      <th>OFFICIAL_SYMBOL_A</th>\n",
              "      <th>OFFICIAL_SYMBOL_B</th>\n",
              "    </tr>\n",
              "  </thead>\n",
              "  <tbody>\n",
              "    <tr>\n",
              "      <th>117</th>\n",
              "      <td>MYPN</td>\n",
              "      <td>ACTN2</td>\n",
              "    </tr>\n",
              "    <tr>\n",
              "      <th>278</th>\n",
              "      <td>GATA2</td>\n",
              "      <td>PML</td>\n",
              "    </tr>\n",
              "    <tr>\n",
              "      <th>418</th>\n",
              "      <td>RPA2</td>\n",
              "      <td>STAT3</td>\n",
              "    </tr>\n",
              "    <tr>\n",
              "      <th>663</th>\n",
              "      <td>XRN1</td>\n",
              "      <td>ALDOA</td>\n",
              "    </tr>\n",
              "    <tr>\n",
              "      <th>866</th>\n",
              "      <td>APP</td>\n",
              "      <td>APPBP2</td>\n",
              "    </tr>\n",
              "    <tr>\n",
              "      <th>...</th>\n",
              "      <td>...</td>\n",
              "      <td>...</td>\n",
              "    </tr>\n",
              "    <tr>\n",
              "      <th>245350</th>\n",
              "      <td>MSH2</td>\n",
              "      <td>ATM</td>\n",
              "    </tr>\n",
              "    <tr>\n",
              "      <th>245351</th>\n",
              "      <td>MSH6</td>\n",
              "      <td>ATM</td>\n",
              "    </tr>\n",
              "    <tr>\n",
              "      <th>245353</th>\n",
              "      <td>RAD50</td>\n",
              "      <td>ATM</td>\n",
              "    </tr>\n",
              "    <tr>\n",
              "      <th>245354</th>\n",
              "      <td>RAD51</td>\n",
              "      <td>ATM</td>\n",
              "    </tr>\n",
              "    <tr>\n",
              "      <th>245355</th>\n",
              "      <td>FANCA</td>\n",
              "      <td>ATP5B</td>\n",
              "    </tr>\n",
              "  </tbody>\n",
              "</table>\n",
              "<p>6552 rows × 2 columns</p>\n",
              "</div>\n",
              "      <button class=\"colab-df-convert\" onclick=\"convertToInteractive('df-ab9f46f0-785f-4b87-a50f-715f987cb128')\"\n",
              "              title=\"Convert this dataframe to an interactive table.\"\n",
              "              style=\"display:none;\">\n",
              "        \n",
              "  <svg xmlns=\"http://www.w3.org/2000/svg\" height=\"24px\"viewBox=\"0 0 24 24\"\n",
              "       width=\"24px\">\n",
              "    <path d=\"M0 0h24v24H0V0z\" fill=\"none\"/>\n",
              "    <path d=\"M18.56 5.44l.94 2.06.94-2.06 2.06-.94-2.06-.94-.94-2.06-.94 2.06-2.06.94zm-11 1L8.5 8.5l.94-2.06 2.06-.94-2.06-.94L8.5 2.5l-.94 2.06-2.06.94zm10 10l.94 2.06.94-2.06 2.06-.94-2.06-.94-.94-2.06-.94 2.06-2.06.94z\"/><path d=\"M17.41 7.96l-1.37-1.37c-.4-.4-.92-.59-1.43-.59-.52 0-1.04.2-1.43.59L10.3 9.45l-7.72 7.72c-.78.78-.78 2.05 0 2.83L4 21.41c.39.39.9.59 1.41.59.51 0 1.02-.2 1.41-.59l7.78-7.78 2.81-2.81c.8-.78.8-2.07 0-2.86zM5.41 20L4 18.59l7.72-7.72 1.47 1.35L5.41 20z\"/>\n",
              "  </svg>\n",
              "      </button>\n",
              "      \n",
              "  <style>\n",
              "    .colab-df-container {\n",
              "      display:flex;\n",
              "      flex-wrap:wrap;\n",
              "      gap: 12px;\n",
              "    }\n",
              "\n",
              "    .colab-df-convert {\n",
              "      background-color: #E8F0FE;\n",
              "      border: none;\n",
              "      border-radius: 50%;\n",
              "      cursor: pointer;\n",
              "      display: none;\n",
              "      fill: #1967D2;\n",
              "      height: 32px;\n",
              "      padding: 0 0 0 0;\n",
              "      width: 32px;\n",
              "    }\n",
              "\n",
              "    .colab-df-convert:hover {\n",
              "      background-color: #E2EBFA;\n",
              "      box-shadow: 0px 1px 2px rgba(60, 64, 67, 0.3), 0px 1px 3px 1px rgba(60, 64, 67, 0.15);\n",
              "      fill: #174EA6;\n",
              "    }\n",
              "\n",
              "    [theme=dark] .colab-df-convert {\n",
              "      background-color: #3B4455;\n",
              "      fill: #D2E3FC;\n",
              "    }\n",
              "\n",
              "    [theme=dark] .colab-df-convert:hover {\n",
              "      background-color: #434B5C;\n",
              "      box-shadow: 0px 1px 3px 1px rgba(0, 0, 0, 0.15);\n",
              "      filter: drop-shadow(0px 1px 2px rgba(0, 0, 0, 0.3));\n",
              "      fill: #FFFFFF;\n",
              "    }\n",
              "  </style>\n",
              "\n",
              "      <script>\n",
              "        const buttonEl =\n",
              "          document.querySelector('#df-ab9f46f0-785f-4b87-a50f-715f987cb128 button.colab-df-convert');\n",
              "        buttonEl.style.display =\n",
              "          google.colab.kernel.accessAllowed ? 'block' : 'none';\n",
              "\n",
              "        async function convertToInteractive(key) {\n",
              "          const element = document.querySelector('#df-ab9f46f0-785f-4b87-a50f-715f987cb128');\n",
              "          const dataTable =\n",
              "            await google.colab.kernel.invokeFunction('convertToInteractive',\n",
              "                                                     [key], {});\n",
              "          if (!dataTable) return;\n",
              "\n",
              "          const docLinkHtml = 'Like what you see? Visit the ' +\n",
              "            '<a target=\"_blank\" href=https://colab.research.google.com/notebooks/data_table.ipynb>data table notebook</a>'\n",
              "            + ' to learn more about interactive tables.';\n",
              "          element.innerHTML = '';\n",
              "          dataTable['output_type'] = 'display_data';\n",
              "          await google.colab.output.renderOutput(dataTable, element);\n",
              "          const docLink = document.createElement('div');\n",
              "          docLink.innerHTML = docLinkHtml;\n",
              "          element.appendChild(docLink);\n",
              "        }\n",
              "      </script>\n",
              "    </div>\n",
              "  </div>\n",
              "  "
            ]
          },
          "metadata": {},
          "execution_count": 13
        }
      ]
    }
  ]
}