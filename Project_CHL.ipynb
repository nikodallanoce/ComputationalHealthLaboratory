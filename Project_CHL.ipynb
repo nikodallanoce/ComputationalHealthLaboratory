{
  "cells": [
    {
      "cell_type": "markdown",
      "metadata": {
        "id": "kLse5cbrtAn0"
      },
      "source": [
        "**Computational Health Laboratory Project, A.Y. 2021/2022**\n",
        "\n",
        "**Authors:** Niko Dalla Noce, Alessandro Ristori, Andrea Zuppolini"
      ]
    },
    {
      "cell_type": "markdown",
      "metadata": {
        "id": "EnunYcRW8FBh"
      },
      "source": [
        "# **CHL Project, Pathway Analysis**\n",
        "Starting fron one or more genes, extract from interaction databases the genes they interact with. Using the expanded gene set, perform pathway analysis and obtain all disease pathways in which the genes appear. Merge the pathways to obtain a larger graph. Perform further network analysis to extract central biomarkers and communities beyond pathways. Compute a distance between the initial gene set and the various pathways (diseases)."
      ]
    },
    {
      "cell_type": "markdown",
      "metadata": {
        "id": "VBEF2viCEfdx"
      },
      "source": [
        "## **Colab setup**\n",
        "Takes care of the project setup on Colab."
      ]
    },
    {
      "cell_type": "code",
      "execution_count": 1,
      "metadata": {
        "colab": {
          "base_uri": "https://localhost:8080/"
        },
        "id": "a5orYga8hr_f",
        "outputId": "af8b10d2-1f8b-4ed7-c3df-db1356806b15"
      },
      "outputs": [],
      "source": [
        "if 'google.colab' in str(get_ipython()):\n",
        "    import subprocess\n",
        "    from google.colab import drive\n",
        "    out_clone = subprocess.run([\"git\", \"clone\", \"https://github.com/nikodallanoce/ComputationalHealthLaboratory\"], text=True, capture_output=True)\n",
        "    print(\"{0}{1}\".format(out_clone.stdout, out_clone.stderr))\n",
        "    %pip install -U PyYAML\n",
        "    %pip install gseapy\n",
        "    drive.mount(\"/content/drive/\")\n",
        "    %cp \"/content/drive/Shareddrives/CHL/config.yml\" \"/content/ComputationalHealthLaboratory\"\n",
        "    %cd ComputationalHealthLaboratory"
      ]
    },
    {
      "cell_type": "markdown",
      "metadata": {
        "id": "zExTy0EvuEaV"
      },
      "source": [
        "## **Obtain all the genes that interacts with the starting one**\n",
        "Starting from a gene obtain its neighbours and the interactions between them.\n"
      ]
    },
    {
      "cell_type": "code",
      "execution_count": 2,
      "metadata": {
        "id": "75Qa06UWh1fE"
      },
      "outputs": [],
      "source": [
        "import requests\n",
        "import json\n",
        "import pandas as pd\n",
        "import numpy as np\n",
        "import re\n",
        "from config import ACCESS_KEY, BASE_URL"
      ]
    },
    {
      "cell_type": "code",
      "execution_count": 3,
      "metadata": {
        "id": "Nfi87h6cCgnM"
      },
      "outputs": [],
      "source": [
        "gene_interactions = pd.read_csv(\"datasets/geneset.csv\", sep=\";\")\n",
        "gene_interactions[\"InteractorA\"] = gene_interactions[\"InteractorA\"].str.upper()\n",
        "gene_interactions.drop_duplicates(inplace=True)\n",
        "proteins_list = list(gene_interactions[\"InteractorA\"])  # all the proteins that interact with our starting gene"
      ]
    },
    {
      "cell_type": "code",
      "execution_count": 4,
      "metadata": {
        "colab": {
          "base_uri": "https://localhost:8080/",
          "height": 423
        },
        "id": "ag2NAKTf5eoZ",
        "outputId": "c67d92b3-1cf5-41be-fe07-366063023c6d"
      },
      "outputs": [
        {
          "data": {
            "text/html": [
              "<div>\n",
              "<style scoped>\n",
              "    .dataframe tbody tr th:only-of-type {\n",
              "        vertical-align: middle;\n",
              "    }\n",
              "\n",
              "    .dataframe tbody tr th {\n",
              "        vertical-align: top;\n",
              "    }\n",
              "\n",
              "    .dataframe thead th {\n",
              "        text-align: right;\n",
              "    }\n",
              "</style>\n",
              "<table border=\"1\" class=\"dataframe\">\n",
              "  <thead>\n",
              "    <tr style=\"text-align: right;\">\n",
              "      <th></th>\n",
              "      <th>InteractorA</th>\n",
              "      <th>InteractorB</th>\n",
              "    </tr>\n",
              "  </thead>\n",
              "  <tbody>\n",
              "    <tr>\n",
              "      <th>0</th>\n",
              "      <td>YWHAG</td>\n",
              "      <td>SON</td>\n",
              "    </tr>\n",
              "    <tr>\n",
              "      <th>1</th>\n",
              "      <td>YWHAB</td>\n",
              "      <td>SON</td>\n",
              "    </tr>\n",
              "    <tr>\n",
              "      <th>3</th>\n",
              "      <td>SIRT7</td>\n",
              "      <td>SON</td>\n",
              "    </tr>\n",
              "    <tr>\n",
              "      <th>4</th>\n",
              "      <td>TCF3</td>\n",
              "      <td>SON</td>\n",
              "    </tr>\n",
              "    <tr>\n",
              "      <th>5</th>\n",
              "      <td>SF3B1</td>\n",
              "      <td>SON</td>\n",
              "    </tr>\n",
              "    <tr>\n",
              "      <th>...</th>\n",
              "      <td>...</td>\n",
              "      <td>...</td>\n",
              "    </tr>\n",
              "    <tr>\n",
              "      <th>149</th>\n",
              "      <td>NSP8</td>\n",
              "      <td>SON</td>\n",
              "    </tr>\n",
              "    <tr>\n",
              "      <th>150</th>\n",
              "      <td>NSP9</td>\n",
              "      <td>SON</td>\n",
              "    </tr>\n",
              "    <tr>\n",
              "      <th>151</th>\n",
              "      <td>ORF6</td>\n",
              "      <td>SON</td>\n",
              "    </tr>\n",
              "    <tr>\n",
              "      <th>152</th>\n",
              "      <td>ORF8</td>\n",
              "      <td>SON</td>\n",
              "    </tr>\n",
              "    <tr>\n",
              "      <th>153</th>\n",
              "      <td>CCNF</td>\n",
              "      <td>SON</td>\n",
              "    </tr>\n",
              "  </tbody>\n",
              "</table>\n",
              "<p>146 rows × 2 columns</p>\n",
              "</div>"
            ],
            "text/plain": [
              "    InteractorA InteractorB\n",
              "0         YWHAG         SON\n",
              "1         YWHAB         SON\n",
              "3         SIRT7         SON\n",
              "4          TCF3         SON\n",
              "5         SF3B1         SON\n",
              "..          ...         ...\n",
              "149        NSP8         SON\n",
              "150        NSP9         SON\n",
              "151        ORF6         SON\n",
              "152        ORF8         SON\n",
              "153        CCNF         SON\n",
              "\n",
              "[146 rows x 2 columns]"
            ]
          },
          "execution_count": 4,
          "metadata": {},
          "output_type": "execute_result"
        }
      ],
      "source": [
        "gene_interactions"
      ]
    },
    {
      "cell_type": "markdown",
      "metadata": {
        "id": "WSImzBkZEuWs"
      },
      "source": [
        "## **Expand the interactions dataset**\n",
        "Expand the dataset using the proteins obtained from the previous step."
      ]
    },
    {
      "cell_type": "code",
      "execution_count": 5,
      "metadata": {
        "id": "eR1eHsQDlLrC"
      },
      "outputs": [],
      "source": [
        "request_url = BASE_URL + \"/interactions\"\n",
        "data = {}\n",
        "\n",
        "step = 5\n",
        "for i in range(0, len(proteins_list), step):\n",
        "    end = i+step\n",
        "    if end >= len(proteins_list):\n",
        "        end = len(proteins_list)\n",
        "    \n",
        "    # List of genes to search for\n",
        "    gene_list = proteins_list[i:end] # [\"SRPK2\"]\n",
        "\n",
        "    params = {\n",
        "        \"accesskey\": ACCESS_KEY,\n",
        "        \"format\": \"json\",  # Return results in TAB2 format\n",
        "        \"geneList\": \"|\".join(gene_list),  # Must be | separated\n",
        "        \"searchNames\": \"true\",  # Search against official names\n",
        "        \"includeInteractors\": \"true\",  # Set to true to get any interaction involving EITHER gene, set to false to get interactions between genes\n",
        "        \"includeInteractorInteractions\": \"false\",  # Set to true to get interactions between the geneList’s first order interactors\n",
        "        \"includeEvidence\": \"false\",  # If false \"evidenceList\" is evidence to exclude, if true \"evidenceList\" is evidence to show\n",
        "        \"selfInteractionsExcluded\": \"true\", # If true no self-interactions will be included\n",
        "    }\n",
        "\n",
        "    r = requests.get(request_url, params=params)\n",
        "    interactions = r.json()\n",
        "    \n",
        "    # Check if the interactions are more than the allowed number\n",
        "    if len(interactions)==10000:\n",
        "      assert False\n",
        "\n",
        "    # Create a hash of results by interaction identifier\n",
        "    for interaction_id, interaction in interactions.items():\n",
        "        data[interaction_id] = interaction"
      ]
    },
    {
      "cell_type": "code",
      "execution_count": 6,
      "metadata": {
        "colab": {
          "base_uri": "https://localhost:8080/",
          "height": 423
        },
        "id": "-h7TATRhnHf6",
        "outputId": "496999f9-a553-4fc4-da3c-4adedcb3c7aa"
      },
      "outputs": [
        {
          "data": {
            "text/html": [
              "<div>\n",
              "<style scoped>\n",
              "    .dataframe tbody tr th:only-of-type {\n",
              "        vertical-align: middle;\n",
              "    }\n",
              "\n",
              "    .dataframe tbody tr th {\n",
              "        vertical-align: top;\n",
              "    }\n",
              "\n",
              "    .dataframe thead th {\n",
              "        text-align: right;\n",
              "    }\n",
              "</style>\n",
              "<table border=\"1\" class=\"dataframe\">\n",
              "  <thead>\n",
              "    <tr style=\"text-align: right;\">\n",
              "      <th></th>\n",
              "      <th>InteractorA</th>\n",
              "      <th>InteractorB</th>\n",
              "    </tr>\n",
              "  </thead>\n",
              "  <tbody>\n",
              "    <tr>\n",
              "      <th>8289</th>\n",
              "      <td>TCF3</td>\n",
              "      <td>HAND2</td>\n",
              "    </tr>\n",
              "    <tr>\n",
              "      <th>8324</th>\n",
              "      <td>TCF3</td>\n",
              "      <td>ID3</td>\n",
              "    </tr>\n",
              "    <tr>\n",
              "      <th>31348</th>\n",
              "      <td>VAP-33B</td>\n",
              "      <td>SIRT7</td>\n",
              "    </tr>\n",
              "    <tr>\n",
              "      <th>31539</th>\n",
              "      <td>SIRT7</td>\n",
              "      <td>CKIIBETA</td>\n",
              "    </tr>\n",
              "    <tr>\n",
              "      <th>37873</th>\n",
              "      <td>SIRT7</td>\n",
              "      <td>POLO</td>\n",
              "    </tr>\n",
              "    <tr>\n",
              "      <th>...</th>\n",
              "      <td>...</td>\n",
              "      <td>...</td>\n",
              "    </tr>\n",
              "    <tr>\n",
              "      <th>3305885</th>\n",
              "      <td>CCNF</td>\n",
              "      <td>ZBTB1</td>\n",
              "    </tr>\n",
              "    <tr>\n",
              "      <th>3305886</th>\n",
              "      <td>CCNF</td>\n",
              "      <td>ZGPAT</td>\n",
              "    </tr>\n",
              "    <tr>\n",
              "      <th>3305887</th>\n",
              "      <td>CCNF</td>\n",
              "      <td>ZNF638</td>\n",
              "    </tr>\n",
              "    <tr>\n",
              "      <th>3305888</th>\n",
              "      <td>CCNF</td>\n",
              "      <td>ZNF687</td>\n",
              "    </tr>\n",
              "    <tr>\n",
              "      <th>3305889</th>\n",
              "      <td>CCNF</td>\n",
              "      <td>ZWINT</td>\n",
              "    </tr>\n",
              "  </tbody>\n",
              "</table>\n",
              "<p>104577 rows × 2 columns</p>\n",
              "</div>"
            ],
            "text/plain": [
              "        InteractorA InteractorB\n",
              "8289           TCF3       HAND2\n",
              "8324           TCF3         ID3\n",
              "31348       VAP-33B       SIRT7\n",
              "31539         SIRT7    CKIIBETA\n",
              "37873         SIRT7        POLO\n",
              "...             ...         ...\n",
              "3305885        CCNF       ZBTB1\n",
              "3305886        CCNF       ZGPAT\n",
              "3305887        CCNF      ZNF638\n",
              "3305888        CCNF      ZNF687\n",
              "3305889        CCNF       ZWINT\n",
              "\n",
              "[104577 rows x 2 columns]"
            ]
          },
          "execution_count": 6,
          "metadata": {},
          "output_type": "execute_result"
        }
      ],
      "source": [
        "# Load the data into a pandas dataframe\n",
        "dataset = pd.DataFrame.from_dict(data, orient=\"index\")\n",
        "\n",
        "# Re-order the columns and select only the columns we want to see\n",
        "columns = [\"OFFICIAL_SYMBOL_A\", \"OFFICIAL_SYMBOL_B\"]\n",
        "dataset = dataset[columns]\n",
        "\n",
        "# Rename the columns and make all the values uppercase\n",
        "dataset = dataset.rename(columns={\"OFFICIAL_SYMBOL_A\": \"InteractorA\", \"OFFICIAL_SYMBOL_B\": \"InteractorB\"})\n",
        "dataset[\"InteractorA\"] = dataset[\"InteractorA\"].str.upper()\n",
        "dataset[\"InteractorB\"] = dataset[\"InteractorB\"].str.upper()\n",
        "\n",
        "# Print the dataframe\n",
        "dataset"
      ]
    },
    {
      "cell_type": "markdown",
      "metadata": {
        "id": "mLu6ftTO6PFD"
      },
      "source": [
        "Drop duplicated interactions, they're not interesting from out point of view."
      ]
    },
    {
      "cell_type": "code",
      "execution_count": 7,
      "metadata": {
        "colab": {
          "base_uri": "https://localhost:8080/"
        },
        "id": "6Aso-GCJoWpq",
        "outputId": "ce8cd4e0-4612-4558-c40a-196b88a67eb8"
      },
      "outputs": [
        {
          "name": "stdout",
          "output_type": "stream",
          "text": [
            "Duplicated interactions:\n",
            "False    79296\n",
            "True     25281\n",
            "dtype: int64\n"
          ]
        }
      ],
      "source": [
        "# Look for duplicated interactions\n",
        "duplicated_interactions = pd.DataFrame(np.sort(dataset[[\"InteractorA\", \"InteractorB\"]].values, 1)).duplicated()\n",
        "print(\"Duplicated interactions:\\n{0}\".format(duplicated_interactions.value_counts()))\n",
        "\n",
        "# Delete such interactions from the dataset\n",
        "dataset = dataset[~duplicated_interactions.values]"
      ]
    },
    {
      "cell_type": "markdown",
      "metadata": {
        "id": "p3JD2OfP6Ypd"
      },
      "source": [
        "Drop self-loops since they're useless for our analysis."
      ]
    },
    {
      "cell_type": "code",
      "execution_count": 8,
      "metadata": {
        "colab": {
          "base_uri": "https://localhost:8080/"
        },
        "id": "hVlRgo6ozI39",
        "outputId": "41678029-0992-4c5f-da38-4c76c95571f8"
      },
      "outputs": [
        {
          "name": "stdout",
          "output_type": "stream",
          "text": [
            "Useless interactions:\n",
            "False    79283\n",
            "True        13\n",
            "dtype: int64\n"
          ]
        }
      ],
      "source": [
        "# Look for interactions where both proteins are the same\n",
        "same_proteins_interactions = pd.DataFrame(dataset[[\"InteractorA\", \"InteractorB\"]].nunique(axis=1) == 1)\n",
        "print(\"Useless interactions:\\n{0}\".format(same_proteins_interactions.value_counts()))\n",
        "\n",
        "# Delete such interactions from the dataset\n",
        "dataset = dataset[~same_proteins_interactions.values]"
      ]
    },
    {
      "cell_type": "markdown",
      "metadata": {
        "id": "suXiaPI_6hBO"
      },
      "source": [
        "Unify the interactions from the starting gene with the ones obtained by the requests to the BioGrid dataset."
      ]
    },
    {
      "cell_type": "code",
      "execution_count": 9,
      "metadata": {
        "id": "JvZWF8Jk22o5"
      },
      "outputs": [
        {
          "name": "stderr",
          "output_type": "stream",
          "text": [
            "C:\\Users\\dllni\\AppData\\Local\\Temp\\ipykernel_11952\\3838089264.py:1: FutureWarning: The frame.append method is deprecated and will be removed from pandas in a future version. Use pandas.concat instead.\n",
            "  dataset = dataset.append(gene_interactions)\n"
          ]
        }
      ],
      "source": [
        "dataset = dataset.append(gene_interactions)"
      ]
    },
    {
      "cell_type": "code",
      "execution_count": 10,
      "metadata": {
        "colab": {
          "base_uri": "https://localhost:8080/"
        },
        "id": "V7uiZtNPvR_Y",
        "outputId": "21e43ee7-3d85-408a-e23d-14843cfd41ef"
      },
      "outputs": [
        {
          "name": "stdout",
          "output_type": "stream",
          "text": [
            "Number of nodes: 13010\n"
          ]
        },
        {
          "name": "stderr",
          "output_type": "stream",
          "text": [
            "C:\\Users\\dllni\\AppData\\Local\\Temp\\ipykernel_11952\\2285900714.py:1: FutureWarning: The series.append method is deprecated and will be removed from pandas in a future version. Use pandas.concat instead.\n",
            "  nodes = dataset[\"InteractorA\"].append(dataset[\"InteractorB\"]).unique()\n"
          ]
        }
      ],
      "source": [
        "nodes = dataset[\"InteractorA\"].append(dataset[\"InteractorB\"]).unique()\n",
        "# Basterebbe fare l'append su genes nel caso considerassimo solamente i nodi iniziali\n",
        "print(\"Number of nodes: {0}\".format(len(nodes)))"
      ]
    },
    {
      "cell_type": "markdown",
      "metadata": {
        "id": "HKEVJuyGHHy-"
      },
      "source": [
        "At last, save the interactions and nodes into csv file for pathway enrichment."
      ]
    },
    {
      "cell_type": "code",
      "execution_count": 11,
      "metadata": {
        "id": "EejlpWODCiwU"
      },
      "outputs": [],
      "source": [
        "# Save interactions and nodes dataset to csv\n",
        "dataset.to_csv(\"datasets/interactions.csv\")\n",
        "pd.DataFrame(nodes).to_csv(\"datasets/genes.csv\")"
      ]
    },
    {
      "cell_type": "markdown",
      "metadata": {
        "id": "ItzFqtwX5WLy"
      },
      "source": [
        "## **Pathway enrichment**\n",
        "Find all the diseases linked to the nodes retrieved by the previous step."
      ]
    },
    {
      "cell_type": "code",
      "execution_count": 12,
      "metadata": {
        "colab": {
          "base_uri": "https://localhost:8080/"
        },
        "id": "c1oUsfl0zUrb",
        "outputId": "12e73371-cb4b-4ccc-f32c-e15ff27df424"
      },
      "outputs": [],
      "source": [
        "import gseapy as gp"
      ]
    },
    {
      "cell_type": "markdown",
      "metadata": {
        "id": "xxi1i2x1Hfbt"
      },
      "source": [
        "List all the datasets from wich we can retrieve pathways by using the gseapy package."
      ]
    },
    {
      "cell_type": "code",
      "execution_count": 13,
      "metadata": {
        "colab": {
          "base_uri": "https://localhost:8080/"
        },
        "id": "t1pzpEInKuCM",
        "outputId": "da54e68e-9299-4be9-8964-99786b13e7ce"
      },
      "outputs": [
        {
          "data": {
            "text/plain": [
              "['ARCHS4_Cell-lines',\n",
              " 'ARCHS4_IDG_Coexp',\n",
              " 'ARCHS4_Kinases_Coexp',\n",
              " 'ARCHS4_TFs_Coexp',\n",
              " 'ARCHS4_Tissues',\n",
              " 'Achilles_fitness_decrease',\n",
              " 'Achilles_fitness_increase',\n",
              " 'Aging_Perturbations_from_GEO_down',\n",
              " 'Aging_Perturbations_from_GEO_up',\n",
              " 'Allen_Brain_Atlas_10x_scRNA_2021',\n",
              " 'Allen_Brain_Atlas_down',\n",
              " 'Allen_Brain_Atlas_up',\n",
              " 'Azimuth_Cell_Types_2021',\n",
              " 'BioCarta_2013',\n",
              " 'BioCarta_2015',\n",
              " 'BioCarta_2016',\n",
              " 'BioPlanet_2019',\n",
              " 'BioPlex_2017',\n",
              " 'CCLE_Proteomics_2020',\n",
              " 'CORUM',\n",
              " 'COVID-19_Related_Gene_Sets',\n",
              " 'COVID-19_Related_Gene_Sets_2021',\n",
              " 'Cancer_Cell_Line_Encyclopedia',\n",
              " 'CellMarker_Augmented_2021',\n",
              " 'ChEA_2013',\n",
              " 'ChEA_2015',\n",
              " 'ChEA_2016',\n",
              " 'Chromosome_Location',\n",
              " 'Chromosome_Location_hg19',\n",
              " 'ClinVar_2019',\n",
              " 'DSigDB',\n",
              " 'Data_Acquisition_Method_Most_Popular_Genes',\n",
              " 'DepMap_WG_CRISPR_Screens_Broad_CellLines_2019',\n",
              " 'DepMap_WG_CRISPR_Screens_Sanger_CellLines_2019',\n",
              " 'Descartes_Cell_Types_and_Tissue_2021',\n",
              " 'DisGeNET',\n",
              " 'Disease_Perturbations_from_GEO_down',\n",
              " 'Disease_Perturbations_from_GEO_up',\n",
              " 'Disease_Signatures_from_GEO_down_2014',\n",
              " 'Disease_Signatures_from_GEO_up_2014',\n",
              " 'DrugMatrix',\n",
              " 'Drug_Perturbations_from_GEO_2014',\n",
              " 'Drug_Perturbations_from_GEO_down',\n",
              " 'Drug_Perturbations_from_GEO_up',\n",
              " 'ENCODE_Histone_Modifications_2013',\n",
              " 'ENCODE_Histone_Modifications_2015',\n",
              " 'ENCODE_TF_ChIP-seq_2014',\n",
              " 'ENCODE_TF_ChIP-seq_2015',\n",
              " 'ENCODE_and_ChEA_Consensus_TFs_from_ChIP-X',\n",
              " 'ESCAPE',\n",
              " 'Elsevier_Pathway_Collection',\n",
              " 'Enrichr_Libraries_Most_Popular_Genes',\n",
              " 'Enrichr_Submissions_TF-Gene_Coocurrence',\n",
              " 'Enrichr_Users_Contributed_Lists_2020',\n",
              " 'Epigenomics_Roadmap_HM_ChIP-seq',\n",
              " 'GO_Biological_Process_2013',\n",
              " 'GO_Biological_Process_2015',\n",
              " 'GO_Biological_Process_2017',\n",
              " 'GO_Biological_Process_2017b',\n",
              " 'GO_Biological_Process_2018',\n",
              " 'GO_Biological_Process_2021',\n",
              " 'GO_Cellular_Component_2013',\n",
              " 'GO_Cellular_Component_2015',\n",
              " 'GO_Cellular_Component_2017',\n",
              " 'GO_Cellular_Component_2017b',\n",
              " 'GO_Cellular_Component_2018',\n",
              " 'GO_Cellular_Component_2021',\n",
              " 'GO_Molecular_Function_2013',\n",
              " 'GO_Molecular_Function_2015',\n",
              " 'GO_Molecular_Function_2017',\n",
              " 'GO_Molecular_Function_2017b',\n",
              " 'GO_Molecular_Function_2018',\n",
              " 'GO_Molecular_Function_2021',\n",
              " 'GTEx_Aging_Signatures_2021',\n",
              " 'GTEx_Tissue_Expression_Down',\n",
              " 'GTEx_Tissue_Expression_Up',\n",
              " 'GWAS_Catalog_2019',\n",
              " 'GeneSigDB',\n",
              " 'Gene_Perturbations_from_GEO_down',\n",
              " 'Gene_Perturbations_from_GEO_up',\n",
              " 'Genes_Associated_with_NIH_Grants',\n",
              " 'Genome_Browser_PWMs',\n",
              " 'HDSigDB_Human_2021',\n",
              " 'HDSigDB_Mouse_2021',\n",
              " 'HMDB_Metabolites',\n",
              " 'HMS_LINCS_KinomeScan',\n",
              " 'HomoloGene',\n",
              " 'HuBMAP_ASCT_plus_B_augmented_w_RNAseq_Coexpression',\n",
              " 'HuBMAP_ASCTplusB_augmented_2022',\n",
              " 'HumanCyc_2015',\n",
              " 'HumanCyc_2016',\n",
              " 'Human_Gene_Atlas',\n",
              " 'Human_Phenotype_Ontology',\n",
              " 'InterPro_Domains_2019',\n",
              " 'Jensen_COMPARTMENTS',\n",
              " 'Jensen_DISEASES',\n",
              " 'Jensen_TISSUES',\n",
              " 'KEA_2013',\n",
              " 'KEA_2015',\n",
              " 'KEGG_2013',\n",
              " 'KEGG_2015',\n",
              " 'KEGG_2016',\n",
              " 'KEGG_2019_Human',\n",
              " 'KEGG_2019_Mouse',\n",
              " 'KEGG_2021_Human',\n",
              " 'Kinase_Perturbations_from_GEO_down',\n",
              " 'Kinase_Perturbations_from_GEO_up',\n",
              " 'L1000_Kinase_and_GPCR_Perturbations_down',\n",
              " 'L1000_Kinase_and_GPCR_Perturbations_up',\n",
              " 'LINCS_L1000_Chem_Pert_down',\n",
              " 'LINCS_L1000_Chem_Pert_up',\n",
              " 'LINCS_L1000_Ligand_Perturbations_down',\n",
              " 'LINCS_L1000_Ligand_Perturbations_up',\n",
              " 'Ligand_Perturbations_from_GEO_down',\n",
              " 'Ligand_Perturbations_from_GEO_up',\n",
              " 'MCF7_Perturbations_from_GEO_down',\n",
              " 'MCF7_Perturbations_from_GEO_up',\n",
              " 'MGI_Mammalian_Phenotype_2013',\n",
              " 'MGI_Mammalian_Phenotype_2017',\n",
              " 'MGI_Mammalian_Phenotype_Level_3',\n",
              " 'MGI_Mammalian_Phenotype_Level_4',\n",
              " 'MGI_Mammalian_Phenotype_Level_4_2019',\n",
              " 'MGI_Mammalian_Phenotype_Level_4_2021',\n",
              " 'MSigDB_Computational',\n",
              " 'MSigDB_Hallmark_2020',\n",
              " 'MSigDB_Oncogenic_Signatures',\n",
              " 'Microbe_Perturbations_from_GEO_down',\n",
              " 'Microbe_Perturbations_from_GEO_up',\n",
              " 'Mouse_Gene_Atlas',\n",
              " 'NCI-60_Cancer_Cell_Lines',\n",
              " 'NCI-Nature_2015',\n",
              " 'NCI-Nature_2016',\n",
              " 'NIH_Funded_PIs_2017_AutoRIF_ARCHS4_Predictions',\n",
              " 'NIH_Funded_PIs_2017_GeneRIF_ARCHS4_Predictions',\n",
              " 'NIH_Funded_PIs_2017_Human_AutoRIF',\n",
              " 'NIH_Funded_PIs_2017_Human_GeneRIF',\n",
              " 'NURSA_Human_Endogenous_Complexome',\n",
              " 'OMIM_Disease',\n",
              " 'OMIM_Expanded',\n",
              " 'Old_CMAP_down',\n",
              " 'Old_CMAP_up',\n",
              " 'Orphanet_Augmented_2021',\n",
              " 'PPI_Hub_Proteins',\n",
              " 'PanglaoDB_Augmented_2021',\n",
              " 'Panther_2015',\n",
              " 'Panther_2016',\n",
              " 'Pfam_Domains_2019',\n",
              " 'Pfam_InterPro_Domains',\n",
              " 'PheWeb_2019',\n",
              " 'PhenGenI_Association_2021',\n",
              " 'Phosphatase_Substrates_from_DEPOD',\n",
              " 'ProteomicsDB_2020',\n",
              " 'RNA-Seq_Disease_Gene_and_Drug_Signatures_from_GEO',\n",
              " 'RNAseq_Automatic_GEO_Signatures_Human_Down',\n",
              " 'RNAseq_Automatic_GEO_Signatures_Human_Up',\n",
              " 'RNAseq_Automatic_GEO_Signatures_Mouse_Down',\n",
              " 'RNAseq_Automatic_GEO_Signatures_Mouse_Up',\n",
              " 'Rare_Diseases_AutoRIF_ARCHS4_Predictions',\n",
              " 'Rare_Diseases_AutoRIF_Gene_Lists',\n",
              " 'Rare_Diseases_GeneRIF_ARCHS4_Predictions',\n",
              " 'Rare_Diseases_GeneRIF_Gene_Lists',\n",
              " 'Reactome_2013',\n",
              " 'Reactome_2015',\n",
              " 'Reactome_2016',\n",
              " 'SILAC_Phosphoproteomics',\n",
              " 'SubCell_BarCode',\n",
              " 'SysMyo_Muscle_Gene_Sets',\n",
              " 'TF-LOF_Expression_from_GEO',\n",
              " 'TF_Perturbations_Followed_by_Expression',\n",
              " 'TG_GATES_2020',\n",
              " 'TRANSFAC_and_JASPAR_PWMs',\n",
              " 'TRRUST_Transcription_Factors_2019',\n",
              " 'Table_Mining_of_CRISPR_Studies',\n",
              " 'TargetScan_microRNA',\n",
              " 'TargetScan_microRNA_2017',\n",
              " 'Tissue_Protein_Expression_from_Human_Proteome_Map',\n",
              " 'Tissue_Protein_Expression_from_ProteomicsDB',\n",
              " 'Transcription_Factor_PPIs',\n",
              " 'UK_Biobank_GWAS_v1',\n",
              " 'Virus-Host_PPI_P-HIPSTer_2020',\n",
              " 'VirusMINT',\n",
              " 'Virus_Perturbations_from_GEO_down',\n",
              " 'Virus_Perturbations_from_GEO_up',\n",
              " 'WikiPathway_2021_Human',\n",
              " 'WikiPathways_2013',\n",
              " 'WikiPathways_2015',\n",
              " 'WikiPathways_2016',\n",
              " 'WikiPathways_2019_Human',\n",
              " 'WikiPathways_2019_Mouse',\n",
              " 'dbGaP',\n",
              " 'huMAP',\n",
              " 'lncHUB_lncRNA_Co-Expression',\n",
              " 'miRTarBase_2017']"
            ]
          },
          "execution_count": 13,
          "metadata": {},
          "output_type": "execute_result"
        }
      ],
      "source": [
        "gp.get_library_name()"
      ]
    },
    {
      "cell_type": "markdown",
      "metadata": {
        "id": "lCFCjVV6HnXE"
      },
      "source": [
        "Obtain all the pathways connected to our nodes, for our case we are going to use the DisGeNET dataset."
      ]
    },
    {
      "cell_type": "code",
      "execution_count": 14,
      "metadata": {
        "id": "0sBOTwJFImd7"
      },
      "outputs": [],
      "source": [
        "import os\n",
        "if os.path.exists(\"datasets/diseases_pathways.csv\"):\n",
        "    df_diseases = df_mean_distances = pd.read_csv(\"datasets/diseases_pathways.csv\", sep=\",\", index_col=0)\n",
        "elif not \"df_diseases\" in locals():\n",
        "    enr = gp.enrichr(gene_list=pd.DataFrame(nodes),\n",
        "                      gene_sets=['DisGeNET'],  # Datasets from the gp.get_library_name() method\n",
        "                      organism='Human',\n",
        "                      description='DEGs_up_1d',\n",
        "                      outdir='test'\n",
        "                  )"
      ]
    },
    {
      "cell_type": "markdown",
      "metadata": {
        "id": "6q44ekjaIJMj"
      },
      "source": [
        "Keep those pathways with an adjusted p-value < 0.1."
      ]
    },
    {
      "cell_type": "code",
      "execution_count": 15,
      "metadata": {
        "colab": {
          "base_uri": "https://localhost:8080/",
          "height": 206
        },
        "id": "Kfoo4F13J1L_",
        "outputId": "fa08cde1-c01a-448e-e98e-58e6dd2b25ae"
      },
      "outputs": [
        {
          "data": {
            "text/html": [
              "<div>\n",
              "<style scoped>\n",
              "    .dataframe tbody tr th:only-of-type {\n",
              "        vertical-align: middle;\n",
              "    }\n",
              "\n",
              "    .dataframe tbody tr th {\n",
              "        vertical-align: top;\n",
              "    }\n",
              "\n",
              "    .dataframe thead th {\n",
              "        text-align: right;\n",
              "    }\n",
              "</style>\n",
              "<table border=\"1\" class=\"dataframe\">\n",
              "  <thead>\n",
              "    <tr style=\"text-align: right;\">\n",
              "      <th></th>\n",
              "      <th>Term</th>\n",
              "      <th>Overlap</th>\n",
              "      <th>P-value</th>\n",
              "      <th>Adjusted P-value</th>\n",
              "      <th>Genes</th>\n",
              "    </tr>\n",
              "  </thead>\n",
              "  <tbody>\n",
              "    <tr>\n",
              "      <th>584</th>\n",
              "      <td>Chronic otitis media</td>\n",
              "      <td>55/69</td>\n",
              "      <td>0.005896</td>\n",
              "      <td>0.098950</td>\n",
              "      <td>IGHM;CD81;WIPF1;FMR1;DOCK8;CHD7;JMJD1C;COMT;GT...</td>\n",
              "    </tr>\n",
              "    <tr>\n",
              "      <th>585</th>\n",
              "      <td>Inadequate arch length for tooth size</td>\n",
              "      <td>47/58</td>\n",
              "      <td>0.005953</td>\n",
              "      <td>0.099228</td>\n",
              "      <td>AMER1;SETD5;NOTCH3;TRIO;RPL10;SATB2;GNAI3;PLOD...</td>\n",
              "    </tr>\n",
              "    <tr>\n",
              "      <th>586</th>\n",
              "      <td>Tooth Crowding</td>\n",
              "      <td>47/58</td>\n",
              "      <td>0.005953</td>\n",
              "      <td>0.099228</td>\n",
              "      <td>AMER1;SETD5;NOTCH3;TRIO;RPL10;SATB2;GNAI3;PLOD...</td>\n",
              "    </tr>\n",
              "    <tr>\n",
              "      <th>587</th>\n",
              "      <td>Tooth mass arch size discrepancy</td>\n",
              "      <td>47/58</td>\n",
              "      <td>0.005953</td>\n",
              "      <td>0.099228</td>\n",
              "      <td>AMER1;SETD5;NOTCH3;TRIO;RPL10;SATB2;GNAI3;PLOD...</td>\n",
              "    </tr>\n",
              "    <tr>\n",
              "      <th>588</th>\n",
              "      <td>Tooth size discrepancy</td>\n",
              "      <td>47/58</td>\n",
              "      <td>0.005953</td>\n",
              "      <td>0.099228</td>\n",
              "      <td>AMER1;SETD5;NOTCH3;TRIO;RPL10;SATB2;GNAI3;PLOD...</td>\n",
              "    </tr>\n",
              "  </tbody>\n",
              "</table>\n",
              "</div>"
            ],
            "text/plain": [
              "                                      Term Overlap   P-value  \\\n",
              "584                   Chronic otitis media   55/69  0.005896   \n",
              "585  Inadequate arch length for tooth size   47/58  0.005953   \n",
              "586                         Tooth Crowding   47/58  0.005953   \n",
              "587       Tooth mass arch size discrepancy   47/58  0.005953   \n",
              "588                 Tooth size discrepancy   47/58  0.005953   \n",
              "\n",
              "     Adjusted P-value                                              Genes  \n",
              "584          0.098950  IGHM;CD81;WIPF1;FMR1;DOCK8;CHD7;JMJD1C;COMT;GT...  \n",
              "585          0.099228  AMER1;SETD5;NOTCH3;TRIO;RPL10;SATB2;GNAI3;PLOD...  \n",
              "586          0.099228  AMER1;SETD5;NOTCH3;TRIO;RPL10;SATB2;GNAI3;PLOD...  \n",
              "587          0.099228  AMER1;SETD5;NOTCH3;TRIO;RPL10;SATB2;GNAI3;PLOD...  \n",
              "588          0.099228  AMER1;SETD5;NOTCH3;TRIO;RPL10;SATB2;GNAI3;PLOD...  "
            ]
          },
          "execution_count": 15,
          "metadata": {},
          "output_type": "execute_result"
        }
      ],
      "source": [
        "if 'enr' in locals():\n",
        "    df_diseases = enr.results[enr.results[\"Adjusted P-value\"] < 0.1][[\"Term\", \"Overlap\", \"P-value\", \"Adjusted P-value\", \"Genes\"]]\n",
        "\n",
        "df_diseases.tail()"
      ]
    },
    {
      "cell_type": "markdown",
      "metadata": {
        "id": "Oxe_BnEYIP6a"
      },
      "source": [
        "Save the pathways in a csv file just like for the interactions and nodes."
      ]
    },
    {
      "cell_type": "code",
      "execution_count": 16,
      "metadata": {
        "id": "zYcHpOy8dvXb"
      },
      "outputs": [],
      "source": [
        "df_diseases.to_csv(\"datasets/diseases_pathways.csv\")"
      ]
    },
    {
      "cell_type": "markdown",
      "metadata": {
        "id": "9OqjAkBO1JZo"
      },
      "source": [
        "Build a dict with all the diseases, this will be helpful when we will need to work on the graph."
      ]
    },
    {
      "cell_type": "code",
      "execution_count": 17,
      "metadata": {
        "id": "poQ2Hb6cKJHH"
      },
      "outputs": [],
      "source": [
        "diseases = dict()\n",
        "\n",
        "for i, disease in df_diseases.iterrows():\n",
        "    disease_genes = disease['Genes'].split(\";\")\n",
        "    term = disease['Term']\n",
        "    diseases[i] = {\"name\": term, \"genes\": disease_genes}"
      ]
    },
    {
      "cell_type": "markdown",
      "metadata": {
        "id": "ar-g0_YIwgUx"
      },
      "source": [
        "## **Protein-Protein network**\n",
        "Build the protein-to-protein network and link each node to its diseases.\n"
      ]
    },
    {
      "cell_type": "code",
      "execution_count": 18,
      "metadata": {
        "id": "VMjbxA0HwuWx"
      },
      "outputs": [],
      "source": [
        "import networkx as nx"
      ]
    },
    {
      "cell_type": "markdown",
      "metadata": {
        "id": "khA5k7eWWspx"
      },
      "source": [
        "Build the graph and fill it with its nodes (the proteins coming from the dataset)."
      ]
    },
    {
      "cell_type": "code",
      "execution_count": 19,
      "metadata": {
        "id": "ttwl2VnoLYJY"
      },
      "outputs": [],
      "source": [
        "# Build the graph\n",
        "protein_graph = nx.Graph(name='Protein Interactions Graph')\n",
        "\n",
        "# Build the edges\n",
        "for node in nodes:\n",
        "    protein_graph.add_node(node, diseases=[])  # Each node will have a list with the disease pathways it belongs to"
      ]
    },
    {
      "cell_type": "markdown",
      "metadata": {
        "id": "RjwtaDCLXDMM"
      },
      "source": [
        "Insert into the node their respective diseases."
      ]
    },
    {
      "cell_type": "code",
      "execution_count": 20,
      "metadata": {
        "id": "f3YCjIDsM1Hm"
      },
      "outputs": [],
      "source": [
        "for i, disease in diseases.items():\n",
        "    disease_genes = disease['genes']\n",
        "    for gene in disease_genes:\n",
        "        protein_graph.nodes[gene][\"diseases\"].append(i)"
      ]
    },
    {
      "cell_type": "markdown",
      "metadata": {
        "id": "wBvLpv7JXHrT"
      },
      "source": [
        "There could be nodes without any diseases, they still need to be kept into the network."
      ]
    },
    {
      "cell_type": "code",
      "execution_count": 21,
      "metadata": {
        "id": "oD4kxhJiUnpu"
      },
      "outputs": [],
      "source": [
        "nodes_no_disease = list()\n",
        "for node in protein_graph.nodes:\n",
        "    if len(protein_graph.nodes[node][\"diseases\"])==0:\n",
        "        nodes_no_disease.append(str(node))"
      ]
    },
    {
      "cell_type": "code",
      "execution_count": 22,
      "metadata": {
        "colab": {
          "base_uri": "https://localhost:8080/"
        },
        "id": "JgQEn2iNVTGt",
        "outputId": "3c55acc6-6b12-4722-a10c-fc8e520ce73d"
      },
      "outputs": [
        {
          "name": "stdout",
          "output_type": "stream",
          "text": [
            "Nodes without diseases: 5101\n"
          ]
        }
      ],
      "source": [
        "print(\"Nodes without diseases: {0}\".format(len(nodes_no_disease)))"
      ]
    },
    {
      "cell_type": "markdown",
      "metadata": {
        "id": "x7RtjTzKXTtX"
      },
      "source": [
        "Then, build the edges, it's straightforward as the nodes are known."
      ]
    },
    {
      "cell_type": "code",
      "execution_count": 23,
      "metadata": {
        "id": "YufAJDU0R8uq"
      },
      "outputs": [],
      "source": [
        "for _, interaction in dataset.iterrows():\n",
        "    first_protein, second_protein = interaction[0], interaction[1]  # Proteins involved in the interaction\n",
        "\n",
        "    # Build the edge\n",
        "    protein_graph.add_edge(first_protein, second_protein)"
      ]
    },
    {
      "cell_type": "markdown",
      "metadata": {
        "id": "-yAbHRqkJ93L"
      },
      "source": [
        "At last, save the graph."
      ]
    },
    {
      "cell_type": "code",
      "execution_count": 24,
      "metadata": {
        "id": "dCpxDF_4IFLO"
      },
      "outputs": [],
      "source": [
        "nx.write_gpickle(protein_graph,'datasets/protein_graph.gpickle')"
      ]
    },
    {
      "cell_type": "markdown",
      "metadata": {
        "id": "1-2pGY6W10IG"
      },
      "source": [
        "## **Metrics**\n",
        "Metrics needed to compare the various diseases and proteins."
      ]
    },
    {
      "cell_type": "markdown",
      "metadata": {
        "id": "lh768Fx-IPZO"
      },
      "source": [
        "Load the graph if already built previously."
      ]
    },
    {
      "cell_type": "code",
      "execution_count": 25,
      "metadata": {
        "id": "ogIDIBdLITLB"
      },
      "outputs": [],
      "source": [
        "import os\n",
        "\n",
        "if os.path.exists(\"datasets/protein_graph.gpickle\"):\n",
        "    protein_graph = nx.read_gpickle(\"datasets/protein_graph.gpickle\")\n",
        "elif not \"protein_graph\" in locals():\n",
        "    raise ValueError(\"It was not possible to find the graph, build it from the previous steps\")"
      ]
    },
    {
      "cell_type": "markdown",
      "metadata": {
        "id": "MeckhnTw46Xg"
      },
      "source": [
        "**Size of largest pathway component:** Fraction of disease proteins that lie in the disease's largest pathway component (i.e., the relative size of the largest connected component (LCC) of the disease)."
      ]
    },
    {
      "cell_type": "code",
      "execution_count": 26,
      "metadata": {
        "id": "PjLNNXA3RG8B"
      },
      "outputs": [],
      "source": [
        "def largest_conn_comp(diseases: dict) -> list:\n",
        "    lcc_score = list()\n",
        "    for _, disease in diseases.items():\n",
        "        sub_graph = protein_graph.subgraph(disease['genes'])  # Subgraph of the current disease\n",
        "        largest_cc = max(nx.connected_components(sub_graph), key=len)\n",
        "        lcc_score.append(len(largest_cc) / len(sub_graph.nodes()))\n",
        "    \n",
        "    return lcc_score"
      ]
    },
    {
      "cell_type": "code",
      "execution_count": 27,
      "metadata": {
        "id": "8tSbQl1nRtIj"
      },
      "outputs": [],
      "source": [
        "df_diseases.insert(len(df_diseases.columns), \"LCC Score\", largest_conn_comp(diseases), True)"
      ]
    },
    {
      "cell_type": "code",
      "execution_count": 28,
      "metadata": {
        "colab": {
          "base_uri": "https://localhost:8080/",
          "height": 206
        },
        "id": "uulqgEER69fh",
        "outputId": "0d8d36bf-9b2f-4a2d-e8ce-7d4638d40527"
      },
      "outputs": [
        {
          "data": {
            "text/html": [
              "<div>\n",
              "<style scoped>\n",
              "    .dataframe tbody tr th:only-of-type {\n",
              "        vertical-align: middle;\n",
              "    }\n",
              "\n",
              "    .dataframe tbody tr th {\n",
              "        vertical-align: top;\n",
              "    }\n",
              "\n",
              "    .dataframe thead th {\n",
              "        text-align: right;\n",
              "    }\n",
              "</style>\n",
              "<table border=\"1\" class=\"dataframe\">\n",
              "  <thead>\n",
              "    <tr style=\"text-align: right;\">\n",
              "      <th></th>\n",
              "      <th>Term</th>\n",
              "      <th>Overlap</th>\n",
              "      <th>P-value</th>\n",
              "      <th>Adjusted P-value</th>\n",
              "      <th>Genes</th>\n",
              "      <th>LCC Score</th>\n",
              "    </tr>\n",
              "  </thead>\n",
              "  <tbody>\n",
              "    <tr>\n",
              "      <th>584</th>\n",
              "      <td>Chronic otitis media</td>\n",
              "      <td>55/69</td>\n",
              "      <td>0.005896</td>\n",
              "      <td>0.098950</td>\n",
              "      <td>IGHM;CD81;WIPF1;FMR1;DOCK8;CHD7;JMJD1C;COMT;GT...</td>\n",
              "      <td>0.018182</td>\n",
              "    </tr>\n",
              "    <tr>\n",
              "      <th>585</th>\n",
              "      <td>Inadequate arch length for tooth size</td>\n",
              "      <td>47/58</td>\n",
              "      <td>0.005953</td>\n",
              "      <td>0.099228</td>\n",
              "      <td>AMER1;SETD5;NOTCH3;TRIO;RPL10;SATB2;GNAI3;PLOD...</td>\n",
              "      <td>0.234043</td>\n",
              "    </tr>\n",
              "    <tr>\n",
              "      <th>586</th>\n",
              "      <td>Tooth Crowding</td>\n",
              "      <td>47/58</td>\n",
              "      <td>0.005953</td>\n",
              "      <td>0.099228</td>\n",
              "      <td>AMER1;SETD5;NOTCH3;TRIO;RPL10;SATB2;GNAI3;PLOD...</td>\n",
              "      <td>0.234043</td>\n",
              "    </tr>\n",
              "    <tr>\n",
              "      <th>587</th>\n",
              "      <td>Tooth mass arch size discrepancy</td>\n",
              "      <td>47/58</td>\n",
              "      <td>0.005953</td>\n",
              "      <td>0.099228</td>\n",
              "      <td>AMER1;SETD5;NOTCH3;TRIO;RPL10;SATB2;GNAI3;PLOD...</td>\n",
              "      <td>0.234043</td>\n",
              "    </tr>\n",
              "    <tr>\n",
              "      <th>588</th>\n",
              "      <td>Tooth size discrepancy</td>\n",
              "      <td>47/58</td>\n",
              "      <td>0.005953</td>\n",
              "      <td>0.099228</td>\n",
              "      <td>AMER1;SETD5;NOTCH3;TRIO;RPL10;SATB2;GNAI3;PLOD...</td>\n",
              "      <td>0.234043</td>\n",
              "    </tr>\n",
              "  </tbody>\n",
              "</table>\n",
              "</div>"
            ],
            "text/plain": [
              "                                      Term Overlap   P-value  \\\n",
              "584                   Chronic otitis media   55/69  0.005896   \n",
              "585  Inadequate arch length for tooth size   47/58  0.005953   \n",
              "586                         Tooth Crowding   47/58  0.005953   \n",
              "587       Tooth mass arch size discrepancy   47/58  0.005953   \n",
              "588                 Tooth size discrepancy   47/58  0.005953   \n",
              "\n",
              "     Adjusted P-value                                              Genes  \\\n",
              "584          0.098950  IGHM;CD81;WIPF1;FMR1;DOCK8;CHD7;JMJD1C;COMT;GT...   \n",
              "585          0.099228  AMER1;SETD5;NOTCH3;TRIO;RPL10;SATB2;GNAI3;PLOD...   \n",
              "586          0.099228  AMER1;SETD5;NOTCH3;TRIO;RPL10;SATB2;GNAI3;PLOD...   \n",
              "587          0.099228  AMER1;SETD5;NOTCH3;TRIO;RPL10;SATB2;GNAI3;PLOD...   \n",
              "588          0.099228  AMER1;SETD5;NOTCH3;TRIO;RPL10;SATB2;GNAI3;PLOD...   \n",
              "\n",
              "     LCC Score  \n",
              "584   0.018182  \n",
              "585   0.234043  \n",
              "586   0.234043  \n",
              "587   0.234043  \n",
              "588   0.234043  "
            ]
          },
          "execution_count": 28,
          "metadata": {},
          "output_type": "execute_result"
        }
      ],
      "source": [
        "df_diseases.tail()"
      ]
    },
    {
      "cell_type": "markdown",
      "metadata": {
        "id": "6-3ZpAL_5SrO"
      },
      "source": [
        "**Distance of pathway components:** For each pair of pathway components, we calculate the average shortest path length between each set of proteins, and then, the average of this is taken over all pairs of the components."
      ]
    },
    {
      "cell_type": "code",
      "execution_count": 29,
      "metadata": {
        "id": "-EFPJbmtWqnG"
      },
      "outputs": [],
      "source": [
        "from numpy.ma.core import mean\n",
        "from tqdm.notebook import tqdm\n",
        "\n",
        "def distance_pathway_comps(diseases: dict) -> list:\n",
        "    dpc_score = list()\n",
        "    for _, disease in tqdm(diseases.items()):\n",
        "        sub_graph = protein_graph.subgraph(disease['genes'])\n",
        "        conn_comps = list(nx.connected_components(sub_graph))\n",
        "        distances = list()\n",
        "        for i, comp in enumerate(conn_comps):\n",
        "            for j in range(i+1, len(conn_comps)):\n",
        "                dist = 0\n",
        "                for first_comp_protein in comp:\n",
        "                    for second_comp_protein in conn_comps[j]:\n",
        "                        dist += nx.shortest_path_length(protein_graph, source=first_comp_protein, target=second_comp_protein)\n",
        "                \n",
        "                distances.append(dist / (len(comp) * len(conn_comps[j])))\n",
        "        dpc_score.append(mean(distances))\n",
        "    \n",
        "    return dpc_score"
      ]
    },
    {
      "cell_type": "code",
      "execution_count": 30,
      "metadata": {
        "id": "uVgsbG7iB8pw"
      },
      "outputs": [],
      "source": [
        "import os\n",
        "\n",
        "if os.path.exists(\"datasets/mean_distances.csv\"):\n",
        "    df_mean_distances = pd.read_csv(\"datasets/mean_distances.csv\", sep=\",\", index_col=0)\n",
        "elif not \"df_mean_distances\" in locals():\n",
        "    df_mean_distances = pd.DataFrame(distance_pathway_comps(diseases))\n",
        "    df_mean_distances.to_csv('datasets/mean_distances.csv')"
      ]
    },
    {
      "cell_type": "code",
      "execution_count": 31,
      "metadata": {
        "colab": {
          "base_uri": "https://localhost:8080/",
          "height": 206
        },
        "id": "U238LNHMEbz5",
        "outputId": "259991c4-6c2d-472b-e657-7888d0f4edc6"
      },
      "outputs": [
        {
          "data": {
            "text/html": [
              "<div>\n",
              "<style scoped>\n",
              "    .dataframe tbody tr th:only-of-type {\n",
              "        vertical-align: middle;\n",
              "    }\n",
              "\n",
              "    .dataframe tbody tr th {\n",
              "        vertical-align: top;\n",
              "    }\n",
              "\n",
              "    .dataframe thead th {\n",
              "        text-align: right;\n",
              "    }\n",
              "</style>\n",
              "<table border=\"1\" class=\"dataframe\">\n",
              "  <thead>\n",
              "    <tr style=\"text-align: right;\">\n",
              "      <th></th>\n",
              "      <th>Term</th>\n",
              "      <th>Overlap</th>\n",
              "      <th>P-value</th>\n",
              "      <th>Adjusted P-value</th>\n",
              "      <th>Genes</th>\n",
              "      <th>LCC Score</th>\n",
              "      <th>DPC Score</th>\n",
              "    </tr>\n",
              "  </thead>\n",
              "  <tbody>\n",
              "    <tr>\n",
              "      <th>584</th>\n",
              "      <td>Chronic otitis media</td>\n",
              "      <td>55/69</td>\n",
              "      <td>0.005896</td>\n",
              "      <td>0.098950</td>\n",
              "      <td>IGHM;CD81;WIPF1;FMR1;DOCK8;CHD7;JMJD1C;COMT;GT...</td>\n",
              "      <td>0.018182</td>\n",
              "      <td>2.678114</td>\n",
              "    </tr>\n",
              "    <tr>\n",
              "      <th>585</th>\n",
              "      <td>Inadequate arch length for tooth size</td>\n",
              "      <td>47/58</td>\n",
              "      <td>0.005953</td>\n",
              "      <td>0.099228</td>\n",
              "      <td>AMER1;SETD5;NOTCH3;TRIO;RPL10;SATB2;GNAI3;PLOD...</td>\n",
              "      <td>0.234043</td>\n",
              "      <td>2.693694</td>\n",
              "    </tr>\n",
              "    <tr>\n",
              "      <th>586</th>\n",
              "      <td>Tooth Crowding</td>\n",
              "      <td>47/58</td>\n",
              "      <td>0.005953</td>\n",
              "      <td>0.099228</td>\n",
              "      <td>AMER1;SETD5;NOTCH3;TRIO;RPL10;SATB2;GNAI3;PLOD...</td>\n",
              "      <td>0.234043</td>\n",
              "      <td>2.693694</td>\n",
              "    </tr>\n",
              "    <tr>\n",
              "      <th>587</th>\n",
              "      <td>Tooth mass arch size discrepancy</td>\n",
              "      <td>47/58</td>\n",
              "      <td>0.005953</td>\n",
              "      <td>0.099228</td>\n",
              "      <td>AMER1;SETD5;NOTCH3;TRIO;RPL10;SATB2;GNAI3;PLOD...</td>\n",
              "      <td>0.234043</td>\n",
              "      <td>2.693694</td>\n",
              "    </tr>\n",
              "    <tr>\n",
              "      <th>588</th>\n",
              "      <td>Tooth size discrepancy</td>\n",
              "      <td>47/58</td>\n",
              "      <td>0.005953</td>\n",
              "      <td>0.099228</td>\n",
              "      <td>AMER1;SETD5;NOTCH3;TRIO;RPL10;SATB2;GNAI3;PLOD...</td>\n",
              "      <td>0.234043</td>\n",
              "      <td>2.693694</td>\n",
              "    </tr>\n",
              "  </tbody>\n",
              "</table>\n",
              "</div>"
            ],
            "text/plain": [
              "                                      Term Overlap   P-value  \\\n",
              "584                   Chronic otitis media   55/69  0.005896   \n",
              "585  Inadequate arch length for tooth size   47/58  0.005953   \n",
              "586                         Tooth Crowding   47/58  0.005953   \n",
              "587       Tooth mass arch size discrepancy   47/58  0.005953   \n",
              "588                 Tooth size discrepancy   47/58  0.005953   \n",
              "\n",
              "     Adjusted P-value                                              Genes  \\\n",
              "584          0.098950  IGHM;CD81;WIPF1;FMR1;DOCK8;CHD7;JMJD1C;COMT;GT...   \n",
              "585          0.099228  AMER1;SETD5;NOTCH3;TRIO;RPL10;SATB2;GNAI3;PLOD...   \n",
              "586          0.099228  AMER1;SETD5;NOTCH3;TRIO;RPL10;SATB2;GNAI3;PLOD...   \n",
              "587          0.099228  AMER1;SETD5;NOTCH3;TRIO;RPL10;SATB2;GNAI3;PLOD...   \n",
              "588          0.099228  AMER1;SETD5;NOTCH3;TRIO;RPL10;SATB2;GNAI3;PLOD...   \n",
              "\n",
              "     LCC Score  DPC Score  \n",
              "584   0.018182   2.678114  \n",
              "585   0.234043   2.693694  \n",
              "586   0.234043   2.693694  \n",
              "587   0.234043   2.693694  \n",
              "588   0.234043   2.693694  "
            ]
          },
          "execution_count": 31,
          "metadata": {},
          "output_type": "execute_result"
        }
      ],
      "source": [
        "df_diseases[\"DPC Score\"] = df_mean_distances\n",
        "df_diseases.tail()"
      ]
    },
    {
      "cell_type": "code",
      "execution_count": 32,
      "metadata": {
        "id": "qSZThnXLHf2_"
      },
      "outputs": [],
      "source": [
        "df_diseases.to_csv(\"datasets/diseases_scores.csv\")"
      ]
    },
    {
      "cell_type": "markdown",
      "metadata": {
        "id": "57Y3LXwnGaX-"
      },
      "source": [
        "**Network modularity:** Fraction of edges that fall within/outside the pathway minus the expected fraction if edges were randomly distributed:\n",
        "\\begin{equation}\n",
        "Q_d = 1/(2m) \\sum_{ij} (I((i, j) ∈ E) − \\frac{k_ik_j}{\n",
        "2m})δ(p_i, p_j)\n",
        "\\end{equation}\n",
        "where $k_i$ is the degree of $i$, and $δ(p_i, p_j)$ is 1 if $p_i$ and $p_j$ are equal and 0 otherwise.\n"
      ]
    },
    {
      "cell_type": "code",
      "execution_count": 33,
      "metadata": {
        "id": "Tn5Dc74izYjq"
      },
      "outputs": [],
      "source": [
        "def intersection(lst1, lst2):\n",
        "    inters = list()\n",
        "    if not (len(lst1)==0 or len(lst2)==0):\n",
        "        set1 = set(lst1)\n",
        "        inters = [elem for elem in lst2 if elem in set1]\n",
        "    return inters"
      ]
    },
    {
      "cell_type": "code",
      "execution_count": 34,
      "metadata": {
        "id": "mBDoS2DwzctO"
      },
      "outputs": [],
      "source": [
        "def network_modularity(protein_graph: nx.Graph, diseases: dict) -> list:\n",
        "    m = protein_graph.number_of_edges()\n",
        "    one_m = 1/(2*m)\n",
        "    Q = list()\n",
        "    for _, disease in tqdm(diseases.items()):\n",
        "        sub_graph = protein_graph.subgraph(disease['genes'])\n",
        "        disease_nodes = list(sub_graph.nodes())\n",
        "        Q_dis = 0\n",
        "        for i, node_i in enumerate(disease_nodes):\n",
        "            for j in range(i+1, len(disease_nodes)):\n",
        "                node_j = disease_nodes[j]\n",
        "                a = protein_graph.number_of_edges(node_i, node_j)\n",
        "                k_i=protein_graph.degree[node_i]\n",
        "                k_j=protein_graph.degree[node_j]\n",
        "                Q_dis += a - (k_i*k_j)/(2*m)\n",
        "        \n",
        "        Q.append(one_m * Q_dis)\n",
        "    \n",
        "    return Q "
      ]
    },
    {
      "cell_type": "code",
      "execution_count": 35,
      "metadata": {
        "id": "eYY6b5JHCHPZ"
      },
      "outputs": [],
      "source": [
        "import os\n",
        "\n",
        "if os.path.exists(\"datasets/modularities.csv\"):\n",
        "    df_modularities = pd.read_csv(\"datasets/modularities.csv\", sep=\",\", index_col=0)\n",
        "elif not \"df_modularities\" in locals():\n",
        "    df_modularities = pd.DataFrame(network_modularity(protein_graph, diseases))\n",
        "    df_modularities.to_csv('datasets/modularities.csv')"
      ]
    },
    {
      "cell_type": "code",
      "execution_count": 36,
      "metadata": {
        "colab": {
          "base_uri": "https://localhost:8080/",
          "height": 206
        },
        "id": "DJASY0DuC97N",
        "outputId": "340fa5b6-51ad-4113-bb9f-ceefbb657aef"
      },
      "outputs": [
        {
          "data": {
            "text/html": [
              "<div>\n",
              "<style scoped>\n",
              "    .dataframe tbody tr th:only-of-type {\n",
              "        vertical-align: middle;\n",
              "    }\n",
              "\n",
              "    .dataframe tbody tr th {\n",
              "        vertical-align: top;\n",
              "    }\n",
              "\n",
              "    .dataframe thead th {\n",
              "        text-align: right;\n",
              "    }\n",
              "</style>\n",
              "<table border=\"1\" class=\"dataframe\">\n",
              "  <thead>\n",
              "    <tr style=\"text-align: right;\">\n",
              "      <th></th>\n",
              "      <th>Term</th>\n",
              "      <th>Overlap</th>\n",
              "      <th>P-value</th>\n",
              "      <th>Adjusted P-value</th>\n",
              "      <th>Genes</th>\n",
              "      <th>LCC Score</th>\n",
              "      <th>DPC Score</th>\n",
              "      <th>Modularity</th>\n",
              "    </tr>\n",
              "  </thead>\n",
              "  <tbody>\n",
              "    <tr>\n",
              "      <th>584</th>\n",
              "      <td>Chronic otitis media</td>\n",
              "      <td>55/69</td>\n",
              "      <td>0.005896</td>\n",
              "      <td>0.098950</td>\n",
              "      <td>IGHM;CD81;WIPF1;FMR1;DOCK8;CHD7;JMJD1C;COMT;GT...</td>\n",
              "      <td>0.018182</td>\n",
              "      <td>2.678114</td>\n",
              "      <td>-0.000008</td>\n",
              "    </tr>\n",
              "    <tr>\n",
              "      <th>585</th>\n",
              "      <td>Inadequate arch length for tooth size</td>\n",
              "      <td>47/58</td>\n",
              "      <td>0.005953</td>\n",
              "      <td>0.099228</td>\n",
              "      <td>AMER1;SETD5;NOTCH3;TRIO;RPL10;SATB2;GNAI3;PLOD...</td>\n",
              "      <td>0.234043</td>\n",
              "      <td>2.693694</td>\n",
              "      <td>0.000004</td>\n",
              "    </tr>\n",
              "    <tr>\n",
              "      <th>586</th>\n",
              "      <td>Tooth Crowding</td>\n",
              "      <td>47/58</td>\n",
              "      <td>0.005953</td>\n",
              "      <td>0.099228</td>\n",
              "      <td>AMER1;SETD5;NOTCH3;TRIO;RPL10;SATB2;GNAI3;PLOD...</td>\n",
              "      <td>0.234043</td>\n",
              "      <td>2.693694</td>\n",
              "      <td>0.000004</td>\n",
              "    </tr>\n",
              "    <tr>\n",
              "      <th>587</th>\n",
              "      <td>Tooth mass arch size discrepancy</td>\n",
              "      <td>47/58</td>\n",
              "      <td>0.005953</td>\n",
              "      <td>0.099228</td>\n",
              "      <td>AMER1;SETD5;NOTCH3;TRIO;RPL10;SATB2;GNAI3;PLOD...</td>\n",
              "      <td>0.234043</td>\n",
              "      <td>2.693694</td>\n",
              "      <td>0.000004</td>\n",
              "    </tr>\n",
              "    <tr>\n",
              "      <th>588</th>\n",
              "      <td>Tooth size discrepancy</td>\n",
              "      <td>47/58</td>\n",
              "      <td>0.005953</td>\n",
              "      <td>0.099228</td>\n",
              "      <td>AMER1;SETD5;NOTCH3;TRIO;RPL10;SATB2;GNAI3;PLOD...</td>\n",
              "      <td>0.234043</td>\n",
              "      <td>2.693694</td>\n",
              "      <td>0.000004</td>\n",
              "    </tr>\n",
              "  </tbody>\n",
              "</table>\n",
              "</div>"
            ],
            "text/plain": [
              "                                      Term Overlap   P-value  \\\n",
              "584                   Chronic otitis media   55/69  0.005896   \n",
              "585  Inadequate arch length for tooth size   47/58  0.005953   \n",
              "586                         Tooth Crowding   47/58  0.005953   \n",
              "587       Tooth mass arch size discrepancy   47/58  0.005953   \n",
              "588                 Tooth size discrepancy   47/58  0.005953   \n",
              "\n",
              "     Adjusted P-value                                              Genes  \\\n",
              "584          0.098950  IGHM;CD81;WIPF1;FMR1;DOCK8;CHD7;JMJD1C;COMT;GT...   \n",
              "585          0.099228  AMER1;SETD5;NOTCH3;TRIO;RPL10;SATB2;GNAI3;PLOD...   \n",
              "586          0.099228  AMER1;SETD5;NOTCH3;TRIO;RPL10;SATB2;GNAI3;PLOD...   \n",
              "587          0.099228  AMER1;SETD5;NOTCH3;TRIO;RPL10;SATB2;GNAI3;PLOD...   \n",
              "588          0.099228  AMER1;SETD5;NOTCH3;TRIO;RPL10;SATB2;GNAI3;PLOD...   \n",
              "\n",
              "     LCC Score  DPC Score  Modularity  \n",
              "584   0.018182   2.678114   -0.000008  \n",
              "585   0.234043   2.693694    0.000004  \n",
              "586   0.234043   2.693694    0.000004  \n",
              "587   0.234043   2.693694    0.000004  \n",
              "588   0.234043   2.693694    0.000004  "
            ]
          },
          "execution_count": 36,
          "metadata": {},
          "output_type": "execute_result"
        }
      ],
      "source": [
        "df_diseases[\"Modularity\"] = df_modularities\n",
        "df_diseases.tail()"
      ]
    },
    {
      "cell_type": "code",
      "execution_count": 37,
      "metadata": {
        "id": "lFwtPH6lEkYH"
      },
      "outputs": [],
      "source": [
        "df_diseases.to_csv(\"datasets/diseases_scores.csv\")"
      ]
    },
    {
      "cell_type": "code",
      "execution_count": 56,
      "metadata": {},
      "outputs": [],
      "source": [
        "#list(protein_graph.nodes())\n",
        "nodes_degree = pd.DataFrame(protein_graph.degree(list(protein_graph.nodes())), columns=['protein', 'degree'])\n",
        "nodes_degree = nodes_degree.sort_values(by='degree', ascending=False)"
      ]
    },
    {
      "cell_type": "code",
      "execution_count": 55,
      "metadata": {},
      "outputs": [
        {
          "data": {
            "text/plain": [
              "protein    4673\n",
              "degree     4673\n",
              "dtype: int64"
            ]
          },
          "execution_count": 55,
          "metadata": {},
          "output_type": "execute_result"
        }
      ],
      "source": [
        "nodes_degree[nodes_degree['degree']==1].count()"
      ]
    },
    {
      "cell_type": "code",
      "execution_count": 59,
      "metadata": {},
      "outputs": [
        {
          "data": {
            "text/html": [
              "<div>\n",
              "<style scoped>\n",
              "    .dataframe tbody tr th:only-of-type {\n",
              "        vertical-align: middle;\n",
              "    }\n",
              "\n",
              "    .dataframe tbody tr th {\n",
              "        vertical-align: top;\n",
              "    }\n",
              "\n",
              "    .dataframe thead th {\n",
              "        text-align: right;\n",
              "    }\n",
              "</style>\n",
              "<table border=\"1\" class=\"dataframe\">\n",
              "  <thead>\n",
              "    <tr style=\"text-align: right;\">\n",
              "      <th></th>\n",
              "      <th>protein</th>\n",
              "      <th>degree</th>\n",
              "    </tr>\n",
              "  </thead>\n",
              "  <tbody>\n",
              "    <tr>\n",
              "      <th>524</th>\n",
              "      <td>KIAA1429</td>\n",
              "      <td>2913</td>\n",
              "    </tr>\n",
              "    <tr>\n",
              "      <th>475</th>\n",
              "      <td>ESR2</td>\n",
              "      <td>2287</td>\n",
              "    </tr>\n",
              "    <tr>\n",
              "      <th>183</th>\n",
              "      <td>ESR1</td>\n",
              "      <td>2275</td>\n",
              "    </tr>\n",
              "    <tr>\n",
              "      <th>409</th>\n",
              "      <td>FANCD2</td>\n",
              "      <td>2117</td>\n",
              "    </tr>\n",
              "    <tr>\n",
              "      <th>79</th>\n",
              "      <td>MYC</td>\n",
              "      <td>2040</td>\n",
              "    </tr>\n",
              "    <tr>\n",
              "      <th>...</th>\n",
              "      <td>...</td>\n",
              "      <td>...</td>\n",
              "    </tr>\n",
              "    <tr>\n",
              "      <th>897</th>\n",
              "      <td>NHP2L1</td>\n",
              "      <td>267</td>\n",
              "    </tr>\n",
              "    <tr>\n",
              "      <th>1993</th>\n",
              "      <td>SAP18</td>\n",
              "      <td>262</td>\n",
              "    </tr>\n",
              "    <tr>\n",
              "      <th>1999</th>\n",
              "      <td>PHGDH</td>\n",
              "      <td>261</td>\n",
              "    </tr>\n",
              "    <tr>\n",
              "      <th>861</th>\n",
              "      <td>PRPF3</td>\n",
              "      <td>260</td>\n",
              "    </tr>\n",
              "    <tr>\n",
              "      <th>186</th>\n",
              "      <td>MAGOH</td>\n",
              "      <td>256</td>\n",
              "    </tr>\n",
              "  </tbody>\n",
              "</table>\n",
              "<p>100 rows × 2 columns</p>\n",
              "</div>"
            ],
            "text/plain": [
              "       protein  degree\n",
              "524   KIAA1429    2913\n",
              "475       ESR2    2287\n",
              "183       ESR1    2275\n",
              "409     FANCD2    2117\n",
              "79         MYC    2040\n",
              "...        ...     ...\n",
              "897     NHP2L1     267\n",
              "1993     SAP18     262\n",
              "1999     PHGDH     261\n",
              "861      PRPF3     260\n",
              "186      MAGOH     256\n",
              "\n",
              "[100 rows x 2 columns]"
            ]
          },
          "execution_count": 59,
          "metadata": {},
          "output_type": "execute_result"
        }
      ],
      "source": [
        "nodes_degree.iloc[0:100,:]"
      ]
    }
  ],
  "metadata": {
    "colab": {
      "collapsed_sections": [],
      "name": "Project_CHL.ipynb",
      "provenance": []
    },
    "kernelspec": {
      "display_name": "Python 3",
      "name": "python3"
    },
    "language_info": {
      "codemirror_mode": {
        "name": "ipython",
        "version": 3
      },
      "file_extension": ".py",
      "mimetype": "text/x-python",
      "name": "python",
      "nbconvert_exporter": "python",
      "pygments_lexer": "ipython3",
      "version": "3.9.12"
    }
  },
  "nbformat": 4,
  "nbformat_minor": 0
}
